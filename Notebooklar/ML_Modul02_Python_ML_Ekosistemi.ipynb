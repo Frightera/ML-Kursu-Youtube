{
 "cells": [
  {
   "cell_type": "markdown",
   "id": "7504a3f0",
   "metadata": {
    "id": "7504a3f0"
   },
   "source": [
    "# Modül 2 :: Python ML Ekosistemi (NumPy, Pandas, Matplotlib)"
   ]
  },
  {
   "cell_type": "markdown",
   "id": "846eb054",
   "metadata": {},
   "source": [
    "<a target=\"_blank\" href=\"https://colab.research.google.com/github/Frightera/ML-Kursu-Youtube/blob/main/Notebooklar/ML_Modul02_Python_ML_Ekosistemi.ipynb\"> <img src=\"https://colab.research.google.com/assets/colab-badge.svg\" alt=\"Open In Colab\"/> </a>"
   ]
  },
  {
   "cell_type": "markdown",
   "id": "0e7c6314",
   "metadata": {
    "id": "0e7c6314"
   },
   "source": [
    "## 0) Ortam ve Bağımlılıklar"
   ]
  },
  {
   "cell_type": "code",
   "execution_count": null,
   "id": "6eb794fb",
   "metadata": {
    "colab": {
     "base_uri": "https://localhost:8080/"
    },
    "executionInfo": {
     "elapsed": 670,
     "status": "ok",
     "timestamp": 1754258418650,
     "user": {
      "displayName": "Kaan Bıçakcı",
      "userId": "12951043854473247756"
     },
     "user_tz": -60
    },
    "id": "6eb794fb",
    "outputId": "7cde5ccb-61a3-4588-8917-d6ade464cf0d"
   },
   "outputs": [
    {
     "name": "stdout",
     "output_type": "stream",
     "text": [
      "Python   : 3.11.13\n",
      "Platform : Linux-6.1.123+-x86_64-with-glibc2.35\n",
      "NumPy    : 2.0.2\n",
      "Pandas   : 2.2.2\n"
     ]
    }
   ],
   "source": [
    "import io\n",
    "import platform\n",
    "import random\n",
    "import sys\n",
    "import time\n",
    "import warnings\n",
    "\n",
    "warnings.filterwarnings(\"ignore\")\n",
    "\n",
    "import matplotlib.pyplot as plt\n",
    "import numpy as np\n",
    "import pandas as pd\n",
    "from IPython.display import Markdown, display\n",
    "\n",
    "RANDOM_STATE = 42\n",
    "np.random.seed(RANDOM_STATE)\n",
    "random.seed(RANDOM_STATE)\n",
    "plt.rcParams[\"figure.figsize\"] = (6, 4)\n",
    "\n",
    "print(\"Python   :\", sys.version.split()[0])\n",
    "print(\"Platform :\", platform.platform())\n",
    "print(\"NumPy    :\", np.__version__)\n",
    "print(\"Pandas   :\", pd.__version__)"
   ]
  },
  {
   "cell_type": "markdown",
   "id": "2ffa4e4a",
   "metadata": {
    "id": "2ffa4e4a"
   },
   "source": [
    "---\n",
    "## 1) NumPy >> Temeller ve Performans\n",
    "Python, genel amaçlı, esnek ve okunması kolay bir dildir. Ancak büyük veri setleri üzerinde karmaşık matematiksel işlemler yapmak söz konusu olduğunda, standart Python listeleri ve `for` döngüleri ciddi bir performans kaybı oluşturur.\n",
    "\n",
    "İşte bu noktada **NumPy (Numerical Python)** devreye girer. Python'a yüksek performanslı, çok boyutlu dizi nesneleri ve bu diziler üzerinde çalışmak için tasarlanmış araçlar ekleyen temel bir kütüphanedir."
   ]
  },
  {
   "cell_type": "markdown",
   "id": "b392a588",
   "metadata": {
    "id": "b392a588"
   },
   "source": [
    "### 1.1. ndarray, dtype, shape, axis"
   ]
  },
  {
   "cell_type": "markdown",
   "id": "OMwMEdNXP3pd",
   "metadata": {
    "id": "OMwMEdNXP3pd"
   },
   "source": [
    "1.  **`ndarray` (N-dimensional array):**\n",
    "    NumPy'nin temel veri yapısıdır. `a` bir 2-boyutlu dizi (matris), `b` ise 1-boyutlu bir dizidir (vektör).\n",
    "\n",
    "2.  **`dtype` (Data Type - Veri Tipi):**\n",
    "    Dizinin içindeki tüm elemanların veri tipini belirtir. `a` tamsayılardan (`int64`), `b` ise ondalıklı sayılardan (`float64`) oluşur. Veri tipleri aynı olmak zorunda değildir fakat aynı olduğunda performans daha iyi olacaktır.\n",
    "\n",
    "3.  **`shape` (Şekil):**\n",
    "    Dizinin her bir boyuttaki eleman sayısını gösteren bir tuple'dır.\n",
    "    *   `a.shape: (3, 4)` → `a`'nın 3 satırı ve 4 sütunu var.\n",
    "    *   `b.shape: (4,)` → `b`'nin 1 boyutu ve içinde 4 elemanı var.\n",
    "\n"
   ]
  },
  {
   "cell_type": "code",
   "execution_count": null,
   "id": "17ee9f78",
   "metadata": {
    "colab": {
     "base_uri": "https://localhost:8080/",
     "height": 215
    },
    "executionInfo": {
     "elapsed": 18,
     "status": "ok",
     "timestamp": 1754258418670,
     "user": {
      "displayName": "Kaan Bıçakcı",
      "userId": "12951043854473247756"
     },
     "user_tz": -60
    },
    "id": "17ee9f78",
    "outputId": "12e0131b-349a-45bc-fc77-702161a51daf"
   },
   "outputs": [
    {
     "data": {
      "text/markdown": [
       "**a (3x4):**"
      ],
      "text/plain": [
       "<IPython.core.display.Markdown object>"
      ]
     },
     "metadata": {},
     "output_type": "display_data"
    },
    {
     "name": "stdout",
     "output_type": "stream",
     "text": [
      "[[ 0  1  2  3]\n",
      " [ 4  5  6  7]\n",
      " [ 8  9 10 11]]\n"
     ]
    },
    {
     "data": {
      "text/markdown": [
       "**b (4,):**"
      ],
      "text/plain": [
       "<IPython.core.display.Markdown object>"
      ]
     },
     "metadata": {},
     "output_type": "display_data"
    },
    {
     "name": "stdout",
     "output_type": "stream",
     "text": [
      "[0.         0.33333333 0.66666667 1.        ]\n",
      "a.dtype: int64 | a.shape: (3, 4)\n",
      "b.dtype: float64 | b.shape: (4,)\n",
      "a.sum(axis=0): [12 15 18 21]\n",
      "a.mean(axis=1): [1.5 5.5 9.5]\n"
     ]
    }
   ],
   "source": [
    "a = np.arange(12).reshape(3, 4)\n",
    "b = np.linspace(0, 1, 4)\n",
    "display(Markdown(\"**a (3x4):**\"))\n",
    "print(a)\n",
    "display(Markdown(\"**b (4,):**\"))\n",
    "print(b)\n",
    "print(\"a.dtype:\", a.dtype, \"| a.shape:\", a.shape)\n",
    "print(\"b.dtype:\", b.dtype, \"| b.shape:\", b.shape)\n",
    "print(\"a.sum(axis=0):\", a.sum(axis=0))\n",
    "print(\"a.mean(axis=1):\", a.mean(axis=1))"
   ]
  },
  {
   "cell_type": "markdown",
   "id": "fVr87r-XTWA-",
   "metadata": {
    "id": "fVr87r-XTWA-"
   },
   "source": [
    "4.  **`axis` (Eksen):**\n",
    "    Bir işlemin hangi boyut **boyunca** yapılacağını belirten en önemli parametredir. Bir eksen boyunca işlem yapmak, o ekseni \"özetlemek\" anlamına gelir.\n",
    "    ```text\n",
    "    <---------------- axis = 1 ---------------->\n",
    "       Sütunlar boyunca yapılan işlem (sağa doğru)\n",
    "       shape: (3, 4)\n",
    "      ^     [[ 0  1  2  3]   ---> a.mean(axis=1) ---> [ 1.5]\n",
    "      |      [ 4  5  6  7]   ---> a.mean(axis=1) ---> [ 5.5]\n",
    "axis = 0 [ 8  9 10 11]]  ---> a.mean(axis=1) ---> [ 9.5]\n",
    "      |        ↓  ↓  ↓  ↓\n",
    "      ↓        |  |  |  |\n",
    "               +--+--+--+\n",
    "                   |\n",
    "                   V\n",
    "     a.sum(axis=0) ---> [12 15 18 21]\n",
    "\n",
    "    Satırlar boyunca yapılan işlem (aşağı doğru)\n",
    "    ```\n",
    "    *   **`a.sum(axis=0)`: Satırlar Boyunca Toplama**\n",
    "        *   Okların yönü **aşağı doğrudur**. Bu, `axis=0`'ın her sütundaki elemanları yukarıdan aşağıya doğru işlediği anlamına gelir.\n",
    "        *   `0 + 4 + 8 = 12`\n",
    "        *   `1 + 5 + 9 = 15`\n",
    "        *   ...ve böyle devam eder.\n",
    "        *   `shape`(3, 4) olan bir dizide `axis=0` boyunca işlem yapınca, 3 satır \"perçinlenir\" ve sonuç `shape`(4,) olan bir dizi olur.\n",
    "\n",
    "    *   **`a.mean(axis=1)`: Sütunlar Boyunca Ortalama Alma**\n",
    "        *   Okların yönü **sağa doğrudur**. Bu, `axis=1`'in her satırdaki elemanları soldan sağa doğru işlediği anlamına gelir.\n",
    "        *   `(0 + 1 + 2 + 3) / 4 = 1.5`\n",
    "        *   `(4 + 5 + 6 + 7) / 4 = 5.5`\n",
    "        *   ...ve böyle devam eder.\n",
    "        *   `shape`(3, 4) olan bir dizide `axis=1` boyunca işlem yapınca, 4 sütun \"perçinlenir\" ve sonuç `shape`(3,) olan bir dizi olur."
   ]
  },
  {
   "cell_type": "markdown",
   "id": "aad07f0d",
   "metadata": {
    "id": "aad07f0d"
   },
   "source": [
    "### 1.2. Broadcasting kuralları"
   ]
  },
  {
   "cell_type": "markdown",
   "id": "h-47TUL38uqV",
   "metadata": {
    "id": "h-47TUL38uqV"
   },
   "source": [
    "Farklı boyutlardaki NumPy dizileri arasında aritmetik işlemler yapmaya çalıştığımızda, NumPy'nin elemanları nasıl hizalayacağını ve işlemi nasıl gerçekleştireceğini belirleyen kurallar setine **broadcasting** denir.\n",
    "\n",
    "Bu mekanizma, bellekte fazladan kopyalar oluşturmadan ve Python'da yavaş `for` döngüleri yazmadan, vektörize işlemleri çok esnek bir şekilde yapmamızı sağlar.\n",
    "\n",
    "---"
   ]
  },
  {
   "cell_type": "markdown",
   "id": "goj9rH0k8wqG",
   "metadata": {
    "id": "goj9rH0k8wqG"
   },
   "source": [
    "#### Bir Matris ile Vektörü Toplamak\n",
    "\n",
    "Aşağıdaki kod, `(3, 4)` şeklinde bir matris (`a`) ile `(4,)` şeklinde bir vektörü (`b`) topluyor. Normalde, matris cebirinde bu işlem tanımsızdır. Ancak NumPy broadcasting sayesinde bunu mümkün kılar."
   ]
  },
  {
   "cell_type": "code",
   "execution_count": null,
   "id": "6109b016",
   "metadata": {
    "colab": {
     "base_uri": "https://localhost:8080/"
    },
    "executionInfo": {
     "elapsed": 3,
     "status": "ok",
     "timestamp": 1754258418674,
     "user": {
      "displayName": "Kaan Bıçakcı",
      "userId": "12951043854473247756"
     },
     "user_tz": -60
    },
    "id": "6109b016",
    "outputId": "b81f20c0-2ef4-4bed-f99e-714a498dbde6"
   },
   "outputs": [
    {
     "name": "stdout",
     "output_type": "stream",
     "text": [
      "c.shape: (3, 4)\n",
      "[[ 0.          1.33333333  2.66666667  4.        ]\n",
      " [ 4.          5.33333333  6.66666667  8.        ]\n",
      " [ 8.          9.33333333 10.66666667 12.        ]]\n"
     ]
    }
   ],
   "source": [
    "# (3x4) + (4,) -> (3x4)\n",
    "c = a + b\n",
    "print(\"c.shape:\", c.shape)\n",
    "print(c)"
   ]
  },
  {
   "cell_type": "markdown",
   "id": "PiPa94eZ9GTF",
   "metadata": {
    "id": "PiPa94eZ9GTF"
   },
   "source": [
    "Gördüğümüz gibi, işlem başarıyla gerçekleşti ve sonuç olarak `a` ile aynı şekilde, `(3, 4)` boyutunda bir matris elde ettik. Peki bu nasıl oldu?"
   ]
  },
  {
   "cell_type": "markdown",
   "id": "Pg8sWMV19LRY",
   "metadata": {
    "id": "Pg8sWMV19LRY"
   },
   "source": [
    "#### Broadcasting - Sihirli Mi\n",
    "\n",
    "NumPy iki diziyi işleme sokmadan önce, boyutlarını (shape) **sağdan sola doğru** karşılaştırır. İki boyutun uyumlu sayılması için iki koşuldan biri sağlanmalıdır:\n",
    "\n",
    "1.  Boyutlar birbirine eşittir.\n",
    "2.  Boyutlardan biri `1`'dir.\n",
    "\n",
    "Eğer dizilerden birinin boyut sayısı diğerinden azsa NumPy onun shape'inin soluna `1`'ler ekleyerek boyut sayılarını eşitler. **Dikkat edin shape'den bahsediyoruz, array'in kendisinin içine `1` yerleştirmiyoruz.**"
   ]
  },
  {
   "cell_type": "markdown",
   "id": "hWhbBJU5-NRY",
   "metadata": {
    "id": "hWhbBJU5-NRY"
   },
   "source": [
    "#### Bizim Örneğimize Tekrardan BAkalım\n",
    "\n",
    "1.  **Şekilleri yazalım:**\n",
    "    *   `a.shape` -> `(3, 4)`\n",
    "    *   `b.shape` -> `(  , 4)` (Okunurluk için boşluk bıraktık)\n",
    "\n",
    "2.  **Sağdan sola karşılaştıralım:**\n",
    "    *   **Sağdan 1. Boyut:** `a`'nın boyutu `4`, `b`'nin boyutu `4`. Bunlar **eşit**. Uyumlu.\n",
    "    *   **Sağdan 2. Boyut:** `a`'nın boyutu `3`, ancak `b`'nin bu boyutu yok.\n",
    "\n",
    "3.  **Kuralı Uygula:** NumPy, `b`'nin eksik olan sol boyutlarını `1` olarak varsayar ve bu `1` boyutunu diğer dizinin boyutuna uyacak şekilde \"gerer\" veya \"yayınlar\" (broadcast eder). Yani, `b`'yi geçici olarak `(1, 4)` şeklinde bir matris gibi düşünür. Bu `1`'lik boyut, `a`'nın `3`'lük boyutuna uyacak şekilde gerilir.\n",
    "\n",
    "#### Görsel Anlatım:\n",
    "\n",
    "Bu süreci zihnimizde şu şekilde canlandırabiliriz:\n",
    "\n",
    "1.  **Orijinal Diziler:**\n",
    "    ```\n",
    "    a (3, 4)              b (4,)\n",
    "    [[ 0  1  2  3]         [0.0  0.33  0.66  1.0]\n",
    "     [ 4  5  6  7]\n",
    "     [ 8  9 10 11]]\n",
    "    ```\n",
    "\n",
    "2.  **`b`'nin \"Kopyalanması\":**\n",
    "    NumPy, `b` vektörünü `a` matrisinin her bir satırına uygulanacak şekilde sanal olarak kopyalar:\n",
    "    ```\n",
    "    Kopyalanmış b (3, 4)\n",
    "    [[0.0  0.33  0.66  1.0]\n",
    "     [0.0  0.33  0.66  1.0]\n",
    "     [0.0  0.33  0.66  1.0]]\n",
    "    ```\n",
    "\n",
    "3.  **Element-Bazlı Toplama:**\n",
    "    Artık iki matrisin de şekli `(3, 4)` olduğu için, eleman bazlı toplama işlemi basitçe yapılabilir:\n",
    "    ```\n",
    "    [[ 0  1  2  3]      [[0.0  0.33  0.66  1.0]      [[ 0.    1.33  2.66  4.  ]\n",
    "     [ 4  5  6  7]   +   [0.0  0.33  0.66  1.0]   =   [ 4.    5.33  6.66  8.  ]\n",
    "     [ 8  9 10 11]]      [0.0  0.33  0.66  1.0]]      [ 8.    9.33 10.66 12.  ]]\n",
    "    ```\n",
    "\n",
    "**Önemli Not:** NumPy bellekte `b`'nin kopyalarını gerçekten oluşturmaz. Bu çok ilkel bir yöntem olurdu :) Bu \"kopyalama\" işlemi, C seviyesinde çok daha verimli bir şekilde yönetilir."
   ]
  },
  {
   "cell_type": "markdown",
   "id": "91c1efbe",
   "metadata": {
    "id": "91c1efbe"
   },
   "source": [
    "### 1.3. Vektörizasyon vs döngü\n",
    "Teoride NumPy'nin vektörize işlemlerinin, Python'un `for` döngülerinden daha hızlı olduğunu biliyoruz. Bu bölümde 150K elemanlı bir dizinin her bir elemanının karesini alma gibi basit bir işlemi iki yöntemle de gerçekleştirip, aradaki zaman farkını somut olarak ölçeceğiz.\n",
    "\n",
    "Daha ileri seviye ölçümler yapmak isterseniz [perfplot](https://github.com/nschloe/perfplot) kütüphanesine bakabilirsiniz."
   ]
  },
  {
   "cell_type": "code",
   "execution_count": null,
   "id": "f5f1d605",
   "metadata": {
    "colab": {
     "base_uri": "https://localhost:8080/",
     "height": 112
    },
    "executionInfo": {
     "elapsed": 212,
     "status": "ok",
     "timestamp": 1754258418887,
     "user": {
      "displayName": "Kaan Bıçakcı",
      "userId": "12951043854473247756"
     },
     "user_tz": -60
    },
    "id": "f5f1d605",
    "outputId": "51b80a23-28b7-4083-878d-d5dec427e179"
   },
   "outputs": [
    {
     "data": {
      "text/html": [
       "<style type=\"text/css\">\n",
       "</style>\n",
       "<table id=\"T_e486b\" class=\"dataframe\">\n",
       "  <thead>\n",
       "    <tr>\n",
       "      <th id=\"T_e486b_level0_col0\" class=\"col_heading level0 col0\" >Yöntem</th>\n",
       "      <th id=\"T_e486b_level0_col1\" class=\"col_heading level0 col1\" >Süre (sn)</th>\n",
       "    </tr>\n",
       "  </thead>\n",
       "  <tbody>\n",
       "    <tr>\n",
       "      <td id=\"T_e486b_row0_col0\" class=\"data row0 col0\" >Python döngüsü</td>\n",
       "      <td id=\"T_e486b_row0_col1\" class=\"data row0 col1\" >0.013776</td>\n",
       "    </tr>\n",
       "    <tr>\n",
       "      <td id=\"T_e486b_row1_col0\" class=\"data row1 col0\" >NumPy vektörize</td>\n",
       "      <td id=\"T_e486b_row1_col1\" class=\"data row1 col1\" >0.000738</td>\n",
       "    </tr>\n",
       "  </tbody>\n",
       "</table>\n"
      ],
      "text/plain": [
       "<pandas.io.formats.style.Styler at 0x786e640cd1d0>"
      ]
     },
     "metadata": {},
     "output_type": "display_data"
    }
   ],
   "source": [
    "n = 150_000\n",
    "x = np.random.randn(n)\n",
    "\n",
    "t0 = time.time()\n",
    "y_loop = [xi * xi for xi in x]\n",
    "t_loop = time.time() - t0\n",
    "t0 = time.time()\n",
    "y_vec = x * x\n",
    "t_vec = time.time() - t0\n",
    "\n",
    "import pandas as pd\n",
    "\n",
    "comp = pd.DataFrame(\n",
    "    [[\"Python döngüsü\", round(t_loop, 6)], [\"NumPy vektörize\", round(t_vec, 6)]],\n",
    "    columns=[\"Yöntem\", \"Süre (sn)\"],\n",
    ")\n",
    "display(comp.style.hide(axis=\"index\"))"
   ]
  },
  {
   "cell_type": "markdown",
   "id": "_IN0_t9-BVm6",
   "metadata": {
    "id": "_IN0_t9-BVm6"
   },
   "source": [
    "#### Bu Fark Nereden Kaynaklanıyor?\n",
    "\n",
    "* Python Döngüsü `([xi*xi for xi in x])`:\n",
    "    * Bu işlem Python seviyesinde gerçekleşir.\n",
    "    * Python interpreteri 150K defa döngüye girmelidir.\n",
    "    * Her bir döngü adımında:\n",
    "        * Diziden `x_{i}` elemanını al.\n",
    "        * Çarpma işlemini yap.\n",
    "        * Sonucu yeni listeye ekle.\n",
    "    * Bu adımların her biri, Python'ın kendi iç mekanizmaları nedeniyle bir ek maliyet (overhead) yaratır. 150K işlem için bu maliyet birikir.\n",
    "\n",
    "* NumPy Vektörizasyonu `(x*x)`:\n",
    "    * Bu işlem arka planda, optimize edilmiş, derlenmiş C kodunda gerçekleşir.\n",
    "    * Python, NumPy'ye sadece tek bir komut gönderir: \"Bu x dizisini kendisiyle çarp.\"\n",
    "    * Python yorumlayıcısının yarattığı ek maliyet, 150,000 eleman için değil, sadece bir kez tüm operasyon için ödenir.\n",
    "    * C seviyesindeki döngü, bellek yönetimi ve işlemci komutları (SIMD gibi) açısından son derece verimlidir.\n",
    "    \n",
    "    \n",
    "* **Yani Sonuç:** Veri üzerinde matematiksel bir işlem yaparken, bir elemanı alıp onunla bir şey yapmayı ve sonra bir sonrakine geçmeyi düşünmek yerine, `tüm dizi üzerinde bu operasyonu uygula` şeklinde düşünmek, yani vektörize düşünmek, hem daha temiz kod yazmamızı sağlar hem de performansta fark oluşturur\n"
   ]
  },
  {
   "cell_type": "markdown",
   "id": "81eb3b3e",
   "metadata": {
    "id": "81eb3b3e"
   },
   "source": [
    "### 1.4. İndisleme - slice, boolean, fancy"
   ]
  },
  {
   "cell_type": "markdown",
   "id": "VPZDgmpHHgb_",
   "metadata": {
    "id": "VPZDgmpHHgb_"
   },
   "source": [
    "NumPy dizilerinden veri alt kümeleri seçmek için kullanılan çeşitli güçlü yöntemler vardır. Bu yöntemler, `for` döngülerine ihtiyaç duymadan, verimli ve okunaklı bir şekilde veri seçmemizi sağlar. Bu bölümde üç ana indisleme tekniğini inceleyeceğiz.\n",
    "\n",
    "---\n",
    "\n",
    "#### `X` Matrisi\n",
    "\n",
    "Tüm örneklerimizi aşağıdaki `4x5`'lik `X` matrisi üzerinde yapacağız.\n",
    "\n",
    "    X:\n",
    "    [[ 0  1  2  3  4]\n",
    "     [ 5  6  7  8  9]\n",
    "     [10 11 12 13 14]\n",
    "     [15 16 17 18 19]]\n",
    "\n",
    "---"
   ]
  },
  {
   "cell_type": "markdown",
   "id": "JRBB72-gIUx1",
   "metadata": {
    "id": "JRBB72-gIUx1"
   },
   "source": [
    "#### 1. Slice Indexing (Dilimleme): Alt Matrisler Oluşturma\n",
    "\n",
    "Python listelerinden aşina olduğumuz `start:stop:step` sözdiziminin çok boyutlu halidir. Bir diziden \"dikdörtgen\" bir bölge seçmek için kullanılır.\n",
    "\n",
    "**Kod ve Çıktı:**\n",
    "\n",
    "    Slice [1:3, 2:]:\n",
    "    [[ 7  8  9]\n",
    "     [12 13 14]]\n",
    "\n",
    "**Nasıl Çalışır?**\n",
    "\n",
    "`X[1:3, 2:]` ifadesi iki bölümden oluşur: `[satır_dilimi, sütun_dilimi]`.\n",
    "*   **`1:3` (Satırlar):** 1. indeksteki satırdan başla, 3. indeksteki satıra **kadar** (ama dahil değil) git. Yani, **1. ve 2. satırları** seçer.\n",
    "*   **`2:` (Sütunlar):** 2. indeksteki sütundan başla ve **sonuna kadar** git. Yani, **2., 3. ve 4. sütunları** seçer.\n",
    "\n",
    "Bu iki seçimin kesişim kümesi, sonuçtaki alt matrisi oluşturur.\n",
    "\n",
    "                 c2 c3 c4\n",
    "                  ↓  ↓  ↓\n",
    "    r1-> [[ . . | 7  8  9 |]\n",
    "    r2->  [ . . |12 13 14 |]]\n",
    "\n",
    "---"
   ]
  },
  {
   "cell_type": "markdown",
   "id": "dvAITWx8IjFN",
   "metadata": {
    "id": "dvAITWx8IjFN"
   },
   "source": [
    "#### 2. Boolean Indexing (Maskeleme): Koşula Uyan Verileri Seçme\n",
    "\n",
    "Bir dizi üzerinde mantıksal bir koşul çalıştırarak, sadece koşulu sağlayan (`True` olan) elemanları seçmektir.\n",
    "\n",
    "**Kod ve Çıktı:**\n",
    "\n",
    "    Boolean mask (çiftler):\n",
    "    [ 0  2  4  6  8 10 12 14 16 18]\n",
    "\n",
    "**Nasıl Çalışır?**\n",
    "\n",
    "Bu işlem iki adımdan oluşur:\n",
    "1.  **Maske Oluşturma:** `mask = X % 2 == 0` komutu, `X` ile aynı şekilde, ama içi `True`/`False` değerleriyle dolu bir \"maske\" dizisi oluşturur.\n",
    "2.  **Maskeyi Uygulama:** `X[mask]` yazdığımızda, NumPy `X` dizisindeki sadece `mask`'ın `True` olduğu konumlardaki elemanları seçer.\n",
    "\n",
    "**Önemli Not:** Boolean indisleme sonucunda dönen dizi, orijinal dizinin şeklinden bağımsız olarak **her zaman 1 boyutlu (düzleştirilmiş) bir dizidir.**\n",
    "\n",
    "---"
   ]
  },
  {
   "cell_type": "markdown",
   "id": "MqLUUd7kIlNN",
   "metadata": {
    "id": "MqLUUd7kIlNN"
   },
   "source": [
    "#### 3. Fancy Indexing: Belirli Koordinatları Seçme\n",
    "\n",
    "Bir veya daha fazla indis dizisi kullanarak, matrisin herhangi bir yerindeki belirli elemanları tek tek seçmektir.\n",
    "\n",
    "**Kod ve Çıktı:**\n",
    "    \n",
    "    \n",
    "    rows = np.array([0,2])\n",
    "    cols = np.array([1,3])\n",
    "    Fancy: [ 1 13]\n",
    "    \n",
    "**Nasıl Çalışır?**\n",
    "\n",
    "`X[rows, cols]` komutu, `rows` ve `cols` dizilerindeki elemanları birer birer eşleştirerek koordinatlar oluşturur.\n",
    "*   `rows = np.array([0,2])`\n",
    "*   `cols = np.array([1,3])`\n",
    "\n",
    "NumPy şu koordinatları oluşturur ve karşılık gelen elemanları seçer:\n",
    "1.  İlk koordinat: `(rows, cols)` → `(0, 1)` → `X`'in değeri **1**'dir.\n",
    "2.  İkinci koordinat: `(rows, cols)` → `(2, 3)` → `X`'ün değeri **13**'tür.\n",
    "\n",
    "Neticede buu seçilen elemanlardan oluşan yeni bir dizidir.\n",
    "\n",
    "---"
   ]
  },
  {
   "cell_type": "markdown",
   "id": "Oh1ALQ8DInwB",
   "metadata": {
    "id": "Oh1ALQ8DInwB"
   },
   "source": [
    "#### Özet Karşılaştırma\n",
    "\n",
    "| Yöntem | Syntax | Ne Yapar? | Sonucun Şekli |\n",
    "|:---|:---|:---|:---|\n",
    "| **Slice** | `X[1:3, 2:]` | Diziden dikdörtgen bir alt bölge seçer. | Orijinal boyutluluğu korur. `(2, 3)` |\n",
    "| **Boolean** | `X[X > 10]` | Bir koşulu sağlayan tüm elemanları seçer. | Her zaman 1D'dir. |\n",
    "| **Fancy** | `X[[0, 2], [1, 3]]` | Belirli koordinatlardaki elemanları seçer. | İndis dizilerinin şekline bağlıdır. |"
   ]
  },
  {
   "cell_type": "code",
   "execution_count": null,
   "id": "1bba25a9",
   "metadata": {
    "colab": {
     "base_uri": "https://localhost:8080/",
     "height": 244
    },
    "executionInfo": {
     "elapsed": 18,
     "status": "ok",
     "timestamp": 1754258418906,
     "user": {
      "displayName": "Kaan Bıçakcı",
      "userId": "12951043854473247756"
     },
     "user_tz": -60
    },
    "id": "1bba25a9",
    "outputId": "db8fc9e2-397d-4449-ee80-0891401971a5"
   },
   "outputs": [
    {
     "data": {
      "text/markdown": [
       "**X:**"
      ],
      "text/plain": [
       "<IPython.core.display.Markdown object>"
      ]
     },
     "metadata": {},
     "output_type": "display_data"
    },
    {
     "name": "stdout",
     "output_type": "stream",
     "text": [
      "[[ 0  1  2  3  4]\n",
      " [ 5  6  7  8  9]\n",
      " [10 11 12 13 14]\n",
      " [15 16 17 18 19]]\n"
     ]
    },
    {
     "data": {
      "text/markdown": [
       "**Slice [1:3, 2:]:**"
      ],
      "text/plain": [
       "<IPython.core.display.Markdown object>"
      ]
     },
     "metadata": {},
     "output_type": "display_data"
    },
    {
     "name": "stdout",
     "output_type": "stream",
     "text": [
      "[[ 7  8  9]\n",
      " [12 13 14]]\n"
     ]
    },
    {
     "data": {
      "text/markdown": [
       "**Boolean mask (çiftler):**"
      ],
      "text/plain": [
       "<IPython.core.display.Markdown object>"
      ]
     },
     "metadata": {},
     "output_type": "display_data"
    },
    {
     "name": "stdout",
     "output_type": "stream",
     "text": [
      "[ 0  2  4  6  8 10 12 14 16 18]\n",
      "Fancy: [ 1 13]\n"
     ]
    }
   ],
   "source": [
    "X = np.arange(20).reshape(4, 5)\n",
    "display(Markdown(\"**X:**\"))\n",
    "print(X)\n",
    "display(Markdown(\"**Slice [1:3, 2:]:**\"))\n",
    "print(X[1:3, 2:])\n",
    "mask = X % 2 == 0\n",
    "display(Markdown(\"**Boolean mask (çiftler):**\"))\n",
    "print(X[mask])\n",
    "rows = np.array([0, 2])\n",
    "cols = np.array([1, 3])\n",
    "print(\"Fancy:\", X[rows, cols])"
   ]
  },
  {
   "cell_type": "markdown",
   "id": "892860e8",
   "metadata": {
    "id": "892860e8"
   },
   "source": [
    "### 1.5. Şekil dönüşümü, görünüm/kopya"
   ]
  },
  {
   "cell_type": "markdown",
   "id": "YRSWaDmiNfO2",
   "metadata": {
    "id": "YRSWaDmiNfO2"
   },
   "source": [
    "NumPy büyük veri setleriyle verimli bir şekilde çalışmak üzere tasarlanmıştır. Bu verimliliğin temel yollarından biri, **gereksiz veri kopyalamaktan kaçınmaktır.**\n",
    "\n",
    "Bir dizi üzerinde yaptığınız birçok işlem (şekil değiştirme, dilimleme vb.) aslında yeni bir veri bloğu oluşturmak yerine, mevcut veri bloğuna farklı bir \"pencereden bakmanızı\" sağlayan bir **görünüm (view)** döndürür."
   ]
  },
  {
   "cell_type": "code",
   "execution_count": null,
   "id": "3e1e5547",
   "metadata": {
    "colab": {
     "base_uri": "https://localhost:8080/"
    },
    "executionInfo": {
     "elapsed": 43,
     "status": "ok",
     "timestamp": 1754258418953,
     "user": {
      "displayName": "Kaan Bıçakcı",
      "userId": "12951043854473247756"
     },
     "user_tz": -60
    },
    "id": "3e1e5547",
    "outputId": "c968c6e4-761c-4dab-ebd0-a0f829286b26"
   },
   "outputs": [
    {
     "name": "stdout",
     "output_type": "stream",
     "text": [
      "X[0,0] → -999\n"
     ]
    }
   ],
   "source": [
    "Y = X.reshape(2, 10)\n",
    "Z = X.ravel()  # tek eksene düzleştir (view?)\n",
    "Z[0] = -999  # view\n",
    "print(\"X[0,0] →\", X[0, 0])"
   ]
  },
  {
   "cell_type": "markdown",
   "id": "Bt3Oe8CUN7gX",
   "metadata": {
    "id": "Bt3Oe8CUN7gX"
   },
   "source": [
    "#### Neden X Değişti?\n",
    "\n",
    "Bu çıktının nedeni, `X.ravel()` (ve çoğu durumda X.reshape()) işleminin yeni bir kopya oluşturmak yerine, orijinal X'in verisine bakan bir view - görünüm döndürmesidir.\n",
    "\n",
    "* `Z = X.ravel()`: Bu satırda, Z adında yeni bir dizi oluşturulur. Ancak Z, X'in verilerini kopyalamaz. Bunun yerine Z, X'in bellekteki aynı veri bloğuna işaret eden yeni bir ndarray nesnesidir. Tek farkı, bu veriyi `(20,)` şeklinde yorumlamasıdır, X ise `(4, 5)` şeklinde yorumlar.\n",
    "\n",
    "* `Z[0] = -999`: Bu satırda, Z görünümü üzerinden bellekteki ilk elemanın değerini `-999` olarak değiştiriyoruz.\n",
    "\n",
    "* **Sonuç**: `X` ve `Z` aynı bellek alanını paylaştığı için, birinde yapılan değişiklik doğrudan diğerine yansır. `Z[0]`'ı değiştirmek, aslında `X[0,0]`'ın bulunduğu bellek hücresini değiştirmekle tamamen aynı şeydir."
   ]
  },
  {
   "cell_type": "markdown",
   "id": "AYG1b6d_USD8",
   "metadata": {
    "id": "AYG1b6d_USD8"
   },
   "source": [
    "#### Görünüm vs. Kopya: Temel Fark\n",
    "\n",
    "* Görünüm (View): Orijinal veriye açılmış farklı bir pencere veya bir \"lakap\" (alias) gibidir. Pencereden dışarı bakıp duvara bir resim çizerseniz, orijinal duvarın kendisi boyanmış olur. ravel, reshape, ve çoğu slice işlemi bir görünüm döndürür.\n",
    "\n",
    "* Kopya (Copy): Orijinal verinin tamamen bağımsız bir kopyasıdır. Dışarıdaki duvarın fotoğrafını çekip, o fotoğrafın üzerine bir şeyler çizmek gibidir. Orijinal duvar bundan etkilenmez."
   ]
  },
  {
   "cell_type": "markdown",
   "id": "SBz4flQZUXu0",
   "metadata": {
    "id": "SBz4flQZUXu0"
   },
   "source": [
    "#### Ne Zaman Kopya Oluşturulur?\n",
    "* Boolean veya fancy indisleme gibi işlemler genellikle bir kopya döndürür çünkü seçilen elemanlar bellekte bitişik bir blok oluşturmaz.\n",
    "\n",
    "* Eğer bir işlem sonucunda orijinal dizinin etkilenmediğinden emin olmak istiyorsanız, açıkça `.copy()` metodunu kullanmalısınız.\n"
   ]
  },
  {
   "cell_type": "markdown",
   "id": "gzFQOxqdSLki",
   "metadata": {
    "id": "gzFQOxqdSLki"
   },
   "source": [
    "#### Özetlersek..\n",
    "\n",
    "| İşlem | Davranış | Yan Etki | Performans |\n",
    "|:---|:---|:---|:---|\n",
    "| **Görünüm (View)** | Aynı veriye farklı bir şekil/bakış açısı sağlar. | Birini değiştirmek diğerini de değiştirir. | Çok hızlı, bellek dostu. |\n",
    "| **Kopya (Copy)** | Verinin yeni ve bağımsız bir kopyasını oluşturur. | Birini değiştirmek diğerini etkilemez. | Daha yavaş, bellek kullanımı artar. |\n",
    "\n",
    "**Kural:** NumPy'de bir dizi üzerinde değişiklik yaparken, bu değişikliğin başka bir diziyi etkileyip etkilemeyeceğinden emin değilseniz, ya `.copy()` kullanarak kendinizi garantiye alın ya da verilerin aynı belleği paylaşıp paylaşmadığını `np.shares_memory(X, Z)` komutu ile kontrol edebilirsniz.\n"
   ]
  },
  {
   "cell_type": "markdown",
   "id": "b3a0cbb4",
   "metadata": {
    "id": "b3a0cbb4"
   },
   "source": [
    "### 1.6. RNG ve doğrusal cebir"
   ]
  },
  {
   "cell_type": "markdown",
   "id": "6yVjMM2nWhuI",
   "metadata": {
    "id": "6yVjMM2nWhuI"
   },
   "source": [
    "NumPy sadece veri saklama ve temel aritmetik işlemler için değil, aynı zamanda makine öğrenmesi ve istatistik için hayati önem taşıyan daha gelişmiş görevleri yerine getirmek için de güçlü alt modüllere sahiptir. Bu bölümde `np.random` ve `np.linalg` modüllerine hızlı bir giriş yapacağız.\n",
    "\n",
    "---\n",
    "\n",
    "#### Rastgele Sayı Üretmekk\n",
    "\n",
    "Makine öğrenmesinde:\n",
    "* Simülasyonlar oluşturmak,\n",
    "* Model ağırlıklarını başlatmak veya\n",
    "* Veriyi rastgele karıştırmak gibi\n",
    "\n",
    "birçok görev için tekrarlanabilir rastgele sayılara ihtiyaç duyarız.\n",
    "\n",
    "**Kod ve Çıktı:**\n",
    "> `rng.normal(0, 1, 5)`: [ 0.30471708 -1.03998411 0.7504512 0.94056472 -1.95103519]\n",
    "\n",
    "**Açıklama:**\n",
    "*   **`rng = np.random.default_rng(RANDOM_STATE)`**: Bu satır, modern ve tavsiye edilen yöntemle bir \"Rastgele Sayı Üreteci\" (Random Number Generator) nesnesi oluşturur.\n",
    "    *   `default_rng()`: NumPy'ın istatistiksel olarak daha sağlam olan yeni nesil üretecini çağırır.\n",
    "    *   `RANDOM_STATE`: Bu seed değeri, rastgele sayı üretim sürecini başlatır. Aynı tohum değeri kullanıldığı sürece, üretilen \"rastgele\" sayılar dizisi her zaman **aynı olacaktır**. Bu, deneylerin **tekrarlanabilirliği** için kritik öneme sahiptir.\n",
    "*   **`rng.normal(0, 1, 5)`**: Oluşturulan `rng` nesnesini kullanarak, standart normal dağılımdan örnekler çeker.\n",
    "    *   **1. Argüman (`0`):** Dağılımın ortalaması (μ).\n",
    "    *   **2. Argüman (`1`):** Dağılımın standart sapması (σ).\n",
    "    *   **3. Argüman (`5`):** Üretilecek örnek sayısı.\n",
    "\n",
    "---"
   ]
  },
  {
   "cell_type": "markdown",
   "id": "2SdeT7Xwx5Hk",
   "metadata": {
    "id": "2SdeT7Xwx5Hk"
   },
   "source": [
    "### Lineer Cebir - `np.linalg` Modülü\n",
    "\n",
    "Doğrusal cebir, makine öğrenmesinin matematiksel temelidir. `np.linalg` modülü, matris ayrıştırma, determinant hesaplama ve en temel olarak lineer denklem sistemlerini çözme gibi işlemler için optimize edilmiş fonksiyonlar içerir.\n",
    "\n",
    "**Kod ve Çıktı:**\n",
    "```python\n",
    "A = np.array([[3.,2.],[2.,6.]])\n",
    "b = np.array([2., -8.])\n",
    "np.linalg.solve(A,b)\n",
    ">> [ 2. -2.]\n",
    "```\n",
    "\n",
    "**Açıklama:**\n",
    "Burada `Ax = b` formundaki bir lineer denklem sistemini çözüyoruz.\n",
    "*   **`A` Matrisi:** Denklem sistemindeki katsayıları temsil eder.\n",
    "*   **`b` Vektörü:** Denklemlerin sonuçlarını temsil eder.\n",
    "\n",
    "Aslında denklem sistemini şu şekilde yazabiliriz:\n",
    "\n",
    "    3x + 2y = 2\n",
    "    2x + 6y = -8\n",
    "\n",
    "*   **`np.linalg.solve(A, b)`**: Bu fonksiyon, `x` ve `y`'den oluşan bilinmeyenler vektörünü (`[x, y]`) bulur. Çıktı olan `[ 2. -2.]`, bu sistemin çözümünün **`x = 2`** ve **`y = -2`** olduğunu gösterir.\n",
    "\n",
    "*   **Sağlamasını Yapalım:**\n",
    "    *   `3*(2) + 2*(-2) = 6 - 4 = 2` (Birinci denklem sağlandı ✅)\n",
    "    *   `2*(2) + 6*(-2) = 4 - 12 = -8` (İkinci denklem sağlandı ✅)\n",
    "\n",
    "---"
   ]
  },
  {
   "cell_type": "markdown",
   "id": "akYW75ACzSE6",
   "metadata": {
    "id": "akYW75ACzSE6"
   },
   "source": [
    "###3 Özet\n",
    "\n",
    "| Modül | Amacı | Kullanım Alanı |\n",
    "|:---|:---|:---|\n",
    "| **`np.random`** | İstatistiksel dağılımlara dayalı, tekrarlanabilir rastgele veriler üretmek. | Simülasyon, veri artırma (augmentation), model başlatma, örneklem seçimi. |\n",
    "| **`np.linalg`** | Doğrusal cebir operasyonlarını verimli bir şekilde gerçekleştirmek. | Lineer regresyonun temelini çözme, boyut azaltma (PCA), optimizasyon. |"
   ]
  },
  {
   "cell_type": "code",
   "execution_count": null,
   "id": "c4d04f2b",
   "metadata": {
    "colab": {
     "base_uri": "https://localhost:8080/"
    },
    "executionInfo": {
     "elapsed": 11,
     "status": "ok",
     "timestamp": 1754258418963,
     "user": {
      "displayName": "Kaan Bıçakcı",
      "userId": "12951043854473247756"
     },
     "user_tz": -60
    },
    "id": "c4d04f2b",
    "outputId": "acee1c39-098b-4869-a34d-28881237b7da"
   },
   "outputs": [
    {
     "name": "stdout",
     "output_type": "stream",
     "text": [
      "Normal örnek: [ 0.30471708 -1.03998411  0.7504512   0.94056472 -1.95103519]\n",
      "LA çözüm: [ 2. -2.]\n"
     ]
    }
   ],
   "source": [
    "rng = np.random.default_rng(RANDOM_STATE)\n",
    "print(\"Normal örnek:\", rng.normal(0, 1, 5))\n",
    "A = np.array([[3.0, 2.0], [2.0, 6.0]])\n",
    "b = np.array([2.0, -8.0])\n",
    "print(\"LA çözüm:\", np.linalg.solve(A, b))"
   ]
  },
  {
   "cell_type": "markdown",
   "id": "646a530d",
   "metadata": {
    "id": "646a530d"
   },
   "source": [
    "---\n",
    "## 2) Pandas - Tablosal Veri ile Üretkenlik\n",
    "Eğer ki NumPy Python'un bilimsel hesaplama için temel motoruysa, **Pandas** da bu motorun üzerine kurulmuş, veriyi temizlemek, dönüştürmek, analiz etmek ve görselleştirmek için kullanılan yüksek performanslı bir \"şasi\" ve \"kokpit\"tir. Kısacası, Python için **\"Excel'in veya SQL'in süper güçlere sahip hali\"** olarak düşünebiliriz.\n",
    "\n",
    "---"
   ]
  },
  {
   "cell_type": "markdown",
   "id": "63upunMp045B",
   "metadata": {
    "id": "63upunMp045B"
   },
   "source": [
    "### 2.0 Giriş ve Temel Bilgiler\n",
    "#### Temel Veri Yapıları: `Series` ve `DataFrame`\n",
    "\n",
    "Pandas'ın evreni iki temel yapı üzerine kuruludur:\n",
    "\n",
    "*   **`pd.Series`:** Tek boyutlu, etiketli bir dizidir. Bir Excel sayfasındaki **tek bir sütun** veya bir veritabanı tablosundaki tek bir alan gibi düşünülebilir. Her elemanın bir **indeksi** vardır.\n",
    "\n",
    "*   **`pd.DataFrame`:** İki boyutlu, etiketli bir veri yapısıdır (data structure olarak nitelendirebiliriz). Hem satır hem de sütun indekslerine sahiptir. Bir Excel sayfasının **tamamı** veya bir SQL tablosu ile eşdeğer olarak düşünebilirsiniz. Aslında aynı indeksi paylaşan birden fazla `Series` nesnesinin bir araya gelmiş halidir.\n",
    "\n",
    "---"
   ]
  },
  {
   "cell_type": "markdown",
   "id": "4n_HhdFo1bUV",
   "metadata": {
    "id": "4n_HhdFo1bUV"
   },
   "source": [
    "### Temel Operasyonlar ve Kavramlar\n",
    "\n",
    "#### `loc` ve `iloc`: Hassas Veri Seçimi\n",
    "Bir DataFrame'den belirli satırları ve sütunları seçmek için kullanılan iki temel yöntemdir.\n",
    "*   **`.loc` (Label-based):** Etiket (indeks ve sütun adı) bazlı seçim yapar.\n",
    "    *   **Analoji:** Bir telefon rehberinden bir kişiyi **adıyla** bulmak. (`df.loc['Ahmet', 'Telefon']`)\n",
    "*   **`.iloc` (Integer-location-based):** Tamsayı (pozisyon) bazlı seçim yapar.\n",
    "    *   **Analoji:** Telefon rehberindeki **5. kişiyi**, adının ne olduğuna bakmaksızın bulmak. (`df.iloc[4, 1]`)\n",
    "\n",
    "---"
   ]
  },
  {
   "cell_type": "markdown",
   "id": "SwqVngg11lB1",
   "metadata": {
    "id": "SwqVngg11lB1"
   },
   "source": [
    "#### `groupby`: Gruplama ve Agregasyon\n",
    "Veri analizinin temel taşıdır. Veri setini belirli kategorilere göre gruplara ayırmamızı, her grup üzerinde bir fonksiyon (toplama, ortalama, sayma vb.) uygulamamızı ve sonuçları birleştirmemizi sağlar.\n",
    "*   **Analoji:** Bir SQL sorgusundaki `GROUP BY` ifadesiyle tamamen aynı mantıkta çalışır. Örneğin, \"her bir şehirdeki mağazaların ortalama cirosunu hesaplamak.\"\n",
    "\n",
    "---"
   ]
  },
  {
   "cell_type": "markdown",
   "id": "Ad4GqAJA1miv",
   "metadata": {
    "id": "Ad4GqAJA1miv"
   },
   "source": [
    "#### `pivot_table`: Veriyi Yeniden Şekillendirme\n",
    "Veriyi \"uzun\" formattan \"geniş\" formata çevirerek özet tablolar oluşturmayı sağlar. Bir veya daha fazla sütundaki değerleri yeni sütun başlıkları olarak kullanır.\n",
    "*   **Analoji:** Excel'deki **Pivot Tablo** özelliğinin birebir karşılığıdır. Veriyi insanların daha kolay okuyup yorumlayabileceği çapraz tablolar haline getirir.\n",
    "\n",
    "---"
   ]
  },
  {
   "cell_type": "markdown",
   "id": "Py7YathH1nti",
   "metadata": {
    "id": "Py7YathH1nti"
   },
   "source": [
    "#### `merge` / `join`: Veri Kümelerini Birleştirme\n",
    "Farklı DataFrame'leri, ortak bir sütun veya indeks üzerinden birleştirmeyi sağlar. Gerçek dünyada veriler genellikle birden fazla kaynakta bulunduğu için bu, en sık kullanılan işlemlerden biridir.\n",
    "*   **Analoji:** SQL'deki `JOIN` (INNER, LEFT, RIGHT, OUTER) işlemlerinin aynısıdır. Örneğin, \"müşteri ID'si üzerinden bir müşteri tablosu ile sipariş tablosunu birleştirmek.\"\n",
    "\n",
    "---"
   ]
  },
  {
   "cell_type": "markdown",
   "id": "DXla644L1qLs",
   "metadata": {
    "id": "DXla644L1qLs"
   },
   "source": [
    "#### Zaman Serisi (Time Series)\n",
    "Pandas zaman indeksli verilerle de çalışabilir. Finansal veriler, sensör okumaları, log kayıtları gibi zaman damgalı verilerle çalışmayı son derece kolaylaştırır. Bu tür verilerde genelde zaman belirten sütunu index olarak atayabiliriz.\n",
    "*   **Özellikleri:** Tarih aralıkları oluşturma, zaman dilimi dönüşümleri, yeniden örnekleme (`resampling`, örn. günlük veriyi aylık ortalamaya çevirme) ve kayan pencere (`rolling window`) hesaplamaları (örn. 7 günlük hareketli ortalama).\n",
    "\n",
    "---"
   ]
  },
  {
   "cell_type": "markdown",
   "id": "ob0JzRUV1rk6",
   "metadata": {
    "id": "ob0JzRUV1rk6"
   },
   "source": [
    "#### Performans\n",
    "Pandas arka planda NumPy'yi kullandığı için oldukça hızlıdır. Ancak büyük veri setlerinde performansı korumak için Python `for` döngüleri yerine Pandas'ın kendi **vektörize** fonksiyonlarını kullanmak gerekir. Ayrıca, ddoğru veri tiplerini kullanmak, bellek kullanımını ve işlem hızını önemli ölçüde iyileştirebilir.\n",
    "\n",
    "---"
   ]
  },
  {
   "cell_type": "markdown",
   "id": "ee3e2399",
   "metadata": {
    "id": "ee3e2399"
   },
   "source": [
    "### 2.1. DataFrame/Series ve seçim\n",
    "\n",
    "Pandas'ta bir DataFrame'den veri seçmek için iki ana erişimci `accessor` bulunur:\n",
    "* `.loc`\n",
    "* `.iloc`.\n",
    "\n",
    "İkisi de aynı amaca hizmet ediyor gibi görünse de, temelde farklı çalışırlar.\n",
    "\n",
    "*   **.loc**: **Etiket (Label)** bazlı seçim yapar. İndeks ve sütunların \"isimlerine\" göre çalışır.\n",
    "*   **.iloc**: **Tamsayı Pozisyonu (Integer Location)** bazlı seçim yapar. Python listelerindeki gibi, satır ve sütunların sırasına `(0, 1, 2...)` göre çalışır.\n",
    "\n",
    "---"
   ]
  },
  {
   "cell_type": "markdown",
   "id": "HM5ZNfV9N0XD",
   "metadata": {
    "id": "HM5ZNfV9N0XD"
   },
   "source": [
    "#### Başlangıç DataFrame'i\n",
    "\n",
    "Örneklerimizi, `musteri_id` sütununun indeks olarak ayarlandığı aşağıdaki DataFrame üzerinde yapacağız. `.loc`'un bu `musteri_id` etiketlerini, `.iloc`'un ise arka plandaki pozisyonları (0, 1, 2...) kullanacağı anlamına gelir.\n",
    "\n",
    "| musteri_id | yas | gelir | sehir |\n",
    "|:---|:---|:---|:---|\n",
    "| 101 | 23 | 42000 | A |\n",
    "| 102 | 41 | 71500 | B |\n",
    "| 103 | 35 | 65000 | A |\n",
    "| 104 | 29 | 55000 | C |\n",
    "| 105 | 52 | 83000 | B |\n",
    "\n",
    "\n",
    "**Not:** `musteri_id` sütunu artık DataFrame'in indeksidir."
   ]
  },
  {
   "cell_type": "markdown",
   "id": "k-W6lNLEN88U",
   "metadata": {
    "id": "k-W6lNLEN88U"
   },
   "source": [
    "---\n",
    "\n",
    "#### Etiketlerle Seçim\n",
    "\n",
    "```python\n",
    "df.loc[101:103, [\"yas\", \"gelir\"]]\n",
    "````\n",
    "\n",
    "| musteri_id | yas | gelir |\n",
    "|:---|:---|:---|\n",
    "| 101 | 23 | 42000 |\n",
    "| 102 | 41 | 71500 |\n",
    "| 103 | 35 | 65000 |\n",
    "\n",
    "##### Nasıl Çalışır?\n",
    "**Satır Seçimi (101:103):** \"İndeks etiketi 101 olan satırdan başla ve indeks etiketi 103 olan satıra kadar git.\"\n",
    "\n",
    "**Önemli:** .loc ile yapılan dilimleme (slicing) hem başlangıç hem de bitiş etiketini DAHİL EDER (inclusive).\n",
    "\n",
    "**Sütun Seçimi ([\"yas\", \"gelir\"]):** 'yas' ve 'gelir' olanları seç."
   ]
  },
  {
   "cell_type": "markdown",
   "id": "uX3YlXbiOc8S",
   "metadata": {
    "id": "uX3YlXbiOc8S"
   },
   "source": [
    "---\n",
    "\n",
    "#### Pozisyonlarla Seçim\n",
    "\n",
    "```python\n",
    "df.iloc[0:2, 0:2]\n",
    "```\n",
    "\n",
    "| musteri_id | yas | gelir |\n",
    "|:---|:---|:---|\n",
    "| 101 | 23 | 42000 |\n",
    "| 102 | 41 | 71500 |\n",
    "\n",
    "##### Nasıl Çalışır?\n",
    "\n",
    "**Satır Seçimi (0:2):** \"0. pozisyondaki satırdan başla ve 2. pozisyondaki satıra kadar git (ama 2. pozisyon dahil değil).\"\n",
    "\n",
    "**Önemli:** `.iloc()` ile yapılan dilimleme, standart Python dilimlemesi gibi, bitiş pozisyonunu DAHİL ETMEZ (exclusive). Bu, 0. ve 1. pozisyondaki satırların seçildiği anlamına gelir.\n",
    "* 101 ve 102 etiketli satırlar\n",
    "\n",
    "**Sütun Seçimi (0:2):** \"0. ve 1. pozisyondaki sütunları seçz\" anlamına gelir."
   ]
  },
  {
   "cell_type": "markdown",
   "id": "eCXI1zchPBGL",
   "metadata": {
    "id": "eCXI1zchPBGL"
   },
   "source": [
    "---\n",
    "\n",
    "#### Özet Karşılaştırma\n",
    "\n",
    "| Özellik | `.loc` | `.iloc` |\n",
    "|:---|:---|:---|\n",
    "| **Dayandığı Şey** | **Etiket Adı** (Label) | **Tamsayı Pozisyonu** (Integer Position) |\n",
    "| **Sözdizimi** | `df.loc[row_labels, col_labels]` | `df.iloc[row_positions, col_positions]` |\n",
    "| **Dilimleme (`:`)** | **Bitiş Dahil** (Inclusive) | **Bitiş Hariç** (Exclusive) |\n",
    "| **Analoji** | Rehberden kişiyi **adıyla** aramak. | Rehberdeki **5. sıradaki** kişiyi bulmak. |\n"
   ]
  },
  {
   "cell_type": "code",
   "execution_count": null,
   "id": "67e7416e",
   "metadata": {
    "colab": {
     "base_uri": "https://localhost:8080/",
     "height": 519
    },
    "executionInfo": {
     "elapsed": 118,
     "status": "ok",
     "timestamp": 1754258419081,
     "user": {
      "displayName": "Kaan Bıçakcı",
      "userId": "12951043854473247756"
     },
     "user_tz": -60
    },
    "id": "67e7416e",
    "outputId": "bce5e392-089c-4df8-a947-ca470996e033"
   },
   "outputs": [
    {
     "data": {
      "text/html": [
       "<style type=\"text/css\">\n",
       "</style>\n",
       "<table id=\"T_e3204\" class=\"dataframe\">\n",
       "  <thead>\n",
       "    <tr>\n",
       "      <th id=\"T_e3204_level0_col0\" class=\"col_heading level0 col0\" >yas</th>\n",
       "      <th id=\"T_e3204_level0_col1\" class=\"col_heading level0 col1\" >gelir</th>\n",
       "      <th id=\"T_e3204_level0_col2\" class=\"col_heading level0 col2\" >sehir</th>\n",
       "    </tr>\n",
       "  </thead>\n",
       "  <tbody>\n",
       "    <tr>\n",
       "      <td id=\"T_e3204_row0_col0\" class=\"data row0 col0\" >23</td>\n",
       "      <td id=\"T_e3204_row0_col1\" class=\"data row0 col1\" >42000</td>\n",
       "      <td id=\"T_e3204_row0_col2\" class=\"data row0 col2\" >A</td>\n",
       "    </tr>\n",
       "    <tr>\n",
       "      <td id=\"T_e3204_row1_col0\" class=\"data row1 col0\" >41</td>\n",
       "      <td id=\"T_e3204_row1_col1\" class=\"data row1 col1\" >71500</td>\n",
       "      <td id=\"T_e3204_row1_col2\" class=\"data row1 col2\" >B</td>\n",
       "    </tr>\n",
       "    <tr>\n",
       "      <td id=\"T_e3204_row2_col0\" class=\"data row2 col0\" >35</td>\n",
       "      <td id=\"T_e3204_row2_col1\" class=\"data row2 col1\" >65000</td>\n",
       "      <td id=\"T_e3204_row2_col2\" class=\"data row2 col2\" >A</td>\n",
       "    </tr>\n",
       "    <tr>\n",
       "      <td id=\"T_e3204_row3_col0\" class=\"data row3 col0\" >29</td>\n",
       "      <td id=\"T_e3204_row3_col1\" class=\"data row3 col1\" >55000</td>\n",
       "      <td id=\"T_e3204_row3_col2\" class=\"data row3 col2\" >C</td>\n",
       "    </tr>\n",
       "    <tr>\n",
       "      <td id=\"T_e3204_row4_col0\" class=\"data row4 col0\" >52</td>\n",
       "      <td id=\"T_e3204_row4_col1\" class=\"data row4 col1\" >83000</td>\n",
       "      <td id=\"T_e3204_row4_col2\" class=\"data row4 col2\" >B</td>\n",
       "    </tr>\n",
       "  </tbody>\n",
       "</table>\n"
      ],
      "text/plain": [
       "<pandas.io.formats.style.Styler at 0x786e7d6ffa90>"
      ]
     },
     "metadata": {},
     "output_type": "display_data"
    },
    {
     "data": {
      "text/markdown": [
       "**loc/iloc örnekleri**"
      ],
      "text/plain": [
       "<IPython.core.display.Markdown object>"
      ]
     },
     "metadata": {},
     "output_type": "display_data"
    },
    {
     "data": {
      "application/vnd.google.colaboratory.intrinsic+json": {
       "summary": "{\n  \"name\": \"display(df\",\n  \"rows\": 3,\n  \"fields\": [\n    {\n      \"column\": \"musteri_id\",\n      \"properties\": {\n        \"dtype\": \"number\",\n        \"std\": 1,\n        \"min\": 101,\n        \"max\": 103,\n        \"num_unique_values\": 3,\n        \"samples\": [\n          101,\n          102,\n          103\n        ],\n        \"semantic_type\": \"\",\n        \"description\": \"\"\n      }\n    },\n    {\n      \"column\": \"yas\",\n      \"properties\": {\n        \"dtype\": \"number\",\n        \"std\": 9,\n        \"min\": 23,\n        \"max\": 41,\n        \"num_unique_values\": 3,\n        \"samples\": [\n          23,\n          41,\n          35\n        ],\n        \"semantic_type\": \"\",\n        \"description\": \"\"\n      }\n    },\n    {\n      \"column\": \"gelir\",\n      \"properties\": {\n        \"dtype\": \"number\",\n        \"std\": 15500,\n        \"min\": 42000,\n        \"max\": 71500,\n        \"num_unique_values\": 3,\n        \"samples\": [\n          42000,\n          71500,\n          65000\n        ],\n        \"semantic_type\": \"\",\n        \"description\": \"\"\n      }\n    }\n  ]\n}",
       "type": "dataframe"
      },
      "text/html": [
       "\n",
       "  <div id=\"df-88d6e647-fd28-4d0d-b892-9fe2cc844b7e\" class=\"colab-df-container\">\n",
       "    <div>\n",
       "<style scoped>\n",
       "    .dataframe tbody tr th:only-of-type {\n",
       "        vertical-align: middle;\n",
       "    }\n",
       "\n",
       "    .dataframe tbody tr th {\n",
       "        vertical-align: top;\n",
       "    }\n",
       "\n",
       "    .dataframe thead th {\n",
       "        text-align: right;\n",
       "    }\n",
       "</style>\n",
       "<table border=\"1\" class=\"dataframe\">\n",
       "  <thead>\n",
       "    <tr style=\"text-align: right;\">\n",
       "      <th></th>\n",
       "      <th>yas</th>\n",
       "      <th>gelir</th>\n",
       "    </tr>\n",
       "    <tr>\n",
       "      <th>musteri_id</th>\n",
       "      <th></th>\n",
       "      <th></th>\n",
       "    </tr>\n",
       "  </thead>\n",
       "  <tbody>\n",
       "    <tr>\n",
       "      <th>101</th>\n",
       "      <td>23</td>\n",
       "      <td>42000</td>\n",
       "    </tr>\n",
       "    <tr>\n",
       "      <th>102</th>\n",
       "      <td>41</td>\n",
       "      <td>71500</td>\n",
       "    </tr>\n",
       "    <tr>\n",
       "      <th>103</th>\n",
       "      <td>35</td>\n",
       "      <td>65000</td>\n",
       "    </tr>\n",
       "  </tbody>\n",
       "</table>\n",
       "</div>\n",
       "    <div class=\"colab-df-buttons\">\n",
       "\n",
       "  <div class=\"colab-df-container\">\n",
       "    <button class=\"colab-df-convert\" onclick=\"convertToInteractive('df-88d6e647-fd28-4d0d-b892-9fe2cc844b7e')\"\n",
       "            title=\"Convert this dataframe to an interactive table.\"\n",
       "            style=\"display:none;\">\n",
       "\n",
       "  <svg xmlns=\"http://www.w3.org/2000/svg\" height=\"24px\" viewBox=\"0 -960 960 960\">\n",
       "    <path d=\"M120-120v-720h720v720H120Zm60-500h600v-160H180v160Zm220 220h160v-160H400v160Zm0 220h160v-160H400v160ZM180-400h160v-160H180v160Zm440 0h160v-160H620v160ZM180-180h160v-160H180v160Zm440 0h160v-160H620v160Z\"/>\n",
       "  </svg>\n",
       "    </button>\n",
       "\n",
       "  <style>\n",
       "    .colab-df-container {\n",
       "      display:flex;\n",
       "      gap: 12px;\n",
       "    }\n",
       "\n",
       "    .colab-df-convert {\n",
       "      background-color: #E8F0FE;\n",
       "      border: none;\n",
       "      border-radius: 50%;\n",
       "      cursor: pointer;\n",
       "      display: none;\n",
       "      fill: #1967D2;\n",
       "      height: 32px;\n",
       "      padding: 0 0 0 0;\n",
       "      width: 32px;\n",
       "    }\n",
       "\n",
       "    .colab-df-convert:hover {\n",
       "      background-color: #E2EBFA;\n",
       "      box-shadow: 0px 1px 2px rgba(60, 64, 67, 0.3), 0px 1px 3px 1px rgba(60, 64, 67, 0.15);\n",
       "      fill: #174EA6;\n",
       "    }\n",
       "\n",
       "    .colab-df-buttons div {\n",
       "      margin-bottom: 4px;\n",
       "    }\n",
       "\n",
       "    [theme=dark] .colab-df-convert {\n",
       "      background-color: #3B4455;\n",
       "      fill: #D2E3FC;\n",
       "    }\n",
       "\n",
       "    [theme=dark] .colab-df-convert:hover {\n",
       "      background-color: #434B5C;\n",
       "      box-shadow: 0px 1px 3px 1px rgba(0, 0, 0, 0.15);\n",
       "      filter: drop-shadow(0px 1px 2px rgba(0, 0, 0, 0.3));\n",
       "      fill: #FFFFFF;\n",
       "    }\n",
       "  </style>\n",
       "\n",
       "    <script>\n",
       "      const buttonEl =\n",
       "        document.querySelector('#df-88d6e647-fd28-4d0d-b892-9fe2cc844b7e button.colab-df-convert');\n",
       "      buttonEl.style.display =\n",
       "        google.colab.kernel.accessAllowed ? 'block' : 'none';\n",
       "\n",
       "      async function convertToInteractive(key) {\n",
       "        const element = document.querySelector('#df-88d6e647-fd28-4d0d-b892-9fe2cc844b7e');\n",
       "        const dataTable =\n",
       "          await google.colab.kernel.invokeFunction('convertToInteractive',\n",
       "                                                    [key], {});\n",
       "        if (!dataTable) return;\n",
       "\n",
       "        const docLinkHtml = 'Like what you see? Visit the ' +\n",
       "          '<a target=\"_blank\" href=https://colab.research.google.com/notebooks/data_table.ipynb>data table notebook</a>'\n",
       "          + ' to learn more about interactive tables.';\n",
       "        element.innerHTML = '';\n",
       "        dataTable['output_type'] = 'display_data';\n",
       "        await google.colab.output.renderOutput(dataTable, element);\n",
       "        const docLink = document.createElement('div');\n",
       "        docLink.innerHTML = docLinkHtml;\n",
       "        element.appendChild(docLink);\n",
       "      }\n",
       "    </script>\n",
       "  </div>\n",
       "\n",
       "\n",
       "    <div id=\"df-2a2f28da-8b87-4d47-91e5-67038682d93b\">\n",
       "      <button class=\"colab-df-quickchart\" onclick=\"quickchart('df-2a2f28da-8b87-4d47-91e5-67038682d93b')\"\n",
       "                title=\"Suggest charts\"\n",
       "                style=\"display:none;\">\n",
       "\n",
       "<svg xmlns=\"http://www.w3.org/2000/svg\" height=\"24px\"viewBox=\"0 0 24 24\"\n",
       "     width=\"24px\">\n",
       "    <g>\n",
       "        <path d=\"M19 3H5c-1.1 0-2 .9-2 2v14c0 1.1.9 2 2 2h14c1.1 0 2-.9 2-2V5c0-1.1-.9-2-2-2zM9 17H7v-7h2v7zm4 0h-2V7h2v10zm4 0h-2v-4h2v4z\"/>\n",
       "    </g>\n",
       "</svg>\n",
       "      </button>\n",
       "\n",
       "<style>\n",
       "  .colab-df-quickchart {\n",
       "      --bg-color: #E8F0FE;\n",
       "      --fill-color: #1967D2;\n",
       "      --hover-bg-color: #E2EBFA;\n",
       "      --hover-fill-color: #174EA6;\n",
       "      --disabled-fill-color: #AAA;\n",
       "      --disabled-bg-color: #DDD;\n",
       "  }\n",
       "\n",
       "  [theme=dark] .colab-df-quickchart {\n",
       "      --bg-color: #3B4455;\n",
       "      --fill-color: #D2E3FC;\n",
       "      --hover-bg-color: #434B5C;\n",
       "      --hover-fill-color: #FFFFFF;\n",
       "      --disabled-bg-color: #3B4455;\n",
       "      --disabled-fill-color: #666;\n",
       "  }\n",
       "\n",
       "  .colab-df-quickchart {\n",
       "    background-color: var(--bg-color);\n",
       "    border: none;\n",
       "    border-radius: 50%;\n",
       "    cursor: pointer;\n",
       "    display: none;\n",
       "    fill: var(--fill-color);\n",
       "    height: 32px;\n",
       "    padding: 0;\n",
       "    width: 32px;\n",
       "  }\n",
       "\n",
       "  .colab-df-quickchart:hover {\n",
       "    background-color: var(--hover-bg-color);\n",
       "    box-shadow: 0 1px 2px rgba(60, 64, 67, 0.3), 0 1px 3px 1px rgba(60, 64, 67, 0.15);\n",
       "    fill: var(--button-hover-fill-color);\n",
       "  }\n",
       "\n",
       "  .colab-df-quickchart-complete:disabled,\n",
       "  .colab-df-quickchart-complete:disabled:hover {\n",
       "    background-color: var(--disabled-bg-color);\n",
       "    fill: var(--disabled-fill-color);\n",
       "    box-shadow: none;\n",
       "  }\n",
       "\n",
       "  .colab-df-spinner {\n",
       "    border: 2px solid var(--fill-color);\n",
       "    border-color: transparent;\n",
       "    border-bottom-color: var(--fill-color);\n",
       "    animation:\n",
       "      spin 1s steps(1) infinite;\n",
       "  }\n",
       "\n",
       "  @keyframes spin {\n",
       "    0% {\n",
       "      border-color: transparent;\n",
       "      border-bottom-color: var(--fill-color);\n",
       "      border-left-color: var(--fill-color);\n",
       "    }\n",
       "    20% {\n",
       "      border-color: transparent;\n",
       "      border-left-color: var(--fill-color);\n",
       "      border-top-color: var(--fill-color);\n",
       "    }\n",
       "    30% {\n",
       "      border-color: transparent;\n",
       "      border-left-color: var(--fill-color);\n",
       "      border-top-color: var(--fill-color);\n",
       "      border-right-color: var(--fill-color);\n",
       "    }\n",
       "    40% {\n",
       "      border-color: transparent;\n",
       "      border-right-color: var(--fill-color);\n",
       "      border-top-color: var(--fill-color);\n",
       "    }\n",
       "    60% {\n",
       "      border-color: transparent;\n",
       "      border-right-color: var(--fill-color);\n",
       "    }\n",
       "    80% {\n",
       "      border-color: transparent;\n",
       "      border-right-color: var(--fill-color);\n",
       "      border-bottom-color: var(--fill-color);\n",
       "    }\n",
       "    90% {\n",
       "      border-color: transparent;\n",
       "      border-bottom-color: var(--fill-color);\n",
       "    }\n",
       "  }\n",
       "</style>\n",
       "\n",
       "      <script>\n",
       "        async function quickchart(key) {\n",
       "          const quickchartButtonEl =\n",
       "            document.querySelector('#' + key + ' button');\n",
       "          quickchartButtonEl.disabled = true;  // To prevent multiple clicks.\n",
       "          quickchartButtonEl.classList.add('colab-df-spinner');\n",
       "          try {\n",
       "            const charts = await google.colab.kernel.invokeFunction(\n",
       "                'suggestCharts', [key], {});\n",
       "          } catch (error) {\n",
       "            console.error('Error during call to suggestCharts:', error);\n",
       "          }\n",
       "          quickchartButtonEl.classList.remove('colab-df-spinner');\n",
       "          quickchartButtonEl.classList.add('colab-df-quickchart-complete');\n",
       "        }\n",
       "        (() => {\n",
       "          let quickchartButtonEl =\n",
       "            document.querySelector('#df-2a2f28da-8b87-4d47-91e5-67038682d93b button');\n",
       "          quickchartButtonEl.style.display =\n",
       "            google.colab.kernel.accessAllowed ? 'block' : 'none';\n",
       "        })();\n",
       "      </script>\n",
       "    </div>\n",
       "\n",
       "    </div>\n",
       "  </div>\n"
      ],
      "text/plain": [
       "            yas  gelir\n",
       "musteri_id            \n",
       "101          23  42000\n",
       "102          41  71500\n",
       "103          35  65000"
      ]
     },
     "metadata": {},
     "output_type": "display_data"
    },
    {
     "data": {
      "application/vnd.google.colaboratory.intrinsic+json": {
       "summary": "{\n  \"name\": \"display(df\",\n  \"rows\": 2,\n  \"fields\": [\n    {\n      \"column\": \"musteri_id\",\n      \"properties\": {\n        \"dtype\": \"number\",\n        \"std\": 0,\n        \"min\": 101,\n        \"max\": 102,\n        \"num_unique_values\": 2,\n        \"samples\": [\n          102,\n          101\n        ],\n        \"semantic_type\": \"\",\n        \"description\": \"\"\n      }\n    },\n    {\n      \"column\": \"yas\",\n      \"properties\": {\n        \"dtype\": \"number\",\n        \"std\": 12,\n        \"min\": 23,\n        \"max\": 41,\n        \"num_unique_values\": 2,\n        \"samples\": [\n          41,\n          23\n        ],\n        \"semantic_type\": \"\",\n        \"description\": \"\"\n      }\n    },\n    {\n      \"column\": \"gelir\",\n      \"properties\": {\n        \"dtype\": \"number\",\n        \"std\": 20859,\n        \"min\": 42000,\n        \"max\": 71500,\n        \"num_unique_values\": 2,\n        \"samples\": [\n          71500,\n          42000\n        ],\n        \"semantic_type\": \"\",\n        \"description\": \"\"\n      }\n    }\n  ]\n}",
       "type": "dataframe"
      },
      "text/html": [
       "\n",
       "  <div id=\"df-252b605b-755f-4ad3-b6db-aff7d72703a4\" class=\"colab-df-container\">\n",
       "    <div>\n",
       "<style scoped>\n",
       "    .dataframe tbody tr th:only-of-type {\n",
       "        vertical-align: middle;\n",
       "    }\n",
       "\n",
       "    .dataframe tbody tr th {\n",
       "        vertical-align: top;\n",
       "    }\n",
       "\n",
       "    .dataframe thead th {\n",
       "        text-align: right;\n",
       "    }\n",
       "</style>\n",
       "<table border=\"1\" class=\"dataframe\">\n",
       "  <thead>\n",
       "    <tr style=\"text-align: right;\">\n",
       "      <th></th>\n",
       "      <th>yas</th>\n",
       "      <th>gelir</th>\n",
       "    </tr>\n",
       "    <tr>\n",
       "      <th>musteri_id</th>\n",
       "      <th></th>\n",
       "      <th></th>\n",
       "    </tr>\n",
       "  </thead>\n",
       "  <tbody>\n",
       "    <tr>\n",
       "      <th>101</th>\n",
       "      <td>23</td>\n",
       "      <td>42000</td>\n",
       "    </tr>\n",
       "    <tr>\n",
       "      <th>102</th>\n",
       "      <td>41</td>\n",
       "      <td>71500</td>\n",
       "    </tr>\n",
       "  </tbody>\n",
       "</table>\n",
       "</div>\n",
       "    <div class=\"colab-df-buttons\">\n",
       "\n",
       "  <div class=\"colab-df-container\">\n",
       "    <button class=\"colab-df-convert\" onclick=\"convertToInteractive('df-252b605b-755f-4ad3-b6db-aff7d72703a4')\"\n",
       "            title=\"Convert this dataframe to an interactive table.\"\n",
       "            style=\"display:none;\">\n",
       "\n",
       "  <svg xmlns=\"http://www.w3.org/2000/svg\" height=\"24px\" viewBox=\"0 -960 960 960\">\n",
       "    <path d=\"M120-120v-720h720v720H120Zm60-500h600v-160H180v160Zm220 220h160v-160H400v160Zm0 220h160v-160H400v160ZM180-400h160v-160H180v160Zm440 0h160v-160H620v160ZM180-180h160v-160H180v160Zm440 0h160v-160H620v160Z\"/>\n",
       "  </svg>\n",
       "    </button>\n",
       "\n",
       "  <style>\n",
       "    .colab-df-container {\n",
       "      display:flex;\n",
       "      gap: 12px;\n",
       "    }\n",
       "\n",
       "    .colab-df-convert {\n",
       "      background-color: #E8F0FE;\n",
       "      border: none;\n",
       "      border-radius: 50%;\n",
       "      cursor: pointer;\n",
       "      display: none;\n",
       "      fill: #1967D2;\n",
       "      height: 32px;\n",
       "      padding: 0 0 0 0;\n",
       "      width: 32px;\n",
       "    }\n",
       "\n",
       "    .colab-df-convert:hover {\n",
       "      background-color: #E2EBFA;\n",
       "      box-shadow: 0px 1px 2px rgba(60, 64, 67, 0.3), 0px 1px 3px 1px rgba(60, 64, 67, 0.15);\n",
       "      fill: #174EA6;\n",
       "    }\n",
       "\n",
       "    .colab-df-buttons div {\n",
       "      margin-bottom: 4px;\n",
       "    }\n",
       "\n",
       "    [theme=dark] .colab-df-convert {\n",
       "      background-color: #3B4455;\n",
       "      fill: #D2E3FC;\n",
       "    }\n",
       "\n",
       "    [theme=dark] .colab-df-convert:hover {\n",
       "      background-color: #434B5C;\n",
       "      box-shadow: 0px 1px 3px 1px rgba(0, 0, 0, 0.15);\n",
       "      filter: drop-shadow(0px 1px 2px rgba(0, 0, 0, 0.3));\n",
       "      fill: #FFFFFF;\n",
       "    }\n",
       "  </style>\n",
       "\n",
       "    <script>\n",
       "      const buttonEl =\n",
       "        document.querySelector('#df-252b605b-755f-4ad3-b6db-aff7d72703a4 button.colab-df-convert');\n",
       "      buttonEl.style.display =\n",
       "        google.colab.kernel.accessAllowed ? 'block' : 'none';\n",
       "\n",
       "      async function convertToInteractive(key) {\n",
       "        const element = document.querySelector('#df-252b605b-755f-4ad3-b6db-aff7d72703a4');\n",
       "        const dataTable =\n",
       "          await google.colab.kernel.invokeFunction('convertToInteractive',\n",
       "                                                    [key], {});\n",
       "        if (!dataTable) return;\n",
       "\n",
       "        const docLinkHtml = 'Like what you see? Visit the ' +\n",
       "          '<a target=\"_blank\" href=https://colab.research.google.com/notebooks/data_table.ipynb>data table notebook</a>'\n",
       "          + ' to learn more about interactive tables.';\n",
       "        element.innerHTML = '';\n",
       "        dataTable['output_type'] = 'display_data';\n",
       "        await google.colab.output.renderOutput(dataTable, element);\n",
       "        const docLink = document.createElement('div');\n",
       "        docLink.innerHTML = docLinkHtml;\n",
       "        element.appendChild(docLink);\n",
       "      }\n",
       "    </script>\n",
       "  </div>\n",
       "\n",
       "\n",
       "    <div id=\"df-ff1fc5fd-bb39-48f7-8f50-34eef58ccbcd\">\n",
       "      <button class=\"colab-df-quickchart\" onclick=\"quickchart('df-ff1fc5fd-bb39-48f7-8f50-34eef58ccbcd')\"\n",
       "                title=\"Suggest charts\"\n",
       "                style=\"display:none;\">\n",
       "\n",
       "<svg xmlns=\"http://www.w3.org/2000/svg\" height=\"24px\"viewBox=\"0 0 24 24\"\n",
       "     width=\"24px\">\n",
       "    <g>\n",
       "        <path d=\"M19 3H5c-1.1 0-2 .9-2 2v14c0 1.1.9 2 2 2h14c1.1 0 2-.9 2-2V5c0-1.1-.9-2-2-2zM9 17H7v-7h2v7zm4 0h-2V7h2v10zm4 0h-2v-4h2v4z\"/>\n",
       "    </g>\n",
       "</svg>\n",
       "      </button>\n",
       "\n",
       "<style>\n",
       "  .colab-df-quickchart {\n",
       "      --bg-color: #E8F0FE;\n",
       "      --fill-color: #1967D2;\n",
       "      --hover-bg-color: #E2EBFA;\n",
       "      --hover-fill-color: #174EA6;\n",
       "      --disabled-fill-color: #AAA;\n",
       "      --disabled-bg-color: #DDD;\n",
       "  }\n",
       "\n",
       "  [theme=dark] .colab-df-quickchart {\n",
       "      --bg-color: #3B4455;\n",
       "      --fill-color: #D2E3FC;\n",
       "      --hover-bg-color: #434B5C;\n",
       "      --hover-fill-color: #FFFFFF;\n",
       "      --disabled-bg-color: #3B4455;\n",
       "      --disabled-fill-color: #666;\n",
       "  }\n",
       "\n",
       "  .colab-df-quickchart {\n",
       "    background-color: var(--bg-color);\n",
       "    border: none;\n",
       "    border-radius: 50%;\n",
       "    cursor: pointer;\n",
       "    display: none;\n",
       "    fill: var(--fill-color);\n",
       "    height: 32px;\n",
       "    padding: 0;\n",
       "    width: 32px;\n",
       "  }\n",
       "\n",
       "  .colab-df-quickchart:hover {\n",
       "    background-color: var(--hover-bg-color);\n",
       "    box-shadow: 0 1px 2px rgba(60, 64, 67, 0.3), 0 1px 3px 1px rgba(60, 64, 67, 0.15);\n",
       "    fill: var(--button-hover-fill-color);\n",
       "  }\n",
       "\n",
       "  .colab-df-quickchart-complete:disabled,\n",
       "  .colab-df-quickchart-complete:disabled:hover {\n",
       "    background-color: var(--disabled-bg-color);\n",
       "    fill: var(--disabled-fill-color);\n",
       "    box-shadow: none;\n",
       "  }\n",
       "\n",
       "  .colab-df-spinner {\n",
       "    border: 2px solid var(--fill-color);\n",
       "    border-color: transparent;\n",
       "    border-bottom-color: var(--fill-color);\n",
       "    animation:\n",
       "      spin 1s steps(1) infinite;\n",
       "  }\n",
       "\n",
       "  @keyframes spin {\n",
       "    0% {\n",
       "      border-color: transparent;\n",
       "      border-bottom-color: var(--fill-color);\n",
       "      border-left-color: var(--fill-color);\n",
       "    }\n",
       "    20% {\n",
       "      border-color: transparent;\n",
       "      border-left-color: var(--fill-color);\n",
       "      border-top-color: var(--fill-color);\n",
       "    }\n",
       "    30% {\n",
       "      border-color: transparent;\n",
       "      border-left-color: var(--fill-color);\n",
       "      border-top-color: var(--fill-color);\n",
       "      border-right-color: var(--fill-color);\n",
       "    }\n",
       "    40% {\n",
       "      border-color: transparent;\n",
       "      border-right-color: var(--fill-color);\n",
       "      border-top-color: var(--fill-color);\n",
       "    }\n",
       "    60% {\n",
       "      border-color: transparent;\n",
       "      border-right-color: var(--fill-color);\n",
       "    }\n",
       "    80% {\n",
       "      border-color: transparent;\n",
       "      border-right-color: var(--fill-color);\n",
       "      border-bottom-color: var(--fill-color);\n",
       "    }\n",
       "    90% {\n",
       "      border-color: transparent;\n",
       "      border-bottom-color: var(--fill-color);\n",
       "    }\n",
       "  }\n",
       "</style>\n",
       "\n",
       "      <script>\n",
       "        async function quickchart(key) {\n",
       "          const quickchartButtonEl =\n",
       "            document.querySelector('#' + key + ' button');\n",
       "          quickchartButtonEl.disabled = true;  // To prevent multiple clicks.\n",
       "          quickchartButtonEl.classList.add('colab-df-spinner');\n",
       "          try {\n",
       "            const charts = await google.colab.kernel.invokeFunction(\n",
       "                'suggestCharts', [key], {});\n",
       "          } catch (error) {\n",
       "            console.error('Error during call to suggestCharts:', error);\n",
       "          }\n",
       "          quickchartButtonEl.classList.remove('colab-df-spinner');\n",
       "          quickchartButtonEl.classList.add('colab-df-quickchart-complete');\n",
       "        }\n",
       "        (() => {\n",
       "          let quickchartButtonEl =\n",
       "            document.querySelector('#df-ff1fc5fd-bb39-48f7-8f50-34eef58ccbcd button');\n",
       "          quickchartButtonEl.style.display =\n",
       "            google.colab.kernel.accessAllowed ? 'block' : 'none';\n",
       "        })();\n",
       "      </script>\n",
       "    </div>\n",
       "\n",
       "    </div>\n",
       "  </div>\n"
      ],
      "text/plain": [
       "            yas  gelir\n",
       "musteri_id            \n",
       "101          23  42000\n",
       "102          41  71500"
      ]
     },
     "metadata": {},
     "output_type": "display_data"
    }
   ],
   "source": [
    "df = pd.DataFrame(\n",
    "    {\n",
    "        \"musteri_id\": [101, 102, 103, 104, 105],\n",
    "        \"yas\": [23, 41, 35, 29, 52],\n",
    "        \"gelir\": [42000, 71500, 65000, 55000, 83000],\n",
    "        \"sehir\": [\"A\", \"B\", \"A\", \"C\", \"B\"],\n",
    "    }\n",
    ").set_index(\"musteri_id\")\n",
    "\n",
    "display(df.style.hide(axis=\"index\"))\n",
    "display(Markdown(\"**loc/iloc örnekleri**\"))\n",
    "display(df.loc[101:103, [\"yas\", \"gelir\"]])\n",
    "display(df.iloc[0:2, 0:2])"
   ]
  },
  {
   "cell_type": "markdown",
   "id": "e81e45b0",
   "metadata": {
    "id": "e81e45b0"
   },
   "source": [
    "### 2.2. Atama, türler ve kategorik\n",
    "\n",
    "Pandas'ta sadece veri okumakla kalmayız, aynı zamanda yeni bilgiler türetir (feature engineering) ve veri setlerimizi daha verimli hale getirebiliriz.\n",
    "\n",
    "---"
   ]
  },
  {
   "cell_type": "markdown",
   "id": "P4wJsUxRQunM",
   "metadata": {
    "id": "P4wJsUxRQunM"
   },
   "source": [
    "#### Kod ve Çıktıların İncelenmesi\n",
    "\n",
    "**Çalıştırılan Kod:**\n",
    "```python\n",
    "df2 = df.copy()\n",
    "df2 = df2.assign(gelir_bin = pd.cut(df2[\"gelir\"], bins=3))\n",
    "df2[\"sehir\"] = df2[\"sehir\"].astype(\"category\")\n",
    "```\n",
    "\n",
    "**Veri Tipleri (`dtypes`) Çıktısı:**\n",
    "\n",
    "| sütun     | dtype    |\n",
    "|-----------|----------|\n",
    "| yas       | int64    |\n",
    "| gelir     | int64    |\n",
    "| sehir     | category |\n",
    "| gelir_bin | category |\n",
    "\n",
    "\n",
    "**DataFrame (`df2`) Çıktısı:**\n",
    "\n",
    "| yas | gelir | sehir | gelir_bin |\n",
    "|---|---|---|---|\n",
    "| 23 | 42000 | A | (41959.0, 55666.667] |\n",
    "| 41 | 71500 | B | (69333.333, 83000.0] |\n",
    "| 35 | 65000 | A | (55666.667, 69333.333] |\n",
    "| 29 | 55000 | C | (41959.0, 55666.667] |\n",
    "| 52 | 83000 | B | (69333.333, 83000.0] |\n",
    "\n",
    "---"
   ]
  },
  {
   "cell_type": "markdown",
   "id": "MpPOwfcpRSec",
   "metadata": {
    "id": "MpPOwfcpRSec"
   },
   "source": [
    "#### Adım Adım Analiz\n",
    "\n",
    "1.  **`df2 = df.copy()`**\n",
    "    İlk olarak, orijinal DataFrame'in (`df`) bir kopyasını oluşturuyoruz. Bu şekilde orijinal veriyi bozmadan güvenli bir şekilde deneyler yapmamızı sağlayan kritik bir adımdır.\n",
    "\n",
    "2.  **`df2.assign(gelir_bin = ...)` ve `pd.cut(...)`**\n",
    "    *   **`.assign()`:** DataFrame'e yeni bir sütun eklemenin ve zincirleme işlemlere izin veren bir methodttur. Burada `gelir_bin` adında yeni bir sütun oluşturuyoruz.\n",
    "    *   **`pd.cut(df2[\"gelir\"], bins=3)`:** Bu fonksiyon sıkça kullanılan \"binning\" (kutulama/gruplama) işlemini yapar:\n",
    "        *   `gelir` sütunundaki sürekli sayısal veriyi alır.\n",
    "        *   Bu veriyi minimum ve maksimum değerler arasında eşit genişlikte **3 \"kutucuğa\" (bin)** böler.\n",
    "        *   Her bir gelirin hangi aralığa düştüğünü belirten bir kategori oluşturur.\n",
    "        *   Çıktıdaki `(41959.0, 55666.667]` gibi ifadeler birer **aralıktır (Interval)**. Parantez `(` **hariç**, köşeli parantez `]` ise **dahil** anlamına gelir. Yani bu aralık, 41959.0'dan büyük ve 55666.667'ye küçük veya eşit olan değerleri içerir. Bu yeni sütunun veri tipi doğal olarak `category`'dir.\n",
    "\n",
    "3.  **`df2[\"sehir\"] = df2[\"sehir\"].astype(\"category\")`**\n",
    "    *   **Önceki Durum:** `sehir` sütunu, metin içerdiği için varsayılan olarak `object` veri tipindedir. Pandas'ın her bir metin değerini (\"A\", \"B\", \"C\") bellekte ayrı ayrı sakladığı anlamına gelir. Ayrıca `òbject` tipinde farklı veri tipleri bir arada bulunabilir. Buna mixed-dtypes denir.\n",
    "    *   **Sonraki Durum:** `.astype(\"category\")` ile bu sütunu kategorik tipe dönüştürürüz. Pandas arka planda akıllıca bir iş yapar:\n",
    "        1.  Benzersiz şehir isimlerini (`'A'`, `'B'`, `'C'`) bir \"sözlük\" gibi bir yerde sadece bir kez saklar.\n",
    "        2.  Orijinal sütunda ise bu metinler yerine, çok daha az yer kaplayan **tamsayı kodlarını** (örn: A için 0, B için 1, C için 2) tutar.\n",
    "\n",
    "---\n",
    "\n",
    "#### Neden `category` Veri Tipi Kullanmalıyız?\n",
    "\n",
    "| Özellik | `object` (Metin) Tipi | `category` Tipi |\n",
    "|:---|:---|:---|\n",
    "| **Bellek Kullanımı** | **Yüksek.** Her bir metin tam olarak saklanır. | **Düşük.** Sadece tamsayı kodları ve küçük bir sözlük saklanır. |\n",
    "| **Performans** | **Daha Yavaş.** Gruplama gibi işlemler metin karşılaştırması gerektirir. | **Daha Hızlı.** Gruplama işlemleri tamsayılar üzerinde yapılır. |\n",
    "| **Kullanım Alanı** | Her satırın tamamen benzersiz olduğu metinler (yorumlar, adresler). | Tekrar eden değerlerin az sayıda olduğu sütunlar (şehirler, ülkeler, durum kodları). |\n",
    "\n",
    "Bu optimizasyon özellikle büyük veri setlerinde hem bellekten tasarruf etmemizi sağlar hem de `groupby` gibi operasyonları önemli ölçüde hızlandırır.\n",
    "\n",
    "Tabi ki bu her zaman kullanmalıyız demek değildir, prototipleme aşamalarında bir şeylerin çalışıyor olması yeterli olacaktır, ürünleştirme kısmında bu tarz optimizasyonları düşünebiliriz."
   ]
  },
  {
   "cell_type": "code",
   "execution_count": null,
   "id": "aac44159",
   "metadata": {
    "colab": {
     "base_uri": "https://localhost:8080/",
     "height": 363
    },
    "executionInfo": {
     "elapsed": 50,
     "status": "ok",
     "timestamp": 1754258419130,
     "user": {
      "displayName": "Kaan Bıçakcı",
      "userId": "12951043854473247756"
     },
     "user_tz": -60
    },
    "id": "aac44159",
    "outputId": "58b17ecd-0db9-431d-c2f7-e48ca60ed55a"
   },
   "outputs": [
    {
     "data": {
      "text/html": [
       "<style type=\"text/css\">\n",
       "</style>\n",
       "<table id=\"T_17ffc\" class=\"dataframe\">\n",
       "  <thead>\n",
       "    <tr>\n",
       "      <th id=\"T_17ffc_level0_col0\" class=\"col_heading level0 col0\" >dtype</th>\n",
       "    </tr>\n",
       "  </thead>\n",
       "  <tbody>\n",
       "    <tr>\n",
       "      <td id=\"T_17ffc_row0_col0\" class=\"data row0 col0\" >int64</td>\n",
       "    </tr>\n",
       "    <tr>\n",
       "      <td id=\"T_17ffc_row1_col0\" class=\"data row1 col0\" >int64</td>\n",
       "    </tr>\n",
       "    <tr>\n",
       "      <td id=\"T_17ffc_row2_col0\" class=\"data row2 col0\" >category</td>\n",
       "    </tr>\n",
       "    <tr>\n",
       "      <td id=\"T_17ffc_row3_col0\" class=\"data row3 col0\" >category</td>\n",
       "    </tr>\n",
       "  </tbody>\n",
       "</table>\n"
      ],
      "text/plain": [
       "<pandas.io.formats.style.Styler at 0x786e7d65b0d0>"
      ]
     },
     "metadata": {},
     "output_type": "display_data"
    },
    {
     "data": {
      "text/html": [
       "<style type=\"text/css\">\n",
       "</style>\n",
       "<table id=\"T_ad97e\" class=\"dataframe\">\n",
       "  <thead>\n",
       "    <tr>\n",
       "      <th id=\"T_ad97e_level0_col0\" class=\"col_heading level0 col0\" >yas</th>\n",
       "      <th id=\"T_ad97e_level0_col1\" class=\"col_heading level0 col1\" >gelir</th>\n",
       "      <th id=\"T_ad97e_level0_col2\" class=\"col_heading level0 col2\" >sehir</th>\n",
       "      <th id=\"T_ad97e_level0_col3\" class=\"col_heading level0 col3\" >gelir_bin</th>\n",
       "    </tr>\n",
       "  </thead>\n",
       "  <tbody>\n",
       "    <tr>\n",
       "      <td id=\"T_ad97e_row0_col0\" class=\"data row0 col0\" >23</td>\n",
       "      <td id=\"T_ad97e_row0_col1\" class=\"data row0 col1\" >42000</td>\n",
       "      <td id=\"T_ad97e_row0_col2\" class=\"data row0 col2\" >A</td>\n",
       "      <td id=\"T_ad97e_row0_col3\" class=\"data row0 col3\" >(41959.0, 55666.667]</td>\n",
       "    </tr>\n",
       "    <tr>\n",
       "      <td id=\"T_ad97e_row1_col0\" class=\"data row1 col0\" >41</td>\n",
       "      <td id=\"T_ad97e_row1_col1\" class=\"data row1 col1\" >71500</td>\n",
       "      <td id=\"T_ad97e_row1_col2\" class=\"data row1 col2\" >B</td>\n",
       "      <td id=\"T_ad97e_row1_col3\" class=\"data row1 col3\" >(69333.333, 83000.0]</td>\n",
       "    </tr>\n",
       "    <tr>\n",
       "      <td id=\"T_ad97e_row2_col0\" class=\"data row2 col0\" >35</td>\n",
       "      <td id=\"T_ad97e_row2_col1\" class=\"data row2 col1\" >65000</td>\n",
       "      <td id=\"T_ad97e_row2_col2\" class=\"data row2 col2\" >A</td>\n",
       "      <td id=\"T_ad97e_row2_col3\" class=\"data row2 col3\" >(55666.667, 69333.333]</td>\n",
       "    </tr>\n",
       "    <tr>\n",
       "      <td id=\"T_ad97e_row3_col0\" class=\"data row3 col0\" >29</td>\n",
       "      <td id=\"T_ad97e_row3_col1\" class=\"data row3 col1\" >55000</td>\n",
       "      <td id=\"T_ad97e_row3_col2\" class=\"data row3 col2\" >C</td>\n",
       "      <td id=\"T_ad97e_row3_col3\" class=\"data row3 col3\" >(41959.0, 55666.667]</td>\n",
       "    </tr>\n",
       "    <tr>\n",
       "      <td id=\"T_ad97e_row4_col0\" class=\"data row4 col0\" >52</td>\n",
       "      <td id=\"T_ad97e_row4_col1\" class=\"data row4 col1\" >83000</td>\n",
       "      <td id=\"T_ad97e_row4_col2\" class=\"data row4 col2\" >B</td>\n",
       "      <td id=\"T_ad97e_row4_col3\" class=\"data row4 col3\" >(69333.333, 83000.0]</td>\n",
       "    </tr>\n",
       "  </tbody>\n",
       "</table>\n"
      ],
      "text/plain": [
       "<pandas.io.formats.style.Styler at 0x786e5dd81590>"
      ]
     },
     "metadata": {},
     "output_type": "display_data"
    }
   ],
   "source": [
    "df2 = df.copy()\n",
    "df2 = df2.assign(gelir_bin=pd.cut(df2[\"gelir\"], bins=3))\n",
    "df2[\"sehir\"] = df2[\"sehir\"].astype(\"category\")\n",
    "display(df2.dtypes.to_frame(\"dtype\").style.hide(axis=\"index\"))\n",
    "display(df2.head().style.hide(axis=\"index\"))"
   ]
  },
  {
   "cell_type": "markdown",
   "id": "3d955d63",
   "metadata": {
    "id": "3d955d63"
   },
   "source": [
    "### 2.3. groupby/agg ve pivot_table\n",
    "Ham veriyi anlamlı içgörülere dönüştürmenin en etkili yolu, onu özetlemektir. Pandas bu amaçla `SQL`'deki `GROUP BY` ve Excel'deki Pivot Table mantığına çok benzeyen, son derece güçlü iki araç sunar.\n",
    "\n",
    "---"
   ]
  },
  {
   "cell_type": "markdown",
   "id": "ANTrpYNFfVKz",
   "metadata": {
    "id": "ANTrpYNFfVKz"
   },
   "source": [
    "#### groupby ve agg - Analitik Gruplama\n",
    "`.groupby()` yöntemi \"Böl-Uygula-Birleştir\" (Split-Apply-Combine) stratejisini temel alır. Bu bize veri analizinde esneklik ve güç sağlayan temel bir yaklaşımdır.\n",
    "\n",
    "* `Böl (Split)`: Veri setini, belirttiğiniz bir veya daha fazla sütuna göre alt gruplara ayırır.\n",
    "\n",
    "* `Uygula (Apply)`: Her bir alt grup üzerinde bağımsız olarak bir veya daha fazla operasyon (ortalama, medyan, sayma vb.) uygular.\n",
    "\n",
    "* `Birleştir (Combine)`: Elde edilen sonuçları tek bir DataFrame'de birleştirir.\n",
    "\n",
    "```python\n",
    "g = df2.groupby([\"sehir\"]).agg(\n",
    "    yas_ort=(\"yas\", \"mean\"),\n",
    "    gelir_med=(\"gelir\", \"median\")\n",
    ")\n",
    "\n",
    ">           yas_ort     gelir_med\n",
    "> sehir\n",
    "> A       29.000000   53500.000000\n",
    "> B       46.500000   77250.000000\n",
    "> C       29.000000   55000.000000\n",
    "```\n",
    "\n",
    "#### Nasıl Çalışır?\n",
    "`groupby([\"sehir\"])`: DataFrame'i `'A'`, `'B'` ve `'C'` şehirlerine göre üç alt gruba ayırır.\n",
    "\n",
    "* `.agg(...):` Her bir şehir grubu için iki farklı toplulaştırma işlemi uygular:\n",
    " * `yas_ort=(\"yas\", \"mean\"):` `'A'` şehrindeki müşterilerin yaşlarının `(23 ve 35)` ortalamasını alır ve sonucu `yas_ort` sütununa yazar.\n",
    "\n",
    "* `gelir_med=(\"gelir\", \"median\")`: `'B'` şehrindeki müşterilerin gelirlerinin `(71500 ve 83000)` medyanını (ortanca değerini) alır ve sonucu `gelir_med` sütununa yazar.\n",
    "Bu yöntemle her bir grup için birden çok ve farklı istatistiği aynı anda hesaplamak mümkündür."
   ]
  },
  {
   "cell_type": "markdown",
   "id": "EIwGMf2ahMJh",
   "metadata": {
    "id": "EIwGMf2ahMJh"
   },
   "source": [
    "#### Pivot Table\n",
    "\n",
    "`pivot_table`, veriyi insan tarafından daha kolay okunabilir, çapraz bir tablo formatına dönüştürür. `groupby`'a benzer bir gruplama yapsa da asıl amacı, veriyi yeniden şekillendirerek bir özet raporu oluşturmaktır.\n",
    "\n",
    "```python\n",
    "pt = pd.pivot_table(df2,\n",
    "                      values=\"gelir\",\n",
    "                      index=\"sehir\",\n",
    "                      columns=\"gelir_bin\",\n",
    "                      aggfunc=\"mean\")\n",
    "\n",
    "> gelir_bin   (41959.0, 55666.667]    (55666.667, 69333.333]      (69333.333, 83000.0]\n",
    "> sehir\n",
    "> A                     42000.0                  65000.0                     NaN\n",
    "> B                         NaN                      NaN                 77250.0\n",
    "> C                     55000.0                      NaN                     NaN\n",
    "```\n",
    "\n",
    "#### Nasıl Çalışır?\n",
    "\n",
    "`index=\"sehir\"`: Yeni tablonun satır başlıkları `'sehir'` sütunundaki `('A', 'B', 'C')` değerler olacaktır.\n",
    "\n",
    "`columns=\"gelir_bin\"`: Yeni tablonun sütun başlıkları `'gelir_bin'`` sütunundaki gelir aralıkları olacaktır.\n",
    "\n",
    "`values=\"gelir\"`: Tablonun içindeki hücreler, `'gelir'` sütunundaki değerlerden oluşacaktır.\n",
    "\n",
    "`aggfunc=\"mean\"`: Bir hücreye birden fazla değer düşerse (örneğin 'B' şehrinde ve yüksek gelir aralığında iki müşteri varsa), bu değerlerin ortalaması alınır.\n",
    "\n",
    "`NaN (Not a Number)`: Bir hücrenin `NaN` olması, o kesişimde hiç müşteri bulunmadığı anlamına gelir. Örneğin `'B'` şehrinde orta gelir grubunda hiç müşteri yoktur.\n",
    "\n",
    "`pivot_table` genelde sunum ve raporlamalarda, verinin farklı boyutlar arasındaki ilişkisini göstermek için kullaanılan bir araçtır.\n"
   ]
  },
  {
   "cell_type": "code",
   "execution_count": null,
   "id": "ad694dde",
   "metadata": {
    "colab": {
     "base_uri": "https://localhost:8080/",
     "height": 301
    },
    "executionInfo": {
     "elapsed": 185,
     "status": "ok",
     "timestamp": 1754258419314,
     "user": {
      "displayName": "Kaan Bıçakcı",
      "userId": "12951043854473247756"
     },
     "user_tz": -60
    },
    "id": "ad694dde",
    "outputId": "f8219d95-65be-4da0-c59c-4d8dd63d67c3"
   },
   "outputs": [
    {
     "data": {
      "text/html": [
       "<style type=\"text/css\">\n",
       "</style>\n",
       "<table id=\"T_d3f89\" class=\"dataframe\">\n",
       "  <thead>\n",
       "    <tr>\n",
       "      <th id=\"T_d3f89_level0_col0\" class=\"col_heading level0 col0\" >yas_ort</th>\n",
       "      <th id=\"T_d3f89_level0_col1\" class=\"col_heading level0 col1\" >gelir_med</th>\n",
       "    </tr>\n",
       "  </thead>\n",
       "  <tbody>\n",
       "    <tr>\n",
       "      <td id=\"T_d3f89_row0_col0\" class=\"data row0 col0\" >29.000000</td>\n",
       "      <td id=\"T_d3f89_row0_col1\" class=\"data row0 col1\" >53500.000000</td>\n",
       "    </tr>\n",
       "    <tr>\n",
       "      <td id=\"T_d3f89_row1_col0\" class=\"data row1 col0\" >46.500000</td>\n",
       "      <td id=\"T_d3f89_row1_col1\" class=\"data row1 col1\" >77250.000000</td>\n",
       "    </tr>\n",
       "    <tr>\n",
       "      <td id=\"T_d3f89_row2_col0\" class=\"data row2 col0\" >29.000000</td>\n",
       "      <td id=\"T_d3f89_row2_col1\" class=\"data row2 col1\" >55000.000000</td>\n",
       "    </tr>\n",
       "  </tbody>\n",
       "</table>\n"
      ],
      "text/plain": [
       "<pandas.io.formats.style.Styler at 0x786e7cd45790>"
      ]
     },
     "metadata": {},
     "output_type": "display_data"
    },
    {
     "data": {
      "application/vnd.google.colaboratory.intrinsic+json": {
       "summary": "{\n  \"name\": \"pt\",\n  \"rows\": 3,\n  \"fields\": [\n    {\n      \"column\": \"sehir\",\n      \"properties\": {\n        \"dtype\": \"category\",\n        \"num_unique_values\": 3,\n        \"samples\": [\n          \"A\",\n          \"B\",\n          \"C\"\n        ],\n        \"semantic_type\": \"\",\n        \"description\": \"\"\n      }\n    },\n    {\n      \"column\": \"(41959.0, 55666.667]\",\n      \"properties\": {\n        \"dtype\": \"number\",\n        \"std\": 9192.388155425118,\n        \"min\": 42000.0,\n        \"max\": 55000.0,\n        \"num_unique_values\": 2,\n        \"samples\": [\n          55000.0,\n          42000.0\n        ],\n        \"semantic_type\": \"\",\n        \"description\": \"\"\n      }\n    },\n    {\n      \"column\": \"(55666.667, 69333.333]\",\n      \"properties\": {\n        \"dtype\": \"number\",\n        \"std\": null,\n        \"min\": 65000.0,\n        \"max\": 65000.0,\n        \"num_unique_values\": 1,\n        \"samples\": [\n          65000.0\n        ],\n        \"semantic_type\": \"\",\n        \"description\": \"\"\n      }\n    },\n    {\n      \"column\": \"(69333.333, 83000.0]\",\n      \"properties\": {\n        \"dtype\": \"number\",\n        \"std\": null,\n        \"min\": 77250.0,\n        \"max\": 77250.0,\n        \"num_unique_values\": 1,\n        \"samples\": [\n          77250.0\n        ],\n        \"semantic_type\": \"\",\n        \"description\": \"\"\n      }\n    }\n  ]\n}",
       "type": "dataframe",
       "variable_name": "pt"
      },
      "text/html": [
       "\n",
       "  <div id=\"df-fe090503-ae41-4ea3-96a6-2ebfdcb9635e\" class=\"colab-df-container\">\n",
       "    <div>\n",
       "<style scoped>\n",
       "    .dataframe tbody tr th:only-of-type {\n",
       "        vertical-align: middle;\n",
       "    }\n",
       "\n",
       "    .dataframe tbody tr th {\n",
       "        vertical-align: top;\n",
       "    }\n",
       "\n",
       "    .dataframe thead th {\n",
       "        text-align: right;\n",
       "    }\n",
       "</style>\n",
       "<table border=\"1\" class=\"dataframe\">\n",
       "  <thead>\n",
       "    <tr style=\"text-align: right;\">\n",
       "      <th>gelir_bin</th>\n",
       "      <th>(41959.0, 55666.667]</th>\n",
       "      <th>(55666.667, 69333.333]</th>\n",
       "      <th>(69333.333, 83000.0]</th>\n",
       "    </tr>\n",
       "    <tr>\n",
       "      <th>sehir</th>\n",
       "      <th></th>\n",
       "      <th></th>\n",
       "      <th></th>\n",
       "    </tr>\n",
       "  </thead>\n",
       "  <tbody>\n",
       "    <tr>\n",
       "      <th>A</th>\n",
       "      <td>42000.0</td>\n",
       "      <td>65000.0</td>\n",
       "      <td>NaN</td>\n",
       "    </tr>\n",
       "    <tr>\n",
       "      <th>B</th>\n",
       "      <td>NaN</td>\n",
       "      <td>NaN</td>\n",
       "      <td>77250.0</td>\n",
       "    </tr>\n",
       "    <tr>\n",
       "      <th>C</th>\n",
       "      <td>55000.0</td>\n",
       "      <td>NaN</td>\n",
       "      <td>NaN</td>\n",
       "    </tr>\n",
       "  </tbody>\n",
       "</table>\n",
       "</div>\n",
       "    <div class=\"colab-df-buttons\">\n",
       "\n",
       "  <div class=\"colab-df-container\">\n",
       "    <button class=\"colab-df-convert\" onclick=\"convertToInteractive('df-fe090503-ae41-4ea3-96a6-2ebfdcb9635e')\"\n",
       "            title=\"Convert this dataframe to an interactive table.\"\n",
       "            style=\"display:none;\">\n",
       "\n",
       "  <svg xmlns=\"http://www.w3.org/2000/svg\" height=\"24px\" viewBox=\"0 -960 960 960\">\n",
       "    <path d=\"M120-120v-720h720v720H120Zm60-500h600v-160H180v160Zm220 220h160v-160H400v160Zm0 220h160v-160H400v160ZM180-400h160v-160H180v160Zm440 0h160v-160H620v160ZM180-180h160v-160H180v160Zm440 0h160v-160H620v160Z\"/>\n",
       "  </svg>\n",
       "    </button>\n",
       "\n",
       "  <style>\n",
       "    .colab-df-container {\n",
       "      display:flex;\n",
       "      gap: 12px;\n",
       "    }\n",
       "\n",
       "    .colab-df-convert {\n",
       "      background-color: #E8F0FE;\n",
       "      border: none;\n",
       "      border-radius: 50%;\n",
       "      cursor: pointer;\n",
       "      display: none;\n",
       "      fill: #1967D2;\n",
       "      height: 32px;\n",
       "      padding: 0 0 0 0;\n",
       "      width: 32px;\n",
       "    }\n",
       "\n",
       "    .colab-df-convert:hover {\n",
       "      background-color: #E2EBFA;\n",
       "      box-shadow: 0px 1px 2px rgba(60, 64, 67, 0.3), 0px 1px 3px 1px rgba(60, 64, 67, 0.15);\n",
       "      fill: #174EA6;\n",
       "    }\n",
       "\n",
       "    .colab-df-buttons div {\n",
       "      margin-bottom: 4px;\n",
       "    }\n",
       "\n",
       "    [theme=dark] .colab-df-convert {\n",
       "      background-color: #3B4455;\n",
       "      fill: #D2E3FC;\n",
       "    }\n",
       "\n",
       "    [theme=dark] .colab-df-convert:hover {\n",
       "      background-color: #434B5C;\n",
       "      box-shadow: 0px 1px 3px 1px rgba(0, 0, 0, 0.15);\n",
       "      filter: drop-shadow(0px 1px 2px rgba(0, 0, 0, 0.3));\n",
       "      fill: #FFFFFF;\n",
       "    }\n",
       "  </style>\n",
       "\n",
       "    <script>\n",
       "      const buttonEl =\n",
       "        document.querySelector('#df-fe090503-ae41-4ea3-96a6-2ebfdcb9635e button.colab-df-convert');\n",
       "      buttonEl.style.display =\n",
       "        google.colab.kernel.accessAllowed ? 'block' : 'none';\n",
       "\n",
       "      async function convertToInteractive(key) {\n",
       "        const element = document.querySelector('#df-fe090503-ae41-4ea3-96a6-2ebfdcb9635e');\n",
       "        const dataTable =\n",
       "          await google.colab.kernel.invokeFunction('convertToInteractive',\n",
       "                                                    [key], {});\n",
       "        if (!dataTable) return;\n",
       "\n",
       "        const docLinkHtml = 'Like what you see? Visit the ' +\n",
       "          '<a target=\"_blank\" href=https://colab.research.google.com/notebooks/data_table.ipynb>data table notebook</a>'\n",
       "          + ' to learn more about interactive tables.';\n",
       "        element.innerHTML = '';\n",
       "        dataTable['output_type'] = 'display_data';\n",
       "        await google.colab.output.renderOutput(dataTable, element);\n",
       "        const docLink = document.createElement('div');\n",
       "        docLink.innerHTML = docLinkHtml;\n",
       "        element.appendChild(docLink);\n",
       "      }\n",
       "    </script>\n",
       "  </div>\n",
       "\n",
       "\n",
       "    <div id=\"df-1887a991-34f0-4eb2-9715-114537bd73e5\">\n",
       "      <button class=\"colab-df-quickchart\" onclick=\"quickchart('df-1887a991-34f0-4eb2-9715-114537bd73e5')\"\n",
       "                title=\"Suggest charts\"\n",
       "                style=\"display:none;\">\n",
       "\n",
       "<svg xmlns=\"http://www.w3.org/2000/svg\" height=\"24px\"viewBox=\"0 0 24 24\"\n",
       "     width=\"24px\">\n",
       "    <g>\n",
       "        <path d=\"M19 3H5c-1.1 0-2 .9-2 2v14c0 1.1.9 2 2 2h14c1.1 0 2-.9 2-2V5c0-1.1-.9-2-2-2zM9 17H7v-7h2v7zm4 0h-2V7h2v10zm4 0h-2v-4h2v4z\"/>\n",
       "    </g>\n",
       "</svg>\n",
       "      </button>\n",
       "\n",
       "<style>\n",
       "  .colab-df-quickchart {\n",
       "      --bg-color: #E8F0FE;\n",
       "      --fill-color: #1967D2;\n",
       "      --hover-bg-color: #E2EBFA;\n",
       "      --hover-fill-color: #174EA6;\n",
       "      --disabled-fill-color: #AAA;\n",
       "      --disabled-bg-color: #DDD;\n",
       "  }\n",
       "\n",
       "  [theme=dark] .colab-df-quickchart {\n",
       "      --bg-color: #3B4455;\n",
       "      --fill-color: #D2E3FC;\n",
       "      --hover-bg-color: #434B5C;\n",
       "      --hover-fill-color: #FFFFFF;\n",
       "      --disabled-bg-color: #3B4455;\n",
       "      --disabled-fill-color: #666;\n",
       "  }\n",
       "\n",
       "  .colab-df-quickchart {\n",
       "    background-color: var(--bg-color);\n",
       "    border: none;\n",
       "    border-radius: 50%;\n",
       "    cursor: pointer;\n",
       "    display: none;\n",
       "    fill: var(--fill-color);\n",
       "    height: 32px;\n",
       "    padding: 0;\n",
       "    width: 32px;\n",
       "  }\n",
       "\n",
       "  .colab-df-quickchart:hover {\n",
       "    background-color: var(--hover-bg-color);\n",
       "    box-shadow: 0 1px 2px rgba(60, 64, 67, 0.3), 0 1px 3px 1px rgba(60, 64, 67, 0.15);\n",
       "    fill: var(--button-hover-fill-color);\n",
       "  }\n",
       "\n",
       "  .colab-df-quickchart-complete:disabled,\n",
       "  .colab-df-quickchart-complete:disabled:hover {\n",
       "    background-color: var(--disabled-bg-color);\n",
       "    fill: var(--disabled-fill-color);\n",
       "    box-shadow: none;\n",
       "  }\n",
       "\n",
       "  .colab-df-spinner {\n",
       "    border: 2px solid var(--fill-color);\n",
       "    border-color: transparent;\n",
       "    border-bottom-color: var(--fill-color);\n",
       "    animation:\n",
       "      spin 1s steps(1) infinite;\n",
       "  }\n",
       "\n",
       "  @keyframes spin {\n",
       "    0% {\n",
       "      border-color: transparent;\n",
       "      border-bottom-color: var(--fill-color);\n",
       "      border-left-color: var(--fill-color);\n",
       "    }\n",
       "    20% {\n",
       "      border-color: transparent;\n",
       "      border-left-color: var(--fill-color);\n",
       "      border-top-color: var(--fill-color);\n",
       "    }\n",
       "    30% {\n",
       "      border-color: transparent;\n",
       "      border-left-color: var(--fill-color);\n",
       "      border-top-color: var(--fill-color);\n",
       "      border-right-color: var(--fill-color);\n",
       "    }\n",
       "    40% {\n",
       "      border-color: transparent;\n",
       "      border-right-color: var(--fill-color);\n",
       "      border-top-color: var(--fill-color);\n",
       "    }\n",
       "    60% {\n",
       "      border-color: transparent;\n",
       "      border-right-color: var(--fill-color);\n",
       "    }\n",
       "    80% {\n",
       "      border-color: transparent;\n",
       "      border-right-color: var(--fill-color);\n",
       "      border-bottom-color: var(--fill-color);\n",
       "    }\n",
       "    90% {\n",
       "      border-color: transparent;\n",
       "      border-bottom-color: var(--fill-color);\n",
       "    }\n",
       "  }\n",
       "</style>\n",
       "\n",
       "      <script>\n",
       "        async function quickchart(key) {\n",
       "          const quickchartButtonEl =\n",
       "            document.querySelector('#' + key + ' button');\n",
       "          quickchartButtonEl.disabled = true;  // To prevent multiple clicks.\n",
       "          quickchartButtonEl.classList.add('colab-df-spinner');\n",
       "          try {\n",
       "            const charts = await google.colab.kernel.invokeFunction(\n",
       "                'suggestCharts', [key], {});\n",
       "          } catch (error) {\n",
       "            console.error('Error during call to suggestCharts:', error);\n",
       "          }\n",
       "          quickchartButtonEl.classList.remove('colab-df-spinner');\n",
       "          quickchartButtonEl.classList.add('colab-df-quickchart-complete');\n",
       "        }\n",
       "        (() => {\n",
       "          let quickchartButtonEl =\n",
       "            document.querySelector('#df-1887a991-34f0-4eb2-9715-114537bd73e5 button');\n",
       "          quickchartButtonEl.style.display =\n",
       "            google.colab.kernel.accessAllowed ? 'block' : 'none';\n",
       "        })();\n",
       "      </script>\n",
       "    </div>\n",
       "\n",
       "  <div id=\"id_bca319ea-4db8-4565-8e27-89ffab375034\">\n",
       "    <style>\n",
       "      .colab-df-generate {\n",
       "        background-color: #E8F0FE;\n",
       "        border: none;\n",
       "        border-radius: 50%;\n",
       "        cursor: pointer;\n",
       "        display: none;\n",
       "        fill: #1967D2;\n",
       "        height: 32px;\n",
       "        padding: 0 0 0 0;\n",
       "        width: 32px;\n",
       "      }\n",
       "\n",
       "      .colab-df-generate:hover {\n",
       "        background-color: #E2EBFA;\n",
       "        box-shadow: 0px 1px 2px rgba(60, 64, 67, 0.3), 0px 1px 3px 1px rgba(60, 64, 67, 0.15);\n",
       "        fill: #174EA6;\n",
       "      }\n",
       "\n",
       "      [theme=dark] .colab-df-generate {\n",
       "        background-color: #3B4455;\n",
       "        fill: #D2E3FC;\n",
       "      }\n",
       "\n",
       "      [theme=dark] .colab-df-generate:hover {\n",
       "        background-color: #434B5C;\n",
       "        box-shadow: 0px 1px 3px 1px rgba(0, 0, 0, 0.15);\n",
       "        filter: drop-shadow(0px 1px 2px rgba(0, 0, 0, 0.3));\n",
       "        fill: #FFFFFF;\n",
       "      }\n",
       "    </style>\n",
       "    <button class=\"colab-df-generate\" onclick=\"generateWithVariable('pt')\"\n",
       "            title=\"Generate code using this dataframe.\"\n",
       "            style=\"display:none;\">\n",
       "\n",
       "  <svg xmlns=\"http://www.w3.org/2000/svg\" height=\"24px\"viewBox=\"0 0 24 24\"\n",
       "       width=\"24px\">\n",
       "    <path d=\"M7,19H8.4L18.45,9,17,7.55,7,17.6ZM5,21V16.75L18.45,3.32a2,2,0,0,1,2.83,0l1.4,1.43a1.91,1.91,0,0,1,.58,1.4,1.91,1.91,0,0,1-.58,1.4L9.25,21ZM18.45,9,17,7.55Zm-12,3A5.31,5.31,0,0,0,4.9,8.1,5.31,5.31,0,0,0,1,6.5,5.31,5.31,0,0,0,4.9,4.9,5.31,5.31,0,0,0,6.5,1,5.31,5.31,0,0,0,8.1,4.9,5.31,5.31,0,0,0,12,6.5,5.46,5.46,0,0,0,6.5,12Z\"/>\n",
       "  </svg>\n",
       "    </button>\n",
       "    <script>\n",
       "      (() => {\n",
       "      const buttonEl =\n",
       "        document.querySelector('#id_bca319ea-4db8-4565-8e27-89ffab375034 button.colab-df-generate');\n",
       "      buttonEl.style.display =\n",
       "        google.colab.kernel.accessAllowed ? 'block' : 'none';\n",
       "\n",
       "      buttonEl.onclick = () => {\n",
       "        google.colab.notebook.generateWithVariable('pt');\n",
       "      }\n",
       "      })();\n",
       "    </script>\n",
       "  </div>\n",
       "\n",
       "    </div>\n",
       "  </div>\n"
      ],
      "text/plain": [
       "gelir_bin  (41959.0, 55666.667]  (55666.667, 69333.333]  (69333.333, 83000.0]\n",
       "sehir                                                                        \n",
       "A                       42000.0                 65000.0                   NaN\n",
       "B                           NaN                     NaN               77250.0\n",
       "C                       55000.0                     NaN                   NaN"
      ]
     },
     "metadata": {},
     "output_type": "display_data"
    }
   ],
   "source": [
    "g = df2.groupby([\"sehir\"]).agg(yas_ort=(\"yas\", \"mean\"), gelir_med=(\"gelir\", \"median\"))\n",
    "display(g.style.hide(axis=\"index\"))\n",
    "\n",
    "pt = pd.pivot_table(\n",
    "    df2.reset_index(),\n",
    "    values=\"gelir\",\n",
    "    index=\"sehir\",\n",
    "    columns=\"gelir_bin\",\n",
    "    aggfunc=\"mean\",\n",
    ")\n",
    "display(pt)"
   ]
  },
  {
   "cell_type": "markdown",
   "id": "91bda083",
   "metadata": {
    "id": "91bda083"
   },
   "source": [
    "### 2.4. Birleştirme (merge)"
   ]
  },
  {
   "cell_type": "markdown",
   "id": "PfNxR1fjkHfr",
   "metadata": {
    "id": "PfNxR1fjkHfr"
   },
   "source": [
    "Gerçek dünya senaryolarında bize lazım olan veri nadiren tek bir mükemmel tabloda bulunur. Genellikle müşteri bilgileri bir tabloda, sipariş detayları ise başka bir tabloda tutulur. Bu iki tabloyu bir araya getirerek:\n",
    "\n",
    "* Hangi segmentteki müşteriler ne kadar harcama yapıyor?\n",
    "\n",
    "gibi daha derin soruları cevaplayabiliriz. Bu işlem `SQL`'deki `JOIN` operasyonunun Pandas'taki karşılığıdır.\n",
    "\n",
    "Pandas ekosisteminde `join()`şeklinde bir method daha mevcuttur fakat bu method da kendi içindeki kaynak kodunda `merge()` methodunu kullanır. O sebepten ötürü burada `merge()`üzerinden ilerliyoruz. İkisinin bazı farkları vardır, detayı için farklı kaynaklara bakmanızı öneririm."
   ]
  },
  {
   "cell_type": "markdown",
   "id": "CMrDo2i8kq-O",
   "metadata": {
    "id": "CMrDo2i8kq-O"
   },
   "source": [
    "#### Başlangıç Tabloları\n",
    "İki ayrı DataFrame'imiz var:\n",
    "* biri müşteri segmentlerini,\n",
    "* diğeri ise siparişleri\n",
    "\n",
    "içeriyor.\n",
    "\n",
    "Müşteri Tablosu (musteri):\n",
    "\n",
    "| musteri_id | segment |\n",
    "|---|---|\n",
    "| 101 | bronze |\n",
    "| 102 | silver |\n",
    "| 103 | gold |\n",
    "| 104 | silver |\n",
    "| 105 | gold |\n",
    "\n",
    "Sipariş Tablosu (siparis):\n",
    "\n",
    "| siparis_id | musteri_id | tutar |\n",
    "|---|---|---|\n",
    "| 1 | 101 | 120 |\n",
    "| 2 | 101 | 80 |\n",
    "| 3 | 103 | 260 |\n",
    "| 4 | 105 | 40 |\n",
    "| 5 | 105 | 90 |\n",
    "| 6 | 105 | 300 |\n",
    "\n",
    "Gördüğünüz gibi, iki tabloyu birbirine bağlayan ortak anahtar sütun `musteri_id`'dir"
   ]
  },
  {
   "cell_type": "markdown",
   "id": "AdGfGjNil5WA",
   "metadata": {
    "id": "AdGfGjNil5WA"
   },
   "source": [
    "#### Tabloları Birleştirmek: .merge()\n",
    "Bu iki tabloyu `musteri_id` üzerinden birleştirelim.\n",
    "\n",
    "\n",
    "Kod (dfj):\n",
    "```python\n",
    "dfj = siparis.merge(musteri, on=\"musteri_id\", how=\"left\")\n",
    "\n",
    "siparis_id  musteri_id  tutar   segment\n",
    "1           101         120     bronze\n",
    "2           101         80      bronze\n",
    "3           103         260     gold\n",
    "4           105         40      gold\n",
    "5           105         90      gold\n",
    "```\n",
    "\n",
    "#### Nasıl Çalışır?\n",
    "*   `siparis.merge(musteri, ...)`: \"Sol\" tablomuz `siparis`'e, \"sağ\" tablomuz olan `musteri`'yi birleştiriyoruz.\n",
    "*   `on=\"musteri_id\"`: Birleştirme işleminin hangi ortak anahtar sütun üzerinden yapılacağını belirtir.\n",
    "*   `how=\"left\"`: Birleştirme yöntemini belirler. SQL'deki `LEFT JOIN` ile birebir aynıdır:\n",
    "    *   **Sol tablodaki (`siparis`) tüm satırları koru.**\n",
    "    *   Bu satırları, `musteri_id` üzerinden sağ tablodaki (`musteri`) eşleşen satırlarla birleştir.\n",
    "    *   `siparis` tablosundaki her bir sipariş için, ilgili müşterinin `segment` bilgisi yanına eklenmiş oldu.\n",
    "\n",
    "---"
   ]
  },
  {
   "cell_type": "markdown",
   "id": "RxUtk9SwmcCn",
   "metadata": {
    "id": "RxUtk9SwmcCn"
   },
   "source": [
    "#### Neden Birleştirdik Peki??\n",
    "\n",
    "Artık `segment` ve `tutar` bilgileri aynı DataFrame'de olduğuna göre, en başta sormak istediğimiz soruyu cevaplayabiliriz: \"Her bir segmentin toplam harcaması nedir?\"\n",
    "\n",
    "**Kod (`seg_sum`):**\n",
    "```python\n",
    "seg_sum = dfj.groupby(\"segment\")[\"tutar\"].sum().to_frame(\"toplam_tutar\")\n",
    "\n",
    "        toplam_tutar\n",
    "segment\n",
    "bronze      200\n",
    "gold        690\n",
    "silver       0\n",
    "```\n",
    "\n",
    "**Not:** Çıktıda `silver` segmentinin toplam tutarı `0`'dır, çünkü `silver` segmentindeki müşteriler (102 ve 104) hiç sipariş vermemiştir.\n",
    "\n",
    "**Sonuç:** `.merge()` işlemi olmadan, ne sipariş tablosu tek başına segment bazlı harcamayı, ne de müşteri tablosu tek başına harcama bilgisini verebilirdi. Birleştirme farklı kaynaklardaki verileri bir araya getirerek çok daha zengin ve derinlemesine analizler yapmamızın önünü açan temel bir adımdır."
   ]
  },
  {
   "cell_type": "code",
   "execution_count": null,
   "id": "e99423a6",
   "metadata": {
    "colab": {
     "base_uri": "https://localhost:8080/",
     "height": 301
    },
    "executionInfo": {
     "elapsed": 15,
     "status": "ok",
     "timestamp": 1754258419328,
     "user": {
      "displayName": "Kaan Bıçakcı",
      "userId": "12951043854473247756"
     },
     "user_tz": -60
    },
    "id": "e99423a6",
    "outputId": "bd19a9d0-be3c-4d87-ea3e-2abed796bc9d"
   },
   "outputs": [
    {
     "data": {
      "text/html": [
       "<style type=\"text/css\">\n",
       "</style>\n",
       "<table id=\"T_a3d61\" class=\"dataframe\">\n",
       "  <thead>\n",
       "    <tr>\n",
       "      <th id=\"T_a3d61_level0_col0\" class=\"col_heading level0 col0\" >siparis_id</th>\n",
       "      <th id=\"T_a3d61_level0_col1\" class=\"col_heading level0 col1\" >musteri_id</th>\n",
       "      <th id=\"T_a3d61_level0_col2\" class=\"col_heading level0 col2\" >tutar</th>\n",
       "      <th id=\"T_a3d61_level0_col3\" class=\"col_heading level0 col3\" >segment</th>\n",
       "    </tr>\n",
       "  </thead>\n",
       "  <tbody>\n",
       "    <tr>\n",
       "      <td id=\"T_a3d61_row0_col0\" class=\"data row0 col0\" >1</td>\n",
       "      <td id=\"T_a3d61_row0_col1\" class=\"data row0 col1\" >101</td>\n",
       "      <td id=\"T_a3d61_row0_col2\" class=\"data row0 col2\" >120</td>\n",
       "      <td id=\"T_a3d61_row0_col3\" class=\"data row0 col3\" >bronze</td>\n",
       "    </tr>\n",
       "    <tr>\n",
       "      <td id=\"T_a3d61_row1_col0\" class=\"data row1 col0\" >2</td>\n",
       "      <td id=\"T_a3d61_row1_col1\" class=\"data row1 col1\" >101</td>\n",
       "      <td id=\"T_a3d61_row1_col2\" class=\"data row1 col2\" >80</td>\n",
       "      <td id=\"T_a3d61_row1_col3\" class=\"data row1 col3\" >bronze</td>\n",
       "    </tr>\n",
       "    <tr>\n",
       "      <td id=\"T_a3d61_row2_col0\" class=\"data row2 col0\" >3</td>\n",
       "      <td id=\"T_a3d61_row2_col1\" class=\"data row2 col1\" >103</td>\n",
       "      <td id=\"T_a3d61_row2_col2\" class=\"data row2 col2\" >260</td>\n",
       "      <td id=\"T_a3d61_row2_col3\" class=\"data row2 col3\" >gold</td>\n",
       "    </tr>\n",
       "    <tr>\n",
       "      <td id=\"T_a3d61_row3_col0\" class=\"data row3 col0\" >4</td>\n",
       "      <td id=\"T_a3d61_row3_col1\" class=\"data row3 col1\" >105</td>\n",
       "      <td id=\"T_a3d61_row3_col2\" class=\"data row3 col2\" >40</td>\n",
       "      <td id=\"T_a3d61_row3_col3\" class=\"data row3 col3\" >gold</td>\n",
       "    </tr>\n",
       "    <tr>\n",
       "      <td id=\"T_a3d61_row4_col0\" class=\"data row4 col0\" >5</td>\n",
       "      <td id=\"T_a3d61_row4_col1\" class=\"data row4 col1\" >105</td>\n",
       "      <td id=\"T_a3d61_row4_col2\" class=\"data row4 col2\" >90</td>\n",
       "      <td id=\"T_a3d61_row4_col3\" class=\"data row4 col3\" >gold</td>\n",
       "    </tr>\n",
       "  </tbody>\n",
       "</table>\n"
      ],
      "text/plain": [
       "<pandas.io.formats.style.Styler at 0x786e5d9bb150>"
      ]
     },
     "metadata": {},
     "output_type": "display_data"
    },
    {
     "data": {
      "text/html": [
       "<style type=\"text/css\">\n",
       "</style>\n",
       "<table id=\"T_6249b\" class=\"dataframe\">\n",
       "  <thead>\n",
       "    <tr>\n",
       "      <th id=\"T_6249b_level0_col0\" class=\"col_heading level0 col0\" >toplam_tutar</th>\n",
       "    </tr>\n",
       "  </thead>\n",
       "  <tbody>\n",
       "    <tr>\n",
       "      <td id=\"T_6249b_row0_col0\" class=\"data row0 col0\" >200</td>\n",
       "    </tr>\n",
       "    <tr>\n",
       "      <td id=\"T_6249b_row1_col0\" class=\"data row1 col0\" >690</td>\n",
       "    </tr>\n",
       "  </tbody>\n",
       "</table>\n"
      ],
      "text/plain": [
       "<pandas.io.formats.style.Styler at 0x786e6d361210>"
      ]
     },
     "metadata": {},
     "output_type": "display_data"
    }
   ],
   "source": [
    "musteri = pd.DataFrame(\n",
    "    {\n",
    "        \"musteri_id\": [101, 102, 103, 104, 105],\n",
    "        \"segment\": [\"bronze\", \"silver\", \"gold\", \"silver\", \"gold\"],\n",
    "    }\n",
    ")\n",
    "\n",
    "siparis = pd.DataFrame(\n",
    "    {\n",
    "        \"siparis_id\": [1, 2, 3, 4, 5, 6],\n",
    "        \"musteri_id\": [101, 101, 103, 105, 105, 105],\n",
    "        \"tutar\": [120, 80, 260, 40, 90, 300],\n",
    "    }\n",
    ")\n",
    "\n",
    "dfj = siparis.merge(musteri, on=\"musteri_id\", how=\"left\")\n",
    "display(dfj.head().style.hide(axis=\"index\"))\n",
    "seg_sum = dfj.groupby(\"segment\")[\"tutar\"].sum().to_frame(\"toplam_tutar\")\n",
    "display(seg_sum.style.hide(axis=\"index\"))"
   ]
  },
  {
   "cell_type": "markdown",
   "id": "609295ae",
   "metadata": {
    "id": "609295ae"
   },
   "source": [
    "### 2.5. Eksik Değerler & Kapladığı Yer"
   ]
  },
  {
   "cell_type": "markdown",
   "id": "BWkwm4cFt0Lr",
   "metadata": {
    "id": "BWkwm4cFt0Lr"
   },
   "source": [
    "Gerçek dünya verileri nadiren eksiksizdir. Bir ML modelini eğitmeden önce bu eksiklikleri (`NaN`, `None`) akıllıca yönetmemiz gerekir. Ayrıca veri tiplerini doğru seçerek, özellikle büyük veri setlerinde, bellek kullanımını ve performansı önemli ölçüde optimize edebiliriz.\n",
    "\n",
    "---\n",
    "\n",
    "#### Başlangıç: Eksik Değerli DataFrame\n",
    "\n",
    "İlk olarak, üzerinde çalışacağımız, farklı türde eksik değerler içeren ham bir veri setimiz var.\n",
    "\n",
    "    x         y     kategorik\n",
    "    1.0      10.0         a\n",
    "    NaN       9.0         b\n",
    "    3.0       NaN         a\n",
    "    NaN       7.0         b\n",
    "    5.0       6.0      None\n",
    "\n",
    "*   **Sayısal Eksiklik:** `x` ve `y` sütunlarında eksik değerler `np.nan` (Not a Number) olarak temsil edilir.\n",
    "*   **Kategorik Eksiklik:** `kategorik` sütununda eksik değer `None` olarak temsil edilir."
   ]
  },
  {
   "cell_type": "markdown",
   "id": "hRCrneAsuBEI",
   "metadata": {
    "id": "hRCrneAsuBEI"
   },
   "source": [
    "---\n",
    "\n",
    "#### Eksik Değerleri Doldurma Stratejileri\n",
    "\n",
    "Her sütunun yapısı farklı olduğu için, her birine uygun, farklı bir doldurma stratejisi uyguluyoruz.\n",
    "\n",
    "##### 1. Sayısal Sütun (`x`): Medyan ile Doldurma\n",
    "\n",
    "    filled[\"x\"] = filled[\"x\"].fillna(filled[\"x\"].median())\n",
    "\n",
    "*   **Strateji:** `x` sütunundaki `NaN` değerlerini, bu sütunun **medyanı** (ortanca değeri) ile dolduruyoruz.\n",
    "*   **Neden Medyan?** `x` sütununda olası aykırı değerlerin (outlier) etkisini azaltmak için ortalama yerine medyan kullanmak daha sağlam (robust) bir yaklaşımdır. Buradaki medyan `3.0`'tür.\n",
    "\n",
    "##### 2. Sayısal Sütun (`y`): İnterpolasyon ile Doldurma\n",
    "\n",
    "    filled[\"y\"] = filled[\"y\"].interpolate()\n",
    "\n",
    "*   **Strateji:** `y` sütunundaki `NaN` değerini, kendisinden önceki (`9.0`) ve sonraki (`7.0`) değerlere dayanarak **doğrusal bir şekilde dolduruyoruz (lineer interpolasyon)**.\n",
    "*   **Nasıl Çalışır?** `9.0` ile `7.0`'ın tam ortasındaki değeri hesaplar, bu da `8.0`'dir. Bu yöntem, özellikle zaman serisi verileri veya verinin belirli bir trende sahip olduğu durumlar için çok kullanışlıdır.\n",
    "\n",
    "##### 3. Kategorik Sütun (`kategorik`): Özel Bir Kategori ile Doldurma\n",
    "\n",
    "    filled[\"kategorik\"] = filled[\"kategorik\"].fillna(\"bilinmiyor\").astype(\"category\")\n",
    "\n",
    "*   **Strateji:** Bu iki adımlı bir süreçtir.\n",
    "    1.  **`.fillna(\"bilinmiyor\")`**: `None` değerlerini silmek yerine, onlara anlamlı bir etiket atıyoruz. Bu, \"verinin neden eksik olduğu\" bilgisini korumamızı sağlar. Belki de bu müşterilerin şehri gerçekten bilinmiyordur.\n",
    "    2.  **`.astype(\"category\")`**: Sütunu, bellek optimizasyonu için kategorik tipe dönüştürüyoruz.\n",
    "\n",
    "---\n",
    "\n",
    "#### Bellek Kullanımı Analizi\n",
    "\n",
    "    kolon      dtype   approx_mem_bytes\n",
    "        x     float64                172\n",
    "        y     float64                172\n",
    "    kategorik category               428\n",
    "\n",
    "\n",
    "**Bu tablo ilk bakışta yanıltıcı olabilir!** Neden `category` tipi, `float64`'ten daha fazla yer kaplıyor gibi görünüyor?\n",
    "\n",
    "*   **Küçük Veri:** Bu veri seti sadece 5 satırdan oluşuyor. `category` tipi, arka planda benzersiz kategoriler için bir \"sözlük\" (`['a', 'b', 'bilinmiyor']`) ve her satır için bir tamsayı kodu tutar. Küçük veri setlerinde bu sözlüğün ek maliyeti (overhead), tamsayı kodlarının sağladığı kazançtan daha fazla olabilir.\n",
    "\n",
    "Bu sebepten ötürü genellikle çalışan diye her bilgiyi bilinçsizce kullanmamalıyız.\n",
    "\n",
    "\n",
    "*   **Büyük Resim:** Şimdi 1 milyon satır üzerinde çalışalım:\n",
    "    ```python\n",
    "    n_rows = 1_000_000\n",
    "    sehirler = ['Şehir A', 'Şehir B', 'Şehir C']\n",
    "    random_sehirler = np.random.choice(sehirler, size=n_rows)\n",
    "\n",
    "    df_large = pd.DataFrame({'sehir_object': random_sehirler})\n",
    "    mem_object = df_large['sehir_object'].memory_usage(deep=True)\n",
    "    df_large['sehir_category'] = df_large['sehir_object'].astype('category')\n",
    "    mem_category = df_large['sehir_category'].memory_usage(deep=True)\n",
    "\n",
    "    mem_object_mb = mem_object / 1024**2\n",
    "    mem_category_mb = mem_category / 1024**2\n",
    "    kazanc_orani = mem_object / mem_category\n",
    "\n",
    "    print(f\"--- 1 Milyon Satır İçin Bellek Karşılaştırması ---\")\n",
    "    print(f\"'object' veri tipi kullanımı : {mem_object_mb:.2f} MB\")\n",
    "    print(f\"'category' veri tipi kullanımı: {mem_category_mb:.2f} MB\")\n",
    "    ```\n",
    "    *   **`object` (Metin) Tipi:** 1 milyon adet metin `(\"a\", \"b\", \"bilinmiyor\")` bellekte tam olarak saklanır. Bu çok büyük bir yer kaplar.\n",
    "    *   **`category` Tipi:** Bellekte sadece **1 milyon adet küçük tamsayı** `(0, 1, 2 gibi)` ve sadece **1 kez 3 elemanlı sözlük** saklanır.\n",
    "\n",
    "    ```python\n",
    "    --- 1 Milyon Satır İçin Bellek Karşılaştırması ---\n",
    "    'object' veri tipi kullanımı : 91.55 MB\n",
    "    'category' veri tipi kullanımı: 0.95 MB\n",
    "    ```\n",
    "\n",
    "\n",
    "**Sonuç:** `category` veri tipi, tekrar eden değerlerin bulunduğu sütunlarda, veri seti büyüdükçe **devasa bellek tasarrufu** ve **hesaplama hızı artışı** sağlar. Bu, Pandas'taki en önemli optimizasyon tekniklerinden biridir."
   ]
  },
  {
   "cell_type": "code",
   "execution_count": null,
   "id": "a001382e",
   "metadata": {
    "colab": {
     "base_uri": "https://localhost:8080/",
     "height": 332
    },
    "executionInfo": {
     "elapsed": 34,
     "status": "ok",
     "timestamp": 1754258419361,
     "user": {
      "displayName": "Kaan Bıçakcı",
      "userId": "12951043854473247756"
     },
     "user_tz": -60
    },
    "id": "a001382e",
    "outputId": "d7df4f5a-52ed-4384-aa62-6523f3a458e2"
   },
   "outputs": [
    {
     "data": {
      "text/html": [
       "<style type=\"text/css\">\n",
       "</style>\n",
       "<table id=\"T_74082\" class=\"dataframe\">\n",
       "  <thead>\n",
       "    <tr>\n",
       "      <th id=\"T_74082_level0_col0\" class=\"col_heading level0 col0\" >x</th>\n",
       "      <th id=\"T_74082_level0_col1\" class=\"col_heading level0 col1\" >y</th>\n",
       "      <th id=\"T_74082_level0_col2\" class=\"col_heading level0 col2\" >kategorik</th>\n",
       "    </tr>\n",
       "  </thead>\n",
       "  <tbody>\n",
       "    <tr>\n",
       "      <td id=\"T_74082_row0_col0\" class=\"data row0 col0\" >1.000000</td>\n",
       "      <td id=\"T_74082_row0_col1\" class=\"data row0 col1\" >10.000000</td>\n",
       "      <td id=\"T_74082_row0_col2\" class=\"data row0 col2\" >a</td>\n",
       "    </tr>\n",
       "    <tr>\n",
       "      <td id=\"T_74082_row1_col0\" class=\"data row1 col0\" >nan</td>\n",
       "      <td id=\"T_74082_row1_col1\" class=\"data row1 col1\" >9.000000</td>\n",
       "      <td id=\"T_74082_row1_col2\" class=\"data row1 col2\" >b</td>\n",
       "    </tr>\n",
       "    <tr>\n",
       "      <td id=\"T_74082_row2_col0\" class=\"data row2 col0\" >3.000000</td>\n",
       "      <td id=\"T_74082_row2_col1\" class=\"data row2 col1\" >nan</td>\n",
       "      <td id=\"T_74082_row2_col2\" class=\"data row2 col2\" >a</td>\n",
       "    </tr>\n",
       "    <tr>\n",
       "      <td id=\"T_74082_row3_col0\" class=\"data row3 col0\" >nan</td>\n",
       "      <td id=\"T_74082_row3_col1\" class=\"data row3 col1\" >7.000000</td>\n",
       "      <td id=\"T_74082_row3_col2\" class=\"data row3 col2\" >b</td>\n",
       "    </tr>\n",
       "    <tr>\n",
       "      <td id=\"T_74082_row4_col0\" class=\"data row4 col0\" >5.000000</td>\n",
       "      <td id=\"T_74082_row4_col1\" class=\"data row4 col1\" >6.000000</td>\n",
       "      <td id=\"T_74082_row4_col2\" class=\"data row4 col2\" >None</td>\n",
       "    </tr>\n",
       "  </tbody>\n",
       "</table>\n"
      ],
      "text/plain": [
       "<pandas.io.formats.style.Styler at 0x786e5d9f4250>"
      ]
     },
     "metadata": {},
     "output_type": "display_data"
    },
    {
     "data": {
      "text/html": [
       "<style type=\"text/css\">\n",
       "</style>\n",
       "<table id=\"T_c7850\" class=\"dataframe\">\n",
       "  <thead>\n",
       "    <tr>\n",
       "      <th id=\"T_c7850_level0_col0\" class=\"col_heading level0 col0\" >kolon</th>\n",
       "      <th id=\"T_c7850_level0_col1\" class=\"col_heading level0 col1\" >dtype</th>\n",
       "      <th id=\"T_c7850_level0_col2\" class=\"col_heading level0 col2\" >approx_mem_bytes</th>\n",
       "    </tr>\n",
       "  </thead>\n",
       "  <tbody>\n",
       "    <tr>\n",
       "      <td id=\"T_c7850_row0_col0\" class=\"data row0 col0\" >x</td>\n",
       "      <td id=\"T_c7850_row0_col1\" class=\"data row0 col1\" >float64</td>\n",
       "      <td id=\"T_c7850_row0_col2\" class=\"data row0 col2\" >172</td>\n",
       "    </tr>\n",
       "    <tr>\n",
       "      <td id=\"T_c7850_row1_col0\" class=\"data row1 col0\" >y</td>\n",
       "      <td id=\"T_c7850_row1_col1\" class=\"data row1 col1\" >float64</td>\n",
       "      <td id=\"T_c7850_row1_col2\" class=\"data row1 col2\" >172</td>\n",
       "    </tr>\n",
       "    <tr>\n",
       "      <td id=\"T_c7850_row2_col0\" class=\"data row2 col0\" >kategorik</td>\n",
       "      <td id=\"T_c7850_row2_col1\" class=\"data row2 col1\" >category</td>\n",
       "      <td id=\"T_c7850_row2_col2\" class=\"data row2 col2\" >428</td>\n",
       "    </tr>\n",
       "  </tbody>\n",
       "</table>\n"
      ],
      "text/plain": [
       "<pandas.io.formats.style.Styler at 0x786e5d999290>"
      ]
     },
     "metadata": {},
     "output_type": "display_data"
    }
   ],
   "source": [
    "raw = pd.DataFrame(\n",
    "    {\n",
    "        \"x\": [1, np.nan, 3, np.nan, 5],\n",
    "        \"y\": [10, 9, np.nan, 7, 6],\n",
    "        \"kategorik\": [\"a\", \"b\", \"a\", \"b\", None],\n",
    "    }\n",
    ")\n",
    "\n",
    "display(raw.style.hide(axis=\"index\"))\n",
    "\n",
    "filled = raw.copy()\n",
    "filled[\"x\"] = filled[\"x\"].fillna(filled[\"x\"].median())\n",
    "filled[\"y\"] = filled[\"y\"].interpolate()\n",
    "filled[\"kategorik\"] = filled[\"kategorik\"].fillna(\"bilinmiyor\").astype(\"category\")\n",
    "\n",
    "mem = pd.DataFrame(\n",
    "    {\n",
    "        \"kolon\": filled.columns,\n",
    "        \"dtype\": [str(filled[c].dtype) for c in filled.columns],\n",
    "        \"approx_mem_bytes\": [filled[c].memory_usage(deep=True) for c in filled.columns],\n",
    "    }\n",
    ")\n",
    "\n",
    "display(mem.style.hide(axis=\"index\"))"
   ]
  },
  {
   "cell_type": "markdown",
   "id": "f94d21d9",
   "metadata": {
    "id": "f94d21d9"
   },
   "source": [
    "### 2.6. Zaman serisi: resample & rolling ve grafikler"
   ]
  },
  {
   "cell_type": "code",
   "execution_count": null,
   "id": "0e7fd539",
   "metadata": {
    "colab": {
     "base_uri": "https://localhost:8080/",
     "height": 1000
    },
    "executionInfo": {
     "elapsed": 1790,
     "status": "ok",
     "timestamp": 1754258421153,
     "user": {
      "displayName": "Kaan Bıçakcı",
      "userId": "12951043854473247756"
     },
     "user_tz": -60
    },
    "id": "0e7fd539",
    "outputId": "415545bb-c84a-48cd-d6cb-33a97f5185a6"
   },
   "outputs": [
    {
     "data": {
      "text/html": [
       "<style type=\"text/css\">\n",
       "</style>\n",
       "<table id=\"T_c4c39\" class=\"dataframe\">\n",
       "  <thead>\n",
       "    <tr>\n",
       "      <th id=\"T_c4c39_level0_col0\" class=\"col_heading level0 col0\" >deger</th>\n",
       "    </tr>\n",
       "  </thead>\n",
       "  <tbody>\n",
       "    <tr>\n",
       "      <td id=\"T_c4c39_row0_col0\" class=\"data row0 col0\" >0.246661</td>\n",
       "    </tr>\n",
       "    <tr>\n",
       "      <td id=\"T_c4c39_row1_col0\" class=\"data row1 col0\" >0.148137</td>\n",
       "    </tr>\n",
       "    <tr>\n",
       "      <td id=\"T_c4c39_row2_col0\" class=\"data row2 col0\" >-0.201212</td>\n",
       "    </tr>\n",
       "    <tr>\n",
       "      <td id=\"T_c4c39_row3_col0\" class=\"data row3 col0\" >-0.152754</td>\n",
       "    </tr>\n",
       "  </tbody>\n",
       "</table>\n"
      ],
      "text/plain": [
       "<pandas.io.formats.style.Styler at 0x786e7d652490>"
      ]
     },
     "metadata": {},
     "output_type": "display_data"
    },
    {
     "data": {
      "text/html": [
       "<style type=\"text/css\">\n",
       "</style>\n",
       "<table id=\"T_2a867\" class=\"dataframe\">\n",
       "  <thead>\n",
       "    <tr>\n",
       "      <th id=\"T_2a867_level0_col0\" class=\"col_heading level0 col0\" >deger</th>\n",
       "    </tr>\n",
       "  </thead>\n",
       "  <tbody>\n",
       "    <tr>\n",
       "      <td id=\"T_2a867_row0_col0\" class=\"data row0 col0\" >-0.744473</td>\n",
       "    </tr>\n",
       "    <tr>\n",
       "      <td id=\"T_2a867_row1_col0\" class=\"data row1 col0\" >-0.570835</td>\n",
       "    </tr>\n",
       "    <tr>\n",
       "      <td id=\"T_2a867_row2_col0\" class=\"data row2 col0\" >-0.499631</td>\n",
       "    </tr>\n",
       "    <tr>\n",
       "      <td id=\"T_2a867_row3_col0\" class=\"data row3 col0\" >-0.403424</td>\n",
       "    </tr>\n",
       "    <tr>\n",
       "      <td id=\"T_2a867_row4_col0\" class=\"data row4 col0\" >-0.228359</td>\n",
       "    </tr>\n",
       "  </tbody>\n",
       "</table>\n"
      ],
      "text/plain": [
       "<pandas.io.formats.style.Styler at 0x786e7c0fbc90>"
      ]
     },
     "metadata": {},
     "output_type": "display_data"
    },
    {
     "data": {
      "image/png": "[encoded data removed]",
      "text/plain": [
       "<Figure size 600x400 with 1 Axes>"
      ]
     },
     "metadata": {},
     "output_type": "display_data"
    },
    {
     "data": {
      "image/png": "[encoded data removed]",
      "text/plain": [
       "<Figure size 600x400 with 1 Axes>"
      ]
     },
     "metadata": {},
     "output_type": "display_data"
    },
    {
     "data": {
      "image/png": "[encoded data removed]",
      "text/plain": [
       "<Figure size 600x400 with 1 Axes>"
      ]
     },
     "metadata": {},
     "output_type": "display_data"
    }
   ],
   "source": [
    "rng = pd.date_range(\"2023-01-01\", periods=120, freq=\"D\")\n",
    "ts = pd.DataFrame(\n",
    "    {\n",
    "        \"tarih\": rng,\n",
    "        \"deger\": np.sin(np.linspace(0, 6 * np.pi, len(rng)))\n",
    "        + np.random.normal(0, 0.3, len(rng)),\n",
    "    }\n",
    ").set_index(\"tarih\")\n",
    "monthly = ts.resample(\"M\").mean()\n",
    "roll = ts.rolling(window=7, min_periods=1).mean()\n",
    "\n",
    "display(monthly.tail().style.hide(axis=\"index\"))\n",
    "display(roll.tail().style.hide(axis=\"index\"))\n",
    "\n",
    "plt.figure()\n",
    "plt.plot(ts.index, ts[\"deger\"])\n",
    "plt.title(\"Günlük seri\")\n",
    "plt.xlabel(\"tarih\")\n",
    "plt.ylabel(\"değer\")\n",
    "plt.tight_layout()\n",
    "plt.show()\n",
    "plt.figure()\n",
    "plt.plot(monthly.index, monthly[\"deger\"])\n",
    "plt.title(\"Aylık ortalama\")\n",
    "plt.xlabel(\"tarih\")\n",
    "plt.ylabel(\"değer\")\n",
    "plt.tight_layout()\n",
    "plt.show()\n",
    "plt.figure()\n",
    "plt.plot(roll.index, roll[\"deger\"])\n",
    "plt.title(\"7 günlük hareketli ortalama\")\n",
    "plt.xlabel(\"tarih\")\n",
    "plt.ylabel(\"değer\")\n",
    "plt.tight_layout()\n",
    "plt.show()"
   ]
  },
  {
   "cell_type": "markdown",
   "id": "QeFsCq8_OSsv",
   "metadata": {
    "id": "QeFsCq8_OSsv"
   },
   "source": [
    "### **2.7. Belleği Aşmadan Dev Verilerle Çalışmak - Parçalı Okuma (Chunked I/O)**\n",
    "\n",
    "Bir ML projesinde karşılaşacağınız en büyük engellerden biri veri setimizin bilgisayarınızın RAM'inden daha büyük olmasıdır. 50 GB'lık bir CSV dosyanız var ama sadece 16 GB RAM'e sahipsiniz. Bu durumda `pandas.read_csv('uber_duber_buyuk_dosya.csv')` komutunu çalıştırmak kaçınılmaz olarak bir `MemoryError` ile sonuçlanacaktır çünkü Pandas dosyanın tamamını tek seferde belleğe yüklemeye çalışır."
   ]
  },
  {
   "cell_type": "markdown",
   "id": "zb5v8aV8QIHh",
   "metadata": {
    "id": "zb5v8aV8QIHh"
   },
   "source": [
    "#### Peki RAM'e sığmayan bir veriyi nasıl işleyebiliriz?\n",
    "\n",
    "**Cevap:** Dosyayı tek seferde yüklemek yerine, onu küçük ve yönetilebilir parçalara (chunk) ayırarak, her bir parçayı sırayla işleriz.\n",
    "\n",
    "**Analoji:** Devasa bir ansiklopedinin tamamını tek seferde okuyup ezberlemeye çalışmak yerine, onu bölüm bölüm okuyup her bölümden önemli notlar çıkarmak gibidir. Sonunda tüm ansiklopediyi belleğinizde tutmasanız da, ihtiyacınız olan özet bilgiye sahip olursunuz."
   ]
  },
  {
   "cell_type": "markdown",
   "id": "gWaZfTU7QL9E",
   "metadata": {
    "id": "gWaZfTU7QL9E"
   },
   "source": [
    "#### **İşin Mantığı: Adım Adım Analiz**\n",
    "\n",
    "1.  **`chunksize=2048` ile Reparo Efekti:** `pd.read_csv` fonksiyonuna `chunksize` parametresini verdiğinizde fonksiyonun davranışı tamamen değişir. Artık size devasa bir DataFrame döndürmek yerine, bir **iterator** (yineleyici) döndürür.\n",
    "\n",
    "Bu iterator `for` döngüsü içinde her çağrıldığında dosyanın sonraki `2048` satırını okur ve size küçük, yönetilebilir bir DataFrame (`chunk`) olarak verir.\n",
    "\n",
    "2.  **Döngü İçindeki İşlem:**\n",
    "    *   Döngünün her adımında bellekte sadece `2048` satırlık bir DataFrame bulunur.\n",
    "    *   Bu küçük DataFrame üzerinde istediğimiz filtrelemeyi (`chunk[\"grup\"] >= 5`) ve toplama işlemini (`.sum()`) yaparız.\n",
    "    *   Elde ettiğimiz sonucu (`total` gibi) döngünün dışında tanımladığımız bir değişkende biriktiririz.\n",
    "    *   Döngünün bir sonraki adımına geçildiğinde, bir önceki `chunk` bellekten silinir ve yerine dosyanın bir sonraki `2048` satırı yüklenir.\n",
    "\n",
    "Bu sayede, 12,000 satırlık (veya 12 milyon satırlık) dosyanın tamamı hiçbir zaman aynı anda bellekte olmaz. Sadece küçük parçalar halinde ziyaret edilir.\n",
    "\n",
    "**Sürecin Görselleştirilmesi:**\n",
    "\n",
    "```\n",
    "[Dosya (12,000 satır)]\n",
    "      |\n",
    "      V\n",
    "Döngü 1: chunk = [Satır 0 -> 2047]      -> total'a ekleme yap, cnt'yi artır\n",
    "      |\n",
    "      V\n",
    "Döngü 2: chunk = [Satır 2048 -> 4095]   -> total'a ekleme yap, cnt'yi artır\n",
    "      |\n",
    "      V\n",
    "Döngü 3: chunk = [Satır 4096 -> 6143]   -> total'a ekleme yap, cnt'yi artır\n",
    "      |\n",
    "      V\n",
    "      ... (ve bu şekilde dosya bitene kadar devam eder)\n",
    "      |\n",
    "      V\n",
    "[Nihai Sonuçlar: total ve cnt]\n",
    "```"
   ]
  },
  {
   "cell_type": "markdown",
   "id": "5B7YoWvzQqBl",
   "metadata": {
    "id": "5B7YoWvzQqBl"
   },
   "source": [
    "---\n",
    "\n",
    "#### **Ne Zaman ve Neden Kullanmalıyız?**\n",
    "\n",
    "Bu teknik aşağıdaki durumlarda kullanılabilir:\n",
    "\n",
    "1.  **Belleğe Sığmayan Veri Setleri:** En bariz kullanım alanıdır. Veri setiniz RAM'inizden büyükse bu yöntem bir seçeneğiniz olabilir.\n",
    "2.  **Toplu Hesaplamalar (Aggregations):** Tüm veri üzerinden tek bir sonuç (toplam, ortalama, sayım, maksimum değer vb.) hesaplamak istediğinizde mükemmeldir. Verinin tamamını bellekte tutmanıza gerek yoktur.\n",
    "3.  **Büyük Veriyi Filtreleme:** 50 GB'lık bir log dosyasından sadece belirli bir tarih aralığına veya belirli bir hata koduna sahip satırları ayıklayıp daha küçük bir dosyaya kaydetmek için kullanabilirsiniz. Her parçayı okur ve koşulu sağlayan satırları yeni bir dosyaya eklersiniz.\n",
    "\n",
    "**Sonuç:** `chunksize` kullanarak veriyi parçalar halinde işlemek, büyük veriyle başa çıkmak için temel bir stratejidir."
   ]
  },
  {
   "cell_type": "code",
   "execution_count": null,
   "id": "b3c2896b",
   "metadata": {
    "colab": {
     "base_uri": "https://localhost:8080/",
     "height": 112
    },
    "executionInfo": {
     "elapsed": 47,
     "status": "ok",
     "timestamp": 1754258421199,
     "user": {
      "displayName": "Kaan Bıçakcı",
      "userId": "12951043854473247756"
     },
     "user_tz": -60
    },
    "id": "b3c2896b",
    "outputId": "3df981b2-e784-40d6-ffe9-b00139aecb9f"
   },
   "outputs": [
    {
     "data": {
      "text/html": [
       "<style type=\"text/css\">\n",
       "</style>\n",
       "<table id=\"T_35e96\" class=\"dataframe\">\n",
       "  <thead>\n",
       "    <tr>\n",
       "      <th id=\"T_35e96_level0_col0\" class=\"col_heading level0 col0\" >ölçü</th>\n",
       "      <th id=\"T_35e96_level0_col1\" class=\"col_heading level0 col1\" >değer</th>\n",
       "    </tr>\n",
       "  </thead>\n",
       "  <tbody>\n",
       "    <tr>\n",
       "      <td id=\"T_35e96_row0_col0\" class=\"data row0 col0\" >satır_sayısı</td>\n",
       "      <td id=\"T_35e96_row0_col1\" class=\"data row0 col1\" >12000.000000</td>\n",
       "    </tr>\n",
       "    <tr>\n",
       "      <td id=\"T_35e96_row1_col0\" class=\"data row1 col0\" >grup>=5 toplam</td>\n",
       "      <td id=\"T_35e96_row1_col1\" class=\"data row1 col1\" >-100.282000</td>\n",
       "    </tr>\n",
       "  </tbody>\n",
       "</table>\n"
      ],
      "text/plain": [
       "<pandas.io.formats.style.Styler at 0x786e5f41bf90>"
      ]
     },
     "metadata": {},
     "output_type": "display_data"
    }
   ],
   "source": [
    "buf = io.StringIO()\n",
    "rows = 12000\n",
    "print(\"id,grup,deg\", file=buf)\n",
    "for i in range(rows):\n",
    "    print(f\"{i},{i%10},{np.random.randn()}\", file=buf)\n",
    "buf.seek(0)\n",
    "\n",
    "total = 0.0\n",
    "cnt = 0\n",
    "for chunk in pd.read_csv(buf, chunksize=2048):\n",
    "    total += chunk.loc[chunk[\"grup\"] >= 5, \"deg\"].sum()\n",
    "    cnt += chunk.shape[0]\n",
    "display(\n",
    "    pd.DataFrame(\n",
    "        [[\"satır_sayısı\", cnt], [\"grup>=5 toplam\", round(total, 3)]],\n",
    "        columns=[\"ölçü\", \"değer\"],\n",
    "    ).style.hide(axis=\"index\")\n",
    ")"
   ]
  },
  {
   "cell_type": "markdown",
   "id": "YVrynBg_qHvw",
   "metadata": {
    "id": "YVrynBg_qHvw"
   },
   "source": [
    "---\n",
    "\n",
    "## **3) Matplotlib ve Veri Görselleştirmenin Temelleri**\n",
    "\n",
    "Bir analiz yaptınız, bir model eğittiniz veya veriyi temizlediniz. Peki, bulgularınızı nasıl sunacaksınız? Veya daha en başta, verinizin içinde ne gibi yapılar olduğunu nasıl keşfedeceksiniz? İşte bu noktada veri görselleştirme devreye girer. Matplotlib, Python'da veri görselleştirmenin temel taşıdır; esnekliği sayesinde neredeyse hayal edebileceğiniz her türlü grafiği oluşturmanıza olanak tanır.\n",
    "\n",
    "Bu bölümde en sık kullanılan temel grafikleri **\"tek figür prensibi\"** ile inceleyeceğiz.\n",
    "\n",
    "**Temel İş Akışı**\n",
    "Tüm örneklerde tekrar eden basit bir iş akışı göreceksiniz:\n",
    "1.  `plt.figure()`: Boş bir tuval veya çizim alanı oluştur.\n",
    "2.  `plt.plot()`, `plt.scatter()`, vb.: Veriyi kullanarak tuvalin üzerine çizim yap.\n",
    "3.  `plt.title()`, `plt.xlabel()`, `plt.ylabel()`: Grafiğe başlık ve eksen etiketleri ekleyerek onu anlaşılır kıl.\n",
    "4.  `plt.tight_layout()`: Başlık ve etiketlerin grafiğe düzgünce sığmasını otomatik olarak ayarla.\n",
    "5.  `plt.show()` veya `plt.savefig()`: Grafiği ekranda göster veya bir dosyaya kaydet.\n",
    "\n",
    "---"
   ]
  },
  {
   "cell_type": "markdown",
   "id": "lJjtjhaltAoe",
   "metadata": {
    "id": "lJjtjhaltAoe"
   },
   "source": [
    "#### **3.1. Temel Grafik Türleri ve Kullanım Alanları**\n",
    "\n",
    "#### **3.1.1. Çizgi Grafiği (Line Plot)**\n",
    "\n",
    "\n",
    "```python\n",
    "x = np.linspace(0, 4*np.pi, 200)\n",
    "y = np.sin(x)\n",
    "\n",
    "plt.figure()\n",
    "plt.plot(x, y)\n",
    "plt.title(\"Sinüs Fonksiyonu\")\n",
    "plt.xlabel(\"x Değeri\")\n",
    "plt.ylabel(\"sin(x) Değeri\")\n",
    "plt.tight_layout()\n",
    "plt.show()\n",
    "```\n",
    "\n",
    "\n",
    "*   **Ne Zaman Kullanılır?**\n",
    "    *   **Trendleri ve Değişimleri Göstermek İçin:** Çizgi grafikleri verinin **sürekli bir aralık** boyunca nasıl değiştiğini göstermek için idealdir. En yaygın kullanım alanı, **zaman serisi** verileridir (örn: bir hisse senedinin aylar içindeki fiyatı, bir şehrin yıllık sıcaklık değişimi, bir hastanın kalp atış hızı).\n",
    "*   **İşin Mantığı:**\n",
    "    *   Bu grafik sıralı veri noktalarını düz çizgilerle birbirine bağlar. Bu bağlantı, noktalar arasında doğal bir sıralama ve devamlılık olduğu varsayımını yaratır. X ekseni genellikle zaman gibi sıralı ve sürekli bir değişkeni temsil eder."
   ]
  },
  {
   "cell_type": "markdown",
   "id": "L2y8pS_xv8wD",
   "metadata": {
    "id": "L2y8pS_xv8wD"
   },
   "source": [
    "![image.png](data:image/png;base64,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)\n",
    "\n",
    "---"
   ]
  },
  {
   "cell_type": "markdown",
   "id": "10rynC4_tOcI",
   "metadata": {
    "id": "10rynC4_tOcI"
   },
   "source": [
    "#### **3.1.2. Saçılım Grafiği (Scatter Plot)**\n",
    "\n",
    "```python\n",
    "rng = np.random.default_rng(42)\n",
    "xs = rng.normal(0, 1, 200)\n",
    "ys = 2*xs + rng.normal(0, 1, 200)\n",
    "\n",
    "plt.figure()\n",
    "plt.scatter(xs, ys)\n",
    "plt.title(\"İki Değişken Arasındaki İlişki\")\n",
    "plt.xlabel(\"Bağımsız Değişken (x)\")\n",
    "plt.ylabel(\"Bağımlı Değişken (y)\")\n",
    "plt.tight_layout()\n",
    "plt.show()\n",
    "```\n",
    "\n",
    "*   **Ne Zaman Kullanılır?**\n",
    "    *   **İki Sayısal Değişken Arasındaki İlişkiyi İncelemek İçin:** \"Bir değişken artarken diğeri de artıyor mu (pozitif korelasyon)?\", \"Biri artarken diğeri azalıyor mu (negatif korelasyon)?\" veya \"Aralarında bir ilişki yok mu?\" gibi soruları cevaplamak için kullanılır. (Örn: öğrencilerin çalışma saati ile sınav notu, bir evin metrekaresi ile fiyatı).\n",
    "*   **İşin Mantığı:**\n",
    "    *   Çizgi grafiğinin aksine, noktaları birbirine bağlamaz. Her bir nokta, iki sayısal değişkenin (`x` ve `y`) birleşimini temsil eden bağımsız bir gözlemdir. Noktaların oluşturduğu desen, değişkenler arasındaki ilişkinin gücü ve yönü hakkında ipucu verir. Bu örnekte, noktaların soldan sağa doğru yukarı yönlü bir eğilim göstermesi, `x` ve `y` arasında pozitif bir ilişki olduğunu düşündürür."
   ]
  },
  {
   "cell_type": "markdown",
   "id": "M-omAKur0U_S",
   "metadata": {
    "id": "M-omAKur0U_S"
   },
   "source": [
    "![image.png](data:image/png;base64,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)\n",
    "\n",
    "---"
   ]
  },
  {
   "cell_type": "markdown",
   "id": "W3NK5mVptpqI",
   "metadata": {
    "id": "W3NK5mVptpqI"
   },
   "source": [
    "#### **3.1.3. Histogram**\n",
    "\n",
    "```python\n",
    "data = rng.normal(0, 1, 1000)\n",
    "\n",
    "plt.figure()\n",
    "plt.hist(data, bins=30) # bins: verinin kaç aralığa bölüneceği\n",
    "plt.title(\"Veri Dağılımı Histogramı\")\n",
    "plt.xlabel(\"Değer Aralığı\")\n",
    "plt.ylabel(\"Frekans (Adet)\")\n",
    "plt.tight_layout()\n",
    "plt.show()\n",
    "```\n",
    "\n",
    "*   **Ne Zaman Kullanılır?**\n",
    "    *   **Tek Bir Sayısal Değişkenin Dağılımını Anlamak İçin:** \"Veriler en çok hangi aralıkta toplanmış?\", \"Veri seti simetrik mi, yoksa bir yöne mi çarpık?\", \"Aykırı değerler var mı?\" gibi soruları yanıtlar. (Örn: bir sınıftaki öğrencilerin boy uzunluklarının dağılımı, müşteri yaşlarının dağılımı).\n",
    "*   **İşin Mantığı:**\n",
    "    *   Histogram, veriyi belirli sayıda **aralığa (bins)** böler ve her bir aralığa kaç adet veri noktası düştüğünü sayar. Sonuç, bu sayımları gösteren bitişik sütunlardan (bar) oluşur. Sütunun yüksekliği, o aralıktaki veri yoğunluğunu (frekansını) temsil eder. **Bar grafiğinden en temel farkı, x ekseninin kategoriler değil, sayısal aralıklar olmasıdır.**"
   ]
  },
  {
   "cell_type": "markdown",
   "id": "4efQHr880Zcm",
   "metadata": {
    "id": "4efQHr880Zcm"
   },
   "source": [
    "![image.png](data:image/png;base64,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)\n",
    "\n",
    "---"
   ]
  },
  {
   "cell_type": "markdown",
   "id": "Iw_WjTlttuK5",
   "metadata": {
    "id": "Iw_WjTlttuK5"
   },
   "source": [
    "#### **3.1.4. Çubuk/Sütun Grafiği (Bar Chart)**\n",
    "\n",
    "```python\n",
    "vals = pd.Series([\"A\",\"B\",\"A\",\"C\",\"B\",\"A\",\"C\",\"C\"]).value_counts()\n",
    "\n",
    "plt.figure()\n",
    "plt.bar(vals.index.astype(str), vals.values)\n",
    "plt.title(\"Kategori Frekansları\")\n",
    "plt.xlabel(\"Kategori\")\n",
    "plt.ylabel(\"Frekans (Adet)\")\n",
    "plt.tight_layout()\n",
    "plt.show()\n",
    "```\n",
    "\n",
    "*   **Ne Zaman Kullanılır?**\n",
    "    *   **Kategorik Verilerin Karşılaştırılması İçin:** Farklı kategorilerin sayımlarını veya bir ölçümünü karşılaştırmak için kullanılır. (Örn: farklı araba markalarının satış adetleri, anket sorularına verilen 'Evet'/'Hayır'/'Kararsız' cevaplarının sayısı).\n",
    "*   **İşin Mantığı:**\n",
    "    *   Her bir kategori için ayrı bir sütun çizer. Sütunun yüksekliği, o kategorinin frekansını veya değerini temsil eder. Histogramdan farklı olarak, sütunlar arasında genellikle bir boşluk bulunur, bu da x eksenindeki etiketlerin sıralı veya sürekli olmadığını, bağımsız kategoriler olduğunu vurgular."
   ]
  },
  {
   "cell_type": "markdown",
   "id": "zWggxKF00xgW",
   "metadata": {
    "id": "zWggxKF00xgW"
   },
   "source": [
    "![image.png](data:image/png;base64,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)\n",
    "\n",
    "---"
   ]
  },
  {
   "cell_type": "markdown",
   "id": "HdkiZ-aItwr_",
   "metadata": {
    "id": "HdkiZ-aItwr_"
   },
   "source": [
    "#### **3.1.5. Kutu Grafiği (Box Plot)**\n",
    "\n",
    "```python\n",
    "plt.figure()\n",
    "plt.boxplot([rng.normal(0, 1, 200), rng.normal(1, 1.2, 200)],\n",
    "            labels=[\"Grup 1\", \"Grup 2\"])\n",
    "plt.title(\"Grupların Değer Dağılımlarının Karşılaştırılması\")\n",
    "plt.xlabel(\"Grup\")\n",
    "plt.ylabel(\"Değer\")\n",
    "plt.tight_layout()\n",
    "plt.show()\n",
    "```\n",
    "\n",
    "*   **Ne Zaman Kullanılır?**\n",
    "    *   **Bir veya Daha Fazla Grubun Sayısal Dağılımını Özetlemek ve Karşılaştırmak İçin:** Tek bir grafikte bir veri setinin medyanını, çeyrekliklerini (verinin %25, %50 ve %75'lik dilimleri), yayılımını ve aykırı değerlerini gösterir. Özellikle farklı grupların dağılımlarını yan yana karşılaştırmak için çok güçlüdür. (Örn: A ve B okullarındaki öğrencilerin sınav notu dağılımlarını karşılaştırmak).\n",
    "*   **İşin Mantığı:**\n",
    "    *   **Kutunun içi:** Verinin orta %50'lik kısmını temsil eder.\n",
    "    *   **Kutunun içindeki çizgi:** Medyanı (orta değer) gösterir.\n",
    "    *   **Bıyıklar (whiskers):** Genellikle verinin büyük bir kısmını kapsayan aralığı gösterir.\n",
    "    *   **Noktalar:** Bıyıkların ötesinde kalan ve potansiyel aykırı değerler (outliers) olarak kabul edilen tekil veri noktalarıdır."
   ]
  },
  {
   "cell_type": "markdown",
   "id": "icn7Z0Bn02ke",
   "metadata": {
    "id": "icn7Z0Bn02ke"
   },
   "source": [
    "![image.png](data:image/png;base64,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)\n",
    "\n",
    "---"
   ]
  },
  {
   "cell_type": "markdown",
   "id": "AfgiyXBAt02E",
   "metadata": {
    "id": "AfgiyXBAt02E"
   },
   "source": [
    "#### **3.2. Grafikleri Dosyaya Kaydetmek**\n",
    "\n",
    "Grafikleri sadece ekranda göstermek yeterli değildir; raporlar, sunumlar veya web siteleri için onları kalıcı dosyalara (PNG, JPG, PDF, SVG) kaydetmemiz gerekir.\n",
    "\n",
    "```python\n",
    "from pathlib import Path\n",
    "\n",
    "out = Path(\"fig_sine.png\")\n",
    "\n",
    "plt.figure()\n",
    "x = np.linspace(0, 2*np.pi, 100)\n",
    "plt.plot(x, np.sin(x))\n",
    "plt.title(\"Kaydedilmiş Grafik\")\n",
    "plt.xlabel(\"x\")\n",
    "plt.ylabel(\"sin(x)\")\n",
    "plt.tight_layout()\n",
    "\n",
    "# Grafiği ekranda göstermek yerine dosyaya kaydediyoruz\n",
    "# dpi (dots per inch) parametresi çözünürlüğü belirler.\n",
    "plt.savefig(out, dpi=150)\n",
    "\n",
    "print(\"Grafik kaydedildi →\", out.resolve())\n",
    "```\n",
    "\n",
    "*   **İşin Mantığı:**\n",
    "    *   `plt.show()` komutu grafiği bir pencerede interaktif olarak gösterir ve çalışmayı orada duraklatır.\n",
    "    *   `plt.savefig()` ise grafiği belirtilen yola, belirtilen format ve çözünürlükte, arka planda kaydeder. Bir script çalıştırırken genellikle `plt.show()` yerine `plt.savefig()` kullanılır. Eğer ikisini de kullanacaksanız, `savefig`'i `show`'dan önce çağırmak iyi bir pratiktir, çünkü `plt.show()` figürü temizleyebilir."
   ]
  },
  {
   "cell_type": "code",
   "execution_count": null,
   "id": "EosYovEFv2IB",
   "metadata": {
    "id": "EosYovEFv2IB"
   },
   "outputs": [],
   "source": []
  },
  {
   "cell_type": "code",
   "execution_count": null,
   "id": "_GRMFx5ittkU",
   "metadata": {
    "id": "_GRMFx5ittkU"
   },
   "outputs": [],
   "source": []
  }
 ],
 "metadata": {
  "_wj": "QnUgbm90ZWJvb2t1XzYgS0IgaGF6xLFybGFkxLE6KQ==",
  "colab": {
   "collapsed_sections": [
    "f94d21d9"
   ],
   "provenance": [],
   "toc_visible": true
  },
  "kernelspec": {
   "display_name": "Python 3 (ipykernel)",
   "language": "python",
   "name": "python3"
  },
  "language_info": {
   "codemirror_mode": {
    "name": "ipython",
    "version": 3
   },
   "file_extension": ".py",
   "mimetype": "text/x-python",
   "name": "python",
   "nbconvert_exporter": "python",
   "pygments_lexer": "ipython3",
   "version": "3.11.9"
  }
 },
 "nbformat": 4,
 "nbformat_minor": 5
}
