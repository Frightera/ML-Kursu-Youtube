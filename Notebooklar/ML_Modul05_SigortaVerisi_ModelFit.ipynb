{
 "cells": [
  {
   "cell_type": "markdown",
   "id": "3118c82c",
   "metadata": {
    "id": "3118c82c"
   },
   "source": [
    "# Modül 5 :: ML Pipeline Kurup - Değerlendirme"
   ]
  },
  {
   "cell_type": "markdown",
   "id": "4561b827",
   "metadata": {},
   "source": [
    "<a target=\"_blank\" href=\"https://colab.research.google.com/github/Frightera/ML-Kursu-Youtube/blob/main/Notebooklar/ML_Modul05_SigortaVerisi_ModelFit.ipynb\"> <img src=\"https://colab.research.google.com/assets/colab-badge.svg\" alt=\"Open In Colab\"/> </a>"
   ]
  },
  {
   "cell_type": "markdown",
   "id": "e82d544f",
   "metadata": {
    "id": "e82d544f"
   },
   "source": [
    "> **Gereken paketler** (kurulu değilse):\n",
    "\n",
    "> `pip install catboost optuna`\n"
   ]
  },
  {
   "cell_type": "markdown",
   "id": "MzmBWQKQiA-4",
   "metadata": {
    "id": "MzmBWQKQiA-4"
   },
   "source": [
    "## Importlar"
   ]
  },
  {
   "cell_type": "code",
   "execution_count": 2,
   "id": "kqcSLNzRkGz6",
   "metadata": {
    "executionInfo": {
     "elapsed": 4849,
     "status": "ok",
     "timestamp": 1755702424472,
     "user": {
      "displayName": "Kaan Bıçakcı",
      "userId": "12951043854473247756"
     },
     "user_tz": -60
    },
    "id": "kqcSLNzRkGz6"
   },
   "outputs": [],
   "source": [
    "!pip install -q catboost optuna scikit-learn-intelex"
   ]
  },
  {
   "cell_type": "markdown",
   "id": "226IMeu2nr7e",
   "metadata": {
    "id": "226IMeu2nr7e"
   },
   "source": [
    "### Temel Mantığı Nedir?\n",
    "\n",
    "Bu kodun yaptığı işe \"patching\" denir. Scikit-learn, Python'da en çok kullanılan makine öğrenmesi kütüphanesidir. Ancak büyük veri setleriyle çalışırken bazı algoritmaların eğitimi uzun sürebilir.\n",
    "\n",
    "Intel CPU ve donanımları üzerinde daha hızlı çalışacak şekilde Scikit-learn'ün popüler algoritmalarını optimize etmiştir. Bu optimize edilmiş kodları da `scikit-learn-intelex` (kısaca `sklearnex`) adında bir kütüphanede toplamıştır.\n",
    "\n",
    "`patch_sklearn` çalıştırdığınız anda sihirli kısım gerçekleşir. Detaylarına repodan bakabilirsiniz: https://github.com/uxlfoundation/scikit-learn-intelex"
   ]
  },
  {
   "cell_type": "code",
   "execution_count": 3,
   "id": "3zzGuwTxJrna",
   "metadata": {
    "colab": {
     "base_uri": "https://localhost:8080/"
    },
    "executionInfo": {
     "elapsed": 3806,
     "status": "ok",
     "timestamp": 1755702428280,
     "user": {
      "displayName": "Kaan Bıçakcı",
      "userId": "12951043854473247756"
     },
     "user_tz": -60
    },
    "id": "3zzGuwTxJrna",
    "outputId": "c67a1cab-9903-4e7a-afbc-823d474b0768"
   },
   "outputs": [
    {
     "name": "stderr",
     "output_type": "stream",
     "text": [
      "Extension for Scikit-learn* enabled (https://github.com/uxlfoundation/scikit-learn-intelex)\n"
     ]
    }
   ],
   "source": [
    "from sklearnex import patch_sklearn\n",
    "\n",
    "patch_sklearn()"
   ]
  },
  {
   "cell_type": "code",
   "execution_count": null,
   "id": "lLT-5Hgghgif",
   "metadata": {
    "executionInfo": {
     "elapsed": 677,
     "status": "ok",
     "timestamp": 1755702429002,
     "user": {
      "displayName": "Kaan Bıçakcı",
      "userId": "12951043854473247756"
     },
     "user_tz": -60
    },
    "id": "lLT-5Hgghgif"
   },
   "outputs": [],
   "source": [
    "import re\n",
    "\n",
    "import joblib\n",
    "import numpy as np\n",
    "import pandas as pd\n",
    "from sklearn.base import BaseEstimator, TransformerMixin\n",
    "from sklearn.compose import ColumnTransformer\n",
    "from sklearn.ensemble import RandomForestClassifier\n",
    "from sklearn.impute import SimpleImputer\n",
    "from sklearn.linear_model import LogisticRegression\n",
    "from sklearn.metrics import (ConfusionMatrixDisplay, average_precision_score,\n",
    "                             classification_report, roc_auc_score)\n",
    "from sklearn.model_selection import (StratifiedKFold, cross_validate,\n",
    "                                     train_test_split)\n",
    "from sklearn.pipeline import Pipeline\n",
    "from sklearn.preprocessing import OneHotEncoder, OrdinalEncoder, StandardScaler\n",
    "from sklearn.tree import DecisionTreeClassifier\n",
    "\n",
    "SEED = 42\n",
    "np.random.seed(SEED)"
   ]
  },
  {
   "cell_type": "markdown",
   "id": "40guiSXriEFv",
   "metadata": {
    "id": "40guiSXriEFv"
   },
   "source": [
    "## Verinin Yüklenmesi"
   ]
  },
  {
   "cell_type": "code",
   "execution_count": 7,
   "id": "2WmZuVNehkQ4",
   "metadata": {
    "colab": {
     "base_uri": "https://localhost:8080/",
     "height": 349
    },
    "executionInfo": {
     "elapsed": 547,
     "status": "ok",
     "timestamp": 1755702451656,
     "user": {
      "displayName": "Kaan Bıçakcı",
      "userId": "12951043854473247756"
     },
     "user_tz": -60
    },
    "id": "2WmZuVNehkQ4",
    "outputId": "3c5e78f7-b531-49c5-bdea-40a448e17357"
   },
   "outputs": [
    {
     "data": {
      "application/vnd.google.colaboratory.intrinsic+json": {
       "type": "dataframe"
      },
      "text/html": [
       "\n",
       "  <div id=\"df-a353a359-ad31-4cac-813a-fb57e02ea1cf\" class=\"colab-df-container\">\n",
       "    <div>\n",
       "<style scoped>\n",
       "    .dataframe tbody tr th:only-of-type {\n",
       "        vertical-align: middle;\n",
       "    }\n",
       "\n",
       "    .dataframe tbody tr th {\n",
       "        vertical-align: top;\n",
       "    }\n",
       "\n",
       "    .dataframe thead th {\n",
       "        text-align: right;\n",
       "    }\n",
       "</style>\n",
       "<table border=\"1\" class=\"dataframe\">\n",
       "  <thead>\n",
       "    <tr style=\"text-align: right;\">\n",
       "      <th></th>\n",
       "      <th>policy_id</th>\n",
       "      <th>subscription_length</th>\n",
       "      <th>vehicle_age</th>\n",
       "      <th>customer_age</th>\n",
       "      <th>region_code</th>\n",
       "      <th>region_density</th>\n",
       "      <th>segment</th>\n",
       "      <th>model</th>\n",
       "      <th>fuel_type</th>\n",
       "      <th>max_torque</th>\n",
       "      <th>...</th>\n",
       "      <th>is_brake_assist</th>\n",
       "      <th>is_power_door_locks</th>\n",
       "      <th>is_central_locking</th>\n",
       "      <th>is_power_steering</th>\n",
       "      <th>is_driver_seat_height_adjustable</th>\n",
       "      <th>is_day_night_rear_view_mirror</th>\n",
       "      <th>is_ecw</th>\n",
       "      <th>is_speed_alert</th>\n",
       "      <th>ncap_rating</th>\n",
       "      <th>claim_status</th>\n",
       "    </tr>\n",
       "  </thead>\n",
       "  <tbody>\n",
       "    <tr>\n",
       "      <th>0</th>\n",
       "      <td>POL045360</td>\n",
       "      <td>9.3</td>\n",
       "      <td>1.2</td>\n",
       "      <td>41</td>\n",
       "      <td>C8</td>\n",
       "      <td>8794</td>\n",
       "      <td>C2</td>\n",
       "      <td>M4</td>\n",
       "      <td>Diesel</td>\n",
       "      <td>250Nm@2750rpm</td>\n",
       "      <td>...</td>\n",
       "      <td>Yes</td>\n",
       "      <td>Yes</td>\n",
       "      <td>Yes</td>\n",
       "      <td>Yes</td>\n",
       "      <td>Yes</td>\n",
       "      <td>No</td>\n",
       "      <td>Yes</td>\n",
       "      <td>Yes</td>\n",
       "      <td>3</td>\n",
       "      <td>0</td>\n",
       "    </tr>\n",
       "    <tr>\n",
       "      <th>1</th>\n",
       "      <td>POL016745</td>\n",
       "      <td>8.2</td>\n",
       "      <td>1.8</td>\n",
       "      <td>35</td>\n",
       "      <td>C2</td>\n",
       "      <td>27003</td>\n",
       "      <td>C1</td>\n",
       "      <td>M9</td>\n",
       "      <td>Diesel</td>\n",
       "      <td>200Nm@1750rpm</td>\n",
       "      <td>...</td>\n",
       "      <td>No</td>\n",
       "      <td>Yes</td>\n",
       "      <td>Yes</td>\n",
       "      <td>Yes</td>\n",
       "      <td>Yes</td>\n",
       "      <td>Yes</td>\n",
       "      <td>Yes</td>\n",
       "      <td>Yes</td>\n",
       "      <td>4</td>\n",
       "      <td>0</td>\n",
       "    </tr>\n",
       "    <tr>\n",
       "      <th>2</th>\n",
       "      <td>POL007194</td>\n",
       "      <td>9.5</td>\n",
       "      <td>0.2</td>\n",
       "      <td>44</td>\n",
       "      <td>C8</td>\n",
       "      <td>8794</td>\n",
       "      <td>C2</td>\n",
       "      <td>M4</td>\n",
       "      <td>Diesel</td>\n",
       "      <td>250Nm@2750rpm</td>\n",
       "      <td>...</td>\n",
       "      <td>Yes</td>\n",
       "      <td>Yes</td>\n",
       "      <td>Yes</td>\n",
       "      <td>Yes</td>\n",
       "      <td>Yes</td>\n",
       "      <td>No</td>\n",
       "      <td>Yes</td>\n",
       "      <td>Yes</td>\n",
       "      <td>3</td>\n",
       "      <td>0</td>\n",
       "    </tr>\n",
       "  </tbody>\n",
       "</table>\n",
       "<p>3 rows × 41 columns</p>\n",
       "</div>\n",
       "    <div class=\"colab-df-buttons\">\n",
       "\n",
       "  <div class=\"colab-df-container\">\n",
       "    <button class=\"colab-df-convert\" onclick=\"convertToInteractive('df-a353a359-ad31-4cac-813a-fb57e02ea1cf')\"\n",
       "            title=\"Convert this dataframe to an interactive table.\"\n",
       "            style=\"display:none;\">\n",
       "\n",
       "  <svg xmlns=\"http://www.w3.org/2000/svg\" height=\"24px\" viewBox=\"0 -960 960 960\">\n",
       "    <path d=\"M120-120v-720h720v720H120Zm60-500h600v-160H180v160Zm220 220h160v-160H400v160Zm0 220h160v-160H400v160ZM180-400h160v-160H180v160Zm440 0h160v-160H620v160ZM180-180h160v-160H180v160Zm440 0h160v-160H620v160Z\"/>\n",
       "  </svg>\n",
       "    </button>\n",
       "\n",
       "  <style>\n",
       "    .colab-df-container {\n",
       "      display:flex;\n",
       "      gap: 12px;\n",
       "    }\n",
       "\n",
       "    .colab-df-convert {\n",
       "      background-color: #E8F0FE;\n",
       "      border: none;\n",
       "      border-radius: 50%;\n",
       "      cursor: pointer;\n",
       "      display: none;\n",
       "      fill: #1967D2;\n",
       "      height: 32px;\n",
       "      padding: 0 0 0 0;\n",
       "      width: 32px;\n",
       "    }\n",
       "\n",
       "    .colab-df-convert:hover {\n",
       "      background-color: #E2EBFA;\n",
       "      box-shadow: 0px 1px 2px rgba(60, 64, 67, 0.3), 0px 1px 3px 1px rgba(60, 64, 67, 0.15);\n",
       "      fill: #174EA6;\n",
       "    }\n",
       "\n",
       "    .colab-df-buttons div {\n",
       "      margin-bottom: 4px;\n",
       "    }\n",
       "\n",
       "    [theme=dark] .colab-df-convert {\n",
       "      background-color: #3B4455;\n",
       "      fill: #D2E3FC;\n",
       "    }\n",
       "\n",
       "    [theme=dark] .colab-df-convert:hover {\n",
       "      background-color: #434B5C;\n",
       "      box-shadow: 0px 1px 3px 1px rgba(0, 0, 0, 0.15);\n",
       "      filter: drop-shadow(0px 1px 2px rgba(0, 0, 0, 0.3));\n",
       "      fill: #FFFFFF;\n",
       "    }\n",
       "  </style>\n",
       "\n",
       "    <script>\n",
       "      const buttonEl =\n",
       "        document.querySelector('#df-a353a359-ad31-4cac-813a-fb57e02ea1cf button.colab-df-convert');\n",
       "      buttonEl.style.display =\n",
       "        google.colab.kernel.accessAllowed ? 'block' : 'none';\n",
       "\n",
       "      async function convertToInteractive(key) {\n",
       "        const element = document.querySelector('#df-a353a359-ad31-4cac-813a-fb57e02ea1cf');\n",
       "        const dataTable =\n",
       "          await google.colab.kernel.invokeFunction('convertToInteractive',\n",
       "                                                    [key], {});\n",
       "        if (!dataTable) return;\n",
       "\n",
       "        const docLinkHtml = 'Like what you see? Visit the ' +\n",
       "          '<a target=\"_blank\" href=https://colab.research.google.com/notebooks/data_table.ipynb>data table notebook</a>'\n",
       "          + ' to learn more about interactive tables.';\n",
       "        element.innerHTML = '';\n",
       "        dataTable['output_type'] = 'display_data';\n",
       "        await google.colab.output.renderOutput(dataTable, element);\n",
       "        const docLink = document.createElement('div');\n",
       "        docLink.innerHTML = docLinkHtml;\n",
       "        element.appendChild(docLink);\n",
       "      }\n",
       "    </script>\n",
       "  </div>\n",
       "\n",
       "\n",
       "    <div id=\"df-ee362c29-7b58-420f-9442-aee4c3cd8e1f\">\n",
       "      <button class=\"colab-df-quickchart\" onclick=\"quickchart('df-ee362c29-7b58-420f-9442-aee4c3cd8e1f')\"\n",
       "                title=\"Suggest charts\"\n",
       "                style=\"display:none;\">\n",
       "\n",
       "<svg xmlns=\"http://www.w3.org/2000/svg\" height=\"24px\"viewBox=\"0 0 24 24\"\n",
       "     width=\"24px\">\n",
       "    <g>\n",
       "        <path d=\"M19 3H5c-1.1 0-2 .9-2 2v14c0 1.1.9 2 2 2h14c1.1 0 2-.9 2-2V5c0-1.1-.9-2-2-2zM9 17H7v-7h2v7zm4 0h-2V7h2v10zm4 0h-2v-4h2v4z\"/>\n",
       "    </g>\n",
       "</svg>\n",
       "      </button>\n",
       "\n",
       "<style>\n",
       "  .colab-df-quickchart {\n",
       "      --bg-color: #E8F0FE;\n",
       "      --fill-color: #1967D2;\n",
       "      --hover-bg-color: #E2EBFA;\n",
       "      --hover-fill-color: #174EA6;\n",
       "      --disabled-fill-color: #AAA;\n",
       "      --disabled-bg-color: #DDD;\n",
       "  }\n",
       "\n",
       "  [theme=dark] .colab-df-quickchart {\n",
       "      --bg-color: #3B4455;\n",
       "      --fill-color: #D2E3FC;\n",
       "      --hover-bg-color: #434B5C;\n",
       "      --hover-fill-color: #FFFFFF;\n",
       "      --disabled-bg-color: #3B4455;\n",
       "      --disabled-fill-color: #666;\n",
       "  }\n",
       "\n",
       "  .colab-df-quickchart {\n",
       "    background-color: var(--bg-color);\n",
       "    border: none;\n",
       "    border-radius: 50%;\n",
       "    cursor: pointer;\n",
       "    display: none;\n",
       "    fill: var(--fill-color);\n",
       "    height: 32px;\n",
       "    padding: 0;\n",
       "    width: 32px;\n",
       "  }\n",
       "\n",
       "  .colab-df-quickchart:hover {\n",
       "    background-color: var(--hover-bg-color);\n",
       "    box-shadow: 0 1px 2px rgba(60, 64, 67, 0.3), 0 1px 3px 1px rgba(60, 64, 67, 0.15);\n",
       "    fill: var(--button-hover-fill-color);\n",
       "  }\n",
       "\n",
       "  .colab-df-quickchart-complete:disabled,\n",
       "  .colab-df-quickchart-complete:disabled:hover {\n",
       "    background-color: var(--disabled-bg-color);\n",
       "    fill: var(--disabled-fill-color);\n",
       "    box-shadow: none;\n",
       "  }\n",
       "\n",
       "  .colab-df-spinner {\n",
       "    border: 2px solid var(--fill-color);\n",
       "    border-color: transparent;\n",
       "    border-bottom-color: var(--fill-color);\n",
       "    animation:\n",
       "      spin 1s steps(1) infinite;\n",
       "  }\n",
       "\n",
       "  @keyframes spin {\n",
       "    0% {\n",
       "      border-color: transparent;\n",
       "      border-bottom-color: var(--fill-color);\n",
       "      border-left-color: var(--fill-color);\n",
       "    }\n",
       "    20% {\n",
       "      border-color: transparent;\n",
       "      border-left-color: var(--fill-color);\n",
       "      border-top-color: var(--fill-color);\n",
       "    }\n",
       "    30% {\n",
       "      border-color: transparent;\n",
       "      border-left-color: var(--fill-color);\n",
       "      border-top-color: var(--fill-color);\n",
       "      border-right-color: var(--fill-color);\n",
       "    }\n",
       "    40% {\n",
       "      border-color: transparent;\n",
       "      border-right-color: var(--fill-color);\n",
       "      border-top-color: var(--fill-color);\n",
       "    }\n",
       "    60% {\n",
       "      border-color: transparent;\n",
       "      border-right-color: var(--fill-color);\n",
       "    }\n",
       "    80% {\n",
       "      border-color: transparent;\n",
       "      border-right-color: var(--fill-color);\n",
       "      border-bottom-color: var(--fill-color);\n",
       "    }\n",
       "    90% {\n",
       "      border-color: transparent;\n",
       "      border-bottom-color: var(--fill-color);\n",
       "    }\n",
       "  }\n",
       "</style>\n",
       "\n",
       "      <script>\n",
       "        async function quickchart(key) {\n",
       "          const quickchartButtonEl =\n",
       "            document.querySelector('#' + key + ' button');\n",
       "          quickchartButtonEl.disabled = true;  // To prevent multiple clicks.\n",
       "          quickchartButtonEl.classList.add('colab-df-spinner');\n",
       "          try {\n",
       "            const charts = await google.colab.kernel.invokeFunction(\n",
       "                'suggestCharts', [key], {});\n",
       "          } catch (error) {\n",
       "            console.error('Error during call to suggestCharts:', error);\n",
       "          }\n",
       "          quickchartButtonEl.classList.remove('colab-df-spinner');\n",
       "          quickchartButtonEl.classList.add('colab-df-quickchart-complete');\n",
       "        }\n",
       "        (() => {\n",
       "          let quickchartButtonEl =\n",
       "            document.querySelector('#df-ee362c29-7b58-420f-9442-aee4c3cd8e1f button');\n",
       "          quickchartButtonEl.style.display =\n",
       "            google.colab.kernel.accessAllowed ? 'block' : 'none';\n",
       "        })();\n",
       "      </script>\n",
       "    </div>\n",
       "\n",
       "    </div>\n",
       "  </div>\n"
      ],
      "text/plain": [
       "   policy_id  subscription_length  vehicle_age  customer_age region_code  \\\n",
       "0  POL045360                  9.3          1.2            41          C8   \n",
       "1  POL016745                  8.2          1.8            35          C2   \n",
       "2  POL007194                  9.5          0.2            44          C8   \n",
       "\n",
       "   region_density segment model fuel_type     max_torque  ... is_brake_assist  \\\n",
       "0            8794      C2    M4    Diesel  250Nm@2750rpm  ...             Yes   \n",
       "1           27003      C1    M9    Diesel  200Nm@1750rpm  ...              No   \n",
       "2            8794      C2    M4    Diesel  250Nm@2750rpm  ...             Yes   \n",
       "\n",
       "  is_power_door_locks  is_central_locking is_power_steering  \\\n",
       "0                 Yes                 Yes               Yes   \n",
       "1                 Yes                 Yes               Yes   \n",
       "2                 Yes                 Yes               Yes   \n",
       "\n",
       "  is_driver_seat_height_adjustable is_day_night_rear_view_mirror is_ecw  \\\n",
       "0                              Yes                            No    Yes   \n",
       "1                              Yes                           Yes    Yes   \n",
       "2                              Yes                            No    Yes   \n",
       "\n",
       "  is_speed_alert ncap_rating  claim_status  \n",
       "0            Yes           3             0  \n",
       "1            Yes           4             0  \n",
       "2            Yes           3             0  \n",
       "\n",
       "[3 rows x 41 columns]"
      ]
     },
     "metadata": {},
     "output_type": "display_data"
    },
    {
     "data": {
      "application/vnd.google.colaboratory.intrinsic+json": {
       "type": "dataframe"
      },
      "text/html": [
       "\n",
       "  <div id=\"df-159b95a3-3bf6-489d-8df8-d70efb093733\" class=\"colab-df-container\">\n",
       "    <div>\n",
       "<style scoped>\n",
       "    .dataframe tbody tr th:only-of-type {\n",
       "        vertical-align: middle;\n",
       "    }\n",
       "\n",
       "    .dataframe tbody tr th {\n",
       "        vertical-align: top;\n",
       "    }\n",
       "\n",
       "    .dataframe thead th {\n",
       "        text-align: right;\n",
       "    }\n",
       "</style>\n",
       "<table border=\"1\" class=\"dataframe\">\n",
       "  <thead>\n",
       "    <tr style=\"text-align: right;\">\n",
       "      <th></th>\n",
       "      <th>subscription_length</th>\n",
       "      <th>vehicle_age</th>\n",
       "      <th>customer_age</th>\n",
       "      <th>region_code</th>\n",
       "      <th>region_density</th>\n",
       "      <th>segment</th>\n",
       "      <th>model</th>\n",
       "      <th>fuel_type</th>\n",
       "      <th>max_torque</th>\n",
       "      <th>max_power</th>\n",
       "      <th>...</th>\n",
       "      <th>is_rear_window_defogger</th>\n",
       "      <th>is_brake_assist</th>\n",
       "      <th>is_power_door_locks</th>\n",
       "      <th>is_central_locking</th>\n",
       "      <th>is_power_steering</th>\n",
       "      <th>is_driver_seat_height_adjustable</th>\n",
       "      <th>is_day_night_rear_view_mirror</th>\n",
       "      <th>is_ecw</th>\n",
       "      <th>is_speed_alert</th>\n",
       "      <th>ncap_rating</th>\n",
       "    </tr>\n",
       "  </thead>\n",
       "  <tbody>\n",
       "    <tr>\n",
       "      <th>0</th>\n",
       "      <td>9.3</td>\n",
       "      <td>1.2</td>\n",
       "      <td>41</td>\n",
       "      <td>C8</td>\n",
       "      <td>8794</td>\n",
       "      <td>C2</td>\n",
       "      <td>M4</td>\n",
       "      <td>Diesel</td>\n",
       "      <td>250Nm@2750rpm</td>\n",
       "      <td>113.45bhp@4000rpm</td>\n",
       "      <td>...</td>\n",
       "      <td>Yes</td>\n",
       "      <td>Yes</td>\n",
       "      <td>Yes</td>\n",
       "      <td>Yes</td>\n",
       "      <td>Yes</td>\n",
       "      <td>Yes</td>\n",
       "      <td>No</td>\n",
       "      <td>Yes</td>\n",
       "      <td>Yes</td>\n",
       "      <td>3</td>\n",
       "    </tr>\n",
       "    <tr>\n",
       "      <th>1</th>\n",
       "      <td>8.2</td>\n",
       "      <td>1.8</td>\n",
       "      <td>35</td>\n",
       "      <td>C2</td>\n",
       "      <td>27003</td>\n",
       "      <td>C1</td>\n",
       "      <td>M9</td>\n",
       "      <td>Diesel</td>\n",
       "      <td>200Nm@1750rpm</td>\n",
       "      <td>97.89bhp@3600rpm</td>\n",
       "      <td>...</td>\n",
       "      <td>Yes</td>\n",
       "      <td>No</td>\n",
       "      <td>Yes</td>\n",
       "      <td>Yes</td>\n",
       "      <td>Yes</td>\n",
       "      <td>Yes</td>\n",
       "      <td>Yes</td>\n",
       "      <td>Yes</td>\n",
       "      <td>Yes</td>\n",
       "      <td>4</td>\n",
       "    </tr>\n",
       "    <tr>\n",
       "      <th>2</th>\n",
       "      <td>9.5</td>\n",
       "      <td>0.2</td>\n",
       "      <td>44</td>\n",
       "      <td>C8</td>\n",
       "      <td>8794</td>\n",
       "      <td>C2</td>\n",
       "      <td>M4</td>\n",
       "      <td>Diesel</td>\n",
       "      <td>250Nm@2750rpm</td>\n",
       "      <td>113.45bhp@4000rpm</td>\n",
       "      <td>...</td>\n",
       "      <td>Yes</td>\n",
       "      <td>Yes</td>\n",
       "      <td>Yes</td>\n",
       "      <td>Yes</td>\n",
       "      <td>Yes</td>\n",
       "      <td>Yes</td>\n",
       "      <td>No</td>\n",
       "      <td>Yes</td>\n",
       "      <td>Yes</td>\n",
       "      <td>3</td>\n",
       "    </tr>\n",
       "  </tbody>\n",
       "</table>\n",
       "<p>3 rows × 39 columns</p>\n",
       "</div>\n",
       "    <div class=\"colab-df-buttons\">\n",
       "\n",
       "  <div class=\"colab-df-container\">\n",
       "    <button class=\"colab-df-convert\" onclick=\"convertToInteractive('df-159b95a3-3bf6-489d-8df8-d70efb093733')\"\n",
       "            title=\"Convert this dataframe to an interactive table.\"\n",
       "            style=\"display:none;\">\n",
       "\n",
       "  <svg xmlns=\"http://www.w3.org/2000/svg\" height=\"24px\" viewBox=\"0 -960 960 960\">\n",
       "    <path d=\"M120-120v-720h720v720H120Zm60-500h600v-160H180v160Zm220 220h160v-160H400v160Zm0 220h160v-160H400v160ZM180-400h160v-160H180v160Zm440 0h160v-160H620v160ZM180-180h160v-160H180v160Zm440 0h160v-160H620v160Z\"/>\n",
       "  </svg>\n",
       "    </button>\n",
       "\n",
       "  <style>\n",
       "    .colab-df-container {\n",
       "      display:flex;\n",
       "      gap: 12px;\n",
       "    }\n",
       "\n",
       "    .colab-df-convert {\n",
       "      background-color: #E8F0FE;\n",
       "      border: none;\n",
       "      border-radius: 50%;\n",
       "      cursor: pointer;\n",
       "      display: none;\n",
       "      fill: #1967D2;\n",
       "      height: 32px;\n",
       "      padding: 0 0 0 0;\n",
       "      width: 32px;\n",
       "    }\n",
       "\n",
       "    .colab-df-convert:hover {\n",
       "      background-color: #E2EBFA;\n",
       "      box-shadow: 0px 1px 2px rgba(60, 64, 67, 0.3), 0px 1px 3px 1px rgba(60, 64, 67, 0.15);\n",
       "      fill: #174EA6;\n",
       "    }\n",
       "\n",
       "    .colab-df-buttons div {\n",
       "      margin-bottom: 4px;\n",
       "    }\n",
       "\n",
       "    [theme=dark] .colab-df-convert {\n",
       "      background-color: #3B4455;\n",
       "      fill: #D2E3FC;\n",
       "    }\n",
       "\n",
       "    [theme=dark] .colab-df-convert:hover {\n",
       "      background-color: #434B5C;\n",
       "      box-shadow: 0px 1px 3px 1px rgba(0, 0, 0, 0.15);\n",
       "      filter: drop-shadow(0px 1px 2px rgba(0, 0, 0, 0.3));\n",
       "      fill: #FFFFFF;\n",
       "    }\n",
       "  </style>\n",
       "\n",
       "    <script>\n",
       "      const buttonEl =\n",
       "        document.querySelector('#df-159b95a3-3bf6-489d-8df8-d70efb093733 button.colab-df-convert');\n",
       "      buttonEl.style.display =\n",
       "        google.colab.kernel.accessAllowed ? 'block' : 'none';\n",
       "\n",
       "      async function convertToInteractive(key) {\n",
       "        const element = document.querySelector('#df-159b95a3-3bf6-489d-8df8-d70efb093733');\n",
       "        const dataTable =\n",
       "          await google.colab.kernel.invokeFunction('convertToInteractive',\n",
       "                                                    [key], {});\n",
       "        if (!dataTable) return;\n",
       "\n",
       "        const docLinkHtml = 'Like what you see? Visit the ' +\n",
       "          '<a target=\"_blank\" href=https://colab.research.google.com/notebooks/data_table.ipynb>data table notebook</a>'\n",
       "          + ' to learn more about interactive tables.';\n",
       "        element.innerHTML = '';\n",
       "        dataTable['output_type'] = 'display_data';\n",
       "        await google.colab.output.renderOutput(dataTable, element);\n",
       "        const docLink = document.createElement('div');\n",
       "        docLink.innerHTML = docLinkHtml;\n",
       "        element.appendChild(docLink);\n",
       "      }\n",
       "    </script>\n",
       "  </div>\n",
       "\n",
       "\n",
       "    <div id=\"df-bf31e8c2-ebee-4a58-b6a6-aa6f34e8f0e9\">\n",
       "      <button class=\"colab-df-quickchart\" onclick=\"quickchart('df-bf31e8c2-ebee-4a58-b6a6-aa6f34e8f0e9')\"\n",
       "                title=\"Suggest charts\"\n",
       "                style=\"display:none;\">\n",
       "\n",
       "<svg xmlns=\"http://www.w3.org/2000/svg\" height=\"24px\"viewBox=\"0 0 24 24\"\n",
       "     width=\"24px\">\n",
       "    <g>\n",
       "        <path d=\"M19 3H5c-1.1 0-2 .9-2 2v14c0 1.1.9 2 2 2h14c1.1 0 2-.9 2-2V5c0-1.1-.9-2-2-2zM9 17H7v-7h2v7zm4 0h-2V7h2v10zm4 0h-2v-4h2v4z\"/>\n",
       "    </g>\n",
       "</svg>\n",
       "      </button>\n",
       "\n",
       "<style>\n",
       "  .colab-df-quickchart {\n",
       "      --bg-color: #E8F0FE;\n",
       "      --fill-color: #1967D2;\n",
       "      --hover-bg-color: #E2EBFA;\n",
       "      --hover-fill-color: #174EA6;\n",
       "      --disabled-fill-color: #AAA;\n",
       "      --disabled-bg-color: #DDD;\n",
       "  }\n",
       "\n",
       "  [theme=dark] .colab-df-quickchart {\n",
       "      --bg-color: #3B4455;\n",
       "      --fill-color: #D2E3FC;\n",
       "      --hover-bg-color: #434B5C;\n",
       "      --hover-fill-color: #FFFFFF;\n",
       "      --disabled-bg-color: #3B4455;\n",
       "      --disabled-fill-color: #666;\n",
       "  }\n",
       "\n",
       "  .colab-df-quickchart {\n",
       "    background-color: var(--bg-color);\n",
       "    border: none;\n",
       "    border-radius: 50%;\n",
       "    cursor: pointer;\n",
       "    display: none;\n",
       "    fill: var(--fill-color);\n",
       "    height: 32px;\n",
       "    padding: 0;\n",
       "    width: 32px;\n",
       "  }\n",
       "\n",
       "  .colab-df-quickchart:hover {\n",
       "    background-color: var(--hover-bg-color);\n",
       "    box-shadow: 0 1px 2px rgba(60, 64, 67, 0.3), 0 1px 3px 1px rgba(60, 64, 67, 0.15);\n",
       "    fill: var(--button-hover-fill-color);\n",
       "  }\n",
       "\n",
       "  .colab-df-quickchart-complete:disabled,\n",
       "  .colab-df-quickchart-complete:disabled:hover {\n",
       "    background-color: var(--disabled-bg-color);\n",
       "    fill: var(--disabled-fill-color);\n",
       "    box-shadow: none;\n",
       "  }\n",
       "\n",
       "  .colab-df-spinner {\n",
       "    border: 2px solid var(--fill-color);\n",
       "    border-color: transparent;\n",
       "    border-bottom-color: var(--fill-color);\n",
       "    animation:\n",
       "      spin 1s steps(1) infinite;\n",
       "  }\n",
       "\n",
       "  @keyframes spin {\n",
       "    0% {\n",
       "      border-color: transparent;\n",
       "      border-bottom-color: var(--fill-color);\n",
       "      border-left-color: var(--fill-color);\n",
       "    }\n",
       "    20% {\n",
       "      border-color: transparent;\n",
       "      border-left-color: var(--fill-color);\n",
       "      border-top-color: var(--fill-color);\n",
       "    }\n",
       "    30% {\n",
       "      border-color: transparent;\n",
       "      border-left-color: var(--fill-color);\n",
       "      border-top-color: var(--fill-color);\n",
       "      border-right-color: var(--fill-color);\n",
       "    }\n",
       "    40% {\n",
       "      border-color: transparent;\n",
       "      border-right-color: var(--fill-color);\n",
       "      border-top-color: var(--fill-color);\n",
       "    }\n",
       "    60% {\n",
       "      border-color: transparent;\n",
       "      border-right-color: var(--fill-color);\n",
       "    }\n",
       "    80% {\n",
       "      border-color: transparent;\n",
       "      border-right-color: var(--fill-color);\n",
       "      border-bottom-color: var(--fill-color);\n",
       "    }\n",
       "    90% {\n",
       "      border-color: transparent;\n",
       "      border-bottom-color: var(--fill-color);\n",
       "    }\n",
       "  }\n",
       "</style>\n",
       "\n",
       "      <script>\n",
       "        async function quickchart(key) {\n",
       "          const quickchartButtonEl =\n",
       "            document.querySelector('#' + key + ' button');\n",
       "          quickchartButtonEl.disabled = true;  // To prevent multiple clicks.\n",
       "          quickchartButtonEl.classList.add('colab-df-spinner');\n",
       "          try {\n",
       "            const charts = await google.colab.kernel.invokeFunction(\n",
       "                'suggestCharts', [key], {});\n",
       "          } catch (error) {\n",
       "            console.error('Error during call to suggestCharts:', error);\n",
       "          }\n",
       "          quickchartButtonEl.classList.remove('colab-df-spinner');\n",
       "          quickchartButtonEl.classList.add('colab-df-quickchart-complete');\n",
       "        }\n",
       "        (() => {\n",
       "          let quickchartButtonEl =\n",
       "            document.querySelector('#df-bf31e8c2-ebee-4a58-b6a6-aa6f34e8f0e9 button');\n",
       "          quickchartButtonEl.style.display =\n",
       "            google.colab.kernel.accessAllowed ? 'block' : 'none';\n",
       "        })();\n",
       "      </script>\n",
       "    </div>\n",
       "\n",
       "    </div>\n",
       "  </div>\n"
      ],
      "text/plain": [
       "   subscription_length  vehicle_age  customer_age region_code  region_density  \\\n",
       "0                  9.3          1.2            41          C8            8794   \n",
       "1                  8.2          1.8            35          C2           27003   \n",
       "2                  9.5          0.2            44          C8            8794   \n",
       "\n",
       "  segment model fuel_type     max_torque          max_power  ...  \\\n",
       "0      C2    M4    Diesel  250Nm@2750rpm  113.45bhp@4000rpm  ...   \n",
       "1      C1    M9    Diesel  200Nm@1750rpm   97.89bhp@3600rpm  ...   \n",
       "2      C2    M4    Diesel  250Nm@2750rpm  113.45bhp@4000rpm  ...   \n",
       "\n",
       "  is_rear_window_defogger  is_brake_assist is_power_door_locks  \\\n",
       "0                     Yes              Yes                 Yes   \n",
       "1                     Yes               No                 Yes   \n",
       "2                     Yes              Yes                 Yes   \n",
       "\n",
       "  is_central_locking is_power_steering is_driver_seat_height_adjustable  \\\n",
       "0                Yes               Yes                              Yes   \n",
       "1                Yes               Yes                              Yes   \n",
       "2                Yes               Yes                              Yes   \n",
       "\n",
       "  is_day_night_rear_view_mirror is_ecw  is_speed_alert  ncap_rating  \n",
       "0                            No    Yes             Yes            3  \n",
       "1                           Yes    Yes             Yes            4  \n",
       "2                            No    Yes             Yes            3  \n",
       "\n",
       "[3 rows x 39 columns]"
      ]
     },
     "metadata": {},
     "output_type": "display_data"
    }
   ],
   "source": [
    "df = pd.read_csv(\"Insurance claims data.csv\")\n",
    "display(df.head(3))\n",
    "\n",
    "target_col = \"claim_status\"\n",
    "\n",
    "# Gereksiz Sütunları Çıkarma: policy_id (poliçe numarası) gibi kimlik belirten sütunlar,\n",
    "# her bir kayıt için genellikle benzersizdir. Bu tür sütunların modelin bir desen öğrenmesi\n",
    "# veya genelleme yapması için hiçbir faydası yoktur.\n",
    "\n",
    "df.drop([\"policy_id\"], inplace=True, axis=1)\n",
    "\n",
    "y_raw = df[target_col]\n",
    "\n",
    "if y_raw.dtype.kind in \"OUSb\":\n",
    "    cat = pd.Categorical(y_raw)\n",
    "    y = pd.Series(cat.codes, index=y_raw.index, name=target_col)\n",
    "else:\n",
    "    y = pd.Series(y_raw.astype(int), name=target_col)\n",
    "\n",
    "X = df.drop(columns=[target_col])\n",
    "display(X.head(3))"
   ]
  },
  {
   "cell_type": "markdown",
   "id": "Dos6rs4ziGLm",
   "metadata": {
    "id": "Dos6rs4ziGLm"
   },
   "source": [
    "## Kendi Transformer Objectlerimiz"
   ]
  },
  {
   "cell_type": "markdown",
   "id": "wTpa5-dCrkgI",
   "metadata": {
    "id": "wTpa5-dCrkgI"
   },
   "source": [
    "Daha önceki notebook adımlarımızda, `max_power` ve `max_torque` gibi metin sütunlarından sayısal değerler çıkarmak için bir dizi `pandas` ve `re` komutu kullanmıştık.\n",
    "\n",
    "Bu bize tek seferlik bir analiz için işe yarar. Ancak bu adımı her yeni veri geldiğinde (örneğin test verisi) tekrar tekrar, hatasız bir şekilde uygulamak ve tüm veri ön işleme adımlarını bir araya getirmek istediğimizde bu yaklaşım yetersiz kalır.\n",
    "\n",
    "**Çözüm**: Bu mantığı yeniden kullanılabilir bir \"veri işleme adımı\" haline getiren özel bir Scikit-learn `Transformer` sınıfı yazmaktır.\n"
   ]
  },
  {
   "cell_type": "markdown",
   "id": "PyL4a7Turw4C",
   "metadata": {
    "id": "PyL4a7Turw4C"
   },
   "source": [
    "* BaseEstimator ve TransformerMixin'den Miras Almak:\n",
    "\n",
    "  * `BaseEstimator`, modelin parametrelerini almak (get_params) ve ayarlamak (set_params) gibi standart metodları bize verir. Bu özellikle hiperparametre optimizasyonu gibi adımlarda kullanışlı olur.\n",
    "  * `TransformerMixin`, `fit` ve `transform` metodlarını birleştiren `fit_transform` metodunu otomatik olarak oluşturur.\n"
   ]
  },
  {
   "cell_type": "code",
   "execution_count": 8,
   "id": "o-ZM2lvThipP",
   "metadata": {
    "executionInfo": {
     "elapsed": 43,
     "status": "ok",
     "timestamp": 1755702453174,
     "user": {
      "displayName": "Kaan Bıçakcı",
      "userId": "12951043854473247756"
     },
     "user_tz": -60
    },
    "id": "o-ZM2lvThipP"
   },
   "outputs": [],
   "source": [
    "class PowerTorqueRegexExtractor(BaseEstimator, TransformerMixin):\n",
    "\n",
    "    def __init__(self, power_col=\"max_power\", torque_col=\"max_torque\"):\n",
    "\n",
    "        self.power_col = power_col\n",
    "        self.torque_col = torque_col\n",
    "\n",
    "        self.bhp_pat = re.compile(r\"([0-9]+\\.?[0-9]*)\\s*bhp\", re.I)\n",
    "        self.rpm_pat = re.compile(r\"@\\s*([0-9]+)\\s*rpm\", re.I)\n",
    "        self.nm_pat = re.compile(r\"([0-9]+\\.?[0-9]*)\\s*nm\", re.I)\n",
    "\n",
    "    def fit(self, X, y=None):\n",
    "        \"\"\"\n",
    "        Sklearn' de fit metodu, transformerın veriden bir şeyler \"öğrendiği\" yerdir.\n",
    "        Örneğin, bir StandardScaler burada eğitim verisinin ortalamasını ve standart\n",
    "        sapmasını öğrenir. Ancak bizim PowerTorqueRegexExtractor'ımız stateless\n",
    "        (durumsuz)'dir. Yani veriden öğrenmesi gereken hiçbir şey yoktur. Uygulayacağı\n",
    "        kurallar (Regex kalıpları) sabittir. Bu nedenle fit metodu hiçbir şey yapmaz ve\n",
    "        standart olarak self (yani nesnenin kendisini) döndürür.\n",
    "        \"\"\"\n",
    "        return self\n",
    "\n",
    "    def transform(self, X):\n",
    "        s_power = X[self.power_col].astype(str)\n",
    "        s_torque = X[self.torque_col].astype(str)\n",
    "\n",
    "        X[\"power_bhp\"] = pd.to_numeric(\n",
    "            s_power.str.extract(self.bhp_pat)[0], errors=\"coerce\"\n",
    "        )\n",
    "        X[\"power_rpm\"] = pd.to_numeric(\n",
    "            s_power.str.extract(self.rpm_pat)[0], errors=\"coerce\"\n",
    "        )\n",
    "        X[\"torque_nm\"] = pd.to_numeric(\n",
    "            s_torque.str.extract(self.nm_pat)[0], errors=\"coerce\"\n",
    "        )\n",
    "        X[\"torque_rpm\"] = pd.to_numeric(\n",
    "            s_torque.str.extract(self.rpm_pat)[0], errors=\"coerce\"\n",
    "        )\n",
    "\n",
    "        X[\"bhp_per_nm\"] = X[\"power_bhp\"] / X[\"torque_nm\"]\n",
    "\n",
    "        # Orijinal metin sütunlarını kaldır\n",
    "        # inplace=False (varsayılan) ile bir kopya döndürülür, bu da zincirleme için daha güvenlidir.\n",
    "        return X.drop(columns=[self.power_col, self.torque_col])"
   ]
  },
  {
   "cell_type": "markdown",
   "id": "V_AF3rQysctD",
   "metadata": {
    "id": "V_AF3rQysctD"
   },
   "source": [
    "#### Neden Önemli?\n",
    "\n",
    "Bu sınıfı oluşturarak şunları elde ettik:\n",
    "\n",
    "1.  **Kapsülleme (Encapsulation):** Karmaşık özellik mühendisliği mantığını tek bir, iyi tanımlanmış nesne içine hapsettik.\n",
    "\n",
    "2.  **Tekrarlanabilirlik (Reproducibility):** Bu adımı artık bir `Pipeline`'in parçası olarak hem eğitim hem de test verisine **tamamen aynı şekilde** uygulayabiliriz. Bu, manuel hataları ve tutarsızlıkları ortadan kaldırır.\n",
    "\n",
    "3.  **Veri Sızıntısını Önleme (Data Leakage):** `fit` ve `transform` ayrımı, tüm öğrenme işlemlerinin **sadece eğitim verisi üzerinde** yapılmasını garanti altına alır. Bizim durumumuzda bu geçerli olmasa da, `SimpleImputer` veya `StandardScaler` gibi \"stateful\" dönüştürücüler için bu hayati önem taşır.\n",
    "\n",
    "4.  **Temiz Kod:** Ana kod akışımız, karmaşık `pandas` işlemleriyle dolmak yerine, `Pipeline`'e eklenen basit bir `PowerTorqueRegexExtractor()` adımıyla çok daha okunabilir hale gelir ve bunu sklearn pipeline içinde kullanabiliriz.\n",
    "\n",
    "Pipeline'ı kaydettiğimiz zaman manuel preprocess yapmamıza gerek kalmayacak."
   ]
  },
  {
   "cell_type": "markdown",
   "id": "taFmzbF-iJcP",
   "metadata": {
    "id": "taFmzbF-iJcP"
   },
   "source": [
    "## Eğitim ve Test Setleri (`train_test_split`)"
   ]
  },
  {
   "cell_type": "markdown",
   "id": "JtuZh963tAmO",
   "metadata": {
    "id": "JtuZh963tAmO"
   },
   "source": [
    "Bir ML modeli eğittiğimizde, nihai amacımız onun **daha önce hiç görmediği** yeni veriler üzerinde ne kadar iyi performans göstereceğini bilmektir.\n",
    "\n",
    "Eğer modelimizi elimizdeki tüm veriyi kullanarak eğitir ve sonra performansını yine aynı veri üzerinde test edersek, bu bir öğrencinin cevaplarını ezberlediği bir sınava girmesine benzer. Öğrenci sınavda 100 alabilir, ancak bu onun konuyu gerçekten öğrendiği anlamına gelmez, sadece cevapları ezberlemiştir.\n",
    "\n",
    "Bu \"ezberleme\" (overfitting) sorununu önlemek ve modelimizin gerçek dünyadaki performansını dürüstçe ölçmek için, veri setimizi iki parçaya ayırırız:\n",
    "\n",
    "1.  **Eğitim Seti (Training Set):** Modelin, özellikler (`X`) ve hedef (`y`) arasındaki ilişkileri \"öğreneceği\" veri parçasıdır. Ders çalışılan kitaptır.\n",
    "\n",
    "2.  **Test Seti (Test Set):** Model eğitildikten sonra, performansını ölçmek için kullanılacak olan, tamamen ayrılmış ve \"kilitli bir kutuda\" saklanmış veri parçasıdır. Modelimiz eğitim süreci boyunca bu veriyi **asla görmez**. Bu da öğrendiklerini ölçen final sınavıdır.\n"
   ]
  },
  {
   "cell_type": "code",
   "execution_count": 9,
   "id": "4mZkp9cqhlp2",
   "metadata": {
    "executionInfo": {
     "elapsed": 69,
     "status": "ok",
     "timestamp": 1755702457228,
     "user": {
      "displayName": "Kaan Bıçakcı",
      "userId": "12951043854473247756"
     },
     "user_tz": -60
    },
    "id": "4mZkp9cqhlp2"
   },
   "outputs": [],
   "source": [
    "X_train, X_test, y_train, y_test = train_test_split(\n",
    "    X, y, test_size=0.2, random_state=SEED, stratify=y\n",
    ")"
   ]
  },
  {
   "cell_type": "markdown",
   "id": "g0EJ56lgiMVw",
   "metadata": {
    "id": "g0EJ56lgiMVw"
   },
   "source": [
    "## Preprocessing Pipeline"
   ]
  },
  {
   "cell_type": "markdown",
   "id": "ET9jGNKPJscN",
   "metadata": {
    "id": "ET9jGNKPJscN"
   },
   "source": [
    "### Dataclass ile Veri Tiplerini Yönetmek"
   ]
  },
  {
   "cell_type": "markdown",
   "id": "NYjQnEHIHbak",
   "metadata": {
    "id": "NYjQnEHIHbak"
   },
   "source": [
    "Bir ML projesi ilerledikçe, sadece verinin kendisiyle değil, aynı zamanda **veri hakkındaki veriyle (metadata)** de çalışmamız gerekir:\n",
    "* Hangi sütun sayısal,\n",
    "* Hangisi kategorik\n",
    "* Hangisinde kaç benzersiz değer var?\n",
    "\n",
    "Bu bilgileri düzensiz listeler veya sözlükler içinde tutmak, kodun karmaşıklaşmasına ve hatalara yol açabilir."
   ]
  },
  {
   "cell_type": "markdown",
   "id": "39VJx7A0Jr-g",
   "metadata": {
    "id": "39VJx7A0Jr-g"
   },
   "source": []
  },
  {
   "cell_type": "code",
   "execution_count": 10,
   "id": "PI6SR0qU6jVd",
   "metadata": {
    "executionInfo": {
     "elapsed": 3,
     "status": "ok",
     "timestamp": 1755702459765,
     "user": {
      "displayName": "Kaan Bıçakcı",
      "userId": "12951043854473247756"
     },
     "user_tz": -60
    },
    "id": "PI6SR0qU6jVd"
   },
   "outputs": [],
   "source": [
    "from dataclasses import dataclass\n",
    "\n",
    "\n",
    "@dataclass\n",
    "class ColumnInfo:\n",
    "    name: str\n",
    "    dtype: str\n",
    "    n_unique: int"
   ]
  },
  {
   "cell_type": "code",
   "execution_count": 11,
   "id": "32lVEPMn6c98",
   "metadata": {
    "colab": {
     "base_uri": "https://localhost:8080/"
    },
    "executionInfo": {
     "elapsed": 83,
     "status": "ok",
     "timestamp": 1755702460929,
     "user": {
      "displayName": "Kaan Bıçakcı",
      "userId": "12951043854473247756"
     },
     "user_tz": -60
    },
    "id": "32lVEPMn6c98",
    "outputId": "68dd3d36-f240-4165-d814-f4d825e6da86"
   },
   "outputs": [
    {
     "name": "stdout",
     "output_type": "stream",
     "text": [
      "ColumnInfo(name='subscription_length', dtype=dtype('float64'), n_unique=140)\n",
      "ColumnInfo(name='vehicle_age', dtype=dtype('float64'), n_unique=49)\n",
      "ColumnInfo(name='customer_age', dtype=dtype('int64'), n_unique=41)\n",
      "ColumnInfo(name='region_code', dtype=dtype('O'), n_unique=22)\n",
      "ColumnInfo(name='region_density', dtype=dtype('int64'), n_unique=22)\n",
      "ColumnInfo(name='segment', dtype=dtype('O'), n_unique=6)\n",
      "ColumnInfo(name='model', dtype=dtype('O'), n_unique=11)\n",
      "ColumnInfo(name='fuel_type', dtype=dtype('O'), n_unique=3)\n",
      "ColumnInfo(name='max_torque', dtype=dtype('O'), n_unique=9)\n",
      "ColumnInfo(name='max_power', dtype=dtype('O'), n_unique=9)\n",
      "ColumnInfo(name='engine_type', dtype=dtype('O'), n_unique=11)\n",
      "ColumnInfo(name='airbags', dtype=dtype('int64'), n_unique=3)\n",
      "ColumnInfo(name='is_esc', dtype=dtype('O'), n_unique=2)\n",
      "ColumnInfo(name='is_adjustable_steering', dtype=dtype('O'), n_unique=2)\n",
      "ColumnInfo(name='is_tpms', dtype=dtype('O'), n_unique=2)\n",
      "ColumnInfo(name='is_parking_sensors', dtype=dtype('O'), n_unique=2)\n",
      "ColumnInfo(name='is_parking_camera', dtype=dtype('O'), n_unique=2)\n",
      "ColumnInfo(name='rear_brakes_type', dtype=dtype('O'), n_unique=2)\n",
      "ColumnInfo(name='displacement', dtype=dtype('int64'), n_unique=9)\n",
      "ColumnInfo(name='cylinder', dtype=dtype('int64'), n_unique=2)\n",
      "ColumnInfo(name='transmission_type', dtype=dtype('O'), n_unique=2)\n",
      "ColumnInfo(name='steering_type', dtype=dtype('O'), n_unique=3)\n",
      "ColumnInfo(name='turning_radius', dtype=dtype('float64'), n_unique=9)\n",
      "ColumnInfo(name='length', dtype=dtype('int64'), n_unique=9)\n",
      "ColumnInfo(name='width', dtype=dtype('int64'), n_unique=10)\n",
      "ColumnInfo(name='gross_weight', dtype=dtype('int64'), n_unique=10)\n",
      "ColumnInfo(name='is_front_fog_lights', dtype=dtype('O'), n_unique=2)\n",
      "ColumnInfo(name='is_rear_window_wiper', dtype=dtype('O'), n_unique=2)\n",
      "ColumnInfo(name='is_rear_window_washer', dtype=dtype('O'), n_unique=2)\n",
      "ColumnInfo(name='is_rear_window_defogger', dtype=dtype('O'), n_unique=2)\n",
      "ColumnInfo(name='is_brake_assist', dtype=dtype('O'), n_unique=2)\n",
      "ColumnInfo(name='is_power_door_locks', dtype=dtype('O'), n_unique=2)\n",
      "ColumnInfo(name='is_central_locking', dtype=dtype('O'), n_unique=2)\n",
      "ColumnInfo(name='is_power_steering', dtype=dtype('O'), n_unique=2)\n",
      "ColumnInfo(name='is_driver_seat_height_adjustable', dtype=dtype('O'), n_unique=2)\n",
      "ColumnInfo(name='is_day_night_rear_view_mirror', dtype=dtype('O'), n_unique=2)\n",
      "ColumnInfo(name='is_ecw', dtype=dtype('O'), n_unique=2)\n",
      "ColumnInfo(name='is_speed_alert', dtype=dtype('O'), n_unique=2)\n",
      "ColumnInfo(name='ncap_rating', dtype=dtype('int64'), n_unique=5)\n",
      "ColumnInfo(name='claim_status', dtype=dtype('int64'), n_unique=2)\n"
     ]
    }
   ],
   "source": [
    "column_info_list = [\n",
    "    ColumnInfo(name=col, dtype=df[col].dtype, n_unique=df[col].nunique())\n",
    "    for col in df.columns\n",
    "]\n",
    "\n",
    "for info in column_info_list:\n",
    "    print(info)"
   ]
  },
  {
   "cell_type": "markdown",
   "id": "ZTrtxXoEJv7K",
   "metadata": {
    "id": "ZTrtxXoEJv7K"
   },
   "source": [
    "### Column Transformer İçin Sütunları Seçmek"
   ]
  },
  {
   "cell_type": "markdown",
   "id": "xgWhYSrnH8W7",
   "metadata": {
    "id": "xgWhYSrnH8W7"
   },
   "source": [
    "Bir ML modeli kurmadan önce, her bir özelliğe doğru preprocessing adımını uygulamamız gerekir. Sayısal bir sütuna metin işlemi uygulayamayız veya kategorik bir sütunun ortalamasını alamayız.\n",
    "\n",
    "Burada DataFrame'deki her bir sütunu, kendisine uygulanacak olan işleme göre **otomatik olarak doğru gruba atamaktır**.\n",
    "\n",
    "Bu şekilde `ColumnTransformer` gibi güçlü Sklearn araçlarını kullanarak temiz ve verimli bir ön işleme pipeline'ı oluşturmamız için temel bir adımdır.\n"
   ]
  },
  {
   "cell_type": "code",
   "execution_count": 14,
   "id": "D876evfHFYss",
   "metadata": {
    "colab": {
     "base_uri": "https://localhost:8080/"
    },
    "executionInfo": {
     "elapsed": 16,
     "status": "ok",
     "timestamp": 1755702483607,
     "user": {
      "displayName": "Kaan Bıçakcı",
      "userId": "12951043854473247756"
     },
     "user_tz": -60
    },
    "id": "D876evfHFYss",
    "outputId": "650a763c-0d5a-44e2-a59c-aa07120eb987"
   },
   "outputs": [
    {
     "name": "stdout",
     "output_type": "stream",
     "text": [
      "Total 40 sütun eşleşti\n",
      "Numeric Columns (9): ['subscription_length', 'vehicle_age', 'customer_age', 'region_density', 'displacement', 'turning_radius', 'length', 'width', 'gross_weight']\n",
      "Binary Columns (19): ['is_esc', 'is_adjustable_steering', 'is_tpms', 'is_parking_sensors', 'is_parking_camera', 'rear_brakes_type', 'transmission_type', 'is_front_fog_lights', 'is_rear_window_wiper', 'is_rear_window_washer', 'is_rear_window_defogger', 'is_brake_assist', 'is_power_door_locks', 'is_central_locking', 'is_power_steering', 'is_driver_seat_height_adjustable', 'is_day_night_rear_view_mirror', 'is_ecw', 'is_speed_alert']\n",
      "OHE Columns (6): ['region_code', 'segment', 'model', 'fuel_type', 'engine_type', 'steering_type']\n",
      "Manually Defined Ordinal Columns (3): ['ncap_rating', 'airbags', 'cylinder']\n"
     ]
    }
   ],
   "source": [
    "numeric_cols = []\n",
    "binary_cols = []\n",
    "ohe_cols = []\n",
    "ordinal_cols = [\"ncap_rating\", \"airbags\", \"cylinder\"]\n",
    "\n",
    "# Bu iki sütunun daha önce yazdığımız özel PowerTorqueRegexExtractor sınıfı tarafından\n",
    "# işleneceğini biliyoruz. Bu yüzden onları diğer tüm gruplardan ayrı tutmamız gerekir.\n",
    "CUSTOM_FE_COLS = [\"max_power\", \"max_torque\"]\n",
    "\n",
    "handled_cols = set(ordinal_cols + CUSTOM_FE_COLS)\n",
    "\n",
    "\"\"\"\n",
    "Bu for döngüsü, daha önce oluşturduğumuz column_info_list'teki her bir sütun bilgisini\n",
    "(ColumnInfo nesnesini) tek tek gezer ve bir dizi kurala göre doğru listeye atar.\n",
    "\"\"\"\n",
    "for info in column_info_list:\n",
    "    # Daha önce manuel olarak ayırdığımız sütunları bir set'e koyarız.\n",
    "    # Bir set içinde bir öğeyi aramak, bir listede aramaktan çok daha hızlıdır\n",
    "    if info.name in handled_cols:\n",
    "        continue\n",
    "\n",
    "    # Eğer bir sütunun sadece 2 benzersiz değeri varsa (örn: 'Yes'/'No', True/False, 0/1),\n",
    "    # bu bir ikili (binary) özelliktir. Bu sütunlar genellikle basit OrdinalEncoder\n",
    "    # ile 0 ve 1'e dönüştürülür.\n",
    "    if info.n_unique == 2:\n",
    "        binary_cols.append(info.name)\n",
    "\n",
    "    # Eğer yukarıdaki değilse ve sütunun veri tipi int64, float64 gibi genel bir sayısal\n",
    "    # tip ise bu bir numeric_col'dur. Bu sütunlara genellikle bir scaler\n",
    "    # (StandardScaler gibi) uygulanır.\n",
    "    elif np.issubdtype(info.dtype, np.number):\n",
    "        numeric_cols.append(info.name)\n",
    "\n",
    "    # Binary ve Numeric değilse bu aşamaya gelinir. En son kalan tipler object ise\n",
    "    # Bunlara OHE uygularız. Şehir isimleri örnek verilebilir.\n",
    "    elif info.dtype == \"O\":\n",
    "        ohe_cols.append(info.name)\n",
    "    else:\n",
    "        print(f\"Warning: Sütun '{info.name}' kategorize edilemedi.\")\n",
    "\n",
    "total_cols_in_df = len(column_info_list)\n",
    "processed_cols_count = (\n",
    "    len(numeric_cols)\n",
    "    + len(binary_cols)\n",
    "    + len(ohe_cols)\n",
    "    + len(ordinal_cols)\n",
    "    + len(CUSTOM_FE_COLS)\n",
    ")\n",
    "\n",
    "# Hedef değişkenimiz (claim_status) de 0 ve 1'lerden oluştuğu için binary_cols\n",
    "# listesine otomatik olarak girmiştir. Ancak hedef, bir feature değildir.\n",
    "# Bu yüzden onu özellik listelerimizden çıkarmamız gerekir.\n",
    "\n",
    "binary_cols.remove(target_col)\n",
    "\n",
    "# DataFrame'deki toplam sütun sayısı, bizim gruplara ayırdığımız toplam\n",
    "# sütun sayısına eşit mi?\n",
    "assert (\n",
    "    total_cols_in_df == processed_cols_count\n",
    "), f\"Sütun sayısı tutarsız! DF: {total_cols_in_df}, pipeline: {processed_cols_count}\"\n",
    "\n",
    "print(f\"Total {total_cols_in_df} sütun eşleşti\")\n",
    "print(f\"Numeric Columns ({len(numeric_cols)}): {numeric_cols}\")\n",
    "print(f\"Binary Columns ({len(binary_cols)}): {binary_cols}\")\n",
    "print(f\"OHE Columns ({len(ohe_cols)}): {ohe_cols}\")\n",
    "print(f\"Manually Defined Ordinal Columns ({len(ordinal_cols)}): {ordinal_cols}\")"
   ]
  },
  {
   "cell_type": "markdown",
   "id": "sxTgdxHsMM2v",
   "metadata": {
    "id": "sxTgdxHsMM2v"
   },
   "source": [
    "Bir sonraki adım olan preprocess pipeline'ını (ColumnTransformer) kurmak için ihtiyacımız olan her şeyi artık elde etmiş olduk. Hangi sütun grubuna hangi işlemin uygulanacağını gösteren temiz ve doğrulanmış listeler."
   ]
  },
  {
   "cell_type": "markdown",
   "id": "bq-hErMNQIGU",
   "metadata": {
    "id": "bq-hErMNQIGU"
   },
   "source": [
    "### Ve Çok Beklenen Pipeline\n",
    "\n",
    "EDA sürecinde birçok karar aldık:\n",
    "\n",
    "*   Sayısal sütunlardaki eksik değerleri **medyan** ile dolduracağız.\n",
    "*   Sayısal sütunları **ölçeklendireceğiz** (`StandardScaler`).\n",
    "*   Kategorik sütunlardaki eksik değerleri **en sık değerle** dolduracağız.\n",
    "*   İkili (binary) ve sıralı (ordinal) sütunları **sayısal etiketlere** dönüştüreceğiz (`OrdinalEncoder`).\n",
    "*   Diğer kategorik sütunları **One-Hot Encoding** ile kukla değişkenlere (dummy variables) çevireceğiz.\n",
    "*   Özel `PowerTorqueRegexExtractor` sınıfımızla **özellik mühendisliği** yapacağız.\n",
    "\n",
    "Bu adımları eğitim ve test setlerine manuel olarak ayrı ayrı uygulamak hem zahmetli hem de hataya açıktır. **`Pipeline`** ve **`ColumnTransformer`**, bu adımların tamamını tek ve yeniden kullanılabilir nesnede birleştirmemizi sağlar.\n"
   ]
  },
  {
   "cell_type": "code",
   "execution_count": 15,
   "id": "8tUHmQthhnU2",
   "metadata": {
    "colab": {
     "base_uri": "https://localhost:8080/"
    },
    "executionInfo": {
     "elapsed": 12,
     "status": "ok",
     "timestamp": 1755702490079,
     "user": {
      "displayName": "Kaan Bıçakcı",
      "userId": "12951043854473247756"
     },
     "user_tz": -60
    },
    "id": "8tUHmQthhnU2",
    "outputId": "e494ca2d-bd7f-49a6-c162-6bc933ddc554"
   },
   "outputs": [
    {
     "name": "stdout",
     "output_type": "stream",
     "text": [
      "--- Pipeline Oluşturuldu ---\n"
     ]
    }
   ],
   "source": [
    "# 1. Sayısal Sütunlar\n",
    "# Eksik değerleri medyan ile doldur, sonra veriyi standartlaştır.\n",
    "numeric_tf = Pipeline(\n",
    "    steps=[(\"imputer\", SimpleImputer(strategy=\"median\")), (\"scaler\", StandardScaler())]\n",
    ")\n",
    "\n",
    "# 2. İkili (Binary) Sütunlar\n",
    "# Eksik değerleri en sık değerle doldur, sonra kategorileri\n",
    "# (örn: Yes/No) 0/1 gibi sayılara çevir.\n",
    "# DÜZELTME: Test setinde eğitimde görülmeyen bir kategori gelirse hata verme,\n",
    "# -1 gibi özel bir değer ata.\n",
    "binary_tf = Pipeline(\n",
    "    steps=[\n",
    "        (\"imputer\", SimpleImputer(strategy=\"most_frequent\")),\n",
    "        (\n",
    "            \"encoder\",\n",
    "            OrdinalEncoder(handle_unknown=\"use_encoded_value\", unknown_value=-1),\n",
    "        ),\n",
    "    ]\n",
    ")\n",
    "\n",
    "# 3. One-Hot Encoding Uygulanacak Sütunlar\n",
    "# Eksik değerleri doldur, sonra her kategoriyi yeni bir sütuna çevir.\n",
    "# handle_unknown='ignore': Test setinde yeni bir kategori görürsen hata verme, o satır için tüm yeni sütunları 0 yap.\n",
    "# max_categories=10: Çok fazla kategori varsa (gürültü), en sık 10 tanesini al, gerisini tek bir 'diğer' kategorisinde birleştir.\n",
    "ohe_tf = Pipeline(\n",
    "    steps=[\n",
    "        (\"imputer\", SimpleImputer(strategy=\"most_frequent\")),\n",
    "        (\n",
    "            \"ohe\",\n",
    "            OneHotEncoder(\n",
    "                handle_unknown=\"infrequent_if_exist\",  # Yeni kategori görürsen 'nadir' olarak işaretle\n",
    "                sparse_output=False,\n",
    "                max_categories=10,  # En sık 10 kategori + 1 'nadir' kategorisi oluştur\n",
    "            ),\n",
    "        ),\n",
    "    ]\n",
    ")\n",
    "\n",
    "# 4. Sıralı (Ordinal) Sütunlar\n",
    "# İkili (binary) pipeline ile aynı mantık.\n",
    "ordinal_tf = Pipeline(\n",
    "    steps=[\n",
    "        (\"imputer\", SimpleImputer(strategy=\"most_frequent\")),\n",
    "        (\n",
    "            \"encoder\",\n",
    "            OrdinalEncoder(handle_unknown=\"use_encoded_value\", unknown_value=-1),\n",
    "        ),\n",
    "    ]\n",
    ")\n",
    "\n",
    "# 5. Sütun Yönlendirici diyebiliriz (ColumnTransformer)\n",
    "# Hangi pipeline hangi sütunlara uygulanacağını belirleyen ana yönlendirici.\n",
    "preprocessor = ColumnTransformer(\n",
    "    transformers=[\n",
    "        (\"num\", numeric_tf, numeric_cols),\n",
    "        (\"ord\", ordinal_tf, ordinal_cols),\n",
    "        (\"bin\", binary_tf, binary_cols),\n",
    "        (\"ohe\", ohe_tf, ohe_cols),\n",
    "    ],\n",
    "    remainder=\"passthrough\",  # İşlem görmeyen sütunları (varsa) silme, olduğu gibi bırak\n",
    ")\n",
    "\n",
    "# Tüm adımları birleştiren son pipeline\n",
    "data_prep_pipeline = Pipeline(\n",
    "    steps=[\n",
    "        (\n",
    "            \"feature_engineering\",\n",
    "            PowerTorqueRegexExtractor(),\n",
    "        ),  # Önce özel Regex dönüştürücümüz çalışır\n",
    "        (\"preprocessor\", preprocessor),  # Sonra onun çıktısı ColumnTransformer'a gider\n",
    "    ]\n",
    ")\n",
    "\n",
    "print(\"--- Pipeline Oluşturuldu ---\")"
   ]
  },
  {
   "cell_type": "markdown",
   "id": "MeSbad-RiOc_",
   "metadata": {
    "id": "MeSbad-RiOc_"
   },
   "source": [
    "## Model Fitting"
   ]
  },
  {
   "cell_type": "markdown",
   "id": "VH5P59Zwm7-Y",
   "metadata": {
    "id": "VH5P59Zwm7-Y"
   },
   "source": [
    "Amacımız, hangi modelin (Lojistik Regresyon, Karar Ağacı, vb.) sigorta taleplerini en iyi şekilde tahmin ettiğini bulmaktır. Ancak bunu yaparken, sonuçlarımızın şans eseri veya belirli bir veri ayırımına özgü olmadığından emin olmalıyız."
   ]
  },
  {
   "cell_type": "markdown",
   "id": "yAr0LJI4uVvK",
   "metadata": {
    "id": "yAr0LJI4uVvK"
   },
   "source": [
    "#### Çapraz Doğrulama (Cross-Validation): Güvenilir Performans Ölçümü\n",
    "\n",
    "*   **Problem:** `train_test_split` ile veriyi sadece bir kez ayırdığımızda, modelin performansı bu tek ayırıma çok bağlı olabilir. Şans eseri \"kolay\" bir test seti denk gelirse, modelin performansını olduğundan yüksek ölçebiliriz.\n",
    "*   **Çözüm (`StratifiedKFold`):** Çapraz doğrulama, bu şans faktörünü ortadan kaldırır. `StratifiedKFold(n_splits=5)` ile eğitim verisini 5 eşit \"katmana\" (fold) ayırırız. Sonra sırayla:\n",
    "    1.  **Deney 1:** 1. katmanı doğrulama (validation) seti olarak ayır, kalan 4 katmanla modeli eğit.\n",
    "    2.  **Deney 2:** 2. katmanı doğrulama seti olarak ayır, kalan 4 katmanla modeli eğit.\n",
    "    3.  ...ve bu şekilde 5 deneyin tamamı yapılır.\n",
    "*   **`Stratified` Kelimesi:** `train_test_split`'te olduğu gibi, her bir katmandaki \"talep\" (`1`) ve \"talep olmayan\" (`0`) oranlarının, orijinal veri setindeki oranlarla aynı olmasını sağlar. Dengesiz veri setimiz için hayati önem taşır.\n",
    "\n",
    "*   **Nihai Sonuç:** Modelin performansı, bu 5 deneyin sonuçlarının **ortalaması** olarak hesaplanır. Tahmin edileceği üzere tek bir deneye göre çok daha **güvenilir ve stabil** bir performans ölçütüdür.\n",
    "\n",
    "## **NOT:** CROSS VALIDATION OVERFITTING'I ÖNLEMEZ!!!!!1!1!"
   ]
  },
  {
   "cell_type": "code",
   "execution_count": 13,
   "id": "ThF1vMdieSgz",
   "metadata": {
    "colab": {
     "base_uri": "https://localhost:8080/",
     "height": 671
    },
    "executionInfo": {
     "elapsed": 80,
     "status": "ok",
     "timestamp": 1755710102570,
     "user": {
      "displayName": "Kaan Bıçakcı",
      "userId": "12951043854473247756"
     },
     "user_tz": -60
    },
    "id": "ThF1vMdieSgz",
    "outputId": "c8e8c8cf-9edd-411e-fba3-477cd925ae01"
   },
   "outputs": [
    {
     "data": {
      "image/jpeg": "[encoded data removed]",
      "text/html": [
       "\n",
       "        <iframe\n",
       "            width=\"1000\"\n",
       "            height=\"650\"\n",
       "            src=\"https://www.youtube.com/embed/dt5PIECS8B0\"\n",
       "            frameborder=\"0\"\n",
       "            allowfullscreen\n",
       "            \n",
       "        ></iframe>\n",
       "        "
      ],
      "text/plain": [
       "<IPython.lib.display.YouTubeVideo at 0x79e6e8d9e120>"
      ]
     },
     "execution_count": 13,
     "metadata": {},
     "output_type": "execute_result"
    }
   ],
   "source": [
    "from IPython.display import YouTubeVideo\n",
    "\n",
    "YouTubeVideo(\"dt5PIECS8B0\", 1000, 650)"
   ]
  },
  {
   "cell_type": "markdown",
   "id": "gvw1I4wQnCz8",
   "metadata": {
    "id": "gvw1I4wQnCz8"
   },
   "source": [
    "#### Probability Threshold Ayarlama Optimizasyonu (`TunedThresholdClassifierCV`)\n",
    "\n",
    "*   **Problem:** Binary Classification modelleri varsayılan olarak bir olayın gerçekleşme olasılığını (0 ile 1 arasında bir skor) tahmin eder ve genellikle bu olasılık **0.5'in üzerindeyse** \"1\" (talep var), altındaysa \"0\" (talep yok) olarak karar verir.\n",
    "\n",
    "Ancak bizim gibi dengesiz veri setlerinde, en iyi ayrımı yapan eşik değeri neredeyse hiçbir zaman 0.5 değildir.\n",
    "\n",
    "*   **Çözüm:** `TunedThresholdClassifierCV`, bu süreci bizim için otomatize eden özel bir wrapper'dır. Her bir çapraz doğrulama deneyinde:\n",
    "    1.  Modeli eğitir.\n",
    "    3.  Bizim için en önemli olan metriği (bu durumda `scoring=\"f1\"`) **maksimize eden en iyi eşik değerini** bulur ve kaydeder."
   ]
  },
  {
   "cell_type": "code",
   "execution_count": 16,
   "id": "B_gv3geXQoli",
   "metadata": {
    "executionInfo": {
     "elapsed": 2,
     "status": "ok",
     "timestamp": 1755702494853,
     "user": {
      "displayName": "Kaan Bıçakcı",
      "userId": "12951043854473247756"
     },
     "user_tz": -60
    },
    "id": "B_gv3geXQoli"
   },
   "outputs": [],
   "source": [
    "from sklearn.model_selection import TunedThresholdClassifierCV"
   ]
  },
  {
   "cell_type": "code",
   "execution_count": 17,
   "id": "Wjd7jzckV0as",
   "metadata": {
    "executionInfo": {
     "elapsed": 4,
     "status": "ok",
     "timestamp": 1755702495126,
     "user": {
      "displayName": "Kaan Bıçakcı",
      "userId": "12951043854473247756"
     },
     "user_tz": -60
    },
    "id": "Wjd7jzckV0as"
   },
   "outputs": [],
   "source": [
    "def get_threshold(estimator, X, y):\n",
    "    # Pipeline'ın 'clf' adımına erişiyoruz, bu bizim TunedThresholdClassifierCV'miz\n",
    "    # ve onun eğitildikten sonra oluşan .best_threshold_ niteliğini döndürüyoruz.\n",
    "    return estimator.named_steps[\"clf\"].best_threshold_"
   ]
  },
  {
   "cell_type": "code",
   "execution_count": 14,
   "id": "FDiYsJNBhrUB",
   "metadata": {
    "executionInfo": {
     "elapsed": 9,
     "status": "ok",
     "timestamp": 1755621003430,
     "user": {
      "displayName": "Kaan Bıçakcı",
      "userId": "12951043854473247756"
     },
     "user_tz": -60
    },
    "id": "FDiYsJNBhrUB"
   },
   "outputs": [],
   "source": [
    "cv = StratifiedKFold(n_splits=5, shuffle=True, random_state=SEED)\n",
    "\n",
    "models = {\n",
    "    \"LogReg\": TunedThresholdClassifierCV(\n",
    "        estimator=LogisticRegression(max_iter=1000, solver=\"lbfgs\", random_state=SEED),\n",
    "        scoring=\"f1\",  # Eşiği f1_macro skorunu maksimize edecek şekilde bul\n",
    "        cv=cv,  # İç cross-validation için de aynı cv'yi kullanabiliriz\n",
    "        random_state=SEED,\n",
    "    ),\n",
    "    \"DecisionTree\": TunedThresholdClassifierCV(\n",
    "        estimator=DecisionTreeClassifier(max_depth=7, random_state=SEED),\n",
    "        scoring=\"f1\",\n",
    "        cv=cv,\n",
    "        random_state=SEED,\n",
    "    ),\n",
    "    \"RandomForestClassifier\": TunedThresholdClassifierCV(\n",
    "        estimator=RandomForestClassifier(max_depth=7, random_state=SEED),\n",
    "        scoring=\"f1\",\n",
    "        cv=cv,\n",
    "        random_state=SEED,\n",
    "    ),\n",
    "}\n",
    "\n",
    "pipelines = {\n",
    "    name: Pipeline(steps=[(\"data_prep\", data_prep_pipeline), (\"clf\", clf)])\n",
    "    for name, clf in models.items()\n",
    "}"
   ]
  },
  {
   "cell_type": "markdown",
   "id": "dWER6M-QvopV",
   "metadata": {
    "id": "dWER6M-QvopV"
   },
   "source": [
    "Her bir model (clf) için, onu veri hazırlık pipeline'ımızla (`data_prep_pipeline`) birleştiren tam bir pipeline oluşturuyoruz:\n",
    "\n",
    "* Artık cross_validate fonksiyonuna bu tam pipeline'ı verdiğimizde, her bir çapraz doğrulama katmanı için şunlar otomatik olarak gerçekleşir:\n",
    "  * Veri hazırlık adımları (eksik değer doldurma, ölçekleme, kodlama vb.) sadece o anki eğitim katmanına uygulanır (`fit_transform`).\n",
    "  * Modelimiz bu temizlenmiş eğitim katmanı üzerinde eğitilir.\n",
    "  * Veri hazırlık adımları, eğitimde öğrenilen parametrelerle (veri sızıntısı olmadan) doğrulama katmanına uygulanır (transform).\n",
    "  * Modelin performansı bu temizlenmiş doğrulama katmanı üzerinde ölçülür.\n",
    "\n",
    "Bu yapı data leak'i önler (önceden scale/encoding vb. hatalardan kaynaklanan leakler)."
   ]
  },
  {
   "cell_type": "markdown",
   "id": "DLcsSwAnxaXo",
   "metadata": {
    "id": "DLcsSwAnxaXo"
   },
   "source": [
    "`cross_validate`, yukarıda tanımlanan tüm süreci (CV, pipeline'ı çalıştırma, skorları hesaplama) her bir modelimiz için çalıştırır.\n",
    "\n",
    "`scoring=scorers` parametresi sayesinde her model için sadece `F1` skorunu değil, aynı zamanda `recall`, `roc_auc` gibi diğer önemli metrikleri ve bizim özel `get_threshold` fonksiyonumuzla bulduğumuz en iyi eşik değerini de hesaplar.\n"
   ]
  },
  {
   "cell_type": "code",
   "execution_count": 15,
   "id": "d02328b4",
   "metadata": {
    "colab": {
     "base_uri": "https://localhost:8080/"
    },
    "executionInfo": {
     "elapsed": 193640,
     "status": "ok",
     "timestamp": 1755621202637,
     "user": {
      "displayName": "Kaan Bıçakcı",
      "userId": "12951043854473247756"
     },
     "user_tz": -60
    },
    "id": "d02328b4",
    "outputId": "7627864d-6f84-434e-a125-1caa74769ca8"
   },
   "outputs": [
    {
     "name": "stdout",
     "output_type": "stream",
     "text": [
      "Model: LogReg\n",
      "[CV] END  f1: (test=0.150) recall: (test=0.377) roc_auc: (test=0.615) threshold: (test=0.079) total time=  26.2s\n",
      "[CV] END  f1: (test=0.149) recall: (test=0.465) roc_auc: (test=0.613) threshold: (test=0.072) total time=  26.4s\n",
      "[CV] END  f1: (test=0.156) recall: (test=0.455) roc_auc: (test=0.603) threshold: (test=0.075) total time=  26.6s\n",
      "[CV] END  f1: (test=0.140) recall: (test=0.459) roc_auc: (test=0.594) threshold: (test=0.071) total time=  27.5s\n",
      "[CV] END  f1: (test=0.144) recall: (test=0.476) roc_auc: (test=0.592) threshold: (test=0.072) total time=  26.4s\n",
      "\t... Bulunan Eşik Değerleri: ['0.079', '0.072', '0.075', '0.071', '0.072']\n",
      "\t... Ortalama Eşik Değeri: 0.074\n",
      "Model: DecisionTree\n"
     ]
    },
    {
     "name": "stderr",
     "output_type": "stream",
     "text": [
      "[Parallel(n_jobs=1)]: Done   5 out of   5 | elapsed:  2.2min finished\n"
     ]
    },
    {
     "name": "stdout",
     "output_type": "stream",
     "text": [
      "[CV] END  f1: (test=0.170) recall: (test=0.520) roc_auc: (test=0.638) threshold: (test=0.081) total time=   4.3s\n",
      "[CV] END  f1: (test=0.162) recall: (test=0.413) roc_auc: (test=0.640) threshold: (test=0.081) total time=   3.6s\n",
      "[CV] END  f1: (test=0.160) recall: (test=0.367) roc_auc: (test=0.628) threshold: (test=0.091) total time=   3.5s\n",
      "[CV] END  f1: (test=0.168) recall: (test=0.456) roc_auc: (test=0.639) threshold: (test=0.081) total time=   3.9s\n",
      "[CV] END  f1: (test=0.164) recall: (test=0.429) roc_auc: (test=0.624) threshold: (test=0.081) total time=   4.0s\n",
      "\t... Bulunan Eşik Değerleri: ['0.081', '0.081', '0.091', '0.081', '0.081']\n",
      "\t... Ortalama Eşik Değeri: 0.083\n",
      "Model: RandomForestClassifier\n"
     ]
    },
    {
     "name": "stderr",
     "output_type": "stream",
     "text": [
      "[Parallel(n_jobs=1)]: Done   5 out of   5 | elapsed:   19.2s finished\n"
     ]
    },
    {
     "name": "stdout",
     "output_type": "stream",
     "text": [
      "[CV] END  f1: (test=0.168) recall: (test=0.510) roc_auc: (test=0.644) threshold: (test=0.075) total time=   7.9s\n",
      "[CV] END  f1: (test=0.171) recall: (test=0.362) roc_auc: (test=0.652) threshold: (test=0.082) total time=   8.4s\n",
      "[CV] END  f1: (test=0.164) recall: (test=0.452) roc_auc: (test=0.642) threshold: (test=0.077) total time=   8.6s\n",
      "[CV] END  f1: (test=0.165) recall: (test=0.429) roc_auc: (test=0.647) threshold: (test=0.077) total time=   8.1s\n",
      "[CV] END  f1: (test=0.159) recall: (test=0.432) roc_auc: (test=0.642) threshold: (test=0.076) total time=   8.2s\n",
      "\t... Bulunan Eşik Değerleri: ['0.075', '0.082', '0.077', '0.077', '0.076']\n",
      "\t... Ortalama Eşik Değeri: 0.077\n"
     ]
    },
    {
     "name": "stderr",
     "output_type": "stream",
     "text": [
      "[Parallel(n_jobs=1)]: Done   5 out of   5 | elapsed:   41.2s finished\n"
     ]
    }
   ],
   "source": [
    "scorers = {\n",
    "    \"f1\": \"f1\",\n",
    "    \"recall\": \"recall\",\n",
    "    \"roc_auc\": \"roc_auc\",\n",
    "    \"threshold\": get_threshold,\n",
    "}\n",
    "\n",
    "results = {}\n",
    "\n",
    "for i, (name, pipe) in enumerate(pipelines.items()):\n",
    "    print(f\"Model: {name}\")\n",
    "    cv_res = cross_validate(\n",
    "        pipe,\n",
    "        X_train,\n",
    "        y_train,\n",
    "        cv=cv,\n",
    "        scoring=scorers,\n",
    "        return_train_score=False,\n",
    "        verbose=3,\n",
    "    )\n",
    "    found_thresholds = cv_res[\"test_threshold\"]\n",
    "    print(f\"\\t... Bulunan Eşik Değerleri: {[f'{th:.3f}' for th in found_thresholds]}\")\n",
    "    print(f\"\\t... Ortalama Eşik Değeri: {np.mean(found_thresholds):.3f}\")\n",
    "    results[name] = cv_res"
   ]
  },
  {
   "cell_type": "markdown",
   "id": "OjV5Cj_jy_Ak",
   "metadata": {
    "id": "OjV5Cj_jy_Ak"
   },
   "source": [
    "### Sınıflandırma Metrikleri - Accuracy Tek Metrik Değil\n",
    "\n",
    "Bizim problemimizde veri setinin %93.6'sı \"talep yok\" (`0`), sadece %6.4'ü ise \"talep var\" (`1`) sınıfından oluşuyor. Bu durumda her zaman \"talep yok\" diyen bir model bile %93.6 doğru olabilir ama tamamen işe yaramazdır. İşte bu yüzden daha derinlemesine analiz sağlayan metriklere ihtiyacımız var.\n",
    "\n",
    "Bu metriklerin tamamı, modelin tahminlerinin gerçek sonuçlarla karşılaştırıldığı **Karmaşıklık Matrisi (Confusion Matrix)**'nden türetilir."
   ]
  },
  {
   "cell_type": "markdown",
   "id": "lornx4e61Mnw",
   "metadata": {
    "id": "lornx4e61Mnw"
   },
   "source": [
    "#### Karmaşıklık Matrisi'nin Temel Taşları\n",
    "\n",
    "Öncelikle, dört temel kavramı bizim problemimize uyarlayalım:\n",
    "\n",
    "*   **True Positive (TP) - Doğru Pozitif:** Model \"talep olacak\" dedi ve **gerçekten de oldu**. (Harika! Riski doğru tespit ettik.)\n",
    "*   **True Negative (TN) - Doğru Negatif:** Model \"talep olmayacak\" dedi ve **gerçekten de olmadı**. (Güzel. Güvenli müşteriyi doğru bildik.)\n",
    "*   **False Positive (FP) - Yanlış Pozitif (Tip I Hata):** Model \"talep olacak\" dedi, ama **olmadı**. (Gereksiz alarm. Belki de bu müşteriye gereksiz yere daha yüksek bir prim teklif ettik veya bir inceleme başlattık. **Maliyet: Operasyonel verimsizlik.**)\n",
    "*   **False Negative (FN) - Yanlış Negatif (Tip II Hata):** Model \"talep olmayacak\" dedi, ama **oldu**. (En tehlikeli hata! Gözden kaçan bir risk. Belki de sahte bir talebi veya yüksek riskli bir müşteriyi \"güvenli\" olarak etiketledik. **Maliyet: Finansal kayıp.**)\n",
    "\n",
    "Şimdi bu kavramları kullanarak metriklerimizi tanımlayalım.\n",
    "\n",
    "---"
   ]
  },
  {
   "cell_type": "markdown",
   "id": "gSU83JhT1jhi",
   "metadata": {
    "id": "gSU83JhT1jhi"
   },
   "source": [
    "#### Precision (Kesinlik)\n",
    "\n",
    "*   ***Sezgisel Soru: \"Modelim 'talep var' dediğinde, ne kadar sıklıkla haklı çıkıyor?\"***\n",
    "\n",
    "Bu metrik pozitif tahminlerimizin kalitesini ölçer. Yüksek precision, modelin \"talep var\" etiketini emin olmadan bu tahmini yapmadığı anlamına gelir.\n",
    "\n",
    "*   **Formül:**\n",
    "    $$\n",
    "    \\text{Precision} = \\frac{TP}{TP + FP}\n",
    "    $$\n",
    "\n",
    "*   **Bizim Durumumuzda Önemi:**\n",
    "    Yüksek bir `Precision` skoru, **Yanlış Pozitif (FP)** maliyetini düşürmek istediğimizde önemlidir. Eğer bir talebi incelemenin operasyonel maliyeti çok yüksekse, sadece gerçekten emin olduğumuz tahminleri yapmak isteriz. Modelin her \"talep olabilir\" alarmının peşinden koşarak kaynakları boşa harcamasını istemeyiz."
   ]
  },
  {
   "cell_type": "markdown",
   "id": "M_4_qvKF1mSF",
   "metadata": {
    "id": "M_4_qvKF1mSF"
   },
   "source": [
    "#### Recall (Duyarlılık)\n",
    "\n",
    "*   ***Sezgisel Soru: \"Gerçekleşen tüm taleplerin yüzde kaçını yakalamayı başardım?\"***\n",
    "\n",
    "Bu metrik, pozitif vakaları tespit etme yeteneğimizi ölçer. Hiçbir talebi gözden kaçırmadığımızdan emin olmak istediğimizde en önemli metriktir.\n",
    "\n",
    "*   **Formül:**\n",
    "    $$\n",
    "    \\text{Recall} = \\frac{TP}{TP + FN}\n",
    "    $$\n",
    "\n",
    "*   **Bizim Durumumuzda Önemi:**\n",
    "    * `Recall`, risk odaklı alanlarda genellikle **en kritik metriklerden birisi olabilir**. Yüksek bir `Recall` skoru **Yanlış Negatif (FN)** maliyetini düşürmeyi hedefler.\n",
    "    * Gözden kaçan her bir talep, büyük bir finansal kayıp veya kaçırılmış bir sahtekarlık vakası anlamına gelebilir. Birkaç masum müşteriyi yanlışlıkla \"riskli\" olarak işaretlemeyi (düşük `Precision`), gerçekten riskli olan tek bir müşteriyi bile gözden kaçırmaya (düşük `Recall`) tercih edebiliriz."
   ]
  },
  {
   "cell_type": "markdown",
   "id": "IIubhjZV2_FA",
   "metadata": {
    "id": "IIubhjZV2_FA"
   },
   "source": [
    "| Metrik | Odaklandığı Soru | İlgilendiği Evren | Kaçındığı Hata | Sigorta Problemindeki Anlamı |\n",
    "| :--- | :--- | :--- | :--- | :--- |\n",
    "| **Precision** | \"Talep var\" dediğimde ne kadar haklıyım? | **Sadece \"talep var\" diye tahmin edilenler.** | **Yanlış Pozitif (FP)**<br>(Gereksiz alarm) | Operasyonel verimliliği artırır, gereksiz incelemeleri azaltır. |\n",
    "| **Recall** | Gerçekleşen tüm taleplerin ne kadarını yakaladım? | **Gerçekte \"talep olan\" her şey.** | **Yanlış Negatif (FN)**<br>(Gözden kaçan risk) | Finansal kaybı önler, riskleri ve sahtekarlıkları kaçırmamayı hedefler. |"
   ]
  },
  {
   "cell_type": "markdown",
   "id": "pol_4Xng1pD8",
   "metadata": {
    "id": "pol_4Xng1pD8"
   },
   "source": [
    "#### Precision-Recall Dengesi\n",
    "\n",
    "Bu iki metrik genellikle birbiriyle ters orantılıdır. `Recall`'ı artırmak için (yani daha fazla talebi yakalamak için) modelin karar eşiğini düşürürüz, bu da onu daha \"endişeli\" yapar ve daha fazla Yanlış Pozitif'e (düşük `Precision`) yol açar. Bu dengeyi kurmak, projenin iş hedeflerine bağlıdır."
   ]
  },
  {
   "cell_type": "markdown",
   "id": "wMar5zu41rFl",
   "metadata": {
    "id": "wMar5zu41rFl"
   },
   "source": [
    "#### F1 Skoru\n",
    "\n",
    "*   ***Sezgisel Soru: \"Hem Precision hem de Recall'ı dengeli bir şekilde hesaba katan tek bir skor var mı?\"***\n",
    "\n",
    "F1 Skoru (F Beta skorun genel ismidir, Beta = 1 için kısaca F1-Skor denir), `Precision` ve `Recall`'ın harmonik ortalamasıdır. Bu şekilde her iki metriğin de önemli olduğu ve aralarında bir denge aradığımız durumlar için genel bir performans ölçütüdür.\n",
    "\n",
    "*   **Formül:**\n",
    "    $$\n",
    "    \\text{F1 Score} = 2 \\cdot \\frac{\\text{Precision} \\cdot \\text{Recall}}{\\text{Precision} + \\text{Recall}}\n",
    "    $$\n",
    "\n",
    "*   **Bizim Durumumuzda Önemi:**\n",
    "    Hem Yanlış Pozitiflerin (operasyonel maliyet) hem de Yanlış Negatiflerin (finansal kayıp) maliyetli olduğu durumlarda, F1 skoru bize en dengeli modeli seçmemizde yardımcı olur. `TunedThresholdClassifierCV`'de `scoring=\"f1\"` kullanmamızın sebebi budur: Sadece bir metriğe odaklanmak yerine, bu ikisi arasındaki dengeyi en iyi kuran karar eşiğini bulmak istiyoruz."
   ]
  },
  {
   "cell_type": "markdown",
   "id": "ZXbeCl6i1sqm",
   "metadata": {
    "id": "ZXbeCl6i1sqm"
   },
   "source": [
    "#### ROC AUC (Eğri Altında Kalan Alan)\n",
    "\n",
    "*   ***Sezgisel Soru: \"Modelim, belirli bir karar eşiğine bağlı olmaksızın, genel olarak pozitif ve negatif sınıfları birbirinden ne kadar iyi ayırt edebiliyor?\"***\n",
    "\n",
    "ROC AUC modelimizin **ayrım gücünü** ölçer. Birbirinden rastgele seçilen bir pozitif (`1`) ve bir negatif (`0`) örneklemden, modelin pozitif olana daha yüksek bir olasılık skoru verme ihtimalini ifade eder.\n",
    "\n",
    "*   **Nasıl Çalışır:** Tüm olası karar eşikleri için Doğru Pozitif Oranını (Recall) Yanlış Pozitif Oranına karşı çizen bir grafiğin (ROC Eğrisi) altında kalan alanı hesaplar.\n",
    "*   **Yorumlama:**\n",
    "    *   **AUC = 1.0:** Müko.\n",
    "    *   **AUC = 0.5:** Çöp (yazı tura atmakla aynı).\n",
    "    *   **AUC = 0.0:** Çöp bile değil.\n",
    "\n",
    "*   **Bizim Durumumuzda Önemi:**\n",
    "    ROC AUC, **karar eşiğinden bağımsızdır**. Bir modelin AUC'si diğerinden daha yüksekse, bu, o modelin \"talep\" ve \"talep yok\" durumlarını temel olarak daha iyi ayırt edebildiği anlamına gelir. Sonrasında bu daha iyi olasılıkları en iyi F1 skorunu veren bir eşikle birleştirerek en iyi nihai kararları alabiliriz."
   ]
  },
  {
   "cell_type": "code",
   "execution_count": 16,
   "id": "RI9tZYljUiHg",
   "metadata": {
    "colab": {
     "base_uri": "https://localhost:8080/"
    },
    "executionInfo": {
     "elapsed": 14,
     "status": "ok",
     "timestamp": 1755621290686,
     "user": {
      "displayName": "Kaan Bıçakcı",
      "userId": "12951043854473247756"
     },
     "user_tz": -60
    },
    "id": "RI9tZYljUiHg",
    "outputId": "b76f8ee7-ace3-463c-ecc2-ddf6a6f38d84"
   },
   "outputs": [
    {
     "data": {
      "text/plain": [
       "{'LogReg': {'fit_time': array([25.89715672, 26.16183329, 26.25167084, 27.14441109, 26.09967542]),\n",
       "  'score_time': array([0.32594991, 0.26872969, 0.34276581, 0.33941317, 0.25527453]),\n",
       "  'test_f1': array([0.1498177 , 0.1488794 , 0.15564424, 0.14019883, 0.14375788]),\n",
       "  'test_recall': array([0.37666667, 0.465     , 0.455     , 0.4590985 , 0.47579299]),\n",
       "  'test_roc_auc': array([0.61451529, 0.61324368, 0.60273096, 0.59422152, 0.59177975]),\n",
       "  'test_threshold': array([0.07887117, 0.07249576, 0.07498278, 0.07103585, 0.07179365])},\n",
       " 'DecisionTree': {'fit_time': array([3.73162794, 3.31196523, 3.21703243, 3.35382795, 3.75425792]),\n",
       "  'score_time': array([0.5243299 , 0.25464201, 0.26191783, 0.53705597, 0.25704098]),\n",
       "  'test_f1': array([0.16970356, 0.16230366, 0.16029144, 0.16794832, 0.16395534]),\n",
       "  'test_recall': array([0.52      , 0.41333333, 0.36666667, 0.4557596 , 0.42904841]),\n",
       "  'test_roc_auc': array([0.63753495, 0.64048993, 0.62757198, 0.63854211, 0.6243693 ]),\n",
       "  'test_threshold': array([0.08080808, 0.08080808, 0.09090909, 0.08080808, 0.08080808])},\n",
       " 'RandomForestClassifier': {'fit_time': array([7.27701545, 7.99131584, 8.17607379, 7.37342715, 7.78827119]),\n",
       "  'score_time': array([0.62251782, 0.42333055, 0.42406702, 0.69299793, 0.43234587]),\n",
       "  'test_f1': array([0.16771718, 0.17133833, 0.16444175, 0.16543289, 0.15870098]),\n",
       "  'test_recall': array([0.51      , 0.36166667, 0.45166667, 0.42904841, 0.43238731]),\n",
       "  'test_roc_auc': array([0.64397911, 0.652466  , 0.64161785, 0.64743537, 0.64182916]),\n",
       "  'test_threshold': array([0.07464072, 0.08160428, 0.0765537 , 0.0773325 , 0.07618588])}}"
      ]
     },
     "execution_count": 16,
     "metadata": {},
     "output_type": "execute_result"
    }
   ],
   "source": [
    "results"
   ]
  },
  {
   "cell_type": "markdown",
   "id": "4IdDyZeEiREU",
   "metadata": {
    "id": "4IdDyZeEiREU"
   },
   "source": [
    "## En İyi Modeli Nasıl Seçelim?"
   ]
  },
  {
   "cell_type": "code",
   "execution_count": 20,
   "id": "ysF30OA_Mcok",
   "metadata": {
    "colab": {
     "base_uri": "https://localhost:8080/",
     "height": 398
    },
    "executionInfo": {
     "elapsed": 1758,
     "status": "ok",
     "timestamp": 1755621496940,
     "user": {
      "displayName": "Kaan Bıçakcı",
      "userId": "12951043854473247756"
     },
     "user_tz": -60
    },
    "id": "ysF30OA_Mcok",
    "outputId": "d883a3df-d24d-4681-c2d8-ddb978296f76"
   },
   "outputs": [
    {
     "data": {
      "image/png": "[encoded data removed]",
      "text/plain": [
       "<Figure size 2000x600 with 3 Axes>"
      ]
     },
     "metadata": {},
     "output_type": "display_data"
    }
   ],
   "source": [
    "import matplotlib.pyplot as plt\n",
    "import seaborn as sns\n",
    "\n",
    "plot_data = []\n",
    "metrics_to_plot = {\n",
    "    \"F1 Score\": \"test_f1\",\n",
    "    \"Recall\": \"test_recall\",\n",
    "    \"ROC AUC\": \"test_roc_auc\",\n",
    "}\n",
    "\n",
    "for model_name, model_results in results.items():\n",
    "    for plot_name, internal_name in metrics_to_plot.items():\n",
    "        for score in model_results[internal_name]:\n",
    "            plot_data.append({\"Model\": model_name, \"Metric\": plot_name, \"Score\": score})\n",
    "\n",
    "df_plot = pd.DataFrame(plot_data)\n",
    "\n",
    "# 2. Grafiği oluşturma\n",
    "sns.set_theme(style=\"whitegrid\")\n",
    "fig, axes = plt.subplots(1, 3, figsize=(20, 6), sharey=False)\n",
    "fig.suptitle(\n",
    "    \"Modellerin Çapraz Doğrulama Performans Karşılaştırması (5 Katmanlı)\", fontsize=16\n",
    ")\n",
    "\n",
    "# Her bir metrik için ayrı bir subplot çiz\n",
    "for i, (plot_name, internal_name) in enumerate(metrics_to_plot.items()):\n",
    "    ax = axes[i]\n",
    "\n",
    "    # O anki metrik için veriyi filtrele\n",
    "    metric_df = df_plot[df_plot[\"Metric\"] == plot_name]\n",
    "\n",
    "    # Boxplot'u çiz\n",
    "    sns.boxplot(x=\"Model\", y=\"Score\", data=metric_df, ax=ax, palette=\"deep\", width=0.6)\n",
    "\n",
    "    ax.set_title(f\"{plot_name} Dağılımı\")\n",
    "    ax.set_xlabel(\"\")  # Alt etiketleri temizle\n",
    "    ax.set_ylabel(plot_name)\n",
    "    ax.tick_params(axis=\"x\", rotation=15)\n",
    "\n",
    "    # 3. Her bir kutunun üzerine ortalama değeri yazdırma\n",
    "    model_names = metric_df[\"Model\"].unique()\n",
    "    for j, model in enumerate(model_names):\n",
    "        mean_val = results[model][internal_name].mean()\n",
    "        ax.text(\n",
    "            j,\n",
    "            mean_val,\n",
    "            f\"Ort: {mean_val:.3f}\",\n",
    "            ha=\"center\",\n",
    "            va=\"bottom\",\n",
    "            fontweight=\"bold\",\n",
    "            color=\"black\",\n",
    "            bbox=dict(facecolor=\"white\", alpha=0.5, boxstyle=\"round,pad=0.2\"),\n",
    "        )\n",
    "\n",
    "plt.tight_layout(rect=[0, 0.03, 1, 0.95])  # Ana başlığın sıkışmasını önle\n",
    "plt.show()"
   ]
  },
  {
   "cell_type": "markdown",
   "id": "95787497",
   "metadata": {},
   "source": [
    "En iyi model nedir?"
   ]
  },
  {
   "cell_type": "code",
   "execution_count": 14,
   "id": "bo91Ip7lepFw",
   "metadata": {
    "colab": {
     "base_uri": "https://localhost:8080/",
     "height": 671
    },
    "executionInfo": {
     "elapsed": 87,
     "status": "ok",
     "timestamp": 1755710146938,
     "user": {
      "displayName": "Kaan Bıçakcı",
      "userId": "12951043854473247756"
     },
     "user_tz": -60
    },
    "id": "bo91Ip7lepFw",
    "outputId": "7be4f8f1-bc2e-4a25-ae06-5fcde94351c4"
   },
   "outputs": [
    {
     "data": {
      "image/jpeg": "[encoded data removed]",
      "text/html": [
       "\n",
       "        <iframe\n",
       "            width=\"1000\"\n",
       "            height=\"650\"\n",
       "            src=\"https://www.youtube.com/embed/Kyi_l9h4Mug\"\n",
       "            frameborder=\"0\"\n",
       "            allowfullscreen\n",
       "            \n",
       "        ></iframe>\n",
       "        "
      ],
      "text/plain": [
       "<IPython.lib.display.YouTubeVideo at 0x79e6e8d9f470>"
      ]
     },
     "execution_count": 14,
     "metadata": {},
     "output_type": "execute_result"
    }
   ],
   "source": [
    "YouTubeVideo(\"Kyi_l9h4Mug\", 1000, 650)"
   ]
  },
  {
   "cell_type": "markdown",
   "id": "mbsvmdpjiTrw",
   "metadata": {
    "id": "mbsvmdpjiTrw"
   },
   "source": [
    "## Test Setinde Final Değerlendirme"
   ]
  },
  {
   "cell_type": "code",
   "execution_count": 22,
   "id": "391h-kYrhuc2",
   "metadata": {
    "colab": {
     "base_uri": "https://localhost:8080/",
     "height": 706
    },
    "executionInfo": {
     "elapsed": 4861,
     "status": "ok",
     "timestamp": 1755621639370,
     "user": {
      "displayName": "Kaan Bıçakcı",
      "userId": "12951043854473247756"
     },
     "user_tz": -60
    },
    "id": "391h-kYrhuc2",
    "outputId": "bf298643-d102-4a79-90eb-c02e0ca6c787"
   },
   "outputs": [
    {
     "name": "stdout",
     "output_type": "stream",
     "text": [
      "\n",
      "Classification Report (Test):\n",
      "\n",
      "              precision    recall  f1-score   support\n",
      "\n",
      "           0     0.9424    0.8541    0.8961     10969\n",
      "           1     0.0996    0.2360    0.1401       750\n",
      "\n",
      "    accuracy                         0.8146     11719\n",
      "   macro avg     0.5210    0.5451    0.5181     11719\n",
      "weighted avg     0.8884    0.8146    0.8477     11719\n",
      "\n",
      "ROC-AUC (test): 0.6363 | AP (PR-AUC): 0.0935\n"
     ]
    },
    {
     "data": {
      "image/png": "[encoded data removed]",
      "text/plain": [
       "<Figure size 640x480 with 2 Axes>"
      ]
     },
     "metadata": {},
     "output_type": "display_data"
    }
   ],
   "source": [
    "best_pipe = pipelines[\"DecisionTree\"]\n",
    "best_pipe.fit(X_train, y_train)\n",
    "\n",
    "y_pred = best_pipe.predict(X_test)\n",
    "print(\"\\nClassification Report (Test):\\n\")\n",
    "print(classification_report(y_test, y_pred, digits=4))\n",
    "\n",
    "if hasattr(best_pipe.named_steps[\"clf\"], \"predict_proba\"):\n",
    "    y_proba = best_pipe.predict_proba(X_test)[:, 1]\n",
    "    roc = roc_auc_score(y_test, y_proba)\n",
    "    ap = average_precision_score(y_test, y_proba)\n",
    "    print(f\"ROC-AUC (test): {roc:.4f} | AP (PR-AUC): {ap:.4f}\")\n",
    "\n",
    "ConfusionMatrixDisplay.from_estimator(best_pipe, X_test, y_test)\n",
    "plt.title(f\"Confusion Matrix\")\n",
    "plt.grid(False)\n",
    "plt.show()"
   ]
  },
  {
   "cell_type": "markdown",
   "id": "JUtzfMSbiY1Z",
   "metadata": {
    "id": "JUtzfMSbiY1Z"
   },
   "source": [
    "## Gradient Boosting HPO"
   ]
  },
  {
   "cell_type": "code",
   "execution_count": 8,
   "id": "X8SXCccXb8H6",
   "metadata": {
    "colab": {
     "base_uri": "https://localhost:8080/",
     "height": 621
    },
    "executionInfo": {
     "elapsed": 76,
     "status": "ok",
     "timestamp": 1755709592694,
     "user": {
      "displayName": "Kaan Bıçakcı",
      "userId": "12951043854473247756"
     },
     "user_tz": -60
    },
    "id": "X8SXCccXb8H6",
    "outputId": "b5796c8d-c992-488a-c657-1edae52d8031"
   },
   "outputs": [
    {
     "data": {
      "image/jpeg": "[encoded data removed]",
      "text/html": [
       "\n",
       "        <iframe\n",
       "            width=\"900\"\n",
       "            height=\"600\"\n",
       "            src=\"https://www.youtube.com/embed/PNvI8m2AM_M\"\n",
       "            frameborder=\"0\"\n",
       "            allowfullscreen\n",
       "            \n",
       "        ></iframe>\n",
       "        "
      ],
      "text/plain": [
       "<IPython.lib.display.YouTubeVideo at 0x79e6e81064e0>"
      ]
     },
     "execution_count": 8,
     "metadata": {},
     "output_type": "execute_result"
    }
   ],
   "source": [
    "from IPython.display import YouTubeVideo\n",
    "\n",
    "YouTubeVideo(\"PNvI8m2AM_M\", 900, 600)"
   ]
  },
  {
   "cell_type": "code",
   "execution_count": 12,
   "id": "hX1XWezgSo4H",
   "metadata": {
    "colab": {
     "base_uri": "https://localhost:8080/"
    },
    "executionInfo": {
     "elapsed": 16,
     "status": "ok",
     "timestamp": 1755634724663,
     "user": {
      "displayName": "Kaan Bıçakcı",
      "userId": "12951043854473247756"
     },
     "user_tz": -60
    },
    "id": "hX1XWezgSo4H",
    "outputId": "58e663d3-01fc-4b5d-c58d-ddb37fc383e7"
   },
   "outputs": [
    {
     "name": "stdout",
     "output_type": "stream",
     "text": [
      "['region_code', 'segment', 'model', 'fuel_type', 'engine_type', 'is_esc', 'is_adjustable_steering', 'is_tpms', 'is_parking_sensors', 'is_parking_camera', 'rear_brakes_type', 'transmission_type', 'steering_type', 'is_front_fog_lights', 'is_rear_window_wiper', 'is_rear_window_washer', 'is_rear_window_defogger', 'is_brake_assist', 'is_power_door_locks', 'is_central_locking', 'is_power_steering', 'is_driver_seat_height_adjustable', 'is_day_night_rear_view_mirror', 'is_ecw', 'is_speed_alert']\n"
     ]
    }
   ],
   "source": [
    "cat_features_names = [\n",
    "    col for col in X_train.columns if X_train[col].dtype.kind in \"bOc\"\n",
    "]\n",
    "cat_features_names.remove(\"max_torque\")\n",
    "cat_features_names.remove(\"max_power\")\n",
    "print(cat_features_names)"
   ]
  },
  {
   "cell_type": "code",
   "execution_count": 10,
   "id": "wmIzUlDScoBW",
   "metadata": {
    "colab": {
     "base_uri": "https://localhost:8080/",
     "height": 621
    },
    "executionInfo": {
     "elapsed": 47,
     "status": "ok",
     "timestamp": 1755709727363,
     "user": {
      "displayName": "Kaan Bıçakcı",
      "userId": "12951043854473247756"
     },
     "user_tz": -60
    },
    "id": "wmIzUlDScoBW",
    "outputId": "3dcdb422-7c44-4624-97ad-82eade6fa86f"
   },
   "outputs": [
    {
     "data": {
      "text/html": [
       "\n",
       "        <iframe\n",
       "            width=\"900\"\n",
       "            height=\"600\"\n",
       "            src=\"https://www.youtube.com/embed/2LFIeYyJOPk?si=9YwP5KNOQi5xCYoe\"\n",
       "            frameborder=\"0\"\n",
       "            allowfullscreen\n",
       "            \n",
       "        ></iframe>\n",
       "        "
      ],
      "text/plain": [
       "<IPython.lib.display.YouTubeVideo at 0x79e6e8107b30>"
      ]
     },
     "execution_count": 10,
     "metadata": {},
     "output_type": "execute_result"
    }
   ],
   "source": [
    "from IPython.display import YouTubeVideo\n",
    "\n",
    "YouTubeVideo(\"2LFIeYyJOPk?si=9YwP5KNOQi5xCYoe\", 900, 600)"
   ]
  },
  {
   "cell_type": "markdown",
   "id": "bXhbmAbP-eYQ",
   "metadata": {
    "id": "bXhbmAbP-eYQ"
   },
   "source": [
    "### Optuna Tarafından Optimize Edilen Hiperparametreler\n",
    "\n",
    "Optuna'nın en iyi kombinasyonu bulmak için deneme-yanılma yoluyla (akıllıca) aradığı ayarlardır.\n",
    "\n",
    "*   **`depth` (Derinlik):**\n",
    "    *   **Ne İşe Yarar?** CatBoost arka arkaya yüzlerce küçük Karar Ağacı (Decision Tree) oluşturur. `depth`, bu ağaçlardan her birinin ne kadar \"derin\" veya \"karmaşık\" olabileceğini belirler. Bir ağacın derinliği bir karara varmadan önce sorabileceği maksimum soru sayısı gibidir.\n",
    "    *   **Etkisi:**\n",
    "        \n",
    "        *   **Yüksek Değer (örn: 10):** Ağaçların çok spesifik ve karmaşık kurallar öğrenmesine izin verir. Bu, eğitim verisindeki desenleri çok iyi yakalamasını sağlayabilir ancak \"ezberleme\" (overfitting) riskini artırır.\n",
    "        \n",
    "        *   **Düşük Değer (örn: 4):** Ağaçları daha basit ve genel kurallar öğrenmeye zorlar. Bu, modelin daha iyi genelleme yapmasına yardımcı olur ancak verideki karmaşık ilişkileri kaçırma (underfitting) riskini artırır.\n",
    "\n",
    "*   **`learning_rate` (Öğrenme Oranı):**\n",
    "    *   **Ne İşe Yarar?** Her yeni ağaç, bir önceki ağaçların yaptığı hataları düzeltmeye çalışır. `learning_rate`, bu düzeltme adımlarının ne kadar \"büyük\" olacağını kontrol eder.\n",
    "    *   **Etkisi:**\n",
    "        \n",
    "        *   **Yüksek Değer (örn: 0.3):** Model hatalarını hızlı ve agresif bir şekilde düzeltir. Daha az ağaçla (`iterations`) sonuca ulaşabilir ama en iyi çözümü \"aşma\" riski vardır.\n",
    "        \n",
    "        *   **Düşük Değer (örn: 0.01):** Model çok küçük, temkinli adımlarla öğrenir. Genellikle daha iyi ve daha sağlam bir nihai modelle sonuçlanır, ancak bu hedefe ulaşmak için daha fazla ağaca (`iterations`) ihtiyaç duyar.\n",
    "\n",
    "*   **`l2_leaf_reg` (L2 Regularizasyonu):**\n",
    "    *   **Ne İşe Yarar?** Modeli aşırı karmaşık olmaktan veya tekil veri noktalarına aşırı güvenmekten alıkoyan bir \"ceza\" terimidir.\n",
    "    *   **Etkisi:** Değeri ne kadar yüksek olursa, modelin fit olması o kadar zor olur.Overfitting'e karşı en etkili silahlardan biridir.\n",
    "\n",
    "*   **`iterations` (İterasyon Sayısı):**\n",
    "    *   **Ne İşe Yarar?** Modelin oluşturacağı toplam Karar Ağacı sayısıdır.\n",
    "    *   **Etkisi:** `learning_rate` ile doğrudan ilişkilidir. Düşük bir öğrenme oranı, genellikle yüksek bir iterasyon sayısı gerektirir. Çok fazla iterasyon, modelin eğitim verisini ezberlemesine yol açabilir.\n",
    "\n",
    "*   **`random_strength` (Rastgelelik Gücü):**\n",
    "    *   **Ne İşe Yarar?** Ağaçların her bir dalında en iyi bölme noktasını ararken bu parametre sürece bir miktar rastgelelik katar.\n",
    "    *   **Etkisi:** Modelin her zaman en bariz veya en güçlü özelliklere takılıp kalmasını önler. Onu daha az belirgin ama yine de faydalı olabilecek diğer özellikleri de keşfetmeye zorlar. Bu da overfitting'i azaltan bir başka regularizasyon tekniğidir.\n",
    "\n",
    "---"
   ]
  },
  {
   "cell_type": "markdown",
   "id": "Pin5PawS-fwB",
   "metadata": {
    "id": "Pin5PawS-fwB"
   },
   "source": [
    "### Sabit Olarak Ayarlanan Parametreler\n",
    "\n",
    "*   **`loss_function=\"Logloss\"`:** İkili sınıflandırma problemleri için standart kayıp fonksiyonudur. Modelin tahmin ettiği olasılıkların gerçek 0/1 değerlerinden ne kadar saptığını ölçer.\n",
    "*   **`auto_class_weights=\"SqrtBalanced\"`:** CatBoost'a, azınlık sınıfından (talep var) yapılan hatalara, çoğunluk sınıfından yapılan hatalardan daha fazla \"ceza\" vermesini söyler. \"SqrtBalanced\" ise aslında bu ceza ağırlıklarını hesaplamak için kullanılan özel/sofistike bir stratejidir.\n",
    "*   **`cat_features=cat_features_names`:** CatBoost'un en güçlü özelliğidir diyebiliriz. Bu parametre ile CatBoost'a hangi sütunların kategorik olduğunu açıkça söyleriz. CatBoost da bu sütunları bizim için otomatik olarak kendi özel ve etkili yöntemleriyle işler."
   ]
  },
  {
   "cell_type": "code",
   "execution_count": null,
   "id": "QOWbVltABxem",
   "metadata": {
    "executionInfo": {
     "elapsed": 2,
     "status": "ok",
     "timestamp": 1755635457039,
     "user": {
      "displayName": "Kaan Bıçakcı",
      "userId": "12951043854473247756"
     },
     "user_tz": -60
    },
    "id": "QOWbVltABxem"
   },
   "outputs": [],
   "source": [
    "from catboost import Pool, cv"
   ]
  },
  {
   "cell_type": "code",
   "execution_count": null,
   "id": "5QL66Wdthw4m",
   "metadata": {
    "colab": {
     "base_uri": "https://localhost:8080/",
     "height": 1000,
     "referenced_widgets": [
      "d4b587a380c54ec69566d59c50b5773a",
      "5815063f1af946cd89782f4cd7a60591",
      "94d3607838784983af4d6a425991c1cd",
      "c1c4c686ace84de486ee57a0816fcb5c",
      "a7cc7bb5e30f48e3928d05e309860f0b",
      "40b10a33013e41c0a88dd2807c628177",
      "d9bc869e75374f119c2c4dcc86988595",
      "5b1777f80fbb4d08a593a1e8b9f48584",
      "f4fead9847294bf8b80c311dbc0f7186",
      "ef2ca59ad60e45cd816872d32f514bea",
      "d749ed6af359482a8b8ba4fbec29eab6"
     ]
    },
    "executionInfo": {
     "elapsed": 2442109,
     "status": "ok",
     "timestamp": 1755639316496,
     "user": {
      "displayName": "Kaan Bıçakcı",
      "userId": "12951043854473247756"
     },
     "user_tz": -60
    },
    "id": "5QL66Wdthw4m",
    "outputId": "3bca2cb2-5c31-4c57-f818-6557288ff882"
   },
   "outputs": [
    {
     "name": "stderr",
     "output_type": "stream",
     "text": [
      "[I 2025-08-19 20:54:34,274] A new study created in memory with name: no-name-07f3110f-307b-4c70-bc84-02aef471499d\n"
     ]
    },
    {
     "data": {
      "application/vnd.jupyter.widget-view+json": {
       "model_id": "d4b587a380c54ec69566d59c50b5773a",
       "version_major": 2,
       "version_minor": 0
      },
      "text/plain": [
       "  0%|          | 0/10 [00:00<?, ?it/s]"
      ]
     },
     "metadata": {},
     "output_type": "display_data"
    },
    {
     "name": "stderr",
     "output_type": "stream",
     "text": [
      "/usr/local/lib/python3.12/dist-packages/sklearn/model_selection/_split.py:877: UserWarning: The groups parameter is ignored by StratifiedKFold\n",
      "  warnings.warn(\n",
      "Default metric period is 5 because AUC is/are not implemented for GPU\n",
      "Warning: Overfitting detector is active, thus evaluation metric is calculated on every iteration. 'metric_period' is ignored for evaluation metric.\n"
     ]
    },
    {
     "name": "stdout",
     "output_type": "stream",
     "text": [
      "Training on fold [0/5]\n",
      "bestTest = 0.6519564092\n",
      "bestIteration = 1165\n",
      "Training on fold [1/5]\n",
      "bestTest = 0.6549684703\n",
      "bestIteration = 1170\n",
      "Training on fold [2/5]\n",
      "bestTest = 0.6417669654\n",
      "bestIteration = 87\n",
      "Training on fold [3/5]\n",
      "bestTest = 0.6621857882\n",
      "bestIteration = 1171\n",
      "Training on fold [4/5]\n",
      "bestTest = 0.6491872966\n",
      "bestIteration = 740\n",
      "[I 2025-08-19 20:58:40,800] Trial 0 finished with value: 0.6517624139785767 and parameters: {'depth': 6, 'learning_rate': 0.0033174029129319662, 'l2_leaf_reg': 6.522075383257998, 'iterations': 1173, 'random_strength': 1.8025674680014547}. Best is trial 0 with value: 0.6517624139785767.\n"
     ]
    },
    {
     "name": "stderr",
     "output_type": "stream",
     "text": [
      "/usr/local/lib/python3.12/dist-packages/sklearn/model_selection/_split.py:877: UserWarning: The groups parameter is ignored by StratifiedKFold\n",
      "  warnings.warn(\n",
      "Default metric period is 5 because AUC is/are not implemented for GPU\n",
      "Warning: Overfitting detector is active, thus evaluation metric is calculated on every iteration. 'metric_period' is ignored for evaluation metric.\n"
     ]
    },
    {
     "name": "stdout",
     "output_type": "stream",
     "text": [
      "Training on fold [0/5]\n",
      "bestTest = 0.6533217728\n",
      "bestIteration = 1179\n",
      "Training on fold [1/5]\n",
      "bestTest = 0.6573089361\n",
      "bestIteration = 1173\n",
      "Training on fold [2/5]\n",
      "bestTest = 0.6496262252\n",
      "bestIteration = 1180\n",
      "Training on fold [3/5]\n",
      "bestTest = 0.6621024609\n",
      "bestIteration = 1143\n",
      "Training on fold [4/5]\n",
      "bestTest = 0.649476856\n",
      "bestIteration = 695\n",
      "[I 2025-08-19 21:01:43,230] Trial 1 finished with value: 0.6543034195899964 and parameters: {'depth': 4, 'learning_rate': 0.005430849443131651, 'l2_leaf_reg': 6.002854137103343, 'iterations': 1181, 'random_strength': 0.6997214275184842}. Best is trial 1 with value: 0.6543034195899964.\n"
     ]
    },
    {
     "name": "stderr",
     "output_type": "stream",
     "text": [
      "/usr/local/lib/python3.12/dist-packages/sklearn/model_selection/_split.py:877: UserWarning: The groups parameter is ignored by StratifiedKFold\n",
      "  warnings.warn(\n",
      "Default metric period is 5 because AUC is/are not implemented for GPU\n",
      "Warning: Overfitting detector is active, thus evaluation metric is calculated on every iteration. 'metric_period' is ignored for evaluation metric.\n"
     ]
    },
    {
     "name": "stdout",
     "output_type": "stream",
     "text": [
      "Training on fold [0/5]\n",
      "bestTest = 0.6544655263\n",
      "bestIteration = 339\n",
      "Training on fold [1/5]\n",
      "bestTest = 0.659673214\n",
      "bestIteration = 484\n",
      "Training on fold [2/5]\n",
      "bestTest = 0.6510193646\n",
      "bestIteration = 304\n",
      "Training on fold [3/5]\n",
      "bestTest = 0.6635119319\n",
      "bestIteration = 180\n",
      "Training on fold [4/5]\n",
      "bestTest = 0.6472383738\n",
      "bestIteration = 15\n",
      "[I 2025-08-19 21:09:24,353] Trial 2 finished with value: 0.6542108297348023 and parameters: {'depth': 9, 'learning_rate': 0.0159703556676299, 'l2_leaf_reg': 9.46198952506833, 'iterations': 1828, 'random_strength': 0.360003174920581}. Best is trial 1 with value: 0.6543034195899964.\n"
     ]
    },
    {
     "name": "stderr",
     "output_type": "stream",
     "text": [
      "/usr/local/lib/python3.12/dist-packages/sklearn/model_selection/_split.py:877: UserWarning: The groups parameter is ignored by StratifiedKFold\n",
      "  warnings.warn(\n",
      "Default metric period is 5 because AUC is/are not implemented for GPU\n",
      "Warning: Overfitting detector is active, thus evaluation metric is calculated on every iteration. 'metric_period' is ignored for evaluation metric.\n"
     ]
    },
    {
     "name": "stdout",
     "output_type": "stream",
     "text": [
      "Training on fold [0/5]\n",
      "bestTest = 0.6550376117\n",
      "bestIteration = 163\n",
      "Training on fold [1/5]\n",
      "bestTest = 0.6587378979\n",
      "bestIteration = 553\n",
      "Training on fold [2/5]\n",
      "bestTest = 0.6506468058\n",
      "bestIteration = 367\n",
      "Training on fold [3/5]\n",
      "bestTest = 0.6620400846\n",
      "bestIteration = 66\n",
      "Training on fold [4/5]\n",
      "bestTest = 0.6480395198\n",
      "bestIteration = 115\n",
      "[I 2025-08-19 21:13:28,388] Trial 3 finished with value: 0.6533393859863281 and parameters: {'depth': 8, 'learning_rate': 0.04599968408271627, 'l2_leaf_reg': 1.06202252753981, 'iterations': 558, 'random_strength': 1.5661084226227098}. Best is trial 1 with value: 0.6543034195899964.\n"
     ]
    },
    {
     "name": "stderr",
     "output_type": "stream",
     "text": [
      "/usr/local/lib/python3.12/dist-packages/sklearn/model_selection/_split.py:877: UserWarning: The groups parameter is ignored by StratifiedKFold\n",
      "  warnings.warn(\n",
      "Default metric period is 5 because AUC is/are not implemented for GPU\n",
      "Warning: Overfitting detector is active, thus evaluation metric is calculated on every iteration. 'metric_period' is ignored for evaluation metric.\n"
     ]
    },
    {
     "name": "stdout",
     "output_type": "stream",
     "text": [
      "Training on fold [0/5]\n",
      "bestTest = 0.6532913446\n",
      "bestIteration = 128\n",
      "Training on fold [1/5]\n",
      "bestTest = 0.6591388583\n",
      "bestIteration = 413\n",
      "Training on fold [2/5]\n",
      "bestTest = 0.6519475877\n",
      "bestIteration = 728\n",
      "Training on fold [3/5]\n",
      "bestTest = 0.6617056131\n",
      "bestIteration = 99\n",
      "Training on fold [4/5]\n",
      "bestTest = 0.6488720775\n",
      "bestIteration = 61\n",
      "[I 2025-08-19 21:15:40,177] Trial 4 finished with value: 0.6543709456920623 and parameters: {'depth': 6, 'learning_rate': 0.029364728391693795, 'l2_leaf_reg': 9.00533910558688, 'iterations': 1700, 'random_strength': 1.3208892933790786}. Best is trial 4 with value: 0.6543709456920623.\n"
     ]
    },
    {
     "name": "stderr",
     "output_type": "stream",
     "text": [
      "/usr/local/lib/python3.12/dist-packages/sklearn/model_selection/_split.py:877: UserWarning: The groups parameter is ignored by StratifiedKFold\n",
      "  warnings.warn(\n",
      "Default metric period is 5 because AUC is/are not implemented for GPU\n",
      "Warning: Overfitting detector is active, thus evaluation metric is calculated on every iteration. 'metric_period' is ignored for evaluation metric.\n"
     ]
    },
    {
     "name": "stdout",
     "output_type": "stream",
     "text": [
      "Training on fold [0/5]\n",
      "bestTest = 0.6532754898\n",
      "bestIteration = 607\n",
      "Training on fold [1/5]\n",
      "bestTest = 0.6592081785\n",
      "bestIteration = 1240\n",
      "Training on fold [2/5]\n",
      "bestTest = 0.6519860327\n",
      "bestIteration = 1339\n",
      "Training on fold [3/5]\n",
      "bestTest = 0.6629832089\n",
      "bestIteration = 483\n",
      "Training on fold [4/5]\n",
      "bestTest = 0.6484127939\n",
      "bestIteration = 170\n",
      "[I 2025-08-19 21:25:03,856] Trial 5 finished with value: 0.6545894265174865 and parameters: {'depth': 8, 'learning_rate': 0.016907043732341483, 'l2_leaf_reg': 6.281519157871911, 'iterations': 1340, 'random_strength': 1.5019722755886558}. Best is trial 5 with value: 0.6545894265174865.\n"
     ]
    },
    {
     "name": "stderr",
     "output_type": "stream",
     "text": [
      "/usr/local/lib/python3.12/dist-packages/sklearn/model_selection/_split.py:877: UserWarning: The groups parameter is ignored by StratifiedKFold\n",
      "  warnings.warn(\n",
      "Default metric period is 5 because AUC is/are not implemented for GPU\n",
      "Warning: Overfitting detector is active, thus evaluation metric is calculated on every iteration. 'metric_period' is ignored for evaluation metric.\n"
     ]
    },
    {
     "name": "stdout",
     "output_type": "stream",
     "text": [
      "Training on fold [0/5]\n",
      "bestTest = 0.6542855799\n",
      "bestIteration = 54\n",
      "Training on fold [1/5]\n",
      "bestTest = 0.6529118717\n",
      "bestIteration = 79\n",
      "Training on fold [2/5]\n",
      "bestTest = 0.6513781548\n",
      "bestIteration = 225\n",
      "Training on fold [3/5]\n",
      "bestTest = 0.6599690914\n",
      "bestIteration = 14\n",
      "Training on fold [4/5]\n",
      "bestTest = 0.6461704969\n",
      "bestIteration = 39\n",
      "[I 2025-08-19 21:28:04,270] Trial 6 finished with value: 0.6469771325588226 and parameters: {'depth': 8, 'learning_rate': 0.20727077258516652, 'l2_leaf_reg': 2.1095216212739194, 'iterations': 1359, 'random_strength': 1.313293474770503}. Best is trial 5 with value: 0.6545894265174865.\n"
     ]
    },
    {
     "name": "stderr",
     "output_type": "stream",
     "text": [
      "/usr/local/lib/python3.12/dist-packages/sklearn/model_selection/_split.py:877: UserWarning: The groups parameter is ignored by StratifiedKFold\n",
      "  warnings.warn(\n",
      "Default metric period is 5 because AUC is/are not implemented for GPU\n",
      "Warning: Overfitting detector is active, thus evaluation metric is calculated on every iteration. 'metric_period' is ignored for evaluation metric.\n"
     ]
    },
    {
     "name": "stdout",
     "output_type": "stream",
     "text": [
      "Training on fold [0/5]\n",
      "bestTest = 0.6529993117\n",
      "bestIteration = 380\n",
      "Training on fold [1/5]\n",
      "bestTest = 0.658593446\n",
      "bestIteration = 623\n",
      "Training on fold [2/5]\n",
      "bestTest = 0.6532184184\n",
      "bestIteration = 667\n",
      "Training on fold [3/5]\n",
      "bestTest = 0.662515521\n",
      "bestIteration = 318\n",
      "Training on fold [4/5]\n",
      "bestTest = 0.6498663723\n",
      "bestIteration = 59\n",
      "[I 2025-08-19 21:31:34,151] Trial 7 finished with value: 0.6546359956264496 and parameters: {'depth': 7, 'learning_rate': 0.023914418748212214, 'l2_leaf_reg': 6.228696122565741, 'iterations': 668, 'random_strength': 1.2922415177758793}. Best is trial 7 with value: 0.6546359956264496.\n"
     ]
    },
    {
     "name": "stderr",
     "output_type": "stream",
     "text": [
      "/usr/local/lib/python3.12/dist-packages/sklearn/model_selection/_split.py:877: UserWarning: The groups parameter is ignored by StratifiedKFold\n",
      "  warnings.warn(\n",
      "Default metric period is 5 because AUC is/are not implemented for GPU\n",
      "Warning: Overfitting detector is active, thus evaluation metric is calculated on every iteration. 'metric_period' is ignored for evaluation metric.\n"
     ]
    },
    {
     "name": "stdout",
     "output_type": "stream",
     "text": [
      "Training on fold [0/5]\n",
      "bestTest = 0.6490550637\n",
      "bestIteration = 114\n",
      "Training on fold [1/5]\n",
      "bestTest = 0.6532990336\n",
      "bestIteration = 51\n",
      "Training on fold [2/5]\n",
      "bestTest = 0.6473804414\n",
      "bestIteration = 60\n",
      "Training on fold [3/5]\n",
      "bestTest = 0.6575102806\n",
      "bestIteration = 455\n",
      "Training on fold [4/5]\n",
      "bestTest = 0.6463529468\n",
      "bestIteration = 14\n",
      "[I 2025-08-19 21:32:34,178] Trial 8 finished with value: 0.6501053392887115 and parameters: {'depth': 5, 'learning_rate': 0.0011532692994310034, 'l2_leaf_reg': 6.58068994509282, 'iterations': 462, 'random_strength': 0.48375089132212246}. Best is trial 7 with value: 0.6546359956264496.\n"
     ]
    },
    {
     "name": "stderr",
     "output_type": "stream",
     "text": [
      "/usr/local/lib/python3.12/dist-packages/sklearn/model_selection/_split.py:877: UserWarning: The groups parameter is ignored by StratifiedKFold\n",
      "  warnings.warn(\n",
      "Default metric period is 5 because AUC is/are not implemented for GPU\n",
      "Warning: Overfitting detector is active, thus evaluation metric is calculated on every iteration. 'metric_period' is ignored for evaluation metric.\n"
     ]
    },
    {
     "name": "stdout",
     "output_type": "stream",
     "text": [
      "Training on fold [0/5]\n",
      "bestTest = 0.6512966752\n",
      "bestIteration = 1189\n",
      "Training on fold [1/5]\n",
      "bestTest = 0.6527425349\n",
      "bestIteration = 81\n",
      "Training on fold [2/5]\n",
      "bestTest = 0.6457541287\n",
      "bestIteration = 135\n",
      "Training on fold [3/5]\n",
      "bestTest = 0.6607029736\n",
      "bestIteration = 1195\n",
      "Training on fold [4/5]\n",
      "bestTest = 0.6472406685\n",
      "bestIteration = 13\n",
      "[I 2025-08-19 21:35:16,337] Trial 9 finished with value: 0.6509912371635437 and parameters: {'depth': 6, 'learning_rate': 0.0020422124080322693, 'l2_leaf_reg': 6.986126631477772, 'iterations': 1196, 'random_strength': 0.6697479893592566}. Best is trial 7 with value: 0.6546359956264496.\n",
      "\n",
      "En iyi skor (CV'de Eşik Optimizasyonu ile): 0.6546359956264496\n",
      "En iyi hiperparametreler:\n",
      " {'depth': 7, 'learning_rate': 0.023914418748212214, 'l2_leaf_reg': 6.228696122565741, 'iterations': 668, 'random_strength': 1.2922415177758793}\n"
     ]
    }
   ],
   "source": [
    "import optuna\n",
    "from sklearn.model_selection import cross_val_score, StratifiedKFold\n",
    "from sklearn.pipeline import Pipeline\n",
    "from sklearn.metrics import f1_score, roc_auc_score\n",
    "from catboost import CatBoostClassifier\n",
    "\n",
    "\n",
    "def objective(trial):\n",
    "\n",
    "    params = {\n",
    "        \"depth\": trial.suggest_int(\"depth\", 4, 10),\n",
    "        \"learning_rate\": trial.suggest_float(\"learning_rate\", 1e-3, 0.3, log=True),\n",
    "        \"l2_leaf_reg\": trial.suggest_float(\"l2_leaf_reg\", 1.0, 10.0),\n",
    "        \"iterations\": trial.suggest_int(\n",
    "            \"iterations\", 400, 2000\n",
    "        ),\n",
    "        \"random_strength\": trial.suggest_float(\"random_strength\", 0.0, 2.0),\n",
    "\n",
    "        \"loss_function\": \"Logloss\",\n",
    "        \"auto_class_weights\": \"SqrtBalanced\",\n",
    "        \"random_seed\": SEED,\n",
    "        \"eval_metric\": \"AUC\",\n",
    "        \"verbose\": False,\n",
    "        \"task_type\": \"GPU\",\n",
    "        \"devices\": \"0\",\n",
    "    }\n",
    "\n",
    "    \"\"\"TunedThresholdClassifierCV ne alaka:** Optuna'nın denediği **her bir\n",
    "    hiperparametre kombinasyonu için biz ayrıca o kombinasyonun **en iyi karar eşiğini**\n",
    "    de buluyoruz. Bunu, daha hızlı bir iç çapraz doğrulama (`cv=3`) ile yapıyoruz. Bu,\n",
    "    her denemenin adil bir şekilde, kendi potansiyelinin zirvesinde değerlendirilmesini\n",
    "    sağlar. Bir hiperparametre setinin kötü bir F1 skoru almasının nedeninin sadece\n",
    "    varsayılan 0.5 eşiğinin kötü olması ihtimalini ortadan kaldırırız.\"\"\"\n",
    "    \"\"\"tuned_clf = TunedThresholdClassifierCV(\n",
    "        estimator=base_clf,\n",
    "        scoring='f1', # Eşiği optimize etmek için kullanılacak metrik\n",
    "        cv=StratifiedKFold(n_splits=1, shuffle=True, random_state=SEED), # Daha hızlı iç CV\n",
    "        random_state=SEED\n",
    "    )\"\"\"\n",
    "\n",
    "    feature_extractor = PowerTorqueRegexExtractor()\n",
    "    X_transformed = feature_extractor.fit_transform(X_train)\n",
    "    cat_features_transformed = [\n",
    "        col for col in X_transformed.columns if col in cat_features_names\n",
    "    ]\n",
    "\n",
    "    train_pool = Pool(\n",
    "        data=X_transformed, label=y_train, cat_features=cat_features_transformed\n",
    "    )\n",
    "\n",
    "    cv_results = cv(\n",
    "        pool=train_pool,\n",
    "        params=params,\n",
    "        folds=StratifiedKFold(n_splits=5, shuffle=True, random_state=SEED),\n",
    "        early_stopping_rounds=200,\n",
    "        return_models=False,  # Sadece skorlara ihtiyacımız var, modellere değil\n",
    "    )\n",
    "\n",
    "    mean_recall = cv_results[\"test-AUC-mean\"].iloc[-1]\n",
    "\n",
    "    return mean_recall\n",
    "\n",
    "\n",
    "# Optuna'nın her denemede ne yapacağını tanımlayan \"kullanım kılavuzudur\". Optuna,\n",
    "# her yeni hiperparametre seti denemesinde bu fonksiyonu baştan sona çalıştırır ve\n",
    "# fonksiyondan dönen skoru (bizim durumumuzda ortalama F1 skoru) kaydeder.\n",
    "study = optuna.create_study(direction=\"maximize\")\n",
    "\n",
    "# 30 kere deneme yapacak.\n",
    "study.optimize(objective, n_trials=10, show_progress_bar=True)\n",
    "\n",
    "# Optuna bir döngüye girer aslında:\n",
    "# Deneme 1: Bir hiperparametre seti önerir. objective fonksiyonunu bu setle çalıştırır\n",
    "#           ve bir F1 skoru elde eder.\n",
    "# Öğrenme: Bu parametrelerin bu skoru getirdiğini öğrenir.\n",
    "# Deneme 2: İlk denemenin sonucuna göre daha \"akıllı\" yeni bir hiperparametre seti önerir.\n",
    "#           objective fonksiyonunu tekrar çalıştırır ve yeni bir F1 skoru alır.\n",
    "# Bu süreç, 10 deneme tamamlanana kadar devam eder.\n",
    "\n",
    "print(\"\\nEn iyi skor (CV'de Eşik Optimizasyonu ile):\", study.best_value)\n",
    "print(\"En iyi hiperparametreler:\\n\", study.best_params)"
   ]
  },
  {
   "cell_type": "code",
   "execution_count": 22,
   "id": "f9NqdqphQ30z",
   "metadata": {
    "executionInfo": {
     "elapsed": 2,
     "status": "ok",
     "timestamp": 1755639422518,
     "user": {
      "displayName": "Kaan Bıçakcı",
      "userId": "12951043854473247756"
     },
     "user_tz": -60
    },
    "id": "f9NqdqphQ30z"
   },
   "outputs": [],
   "source": [
    "from sklearn.model_selection import TunedThresholdClassifierCV"
   ]
  },
  {
   "cell_type": "code",
   "execution_count": 25,
   "id": "mBtvgMGmhy5l",
   "metadata": {
    "colab": {
     "base_uri": "https://localhost:8080/"
    },
    "executionInfo": {
     "elapsed": 319610,
     "status": "ok",
     "timestamp": 1755640324764,
     "user": {
      "displayName": "Kaan Bıçakcı",
      "userId": "12951043854473247756"
     },
     "user_tz": -60
    },
    "id": "mBtvgMGmhy5l",
    "outputId": "692e53c7-2861-4255-c39f-3af82c67756d"
   },
   "outputs": [
    {
     "name": "stdout",
     "output_type": "stream",
     "text": [
      "\n",
      "Tüm eğitim verisi üzerinde bulunan en iyi eşik: 0.3166\n"
     ]
    }
   ],
   "source": [
    "best_base_cat = CatBoostClassifier(\n",
    "    loss_function=\"Logloss\",\n",
    "    auto_class_weights=\"SqrtBalanced\",\n",
    "    random_seed=SEED,\n",
    "    verbose=False,\n",
    "    thread_count=-1,\n",
    "    task_type=\"GPU\",\n",
    "    cat_features=cat_features_names,\n",
    "    early_stopping_rounds=200,\n",
    "    **study.best_params,  # Optuna'nın bulduğu en iyi parametreler\n",
    ")\n",
    "\n",
    "# 2. YENİ ADIM: En iyi temel modeli, son kez eğitmek üzere TEKRAR sarmala\n",
    "#    Bu .fit() çağrıldığında, en iyi eşiği bulup saklayacak.\n",
    "final_tuned_cat_model = TunedThresholdClassifierCV(\n",
    "    estimator=best_base_cat,\n",
    "    scoring=\"f1_macro\",\n",
    "    cv=StratifiedKFold(n_splits=5, shuffle=True, random_state=SEED),\n",
    "    random_state=SEED,\n",
    ")\n",
    "\n",
    "# 3. Final pipeline'ı bu son sarmalanmış modelle kur\n",
    "cat_pipe = Pipeline(\n",
    "    steps=[(\"fe\", PowerTorqueRegexExtractor()), (\"clf\", final_tuned_cat_model)]\n",
    ")\n",
    "\n",
    "# 4. Pipeline'ı TÜM eğitim verisiyle eğit\n",
    "#    .fit() çağrısı, final_tuned_cat_model'in en iyi eşiği bulmasını ve saklamasını tetikler.\n",
    "cat_pipe.fit(X_train, y_train)\n",
    "\n",
    "# Eğitilmiş pipeline'dan en iyi eşiği alıp yazdıralım\n",
    "best_threshold_found = cat_pipe.named_steps[\"clf\"].best_threshold_\n",
    "print(f\"\\nTüm eğitim verisi üzerinde bulunan en iyi eşik: {best_threshold_found:.4f}\")"
   ]
  },
  {
   "cell_type": "code",
   "execution_count": 27,
   "id": "Pn1bYBGDQqwT",
   "metadata": {
    "colab": {
     "base_uri": "https://localhost:8080/",
     "height": 472
    },
    "executionInfo": {
     "elapsed": 409,
     "status": "ok",
     "timestamp": 1755640842385,
     "user": {
      "displayName": "Kaan Bıçakcı",
      "userId": "12951043854473247756"
     },
     "user_tz": -60
    },
    "id": "Pn1bYBGDQqwT",
    "outputId": "b065d5da-b11e-4eaf-fa7c-0972da3dd36e"
   },
   "outputs": [
    {
     "data": {
      "image/png": "[encoded data removed]",
      "text/plain": [
       "<Figure size 640x480 with 2 Axes>"
      ]
     },
     "metadata": {},
     "output_type": "display_data"
    }
   ],
   "source": [
    "ConfusionMatrixDisplay.from_estimator(cat_pipe, X_test, y_test)\n",
    "plt.title(f\"Confusion Matrix\")\n",
    "plt.grid(False)\n",
    "plt.show()"
   ]
  },
  {
   "cell_type": "code",
   "execution_count": 26,
   "id": "O1-hqb4QTIqC",
   "metadata": {
    "colab": {
     "base_uri": "https://localhost:8080/"
    },
    "executionInfo": {
     "elapsed": 564,
     "status": "ok",
     "timestamp": 1755640839196,
     "user": {
      "displayName": "Kaan Bıçakcı",
      "userId": "12951043854473247756"
     },
     "user_tz": -60
    },
    "id": "O1-hqb4QTIqC",
    "outputId": "d7df1308-4d1d-4f69-f26b-f9ea288568db"
   },
   "outputs": [
    {
     "name": "stdout",
     "output_type": "stream",
     "text": [
      "\n",
      "HPO ve Eşik Optimizasyonu sonrası CatBoost — Test F1 (macro): 0.5333241093475797\n",
      "ROC-AUC (HPO-CatBoost): 0.6636853556993952\n"
     ]
    }
   ],
   "source": [
    "y_pred_hpo = cat_pipe.predict(X_test)\n",
    "\n",
    "print(\n",
    "    \"\\nHPO ve Eşik Optimizasyonu sonrası CatBoost — Test F1 (macro):\",\n",
    "    f1_score(y_test, y_pred_hpo, average=\"macro\"),\n",
    ")\n",
    "y_proba_hpo = cat_pipe.predict_proba(X_test)[:, 1]\n",
    "print(\"ROC-AUC (HPO-CatBoost):\", roc_auc_score(y_test, y_proba_hpo))"
   ]
  },
  {
   "cell_type": "markdown",
   "id": "CFN_CvPM48lb",
   "metadata": {
    "id": "CFN_CvPM48lb"
   },
   "source": [
    "## Durum Değerlendirmesi - Neler Oluyor?\n",
    "\n",
    "Bu sonuçlar ilk bakışta beklentilerin tersi gibi görünebilir.\n",
    "\n",
    "Gelişmiş, hiperparametre optimizasyonu yapılmış CatBoost modelimiz, daha basit olan Decision Tree modeline göre asıl hedefimiz olan **\"gerçek talepleri (Class 1) yakalama\"** konusunda daha zayıf kalmış görünüyor.\n",
    "\n",
    "Bunların bize ne anlattığını derinlemesine inceleyelim."
   ]
  },
  {
   "cell_type": "markdown",
   "id": "BVlydp4Z5JK-",
   "metadata": {
    "id": "BVlydp4Z5JK-"
   },
   "source": [
    "---\n",
    "\n",
    "### CatBoost Modelinin Karnesi (İlk Matris - 104 TP)\n",
    "\n",
    "*   **Doğru Pozitif (True Positive - 104):** Modelimiz gerçekte \"talep var\" (1) olan **104** vakayı doğru tahmin etmiş.\n",
    "*   **Yanlış Negatif (False Negative - 646):** **Bu en kritik nokta.** Model gerçekte \"talep var\" (1) olan tam **646** vakayı gözden kaçırmış ve \"talep yok\" (0) demiş. **Modelin en büyük zayıflığı.**\n",
    "*   **Yanlış Pozitif (False Positive - 743):** Model, \"talep yok\" (0) olan **743** vakaya yanlışlıkla \"talep var\" (1) demiş. Yani yanlış alarm sayısı oldukça düşük.\n",
    "*   **Doğru Negatif (True Negative - ~10,000):** Model, \"talep yok\" (0) olan vakaları tespit etmede ezici bir çoğunlukla başarılı.\n",
    "\n",
    "---"
   ]
  },
  {
   "cell_type": "markdown",
   "id": "teN9DgV96TK8",
   "metadata": {
    "id": "teN9DgV96TK8"
   },
   "source": [
    "### Decision Tree Modelinin Karnesi (İkinci Matris - 177 TP)\n",
    "\n",
    "*   **Doğru Pozitif (True Positive - 177):** Bu model **177** gerçek talebi başarıyla yakalamış.\n",
    "*   **Yanlış Negatif (False Negative - 573):** **573** gerçek talebi gözden kaçırmış. Bu sayı hala yüksek olsa da, CatBoost'tan belirgin şekilde daha iyi.\n",
    "*   **Yanlış Pozitif (False Positive - 1600):** Modelin zayıf yeri burası. Gerçek talepleri bulmak için daha \"cesur\" davrandığı için, tam **1600** kez yanlış alarm vermiş.\n",
    "*   **Doğru Negatif (True Negative - 9369):** \"Talep yok\" vakalarını tespit etme başarısı hala yüksek.\n",
    "\n",
    "**Decision Tree'nin Karakteri:** Bu model daha **\"agresif\"** ve **\"proaktif\"**. \"Birkaç yanlış alarm vermeyi göze alırım ama ana görevim olan gerçek talepleri kaçırmamalıyım\" stratejisini izliyor.\n",
    "\n",
    "---"
   ]
  },
  {
   "cell_type": "markdown",
   "id": "7iHo2S3i6VKV",
   "metadata": {
    "id": "7iHo2S3i6VKV"
   },
   "source": [
    "### Nihai Karşılaştırma ve Şaşırtıcı Sonuç\n",
    "\n",
    "| Metrik | CatBoost (Optimize Edilmiş) | Decision Tree (Temel) | Kazanan |\n",
    "| :--- | :--- | :--- | :--- |\n",
    "| **Yakalanan Gerçek Talep (TP)** | 104 | **177** | **Decision Tree** |\n",
    "| **Kaçırılan Gerçek Talep (FN)** | 646 | **573** | **Decision Tree** |\n",
    "| **Yanlış Alarm Sayısı (FP)** | **743** | 1600 | **CatBoost** |\n",
    "\n",
    "**Yorum:**\n",
    "Daha basit olan Decision Tree modeli, işimizin en kritik hedefi olan **gerçek talepleri bulma ve kaçırmama** konusunda, üzerinde bu kadar çalıştığımız CatBoost modelinden **daha iyi bir performans sergilemiş.**\n",
    "\n",
    "**Peki Neden Böyle Oldu? Bu Bir Başarısızlık mı?**\n",
    "\n",
    "Yoo. Bu aslında ML sürecinin en öğretici anlarından biridir.\n",
    "\n",
    "1.  **Aşırı Optimizasyon?:** Bazen hiperparametre optimizasyonu, modeli eğitim setindeki belirli bir dengeye o kadar iyi oturtur ki, test setindeki farklı bir dağılıma genelleme yapmakta zorlanır. CatBoost, \"yanlış alarm vermemenin\" eğitim setinde daha ödüllendirici bir strateji olduğuna karar vermiş olabilir.\n",
    "\n",
    "\n",
    "**Sonuç:** Bu karşılaştırma bize şunu gösteriyor: **En karmaşık model veya en uzun optimizasyon süreci her zaman en iyi sonucu vermez.** Modelin başarısı, tamamen probleme uygun metriklerle değerlendirilmesine ve optimize edilmesine bağlıdır."
   ]
  },
  {
   "cell_type": "code",
   "execution_count": 31,
   "id": "JHKJM7MmWqM_",
   "metadata": {
    "executionInfo": {
     "elapsed": 3,
     "status": "ok",
     "timestamp": 1755640987728,
     "user": {
      "displayName": "Kaan Bıçakcı",
      "userId": "12951043854473247756"
     },
     "user_tz": -60
    },
    "id": "JHKJM7MmWqM_"
   },
   "outputs": [],
   "source": [
    "from sklearn.metrics import recall_score, classification_report"
   ]
  },
  {
   "cell_type": "code",
   "execution_count": 33,
   "id": "vcmndgySWbl4",
   "metadata": {
    "colab": {
     "base_uri": "https://localhost:8080/"
    },
    "executionInfo": {
     "elapsed": 6808,
     "status": "ok",
     "timestamp": 1755641045612,
     "user": {
      "displayName": "Kaan Bıçakcı",
      "userId": "12951043854473247756"
     },
     "user_tz": -60
    },
    "id": "vcmndgySWbl4",
    "outputId": "aee9262c-9f37-4a61-fde3-2dfade0feacf"
   },
   "outputs": [
    {
     "name": "stdout",
     "output_type": "stream",
     "text": [
      "Eşik: 0.050 | Recall: 1.000\n",
      "Eşik: 0.062 | Recall: 0.996\n",
      "Eşik: 0.075 | Recall: 0.989\n",
      "Eşik: 0.087 | Recall: 0.972\n",
      "Eşik: 0.100 | Recall: 0.955\n",
      "Eşik: 0.112 | Recall: 0.932\n",
      "Eşik: 0.125 | Recall: 0.919\n",
      "Eşik: 0.138 | Recall: 0.896\n",
      "Eşik: 0.150 | Recall: 0.865\n",
      "Eşik: 0.162 | Recall: 0.837\n",
      "Eşik: 0.175 | Recall: 0.813\n",
      "Eşik: 0.188 | Recall: 0.775\n",
      "Eşik: 0.200 | Recall: 0.729\n",
      "Eşik: 0.212 | Recall: 0.675\n",
      "Eşik: 0.225 | Recall: 0.623\n",
      "Eşik: 0.237 | Recall: 0.557\n",
      "Eşik: 0.250 | Recall: 0.501\n",
      "Eşik: 0.263 | Recall: 0.444\n",
      "Eşik: 0.275 | Recall: 0.376\n",
      "Eşik: 0.287 | Recall: 0.280\n",
      "Eşik: 0.300 | Recall: 0.207\n",
      "Eşik: 0.312 | Recall: 0.153\n",
      "Eşik: 0.325 | Recall: 0.109\n",
      "Eşik: 0.337 | Recall: 0.092\n",
      "Eşik: 0.350 | Recall: 0.085\n"
     ]
    }
   ],
   "source": [
    "recall_per_threshold = {}\n",
    "for thresh in np.linspace(0.05, 0.35, num=25):\n",
    "    y_pred_thresh = cat_pipe.predict_proba(X_test)[:, 1] > thresh\n",
    "    recall_per_threshold[thresh] = recall_score(y_test, y_pred_thresh)\n",
    "\n",
    "    print(f\"Eşik: {thresh:.3f} | Recall: {recall_per_threshold[thresh]:.3f}\")"
   ]
  },
  {
   "cell_type": "markdown",
   "id": "HsTH7rQUD485",
   "metadata": {
    "id": "HsTH7rQUD485"
   },
   "source": [
    "### Hangi Eşiği Seçmeliyiz? (İş Problemine Göre Karar Verme)\n",
    "\n",
    "İşte projemizin en stratejik kısmı burasıdır. Doğru eşik, tamamen işin hedeflerine ve kaynaklarına bağlıdır.\n",
    "\n",
    "**Senaryo 1: \"Hiçbir Şüpheli Vaka Gözden Kaçmasın!\"**\n",
    "*   **Hedef:** Finansal kayıp riski çok yüksek. Bir sahtekarlığı veya geçerli talebi kaçırmanın maliyeti, birkaç yanlış alarmı incelemekten çok daha fazla. Analist ekibimiz bu incelemeyi yapabilir.\n",
    "*   **Seçilecek Eşik:** **Düşük bir eşik.** Örneğin, **0.150** eşiğini seçerek gerçek taleplerin **%86.5'ini** yakalayabiliriz.\n",
    "\n",
    "**Senaryo 2: \"Analistleri Boğmadan Makul Bir Başarı Elde Edelim\"**\n",
    "*   **Hedef:** Hem talepleri yakalamak hem de analistlerin iş yükünü yönetmek istiyoruz. Dengeli bir yaklaşım lazım.\n",
    "*   **Seçilecek Eşik:** **Orta bir eşik.** Örneğin, **0.250** eşiğini seçerek taleplerin yarısını (**%50.1 Recall**) yakalayabiliriz. Bu bir önceki duruma göre hala devasa bir iyileşmedir ve yanlış alarm sayısı Senaryo 1'e göre daha yönetilebilir olacaktır.\n",
    "\n",
    "**Senaryo 3: \"Sadece Neredeyse Kesin Olan Vakaları Göster\"**\n",
    "*   **Hedef:** Analist kaynağımız çok kısıtlı. Sadece \"banko\" vakalarla ilgilenebiliriz.\n",
    "*   **Seçilecek Eşik:** **Yüksek bir eşik.** Örneğin, **0.300** eşiğini seçerek taleplerin **%20.7'sini** yakalarız. Decision Tree'nin Recall'una (%23.6) yakın bir değerdir."
   ]
  },
  {
   "cell_type": "code",
   "execution_count": 35,
   "id": "aqcY6qNMWxCB",
   "metadata": {
    "colab": {
     "base_uri": "https://localhost:8080/"
    },
    "executionInfo": {
     "elapsed": 7020,
     "status": "ok",
     "timestamp": 1755641067496,
     "user": {
      "displayName": "Kaan Bıçakcı",
      "userId": "12951043854473247756"
     },
     "user_tz": -60
    },
    "id": "aqcY6qNMWxCB",
    "outputId": "59faddf7-8130-49d4-a867-b04be559cb1f"
   },
   "outputs": [
    {
     "name": "stdout",
     "output_type": "stream",
     "text": [
      "Eşik: 0.050\n",
      "              precision    recall  f1-score   support\n",
      "\n",
      "           0     1.0000    0.0015    0.0031     10969\n",
      "           1     0.0641    1.0000    0.1205       750\n",
      "\n",
      "    accuracy                         0.0654     11719\n",
      "   macro avg     0.5320    0.5008    0.0618     11719\n",
      "weighted avg     0.9401    0.0654    0.0106     11719\n",
      "\n",
      "--------------------------------------------------\n",
      "Eşik: 0.062\n",
      "              precision    recall  f1-score   support\n",
      "\n",
      "           0     0.9706    0.0090    0.0179     10969\n",
      "           1     0.0643    0.9960    0.1208       750\n",
      "\n",
      "    accuracy                         0.0722     11719\n",
      "   macro avg     0.5174    0.5025    0.0693     11719\n",
      "weighted avg     0.9126    0.0722    0.0245     11719\n",
      "\n",
      "--------------------------------------------------\n",
      "Eşik: 0.075\n",
      "              precision    recall  f1-score   support\n",
      "\n",
      "           0     0.9857    0.0503    0.0958     10969\n",
      "           1     0.0665    0.9893    0.1246       750\n",
      "\n",
      "    accuracy                         0.1104     11719\n",
      "   macro avg     0.5261    0.5198    0.1102     11719\n",
      "weighted avg     0.9269    0.1104    0.0976     11719\n",
      "\n",
      "--------------------------------------------------\n",
      "Eşik: 0.087\n",
      "              precision    recall  f1-score   support\n",
      "\n",
      "           0     0.9827    0.1087    0.1957     10969\n",
      "           1     0.0694    0.9720    0.1295       750\n",
      "\n",
      "    accuracy                         0.1639     11719\n",
      "   macro avg     0.5260    0.5403    0.1626     11719\n",
      "weighted avg     0.9242    0.1639    0.1915     11719\n",
      "\n",
      "--------------------------------------------------\n",
      "Eşik: 0.100\n",
      "              precision    recall  f1-score   support\n",
      "\n",
      "           0     0.9817    0.1665    0.2847     10969\n",
      "           1     0.0726    0.9547    0.1350       750\n",
      "\n",
      "    accuracy                         0.2169     11719\n",
      "   macro avg     0.5272    0.5606    0.2098     11719\n",
      "weighted avg     0.9235    0.2169    0.2751     11719\n",
      "\n",
      "--------------------------------------------------\n",
      "Eşik: 0.112\n",
      "              precision    recall  f1-score   support\n",
      "\n",
      "           0     0.9784    0.2109    0.3470     10969\n",
      "           1     0.0747    0.9320    0.1383       750\n",
      "\n",
      "    accuracy                         0.2570     11719\n",
      "   macro avg     0.5266    0.5714    0.2427     11719\n",
      "weighted avg     0.9206    0.2570    0.3336     11719\n",
      "\n",
      "--------------------------------------------------\n",
      "Eşik: 0.125\n",
      "              precision    recall  f1-score   support\n",
      "\n",
      "           0     0.9780    0.2469    0.3942     10969\n",
      "           1     0.0770    0.9187    0.1421       750\n",
      "\n",
      "    accuracy                         0.2899     11719\n",
      "   macro avg     0.5275    0.5828    0.2681     11719\n",
      "weighted avg     0.9203    0.2899    0.3781     11719\n",
      "\n",
      "--------------------------------------------------\n",
      "Eşik: 0.138\n",
      "              precision    recall  f1-score   support\n",
      "\n",
      "           0     0.9764    0.2941    0.4520     10969\n",
      "           1     0.0799    0.8960    0.1466       750\n",
      "\n",
      "    accuracy                         0.3326     11719\n",
      "   macro avg     0.5281    0.5951    0.2993     11719\n",
      "weighted avg     0.9190    0.3326    0.4325     11719\n",
      "\n",
      "--------------------------------------------------\n",
      "Eşik: 0.150\n",
      "              precision    recall  f1-score   support\n",
      "\n",
      "           0     0.9739    0.3431    0.5075     10969\n",
      "           1     0.0826    0.8653    0.1509       750\n",
      "\n",
      "    accuracy                         0.3766     11719\n",
      "   macro avg     0.5283    0.6042    0.3292     11719\n",
      "weighted avg     0.9168    0.3766    0.4847     11719\n",
      "\n",
      "--------------------------------------------------\n",
      "Eşik: 0.162\n",
      "              precision    recall  f1-score   support\n",
      "\n",
      "           0     0.9722    0.3883    0.5549     10969\n",
      "           1     0.0856    0.8373    0.1553       750\n",
      "\n",
      "    accuracy                         0.4170     11719\n",
      "   macro avg     0.5289    0.6128    0.3551     11719\n",
      "weighted avg     0.9154    0.4170    0.5293     11719\n",
      "\n",
      "--------------------------------------------------\n",
      "Eşik: 0.175\n",
      "              precision    recall  f1-score   support\n",
      "\n",
      "           0     0.9712    0.4309    0.5970     10969\n",
      "           1     0.0890    0.8133    0.1605       750\n",
      "\n",
      "    accuracy                         0.4554     11719\n",
      "   macro avg     0.5301    0.6221    0.3787     11719\n",
      "weighted avg     0.9148    0.4554    0.5691     11719\n",
      "\n",
      "--------------------------------------------------\n",
      "Eşik: 0.188\n",
      "              precision    recall  f1-score   support\n",
      "\n",
      "           0     0.9685    0.4736    0.6361     10969\n",
      "           1     0.0914    0.7747    0.1635       750\n",
      "\n",
      "    accuracy                         0.4929     11719\n",
      "   macro avg     0.5300    0.6241    0.3998     11719\n",
      "weighted avg     0.9124    0.4929    0.6059     11719\n",
      "\n",
      "--------------------------------------------------\n",
      "Eşik: 0.200\n",
      "              precision    recall  f1-score   support\n",
      "\n",
      "           0     0.9659    0.5242    0.6796     10969\n",
      "           1     0.0949    0.7293    0.1679       750\n",
      "\n",
      "    accuracy                         0.5373     11719\n",
      "   macro avg     0.5304    0.6268    0.4237     11719\n",
      "weighted avg     0.9102    0.5373    0.6468     11719\n",
      "\n",
      "--------------------------------------------------\n",
      "Eşik: 0.212\n",
      "              precision    recall  f1-score   support\n",
      "\n",
      "           0     0.9625    0.5712    0.7170     10969\n",
      "           1     0.0971    0.6747    0.1698       750\n",
      "\n",
      "    accuracy                         0.5779     11719\n",
      "   macro avg     0.5298    0.6230    0.4434     11719\n",
      "weighted avg     0.9071    0.5779    0.6820     11719\n",
      "\n",
      "--------------------------------------------------\n",
      "Eşik: 0.225\n",
      "              precision    recall  f1-score   support\n",
      "\n",
      "           0     0.9599    0.6183    0.7521     10969\n",
      "           1     0.1003    0.6227    0.1728       750\n",
      "\n",
      "    accuracy                         0.6186     11719\n",
      "   macro avg     0.5301    0.6205    0.4625     11719\n",
      "weighted avg     0.9049    0.6186    0.7151     11719\n",
      "\n",
      "--------------------------------------------------\n",
      "Eşik: 0.237\n",
      "              precision    recall  f1-score   support\n",
      "\n",
      "           0     0.9566    0.6677    0.7865     10969\n",
      "           1     0.1029    0.5573    0.1737       750\n",
      "\n",
      "    accuracy                         0.6606     11719\n",
      "   macro avg     0.5298    0.6125    0.4801     11719\n",
      "weighted avg     0.9020    0.6606    0.7473     11719\n",
      "\n",
      "--------------------------------------------------\n",
      "Eşik: 0.250\n",
      "              precision    recall  f1-score   support\n",
      "\n",
      "           0     0.9544    0.7135    0.8165     10969\n",
      "           1     0.1068    0.5013    0.1762       750\n",
      "\n",
      "    accuracy                         0.6999     11719\n",
      "   macro avg     0.5306    0.6074    0.4963     11719\n",
      "weighted avg     0.9001    0.6999    0.7755     11719\n",
      "\n",
      "--------------------------------------------------\n",
      "Eşik: 0.263\n",
      "              precision    recall  f1-score   support\n",
      "\n",
      "           0     0.9524    0.7603    0.8456     10969\n",
      "           1     0.1124    0.4440    0.1794       750\n",
      "\n",
      "    accuracy                         0.7401     11719\n",
      "   macro avg     0.5324    0.6022    0.5125     11719\n",
      "weighted avg     0.8986    0.7401    0.8030     11719\n",
      "\n",
      "--------------------------------------------------\n",
      "Eşik: 0.275\n",
      "              precision    recall  f1-score   support\n",
      "\n",
      "           0     0.9496    0.8033    0.8703     10969\n",
      "           1     0.1156    0.3760    0.1768       750\n",
      "\n",
      "    accuracy                         0.7759     11719\n",
      "   macro avg     0.5326    0.5896    0.5236     11719\n",
      "weighted avg     0.8962    0.7759    0.8259     11719\n",
      "\n",
      "--------------------------------------------------\n",
      "Eşik: 0.287\n",
      "              precision    recall  f1-score   support\n",
      "\n",
      "           0     0.9455    0.8540    0.8974     10969\n",
      "           1     0.1160    0.2800    0.1640       750\n",
      "\n",
      "    accuracy                         0.8173     11719\n",
      "   macro avg     0.5307    0.5670    0.5307     11719\n",
      "weighted avg     0.8924    0.8173    0.8505     11719\n",
      "\n",
      "--------------------------------------------------\n",
      "Eşik: 0.300\n",
      "              precision    recall  f1-score   support\n",
      "\n",
      "           0     0.9429    0.8956    0.9186     10969\n",
      "           1     0.1192    0.2067    0.1512       750\n",
      "\n",
      "    accuracy                         0.8515     11719\n",
      "   macro avg     0.5311    0.5511    0.5349     11719\n",
      "weighted avg     0.8902    0.8515    0.8695     11719\n",
      "\n",
      "--------------------------------------------------\n",
      "Eşik: 0.312\n",
      "              precision    recall  f1-score   support\n",
      "\n",
      "           0     0.9411    0.9247    0.9328     10969\n",
      "           1     0.1222    0.1533    0.1360       750\n",
      "\n",
      "    accuracy                         0.8753     11719\n",
      "   macro avg     0.5316    0.5390    0.5344     11719\n",
      "weighted avg     0.8887    0.8753    0.8818     11719\n",
      "\n",
      "--------------------------------------------------\n",
      "Eşik: 0.325\n",
      "              precision    recall  f1-score   support\n",
      "\n",
      "           0     0.9393    0.9426    0.9409     10969\n",
      "           1     0.1152    0.1093    0.1122       750\n",
      "\n",
      "    accuracy                         0.8892     11719\n",
      "   macro avg     0.5272    0.5259    0.5266     11719\n",
      "weighted avg     0.8866    0.8892    0.8879     11719\n",
      "\n",
      "--------------------------------------------------\n",
      "Eşik: 0.337\n",
      "              precision    recall  f1-score   support\n",
      "\n",
      "           0     0.9388    0.9522    0.9455     10969\n",
      "           1     0.1164    0.0920    0.1028       750\n",
      "\n",
      "    accuracy                         0.8972     11719\n",
      "   macro avg     0.5276    0.5221    0.5241     11719\n",
      "weighted avg     0.8862    0.8972    0.8915     11719\n",
      "\n",
      "--------------------------------------------------\n",
      "Eşik: 0.350\n",
      "              precision    recall  f1-score   support\n",
      "\n",
      "           0     0.9388    0.9594    0.9490     10969\n",
      "           1     0.1257    0.0853    0.1017       750\n",
      "\n",
      "    accuracy                         0.9035     11719\n",
      "   macro avg     0.5323    0.5224    0.5253     11719\n",
      "weighted avg     0.8868    0.9035    0.8948     11719\n",
      "\n",
      "--------------------------------------------------\n"
     ]
    }
   ],
   "source": [
    "for thresh in np.linspace(0.05, 0.35, num=25):\n",
    "    y_pred_thresh = cat_pipe.predict_proba(X_test)[:, 1] > thresh\n",
    "    print(f\"Eşik: {thresh:.3f}\")\n",
    "    print(classification_report(y_test, y_pred_thresh, digits=4))\n",
    "    print(\"-\" * 50)"
   ]
  },
  {
   "cell_type": "code",
   "execution_count": 18,
   "id": "E1w9X3hT3Lax",
   "metadata": {
    "colab": {
     "base_uri": "https://localhost:8080/",
     "height": 1000,
     "referenced_widgets": [
      "a68ed9421477485491f2ccbabfdde31f",
      "bccebf1fb3a64c0680e8a65606c1ff4a",
      "fb1977c4bba54f22bdd983a8e669598d",
      "0a12a231f95c47878b3da4d414624ed2",
      "43e6543937654f5d80876357d1569e7d",
      "686ece067d6543d6a2535ddeee03d09c",
      "3d72bae23732430791291aaa43c2317a",
      "1993661fb87e49b3944ffb85717020a2",
      "4e6e9177620446c1be584305ed9d43c6",
      "8f7d397c7baa4384ad3c214623c351ce",
      "57fde18b790c4290ab1efc3f4aa3e1fb"
     ]
    },
    "executionInfo": {
     "elapsed": 548849,
     "status": "ok",
     "timestamp": 1755703053366,
     "user": {
      "displayName": "Kaan Bıçakcı",
      "userId": "12951043854473247756"
     },
     "user_tz": -60
    },
    "id": "E1w9X3hT3Lax",
    "outputId": "5a43dc72-0f4a-41c7-ad24-374221c111dd"
   },
   "outputs": [
    {
     "name": "stderr",
     "output_type": "stream",
     "text": [
      "[I 2025-08-20 15:08:24,475] A new study created in memory with name: no-name-85a550a5-aa82-4a0d-a19d-057753ba0a75\n"
     ]
    },
    {
     "data": {
      "application/vnd.jupyter.widget-view+json": {
       "model_id": "a68ed9421477485491f2ccbabfdde31f",
       "version_major": 2,
       "version_minor": 0
      },
      "text/plain": [
       "  0%|          | 0/50 [00:00<?, ?it/s]"
      ]
     },
     "metadata": {},
     "output_type": "display_data"
    },
    {
     "name": "stdout",
     "output_type": "stream",
     "text": [
      "[I 2025-08-20 15:08:39,961] Trial 0 finished with value: 0.14873577666672927 and parameters: {'criterion': 'entropy', 'max_depth': 11, 'min_samples_split': 21, 'min_samples_leaf': 1, 'max_features': 'sqrt'}. Best is trial 0 with value: 0.14873577666672927.\n",
      "[I 2025-08-20 15:08:49,458] Trial 1 finished with value: 0.14309037621300297 and parameters: {'criterion': 'entropy', 'max_depth': 3, 'min_samples_split': 17, 'min_samples_leaf': 11, 'max_features': 'sqrt'}. Best is trial 0 with value: 0.14873577666672927.\n",
      "[I 2025-08-20 15:08:59,041] Trial 2 finished with value: 0.15064509184613809 and parameters: {'criterion': 'entropy', 'max_depth': 7, 'min_samples_split': 23, 'min_samples_leaf': 7, 'max_features': 'sqrt'}. Best is trial 2 with value: 0.15064509184613809.\n",
      "[I 2025-08-20 15:09:08,494] Trial 3 finished with value: 0.1342760392210102 and parameters: {'criterion': 'gini', 'max_depth': 7, 'min_samples_split': 37, 'min_samples_leaf': 13, 'max_features': 'sqrt'}. Best is trial 2 with value: 0.15064509184613809.\n",
      "[I 2025-08-20 15:09:17,099] Trial 4 finished with value: 0.1479782167896146 and parameters: {'criterion': 'entropy', 'max_depth': 21, 'min_samples_split': 34, 'min_samples_leaf': 39, 'max_features': 'sqrt'}. Best is trial 2 with value: 0.15064509184613809.\n",
      "[I 2025-08-20 15:09:30,778] Trial 5 finished with value: 0.14189545902773623 and parameters: {'criterion': 'entropy', 'max_depth': 14, 'min_samples_split': 35, 'min_samples_leaf': 10, 'max_features': None}. Best is trial 2 with value: 0.15064509184613809.\n",
      "[I 2025-08-20 15:09:40,819] Trial 6 finished with value: 0.13810936485163394 and parameters: {'criterion': 'entropy', 'max_depth': 24, 'min_samples_split': 24, 'min_samples_leaf': 18, 'max_features': 'log2'}. Best is trial 2 with value: 0.15064509184613809.\n",
      "[I 2025-08-20 15:09:52,099] Trial 7 finished with value: 0.16146591169969385 and parameters: {'criterion': 'gini', 'max_depth': 6, 'min_samples_split': 37, 'min_samples_leaf': 14, 'max_features': None}. Best is trial 7 with value: 0.16146591169969385.\n",
      "[I 2025-08-20 15:10:07,312] Trial 8 finished with value: 0.13401122355608114 and parameters: {'criterion': 'gini', 'max_depth': 21, 'min_samples_split': 12, 'min_samples_leaf': 21, 'max_features': None}. Best is trial 7 with value: 0.16146591169969385.\n",
      "[I 2025-08-20 15:10:16,938] Trial 9 finished with value: 0.1455044216838533 and parameters: {'criterion': 'entropy', 'max_depth': 16, 'min_samples_split': 27, 'min_samples_leaf': 16, 'max_features': 'log2'}. Best is trial 7 with value: 0.16146591169969385.\n",
      "[I 2025-08-20 15:10:27,558] Trial 10 finished with value: 0.1657106060331885 and parameters: {'criterion': 'gini', 'max_depth': 4, 'min_samples_split': 3, 'min_samples_leaf': 28, 'max_features': None}. Best is trial 10 with value: 0.1657106060331885.\n",
      "[I 2025-08-20 15:10:37,464] Trial 11 finished with value: 0.16384005881648073 and parameters: {'criterion': 'gini', 'max_depth': 3, 'min_samples_split': 6, 'min_samples_leaf': 29, 'max_features': None}. Best is trial 10 with value: 0.1657106060331885.\n",
      "[I 2025-08-20 15:10:47,045] Trial 12 finished with value: 0.16384005881648073 and parameters: {'criterion': 'gini', 'max_depth': 3, 'min_samples_split': 2, 'min_samples_leaf': 29, 'max_features': None}. Best is trial 10 with value: 0.1657106060331885.\n",
      "[I 2025-08-20 15:10:58,917] Trial 13 finished with value: 0.15225871576364297 and parameters: {'criterion': 'gini', 'max_depth': 9, 'min_samples_split': 2, 'min_samples_leaf': 28, 'max_features': None}. Best is trial 10 with value: 0.1657106060331885.\n",
      "[I 2025-08-20 15:11:09,363] Trial 14 finished with value: 0.16384005881648073 and parameters: {'criterion': 'gini', 'max_depth': 3, 'min_samples_split': 9, 'min_samples_leaf': 31, 'max_features': None}. Best is trial 10 with value: 0.1657106060331885.\n",
      "[I 2025-08-20 15:11:21,740] Trial 15 finished with value: 0.1502528303388911 and parameters: {'criterion': 'gini', 'max_depth': 12, 'min_samples_split': 9, 'min_samples_leaf': 37, 'max_features': None}. Best is trial 10 with value: 0.1657106060331885.\n",
      "[I 2025-08-20 15:11:33,075] Trial 16 finished with value: 0.16147524642376604 and parameters: {'criterion': 'gini', 'max_depth': 6, 'min_samples_split': 14, 'min_samples_leaf': 23, 'max_features': None}. Best is trial 10 with value: 0.1657106060331885.\n",
      "[I 2025-08-20 15:11:42,414] Trial 17 finished with value: 0.14206437390103951 and parameters: {'criterion': 'gini', 'max_depth': 17, 'min_samples_split': 6, 'min_samples_leaf': 35, 'max_features': 'log2'}. Best is trial 10 with value: 0.1657106060331885.\n",
      "[I 2025-08-20 15:11:54,239] Trial 18 finished with value: 0.15063594486378956 and parameters: {'criterion': 'gini', 'max_depth': 10, 'min_samples_split': 6, 'min_samples_leaf': 24, 'max_features': None}. Best is trial 10 with value: 0.1657106060331885.\n",
      "[I 2025-08-20 15:12:04,526] Trial 19 finished with value: 0.1621571908441787 and parameters: {'criterion': 'gini', 'max_depth': 5, 'min_samples_split': 16, 'min_samples_leaf': 33, 'max_features': None}. Best is trial 10 with value: 0.1657106060331885.\n",
      "[I 2025-08-20 15:12:14,233] Trial 20 finished with value: 0.1438367889760994 and parameters: {'criterion': 'gini', 'max_depth': 9, 'min_samples_split': 6, 'min_samples_leaf': 28, 'max_features': 'log2'}. Best is trial 10 with value: 0.1657106060331885.\n",
      "[I 2025-08-20 15:12:24,845] Trial 21 finished with value: 0.16384005881648073 and parameters: {'criterion': 'gini', 'max_depth': 3, 'min_samples_split': 2, 'min_samples_leaf': 27, 'max_features': None}. Best is trial 10 with value: 0.1657106060331885.\n",
      "[I 2025-08-20 15:12:36,013] Trial 22 finished with value: 0.1619944444327108 and parameters: {'criterion': 'gini', 'max_depth': 5, 'min_samples_split': 3, 'min_samples_leaf': 31, 'max_features': None}. Best is trial 10 with value: 0.1657106060331885.\n",
      "[I 2025-08-20 15:12:46,054] Trial 23 finished with value: 0.16384005881648073 and parameters: {'criterion': 'gini', 'max_depth': 3, 'min_samples_split': 10, 'min_samples_leaf': 27, 'max_features': None}. Best is trial 10 with value: 0.1657106060331885.\n",
      "[I 2025-08-20 15:12:57,243] Trial 24 finished with value: 0.15449333127811565 and parameters: {'criterion': 'gini', 'max_depth': 8, 'min_samples_split': 5, 'min_samples_leaf': 25, 'max_features': None}. Best is trial 10 with value: 0.1657106060331885.\n",
      "[I 2025-08-20 15:13:08,017] Trial 25 finished with value: 0.1619944444327108 and parameters: {'criterion': 'gini', 'max_depth': 5, 'min_samples_split': 9, 'min_samples_leaf': 31, 'max_features': None}. Best is trial 10 with value: 0.1657106060331885.\n",
      "[I 2025-08-20 15:13:18,625] Trial 26 finished with value: 0.16572896943237853 and parameters: {'criterion': 'gini', 'max_depth': 4, 'min_samples_split': 29, 'min_samples_leaf': 20, 'max_features': None}. Best is trial 26 with value: 0.16572896943237853.\n",
      "[I 2025-08-20 15:13:29,637] Trial 27 finished with value: 0.16261930652739495 and parameters: {'criterion': 'gini', 'max_depth': 5, 'min_samples_split': 27, 'min_samples_leaf': 20, 'max_features': None}. Best is trial 26 with value: 0.16572896943237853.\n",
      "[I 2025-08-20 15:13:39,279] Trial 28 finished with value: 0.14759711695966116 and parameters: {'criterion': 'gini', 'max_depth': 13, 'min_samples_split': 29, 'min_samples_leaf': 20, 'max_features': 'log2'}. Best is trial 26 with value: 0.16572896943237853.\n",
      "[I 2025-08-20 15:13:51,505] Trial 29 finished with value: 0.14744610537570788 and parameters: {'criterion': 'gini', 'max_depth': 11, 'min_samples_split': 31, 'min_samples_leaf': 35, 'max_features': None}. Best is trial 26 with value: 0.16572896943237853.\n",
      "[I 2025-08-20 15:14:00,077] Trial 30 finished with value: 0.14638848811250507 and parameters: {'criterion': 'gini', 'max_depth': 8, 'min_samples_split': 19, 'min_samples_leaf': 7, 'max_features': 'sqrt'}. Best is trial 26 with value: 0.16572896943237853.\n",
      "[I 2025-08-20 15:14:10,975] Trial 31 finished with value: 0.16572896943237853 and parameters: {'criterion': 'gini', 'max_depth': 4, 'min_samples_split': 3, 'min_samples_leaf': 23, 'max_features': None}. Best is trial 26 with value: 0.16572896943237853.\n",
      "[I 2025-08-20 15:14:21,773] Trial 32 finished with value: 0.16572896943237853 and parameters: {'criterion': 'gini', 'max_depth': 4, 'min_samples_split': 12, 'min_samples_leaf': 23, 'max_features': None}. Best is trial 26 with value: 0.16572896943237853.\n",
      "[I 2025-08-20 15:14:33,246] Trial 33 finished with value: 0.16137339149796703 and parameters: {'criterion': 'gini', 'max_depth': 6, 'min_samples_split': 20, 'min_samples_leaf': 17, 'max_features': None}. Best is trial 26 with value: 0.16572896943237853.\n",
      "[I 2025-08-20 15:14:42,709] Trial 34 finished with value: 0.14106495846724898 and parameters: {'criterion': 'entropy', 'max_depth': 4, 'min_samples_split': 13, 'min_samples_leaf': 22, 'max_features': 'sqrt'}. Best is trial 26 with value: 0.16572896943237853.\n",
      "[I 2025-08-20 15:14:54,038] Trial 35 finished with value: 0.1602959219593681 and parameters: {'criterion': 'gini', 'max_depth': 7, 'min_samples_split': 17, 'min_samples_leaf': 24, 'max_features': None}. Best is trial 26 with value: 0.16572896943237853.\n",
      "[I 2025-08-20 15:15:02,571] Trial 36 finished with value: 0.15431325500415047 and parameters: {'criterion': 'entropy', 'max_depth': 7, 'min_samples_split': 24, 'min_samples_leaf': 3, 'max_features': 'sqrt'}. Best is trial 26 with value: 0.16572896943237853.\n",
      "[I 2025-08-20 15:15:13,396] Trial 37 finished with value: 0.16571978523027614 and parameters: {'criterion': 'gini', 'max_depth': 4, 'min_samples_split': 39, 'min_samples_leaf': 26, 'max_features': None}. Best is trial 26 with value: 0.16572896943237853.\n",
      "[I 2025-08-20 15:15:25,288] Trial 38 finished with value: 0.15889926246384647 and parameters: {'criterion': 'entropy', 'max_depth': 8, 'min_samples_split': 40, 'min_samples_leaf': 19, 'max_features': None}. Best is trial 26 with value: 0.16572896943237853.\n",
      "[I 2025-08-20 15:15:36,213] Trial 39 finished with value: 0.1394281756061007 and parameters: {'criterion': 'gini', 'max_depth': 25, 'min_samples_split': 33, 'min_samples_leaf': 12, 'max_features': 'sqrt'}. Best is trial 26 with value: 0.16572896943237853.\n",
      "[I 2025-08-20 15:15:49,088] Trial 40 finished with value: 0.1365139424155422 and parameters: {'criterion': 'gini', 'max_depth': 16, 'min_samples_split': 40, 'min_samples_leaf': 15, 'max_features': None}. Best is trial 26 with value: 0.16572896943237853.\n",
      "[I 2025-08-20 15:15:59,776] Trial 41 finished with value: 0.16571978523027614 and parameters: {'criterion': 'gini', 'max_depth': 4, 'min_samples_split': 36, 'min_samples_leaf': 25, 'max_features': None}. Best is trial 26 with value: 0.16572896943237853.\n",
      "[I 2025-08-20 15:16:09,667] Trial 42 finished with value: 0.16571978523027614 and parameters: {'criterion': 'gini', 'max_depth': 4, 'min_samples_split': 37, 'min_samples_leaf': 25, 'max_features': None}. Best is trial 26 with value: 0.16572896943237853.\n",
      "[I 2025-08-20 15:16:20,781] Trial 43 finished with value: 0.1615888980004102 and parameters: {'criterion': 'gini', 'max_depth': 6, 'min_samples_split': 36, 'min_samples_leaf': 22, 'max_features': None}. Best is trial 26 with value: 0.16572896943237853.\n",
      "[I 2025-08-20 15:16:31,538] Trial 44 finished with value: 0.16538537911377657 and parameters: {'criterion': 'gini', 'max_depth': 4, 'min_samples_split': 31, 'min_samples_leaf': 18, 'max_features': None}. Best is trial 26 with value: 0.16572896943237853.\n",
      "[I 2025-08-20 15:16:44,586] Trial 45 finished with value: 0.13556837746498673 and parameters: {'criterion': 'entropy', 'max_depth': 19, 'min_samples_split': 38, 'min_samples_leaf': 21, 'max_features': None}. Best is trial 26 with value: 0.16572896943237853.\n",
      "[I 2025-08-20 15:16:54,058] Trial 46 finished with value: 0.13971111240580458 and parameters: {'criterion': 'gini', 'max_depth': 6, 'min_samples_split': 32, 'min_samples_leaf': 26, 'max_features': 'log2'}. Best is trial 26 with value: 0.16572896943237853.\n",
      "[I 2025-08-20 15:17:05,600] Trial 47 finished with value: 0.16027037649667572 and parameters: {'criterion': 'gini', 'max_depth': 7, 'min_samples_split': 22, 'min_samples_leaf': 23, 'max_features': None}. Best is trial 26 with value: 0.16572896943237853.\n",
      "[I 2025-08-20 15:17:16,136] Trial 48 finished with value: 0.16538537911377657 and parameters: {'criterion': 'gini', 'max_depth': 4, 'min_samples_split': 34, 'min_samples_leaf': 17, 'max_features': None}. Best is trial 26 with value: 0.16572896943237853.\n",
      "[I 2025-08-20 15:17:33,274] Trial 49 finished with value: 0.13056657162520688 and parameters: {'criterion': 'entropy', 'max_depth': 22, 'min_samples_split': 26, 'min_samples_leaf': 10, 'max_features': None}. Best is trial 26 with value: 0.16572896943237853.\n",
      "\n",
      "--- Decision Tree Optimizasyon Sonuçları ---\n",
      "En iyi F1 skoru (CV Ortalaması): 0.16572896943237853\n",
      "En iyi hiperparametreler:\n",
      " {'criterion': 'gini', 'max_depth': 4, 'min_samples_split': 29, 'min_samples_leaf': 20, 'max_features': None}\n"
     ]
    }
   ],
   "source": [
    "def objective_dt(trial):\n",
    "\n",
    "    params = {\n",
    "        \"criterion\": trial.suggest_categorical(\"criterion\", [\"gini\", \"entropy\"]),\n",
    "        \"max_depth\": trial.suggest_int(\"max_depth\", 3, 25),\n",
    "        \"min_samples_split\": trial.suggest_int(\"min_samples_split\", 2, 40),\n",
    "        \"min_samples_leaf\": trial.suggest_int(\"min_samples_leaf\", 1, 40),\n",
    "        \"max_features\": trial.suggest_categorical(\n",
    "            \"max_features\", [\"sqrt\", \"log2\", None]\n",
    "        ),\n",
    "        \"random_state\": SEED,\n",
    "    }\n",
    "\n",
    "    base_dt = DecisionTreeClassifier(**params)\n",
    "\n",
    "    tuned_dt = TunedThresholdClassifierCV(\n",
    "        estimator=base_dt,\n",
    "        scoring=\"f1\",\n",
    "        cv=StratifiedKFold(n_splits=3, shuffle=True, random_state=SEED),  # İç CV\n",
    "        random_state=SEED,\n",
    "    )\n",
    "\n",
    "    pipeline = Pipeline(steps=[(\"data_prep\", data_prep_pipeline), (\"clf\", tuned_dt)])\n",
    "\n",
    "    outer_cv = StratifiedKFold(n_splits=5, shuffle=True, random_state=SEED)\n",
    "\n",
    "    score = cross_val_score(\n",
    "        pipeline, X_train, y_train, cv=outer_cv, scoring=\"f1\", n_jobs=-1\n",
    "    )\n",
    "\n",
    "    return score.mean()\n",
    "\n",
    "\n",
    "study_dt = optuna.create_study(direction=\"maximize\")\n",
    "\n",
    "study_dt.optimize(objective_dt, n_trials=50, show_progress_bar=True)\n",
    "\n",
    "\n",
    "# --- 3. Sonuçları Yazdırma ---\n",
    "\n",
    "print(\"\\n--- Decision Tree Optimizasyon Sonuçları ---\")\n",
    "print(\"En iyi F1 skoru (CV Ortalaması):\", study_dt.best_value)\n",
    "print(\"En iyi hiperparametreler:\\n\", study_dt.best_params)"
   ]
  },
  {
   "cell_type": "code",
   "execution_count": 20,
   "id": "BeKFdLCMDm3E",
   "metadata": {
    "executionInfo": {
     "elapsed": 3111,
     "status": "ok",
     "timestamp": 1755703086004,
     "user": {
      "displayName": "Kaan Bıçakcı",
      "userId": "12951043854473247756"
     },
     "user_tz": -60
    },
    "id": "BeKFdLCMDm3E"
   },
   "outputs": [],
   "source": [
    "best_dt = DecisionTreeClassifier(**study_dt.best_params, random_state=SEED)\n",
    "dt_pipe = Pipeline(steps=[(\"data_prep\", data_prep_pipeline), (\"clf\", best_dt)])\n",
    "dt_pipe.fit(X_train, y_train)\n",
    "\n",
    "y_pred_dt = dt_pipe.predict(X_test)\n",
    "y_pred_proba_dt = dt_pipe.predict_proba(X_test)[:, 1]"
   ]
  },
  {
   "cell_type": "code",
   "execution_count": 22,
   "id": "46sVDhIuDwd0",
   "metadata": {
    "colab": {
     "base_uri": "https://localhost:8080/"
    },
    "executionInfo": {
     "elapsed": 5853,
     "status": "ok",
     "timestamp": 1755703110466,
     "user": {
      "displayName": "Kaan Bıçakcı",
      "userId": "12951043854473247756"
     },
     "user_tz": -60
    },
    "id": "46sVDhIuDwd0",
    "outputId": "ceb0cf75-7932-4593-ca8c-d422302b8dc3"
   },
   "outputs": [
    {
     "name": "stdout",
     "output_type": "stream",
     "text": [
      "Eşik: 0.050\n",
      "              precision    recall  f1-score   support\n",
      "\n",
      "           0     0.9676    0.4490    0.6134     10969\n",
      "           1     0.0882    0.7800    0.1586       750\n",
      "\n",
      "    accuracy                         0.4702     11719\n",
      "   macro avg     0.5279    0.6145    0.3860     11719\n",
      "weighted avg     0.9113    0.4702    0.5843     11719\n",
      "\n",
      "--------------------------------------------------\n",
      "Eşik: 0.062\n",
      "              precision    recall  f1-score   support\n",
      "\n",
      "           0     0.9675    0.4586    0.6222     10969\n",
      "           1     0.0891    0.7747    0.1598       750\n",
      "\n",
      "    accuracy                         0.4788     11719\n",
      "   macro avg     0.5283    0.6166    0.3910     11719\n",
      "weighted avg     0.9113    0.4788    0.5926     11719\n",
      "\n",
      "--------------------------------------------------\n",
      "Eşik: 0.075\n",
      "              precision    recall  f1-score   support\n",
      "\n",
      "           0     0.9563    0.6323    0.7613     10969\n",
      "           1     0.0970    0.5773    0.1660       750\n",
      "\n",
      "    accuracy                         0.6288     11719\n",
      "   macro avg     0.5266    0.6048    0.4637     11719\n",
      "weighted avg     0.9013    0.6288    0.7232     11719\n",
      "\n",
      "--------------------------------------------------\n",
      "Eşik: 0.087\n",
      "              precision    recall  f1-score   support\n",
      "\n",
      "           0     0.9563    0.6323    0.7613     10969\n",
      "           1     0.0970    0.5773    0.1660       750\n",
      "\n",
      "    accuracy                         0.6288     11719\n",
      "   macro avg     0.5266    0.6048    0.4637     11719\n",
      "weighted avg     0.9013    0.6288    0.7232     11719\n",
      "\n",
      "--------------------------------------------------\n",
      "Eşik: 0.100\n",
      "              precision    recall  f1-score   support\n",
      "\n",
      "           0     0.9395    0.9448    0.9421     10969\n",
      "           1     0.1205    0.1107    0.1154       750\n",
      "\n",
      "    accuracy                         0.8914     11719\n",
      "   macro avg     0.5300    0.5277    0.5287     11719\n",
      "weighted avg     0.8871    0.8914    0.8892     11719\n",
      "\n",
      "--------------------------------------------------\n",
      "Eşik: 0.112\n",
      "              precision    recall  f1-score   support\n",
      "\n",
      "           0     0.9384    0.9659    0.9520     10969\n",
      "           1     0.1282    0.0733    0.0933       750\n",
      "\n",
      "    accuracy                         0.9088     11719\n",
      "   macro avg     0.5333    0.5196    0.5226     11719\n",
      "weighted avg     0.8866    0.9088    0.8970     11719\n",
      "\n",
      "--------------------------------------------------\n",
      "Eşik: 0.125\n",
      "              precision    recall  f1-score   support\n",
      "\n",
      "           0     0.9384    0.9659    0.9520     10969\n",
      "           1     0.1282    0.0733    0.0933       750\n",
      "\n",
      "    accuracy                         0.9088     11719\n",
      "   macro avg     0.5333    0.5196    0.5226     11719\n",
      "weighted avg     0.8866    0.9088    0.8970     11719\n",
      "\n",
      "--------------------------------------------------\n",
      "Eşik: 0.138\n",
      "              precision    recall  f1-score   support\n",
      "\n",
      "           0     0.9384    0.9659    0.9520     10969\n",
      "           1     0.1282    0.0733    0.0933       750\n",
      "\n",
      "    accuracy                         0.9088     11719\n",
      "   macro avg     0.5333    0.5196    0.5226     11719\n",
      "weighted avg     0.8866    0.9088    0.8970     11719\n",
      "\n",
      "--------------------------------------------------\n",
      "Eşik: 0.150\n",
      "              precision    recall  f1-score   support\n",
      "\n",
      "           0     0.9383    0.9669    0.9524     10969\n",
      "           1     0.1253    0.0693    0.0893       750\n",
      "\n",
      "    accuracy                         0.9095     11719\n",
      "   macro avg     0.5318    0.5181    0.5208     11719\n",
      "weighted avg     0.8862    0.9095    0.8971     11719\n",
      "\n",
      "--------------------------------------------------\n",
      "Eşik: 0.162\n",
      "              precision    recall  f1-score   support\n",
      "\n",
      "           0     0.9361    0.9995    0.9668     10969\n",
      "           1     0.1667    0.0013    0.0026       750\n",
      "\n",
      "    accuracy                         0.9357     11719\n",
      "   macro avg     0.5514    0.5004    0.4847     11719\n",
      "weighted avg     0.8868    0.9357    0.9051     11719\n",
      "\n",
      "--------------------------------------------------\n",
      "Eşik: 0.175\n",
      "              precision    recall  f1-score   support\n",
      "\n",
      "           0     0.9361    0.9995    0.9668     10969\n",
      "           1     0.1667    0.0013    0.0026       750\n",
      "\n",
      "    accuracy                         0.9357     11719\n",
      "   macro avg     0.5514    0.5004    0.4847     11719\n",
      "weighted avg     0.8868    0.9357    0.9051     11719\n",
      "\n",
      "--------------------------------------------------\n",
      "Eşik: 0.188\n",
      "              precision    recall  f1-score   support\n",
      "\n",
      "           0     0.9361    0.9995    0.9668     10969\n",
      "           1     0.1667    0.0013    0.0026       750\n",
      "\n",
      "    accuracy                         0.9357     11719\n",
      "   macro avg     0.5514    0.5004    0.4847     11719\n",
      "weighted avg     0.8868    0.9357    0.9051     11719\n",
      "\n",
      "--------------------------------------------------\n",
      "Eşik: 0.200\n",
      "              precision    recall  f1-score   support\n",
      "\n",
      "           0     0.9361    0.9995    0.9668     10969\n",
      "           1     0.1667    0.0013    0.0026       750\n",
      "\n",
      "    accuracy                         0.9357     11719\n",
      "   macro avg     0.5514    0.5004    0.4847     11719\n",
      "weighted avg     0.8868    0.9357    0.9051     11719\n",
      "\n",
      "--------------------------------------------------\n",
      "Eşik: 0.212\n",
      "              precision    recall  f1-score   support\n",
      "\n",
      "           0     0.9361    0.9995    0.9668     10969\n",
      "           1     0.1667    0.0013    0.0026       750\n",
      "\n",
      "    accuracy                         0.9357     11719\n",
      "   macro avg     0.5514    0.5004    0.4847     11719\n",
      "weighted avg     0.8868    0.9357    0.9051     11719\n",
      "\n",
      "--------------------------------------------------\n",
      "Eşik: 0.225\n",
      "              precision    recall  f1-score   support\n",
      "\n",
      "           0     0.9361    0.9995    0.9668     10969\n",
      "           1     0.1667    0.0013    0.0026       750\n",
      "\n",
      "    accuracy                         0.9357     11719\n",
      "   macro avg     0.5514    0.5004    0.4847     11719\n",
      "weighted avg     0.8868    0.9357    0.9051     11719\n",
      "\n",
      "--------------------------------------------------\n",
      "Eşik: 0.237\n",
      "              precision    recall  f1-score   support\n",
      "\n",
      "           0     0.9361    0.9995    0.9668     10969\n",
      "           1     0.1667    0.0013    0.0026       750\n",
      "\n",
      "    accuracy                         0.9357     11719\n",
      "   macro avg     0.5514    0.5004    0.4847     11719\n",
      "weighted avg     0.8868    0.9357    0.9051     11719\n",
      "\n",
      "--------------------------------------------------\n",
      "Eşik: 0.250\n",
      "              precision    recall  f1-score   support\n",
      "\n",
      "           0     0.9361    0.9995    0.9668     10969\n",
      "           1     0.1667    0.0013    0.0026       750\n",
      "\n",
      "    accuracy                         0.9357     11719\n",
      "   macro avg     0.5514    0.5004    0.4847     11719\n",
      "weighted avg     0.8868    0.9357    0.9051     11719\n",
      "\n",
      "--------------------------------------------------\n",
      "Eşik: 0.263\n",
      "              precision    recall  f1-score   support\n",
      "\n",
      "           0     0.9361    0.9995    0.9668     10969\n",
      "           1     0.1667    0.0013    0.0026       750\n",
      "\n",
      "    accuracy                         0.9357     11719\n",
      "   macro avg     0.5514    0.5004    0.4847     11719\n",
      "weighted avg     0.8868    0.9357    0.9051     11719\n",
      "\n",
      "--------------------------------------------------\n",
      "Eşik: 0.275\n",
      "              precision    recall  f1-score   support\n",
      "\n",
      "           0     0.9361    0.9995    0.9668     10969\n",
      "           1     0.1667    0.0013    0.0026       750\n",
      "\n",
      "    accuracy                         0.9357     11719\n",
      "   macro avg     0.5514    0.5004    0.4847     11719\n",
      "weighted avg     0.8868    0.9357    0.9051     11719\n",
      "\n",
      "--------------------------------------------------\n",
      "Eşik: 0.287\n",
      "              precision    recall  f1-score   support\n",
      "\n",
      "           0     0.9361    0.9995    0.9668     10969\n",
      "           1     0.1667    0.0013    0.0026       750\n",
      "\n",
      "    accuracy                         0.9357     11719\n",
      "   macro avg     0.5514    0.5004    0.4847     11719\n",
      "weighted avg     0.8868    0.9357    0.9051     11719\n",
      "\n",
      "--------------------------------------------------\n",
      "Eşik: 0.300\n",
      "              precision    recall  f1-score   support\n",
      "\n",
      "           0     0.9360    1.0000    0.9669     10969\n",
      "           1     0.0000    0.0000    0.0000       750\n",
      "\n",
      "    accuracy                         0.9360     11719\n",
      "   macro avg     0.4680    0.5000    0.4835     11719\n",
      "weighted avg     0.8761    0.9360    0.9051     11719\n",
      "\n",
      "--------------------------------------------------\n"
     ]
    },
    {
     "name": "stderr",
     "output_type": "stream",
     "text": [
      "/usr/local/lib/python3.12/dist-packages/sklearn/metrics/_classification.py:1565: UndefinedMetricWarning: Precision is ill-defined and being set to 0.0 in labels with no predicted samples. Use `zero_division` parameter to control this behavior.\n",
      "  _warn_prf(average, modifier, f\"{metric.capitalize()} is\", len(result))\n",
      "/usr/local/lib/python3.12/dist-packages/sklearn/metrics/_classification.py:1565: UndefinedMetricWarning: Precision is ill-defined and being set to 0.0 in labels with no predicted samples. Use `zero_division` parameter to control this behavior.\n",
      "  _warn_prf(average, modifier, f\"{metric.capitalize()} is\", len(result))\n",
      "/usr/local/lib/python3.12/dist-packages/sklearn/metrics/_classification.py:1565: UndefinedMetricWarning: Precision is ill-defined and being set to 0.0 in labels with no predicted samples. Use `zero_division` parameter to control this behavior.\n",
      "  _warn_prf(average, modifier, f\"{metric.capitalize()} is\", len(result))\n"
     ]
    },
    {
     "name": "stdout",
     "output_type": "stream",
     "text": [
      "Eşik: 0.312\n",
      "              precision    recall  f1-score   support\n",
      "\n",
      "           0     0.9360    1.0000    0.9669     10969\n",
      "           1     0.0000    0.0000    0.0000       750\n",
      "\n",
      "    accuracy                         0.9360     11719\n",
      "   macro avg     0.4680    0.5000    0.4835     11719\n",
      "weighted avg     0.8761    0.9360    0.9051     11719\n",
      "\n",
      "--------------------------------------------------\n"
     ]
    },
    {
     "name": "stderr",
     "output_type": "stream",
     "text": [
      "/usr/local/lib/python3.12/dist-packages/sklearn/metrics/_classification.py:1565: UndefinedMetricWarning: Precision is ill-defined and being set to 0.0 in labels with no predicted samples. Use `zero_division` parameter to control this behavior.\n",
      "  _warn_prf(average, modifier, f\"{metric.capitalize()} is\", len(result))\n",
      "/usr/local/lib/python3.12/dist-packages/sklearn/metrics/_classification.py:1565: UndefinedMetricWarning: Precision is ill-defined and being set to 0.0 in labels with no predicted samples. Use `zero_division` parameter to control this behavior.\n",
      "  _warn_prf(average, modifier, f\"{metric.capitalize()} is\", len(result))\n",
      "/usr/local/lib/python3.12/dist-packages/sklearn/metrics/_classification.py:1565: UndefinedMetricWarning: Precision is ill-defined and being set to 0.0 in labels with no predicted samples. Use `zero_division` parameter to control this behavior.\n",
      "  _warn_prf(average, modifier, f\"{metric.capitalize()} is\", len(result))\n"
     ]
    },
    {
     "name": "stdout",
     "output_type": "stream",
     "text": [
      "Eşik: 0.325\n",
      "              precision    recall  f1-score   support\n",
      "\n",
      "           0     0.9360    1.0000    0.9669     10969\n",
      "           1     0.0000    0.0000    0.0000       750\n",
      "\n",
      "    accuracy                         0.9360     11719\n",
      "   macro avg     0.4680    0.5000    0.4835     11719\n",
      "weighted avg     0.8761    0.9360    0.9051     11719\n",
      "\n",
      "--------------------------------------------------\n"
     ]
    },
    {
     "name": "stderr",
     "output_type": "stream",
     "text": [
      "/usr/local/lib/python3.12/dist-packages/sklearn/metrics/_classification.py:1565: UndefinedMetricWarning: Precision is ill-defined and being set to 0.0 in labels with no predicted samples. Use `zero_division` parameter to control this behavior.\n",
      "  _warn_prf(average, modifier, f\"{metric.capitalize()} is\", len(result))\n",
      "/usr/local/lib/python3.12/dist-packages/sklearn/metrics/_classification.py:1565: UndefinedMetricWarning: Precision is ill-defined and being set to 0.0 in labels with no predicted samples. Use `zero_division` parameter to control this behavior.\n",
      "  _warn_prf(average, modifier, f\"{metric.capitalize()} is\", len(result))\n",
      "/usr/local/lib/python3.12/dist-packages/sklearn/metrics/_classification.py:1565: UndefinedMetricWarning: Precision is ill-defined and being set to 0.0 in labels with no predicted samples. Use `zero_division` parameter to control this behavior.\n",
      "  _warn_prf(average, modifier, f\"{metric.capitalize()} is\", len(result))\n"
     ]
    },
    {
     "name": "stdout",
     "output_type": "stream",
     "text": [
      "Eşik: 0.337\n",
      "              precision    recall  f1-score   support\n",
      "\n",
      "           0     0.9360    1.0000    0.9669     10969\n",
      "           1     0.0000    0.0000    0.0000       750\n",
      "\n",
      "    accuracy                         0.9360     11719\n",
      "   macro avg     0.4680    0.5000    0.4835     11719\n",
      "weighted avg     0.8761    0.9360    0.9051     11719\n",
      "\n",
      "--------------------------------------------------\n",
      "Eşik: 0.350\n",
      "              precision    recall  f1-score   support\n",
      "\n",
      "           0     0.9360    1.0000    0.9669     10969\n",
      "           1     0.0000    0.0000    0.0000       750\n",
      "\n",
      "    accuracy                         0.9360     11719\n",
      "   macro avg     0.4680    0.5000    0.4835     11719\n",
      "weighted avg     0.8761    0.9360    0.9051     11719\n",
      "\n",
      "--------------------------------------------------\n"
     ]
    },
    {
     "name": "stderr",
     "output_type": "stream",
     "text": [
      "/usr/local/lib/python3.12/dist-packages/sklearn/metrics/_classification.py:1565: UndefinedMetricWarning: Precision is ill-defined and being set to 0.0 in labels with no predicted samples. Use `zero_division` parameter to control this behavior.\n",
      "  _warn_prf(average, modifier, f\"{metric.capitalize()} is\", len(result))\n",
      "/usr/local/lib/python3.12/dist-packages/sklearn/metrics/_classification.py:1565: UndefinedMetricWarning: Precision is ill-defined and being set to 0.0 in labels with no predicted samples. Use `zero_division` parameter to control this behavior.\n",
      "  _warn_prf(average, modifier, f\"{metric.capitalize()} is\", len(result))\n",
      "/usr/local/lib/python3.12/dist-packages/sklearn/metrics/_classification.py:1565: UndefinedMetricWarning: Precision is ill-defined and being set to 0.0 in labels with no predicted samples. Use `zero_division` parameter to control this behavior.\n",
      "  _warn_prf(average, modifier, f\"{metric.capitalize()} is\", len(result))\n",
      "/usr/local/lib/python3.12/dist-packages/sklearn/metrics/_classification.py:1565: UndefinedMetricWarning: Precision is ill-defined and being set to 0.0 in labels with no predicted samples. Use `zero_division` parameter to control this behavior.\n",
      "  _warn_prf(average, modifier, f\"{metric.capitalize()} is\", len(result))\n",
      "/usr/local/lib/python3.12/dist-packages/sklearn/metrics/_classification.py:1565: UndefinedMetricWarning: Precision is ill-defined and being set to 0.0 in labels with no predicted samples. Use `zero_division` parameter to control this behavior.\n",
      "  _warn_prf(average, modifier, f\"{metric.capitalize()} is\", len(result))\n",
      "/usr/local/lib/python3.12/dist-packages/sklearn/metrics/_classification.py:1565: UndefinedMetricWarning: Precision is ill-defined and being set to 0.0 in labels with no predicted samples. Use `zero_division` parameter to control this behavior.\n",
      "  _warn_prf(average, modifier, f\"{metric.capitalize()} is\", len(result))\n"
     ]
    }
   ],
   "source": [
    "for thresh in np.linspace(0.05, 0.35, num=25):\n",
    "    y_pred_thresh = dt_pipe.predict_proba(X_test)[:, 1] > thresh\n",
    "    print(f\"Eşik: {thresh:.3f}\")\n",
    "    print(classification_report(y_test, y_pred_thresh, digits=4))\n",
    "    print(\"-\" * 50)"
   ]
  },
  {
   "cell_type": "markdown",
   "id": "3vGCNfGbFQF6",
   "metadata": {
    "id": "3vGCNfGbFQF6"
   },
   "source": [
    "### Optimize Edilmiş Decision Tree vs. Optimize Edilmiş CatBoost\n",
    "\n",
    "Şimdi asıl soru şu: Bu zirve noktalarında hangisi daha iyi performans gösteriyor ve hangisi iş hedeflerimiz için daha kullanışlı?"
   ]
  },
  {
   "cell_type": "markdown",
   "id": "nmhAjxo3F4tb",
   "metadata": {
    "id": "nmhAjxo3F4tb"
   },
   "source": [
    "#### Raund 1: Modelin Karakteri ve Davranışı\n",
    "\n",
    "**Decision Tree (DT) - \"Kırılgan Savaşçı\":**\n",
    "DT'nin raporlarına baktığımızda çok çarpıcı bir tablo görüyoruz. Modelin çok dar bir \"etkili\" çalışma aralığı var.\n",
    "*   **Düşük Eşiklerde (0.050 - 0.087):** Model oldukça \"agresif\". Gerçek taleplerin **%57 ila %78'ini** yakalayabiliyor. Bu harika bir başlangıç.\n",
    "*   **Ani Çöküş (Eşik > 0.162):** Model aniden \"pes ediyor\". Eşik 0.162'yi geçtiği anda, Class 1 için Recall skoru neredeyse sıfıra (%0.13) düşüyor. Eşik 0.300'e geldiğinde ise model **hiçbir şekilde talep tahmini yapmıyor** (`recall=0.0000`). Modelin olasılık çıktılarının çok dar bir aralıkta yığıldığını ve bu eşiğin üzerinde hiçbir örnek bulamadığını gösterir. Bu durum deployment ortamı için oldukça risklidir. Modelin durduk yere kırılmasını istemeyiz:).\n",
    "\n",
    "**CatBoost:**\n",
    "CatBoost'un davranış profili ise tamamen farklı.\n",
    "*   **Pürüzsüz Geçiş:** Eşik değeri arttıkça Recall skoru tahmin edilebilir ve pürüzsüz bir şekilde azalırken, Precision yavaş yavaş artıyor.\n",
    "*   **Geniş Çalışma Aralığı:** Neredeyse her iş ihtiyacına uygun bir çalışma noktası sunuyor. İsterseniz %100 Recall ile (çok fazla yanlış alarmla) çalışabilir, isterseniz %10 Recall ile (çok az yanlış alarmla) çalışabilirsiniz. Bu esneklik, iş birimlerinin değişen ihtiyaçlarına uyum sağlama yeteneği demektir.\n",
    "\n",
    "**İlk Raundun Galibi:** **CatBoost**. Modelin öngörülebilir ve esnek davranışı, onu daha güvenilir ve kullanışlı kılıyor.\n",
    "\n",
    "---"
   ]
  },
  {
   "cell_type": "markdown",
   "id": "LPwzlcXNF9qm",
   "metadata": {
    "id": "LPwzlcXNF9qm"
   },
   "source": [
    "#### Raund 2: Zirve Performanslarının Karşılaştırılması (F1-Skoru)\n",
    "\n",
    "Her modelin en dengeli olduğu, yani F1-skorunun zirve yaptığı noktayı karşılaştıralım.\n",
    "\n",
    "*   **Decision Tree'nin En İyi Anı:**\n",
    "    *   **Eşik: 0.075**\n",
    "    *   **F1-Skoru (Class 1): 0.1660**\n",
    "    *   Bu noktada taleplerin **%57.7'sini** yakalıyor ve tahminlerinin **%9.7'si** doğru çıkıyor.\n",
    "\n",
    "*   **CatBoost'un En İyi Anı:**\n",
    "    *   **Eşik: 0.263**\n",
    "    *   **F1-Skoru (Class 1): 0.1794**\n",
    "    *   Bu noktada taleplerin **%44.4'ünü** yakalıyor ve tahminlerinin **%11.2'si** doğru çıkıyor.\n",
    "\n",
    "**İkinci Raundun Galibi:** **CatBoost**. En dengeli noktasında, hem daha yüksek bir F1-skoruna sahip hem de daha isabetli (daha yüksek Precision) tahminler yapıyor.\n",
    "\n",
    "---"
   ]
  },
  {
   "cell_type": "markdown",
   "id": "DI3Z1o70F_Gn",
   "metadata": {
    "id": "DI3Z1o70F_Gn"
   },
   "source": [
    "### Final Tablosu: Stratejik Karşılaştırma\n",
    "\n",
    "Şimdi en kritik senaryolar için modelleri kafa kafaya karşılaştıralım.\n",
    "\n",
    "| Strateji | Decision Tree (Optimize) | CatBoost (Optimize) | **Kazanan** |\n",
    "| :--- | :--- | :--- | :--- |\n",
    "| **Model Karakteri** | Kırılgan, dar çalışma aralığı, ani çöküş riski | Esnek, geniş çalışma aralığı, pürüzsüz geçişler | **CatBoost** |\n",
    "| | | | |\n",
    "| **En Dengeli Performans (En Yüksek F1)**| **Eşik: 0.075**<br>F1: 16.6%<br>Recall: 57.7%<br>Precision: 9.7% | **Eşik: 0.263**<br>**F1: 17.9%**<br>Recall: 44.4%<br>Precision: 11.2% | **CatBoost** |\n",
    "| | | | |\n",
    "| **Yüksek Yakalama Oranı Senaryosu**<br>(Recall ≈ %77 hedefi) | **Eşik: 0.062**<br>Recall: 77.5%<br>Precision: 8.9% | **Eşik: 0.188**<br>Recall: 77.5%<br>**Precision: 9.1%** | **CatBoost** |"
   ]
  },
  {
   "cell_type": "markdown",
   "id": "A7phIrwUGeMs",
   "metadata": {
    "id": "A7phIrwUGeMs"
   },
   "source": [
    "### Nihai Karar - CatBoost\n",
    "\n",
    "Sebepleri şunlardır:\n",
    "\n",
    "1.  **Üstün Performans:** Her türlü adil karşılaştırmada (en iyi F1 skoru, eşdeğer Recall seviyeleri) CatBoost, Decision Tree'den marjinal de olsa daha iyi metrikler sunmaktadır.\n",
    "2.  **Esneklik ve Kontrol:** Bu en önemli farktır. CatBoost, iş ihtiyaçlarına göre hassas bir şekilde ayarlanabilir. DT ise kısıtlı seçenekler sunan ve beklenmedik şekilde \"kırılabilen\" bir modeldir.\n",
    "3.  **Güvenilirlik:** CatBoost'un pürüzsüz ve öngörülebilir davranışı, onu bir üretim ortamında (production) kullanmak için çok daha güvenilir bir aday yapar. Decision Tree'nin ani çöküşü, gerçek dünyada kabul edilemez bir risktir."
   ]
  },
  {
   "cell_type": "markdown",
   "id": "zEmBAfYeD_C9",
   "metadata": {
    "id": "zEmBAfYeD_C9"
   },
   "source": [
    "### Sonuç ve Aksiyon Planı\n",
    "\n",
    "1.  **Başarı:** Her modelin artı ve eksileri var.\n",
    "2.  **Kontrol Bizde:** Artık modelin karakterini siz belirleyebilirsiniz."
   ]
  },
  {
   "cell_type": "markdown",
   "id": "kGStpeuph-lE",
   "metadata": {
    "id": "kGStpeuph-lE"
   },
   "source": [
    "## Kaydetme"
   ]
  },
  {
   "cell_type": "code",
   "execution_count": null,
   "id": "bm0ZI5Evhz_6",
   "metadata": {
    "id": "bm0ZI5Evhz_6"
   },
   "outputs": [],
   "source": [
    "joblib.dump(dt_pipe, \"best_model_pipeline.pkl\")\n",
    "print(\"Kaydedildi: best_model_pipeline.pkl\")\n",
    "\n",
    "sample = X_test.iloc[[0]].copy()\n",
    "print(\"Örnek satır:\\n\", sample)\n",
    "print(\"\\nTahmin:\", best_pipe.predict(sample)[0])\n",
    "if hasattr(best_pipe.named_steps[\"clf\"], \"predict_proba\"):\n",
    "    print(\"Sınıf 1 olasılığı:\", float(best_pipe.predict_proba(sample)[:, 1]))"
   ]
  },
  {
   "cell_type": "code",
   "execution_count": null,
   "id": "b4JQ5OIpr50X",
   "metadata": {
    "id": "b4JQ5OIpr50X"
   },
   "outputs": [],
   "source": []
  }
 ],
 "metadata": {
  "_wj": "QnUgbm90ZWJvb2t1XzMgS0IgaGF6xLFybGFkxLE6KQ==",
  "colab": {
   "provenance": []
  },
  "kernelspec": {
   "display_name": "Python 3 (ipykernel)",
   "language": "python",
   "name": "python3"
  },
  "language_info": {
   "codemirror_mode": {
    "name": "ipython",
    "version": 3
   },
   "file_extension": ".py",
   "mimetype": "text/x-python",
   "name": "python",
   "nbconvert_exporter": "python",
   "pygments_lexer": "ipython3",
   "version": "3.11.9"
  },
  "widgets": {
   "application/vnd.jupyter.widget-state+json": {
    "0a12a231f95c47878b3da4d414624ed2": {
     "model_module": "@jupyter-widgets/controls",
     "model_module_version": "1.5.0",
     "model_name": "HTMLModel",
     "state": {
      "_dom_classes": [],
      "_model_module": "@jupyter-widgets/controls",
      "_model_module_version": "1.5.0",
      "_model_name": "HTMLModel",
      "_view_count": null,
      "_view_module": "@jupyter-widgets/controls",
      "_view_module_version": "1.5.0",
      "_view_name": "HTMLView",
      "description": "",
      "description_tooltip": null,
      "layout": "IPY_MODEL_8f7d397c7baa4384ad3c214623c351ce",
      "placeholder": "​",
      "style": "IPY_MODEL_57fde18b790c4290ab1efc3f4aa3e1fb",
      "value": " 50/50 [09:08&lt;00:00, 12.79s/it]"
     }
    },
    "1993661fb87e49b3944ffb85717020a2": {
     "model_module": "@jupyter-widgets/base",
     "model_module_version": "1.2.0",
     "model_name": "LayoutModel",
     "state": {
      "_model_module": "@jupyter-widgets/base",
      "_model_module_version": "1.2.0",
      "_model_name": "LayoutModel",
      "_view_count": null,
      "_view_module": "@jupyter-widgets/base",
      "_view_module_version": "1.2.0",
      "_view_name": "LayoutView",
      "align_content": null,
      "align_items": null,
      "align_self": null,
      "border": null,
      "bottom": null,
      "display": null,
      "flex": null,
      "flex_flow": null,
      "grid_area": null,
      "grid_auto_columns": null,
      "grid_auto_flow": null,
      "grid_auto_rows": null,
      "grid_column": null,
      "grid_gap": null,
      "grid_row": null,
      "grid_template_areas": null,
      "grid_template_columns": null,
      "grid_template_rows": null,
      "height": null,
      "justify_content": null,
      "justify_items": null,
      "left": null,
      "margin": null,
      "max_height": null,
      "max_width": null,
      "min_height": null,
      "min_width": null,
      "object_fit": null,
      "object_position": null,
      "order": null,
      "overflow": null,
      "overflow_x": null,
      "overflow_y": null,
      "padding": null,
      "right": null,
      "top": null,
      "visibility": null,
      "width": null
     }
    },
    "3d72bae23732430791291aaa43c2317a": {
     "model_module": "@jupyter-widgets/controls",
     "model_module_version": "1.5.0",
     "model_name": "DescriptionStyleModel",
     "state": {
      "_model_module": "@jupyter-widgets/controls",
      "_model_module_version": "1.5.0",
      "_model_name": "DescriptionStyleModel",
      "_view_count": null,
      "_view_module": "@jupyter-widgets/base",
      "_view_module_version": "1.2.0",
      "_view_name": "StyleView",
      "description_width": ""
     }
    },
    "40b10a33013e41c0a88dd2807c628177": {
     "model_module": "@jupyter-widgets/base",
     "model_module_version": "1.2.0",
     "model_name": "LayoutModel",
     "state": {
      "_model_module": "@jupyter-widgets/base",
      "_model_module_version": "1.2.0",
      "_model_name": "LayoutModel",
      "_view_count": null,
      "_view_module": "@jupyter-widgets/base",
      "_view_module_version": "1.2.0",
      "_view_name": "LayoutView",
      "align_content": null,
      "align_items": null,
      "align_self": null,
      "border": null,
      "bottom": null,
      "display": null,
      "flex": null,
      "flex_flow": null,
      "grid_area": null,
      "grid_auto_columns": null,
      "grid_auto_flow": null,
      "grid_auto_rows": null,
      "grid_column": null,
      "grid_gap": null,
      "grid_row": null,
      "grid_template_areas": null,
      "grid_template_columns": null,
      "grid_template_rows": null,
      "height": null,
      "justify_content": null,
      "justify_items": null,
      "left": null,
      "margin": null,
      "max_height": null,
      "max_width": null,
      "min_height": null,
      "min_width": null,
      "object_fit": null,
      "object_position": null,
      "order": null,
      "overflow": null,
      "overflow_x": null,
      "overflow_y": null,
      "padding": null,
      "right": null,
      "top": null,
      "visibility": null,
      "width": null
     }
    },
    "43e6543937654f5d80876357d1569e7d": {
     "model_module": "@jupyter-widgets/base",
     "model_module_version": "1.2.0",
     "model_name": "LayoutModel",
     "state": {
      "_model_module": "@jupyter-widgets/base",
      "_model_module_version": "1.2.0",
      "_model_name": "LayoutModel",
      "_view_count": null,
      "_view_module": "@jupyter-widgets/base",
      "_view_module_version": "1.2.0",
      "_view_name": "LayoutView",
      "align_content": null,
      "align_items": null,
      "align_self": null,
      "border": null,
      "bottom": null,
      "display": null,
      "flex": null,
      "flex_flow": null,
      "grid_area": null,
      "grid_auto_columns": null,
      "grid_auto_flow": null,
      "grid_auto_rows": null,
      "grid_column": null,
      "grid_gap": null,
      "grid_row": null,
      "grid_template_areas": null,
      "grid_template_columns": null,
      "grid_template_rows": null,
      "height": null,
      "justify_content": null,
      "justify_items": null,
      "left": null,
      "margin": null,
      "max_height": null,
      "max_width": null,
      "min_height": null,
      "min_width": null,
      "object_fit": null,
      "object_position": null,
      "order": null,
      "overflow": null,
      "overflow_x": null,
      "overflow_y": null,
      "padding": null,
      "right": null,
      "top": null,
      "visibility": null,
      "width": null
     }
    },
    "4e6e9177620446c1be584305ed9d43c6": {
     "model_module": "@jupyter-widgets/controls",
     "model_module_version": "1.5.0",
     "model_name": "ProgressStyleModel",
     "state": {
      "_model_module": "@jupyter-widgets/controls",
      "_model_module_version": "1.5.0",
      "_model_name": "ProgressStyleModel",
      "_view_count": null,
      "_view_module": "@jupyter-widgets/base",
      "_view_module_version": "1.2.0",
      "_view_name": "StyleView",
      "bar_color": null,
      "description_width": ""
     }
    },
    "57fde18b790c4290ab1efc3f4aa3e1fb": {
     "model_module": "@jupyter-widgets/controls",
     "model_module_version": "1.5.0",
     "model_name": "DescriptionStyleModel",
     "state": {
      "_model_module": "@jupyter-widgets/controls",
      "_model_module_version": "1.5.0",
      "_model_name": "DescriptionStyleModel",
      "_view_count": null,
      "_view_module": "@jupyter-widgets/base",
      "_view_module_version": "1.2.0",
      "_view_name": "StyleView",
      "description_width": ""
     }
    },
    "5815063f1af946cd89782f4cd7a60591": {
     "model_module": "@jupyter-widgets/controls",
     "model_module_version": "1.5.0",
     "model_name": "HTMLModel",
     "state": {
      "_dom_classes": [],
      "_model_module": "@jupyter-widgets/controls",
      "_model_module_version": "1.5.0",
      "_model_name": "HTMLModel",
      "_view_count": null,
      "_view_module": "@jupyter-widgets/controls",
      "_view_module_version": "1.5.0",
      "_view_name": "HTMLView",
      "description": "",
      "description_tooltip": null,
      "layout": "IPY_MODEL_40b10a33013e41c0a88dd2807c628177",
      "placeholder": "​",
      "style": "IPY_MODEL_d9bc869e75374f119c2c4dcc86988595",
      "value": "Best trial: 7. Best value: 0.654636: 100%"
     }
    },
    "5b1777f80fbb4d08a593a1e8b9f48584": {
     "model_module": "@jupyter-widgets/base",
     "model_module_version": "1.2.0",
     "model_name": "LayoutModel",
     "state": {
      "_model_module": "@jupyter-widgets/base",
      "_model_module_version": "1.2.0",
      "_model_name": "LayoutModel",
      "_view_count": null,
      "_view_module": "@jupyter-widgets/base",
      "_view_module_version": "1.2.0",
      "_view_name": "LayoutView",
      "align_content": null,
      "align_items": null,
      "align_self": null,
      "border": null,
      "bottom": null,
      "display": null,
      "flex": null,
      "flex_flow": null,
      "grid_area": null,
      "grid_auto_columns": null,
      "grid_auto_flow": null,
      "grid_auto_rows": null,
      "grid_column": null,
      "grid_gap": null,
      "grid_row": null,
      "grid_template_areas": null,
      "grid_template_columns": null,
      "grid_template_rows": null,
      "height": null,
      "justify_content": null,
      "justify_items": null,
      "left": null,
      "margin": null,
      "max_height": null,
      "max_width": null,
      "min_height": null,
      "min_width": null,
      "object_fit": null,
      "object_position": null,
      "order": null,
      "overflow": null,
      "overflow_x": null,
      "overflow_y": null,
      "padding": null,
      "right": null,
      "top": null,
      "visibility": null,
      "width": null
     }
    },
    "686ece067d6543d6a2535ddeee03d09c": {
     "model_module": "@jupyter-widgets/base",
     "model_module_version": "1.2.0",
     "model_name": "LayoutModel",
     "state": {
      "_model_module": "@jupyter-widgets/base",
      "_model_module_version": "1.2.0",
      "_model_name": "LayoutModel",
      "_view_count": null,
      "_view_module": "@jupyter-widgets/base",
      "_view_module_version": "1.2.0",
      "_view_name": "LayoutView",
      "align_content": null,
      "align_items": null,
      "align_self": null,
      "border": null,
      "bottom": null,
      "display": null,
      "flex": null,
      "flex_flow": null,
      "grid_area": null,
      "grid_auto_columns": null,
      "grid_auto_flow": null,
      "grid_auto_rows": null,
      "grid_column": null,
      "grid_gap": null,
      "grid_row": null,
      "grid_template_areas": null,
      "grid_template_columns": null,
      "grid_template_rows": null,
      "height": null,
      "justify_content": null,
      "justify_items": null,
      "left": null,
      "margin": null,
      "max_height": null,
      "max_width": null,
      "min_height": null,
      "min_width": null,
      "object_fit": null,
      "object_position": null,
      "order": null,
      "overflow": null,
      "overflow_x": null,
      "overflow_y": null,
      "padding": null,
      "right": null,
      "top": null,
      "visibility": null,
      "width": null
     }
    },
    "8f7d397c7baa4384ad3c214623c351ce": {
     "model_module": "@jupyter-widgets/base",
     "model_module_version": "1.2.0",
     "model_name": "LayoutModel",
     "state": {
      "_model_module": "@jupyter-widgets/base",
      "_model_module_version": "1.2.0",
      "_model_name": "LayoutModel",
      "_view_count": null,
      "_view_module": "@jupyter-widgets/base",
      "_view_module_version": "1.2.0",
      "_view_name": "LayoutView",
      "align_content": null,
      "align_items": null,
      "align_self": null,
      "border": null,
      "bottom": null,
      "display": null,
      "flex": null,
      "flex_flow": null,
      "grid_area": null,
      "grid_auto_columns": null,
      "grid_auto_flow": null,
      "grid_auto_rows": null,
      "grid_column": null,
      "grid_gap": null,
      "grid_row": null,
      "grid_template_areas": null,
      "grid_template_columns": null,
      "grid_template_rows": null,
      "height": null,
      "justify_content": null,
      "justify_items": null,
      "left": null,
      "margin": null,
      "max_height": null,
      "max_width": null,
      "min_height": null,
      "min_width": null,
      "object_fit": null,
      "object_position": null,
      "order": null,
      "overflow": null,
      "overflow_x": null,
      "overflow_y": null,
      "padding": null,
      "right": null,
      "top": null,
      "visibility": null,
      "width": null
     }
    },
    "94d3607838784983af4d6a425991c1cd": {
     "model_module": "@jupyter-widgets/controls",
     "model_module_version": "1.5.0",
     "model_name": "FloatProgressModel",
     "state": {
      "_dom_classes": [],
      "_model_module": "@jupyter-widgets/controls",
      "_model_module_version": "1.5.0",
      "_model_name": "FloatProgressModel",
      "_view_count": null,
      "_view_module": "@jupyter-widgets/controls",
      "_view_module_version": "1.5.0",
      "_view_name": "ProgressView",
      "bar_style": "success",
      "description": "",
      "description_tooltip": null,
      "layout": "IPY_MODEL_5b1777f80fbb4d08a593a1e8b9f48584",
      "max": 10,
      "min": 0,
      "orientation": "horizontal",
      "style": "IPY_MODEL_f4fead9847294bf8b80c311dbc0f7186",
      "value": 10
     }
    },
    "a68ed9421477485491f2ccbabfdde31f": {
     "model_module": "@jupyter-widgets/controls",
     "model_module_version": "1.5.0",
     "model_name": "HBoxModel",
     "state": {
      "_dom_classes": [],
      "_model_module": "@jupyter-widgets/controls",
      "_model_module_version": "1.5.0",
      "_model_name": "HBoxModel",
      "_view_count": null,
      "_view_module": "@jupyter-widgets/controls",
      "_view_module_version": "1.5.0",
      "_view_name": "HBoxView",
      "box_style": "",
      "children": [
       "IPY_MODEL_bccebf1fb3a64c0680e8a65606c1ff4a",
       "IPY_MODEL_fb1977c4bba54f22bdd983a8e669598d",
       "IPY_MODEL_0a12a231f95c47878b3da4d414624ed2"
      ],
      "layout": "IPY_MODEL_43e6543937654f5d80876357d1569e7d"
     }
    },
    "a7cc7bb5e30f48e3928d05e309860f0b": {
     "model_module": "@jupyter-widgets/base",
     "model_module_version": "1.2.0",
     "model_name": "LayoutModel",
     "state": {
      "_model_module": "@jupyter-widgets/base",
      "_model_module_version": "1.2.0",
      "_model_name": "LayoutModel",
      "_view_count": null,
      "_view_module": "@jupyter-widgets/base",
      "_view_module_version": "1.2.0",
      "_view_name": "LayoutView",
      "align_content": null,
      "align_items": null,
      "align_self": null,
      "border": null,
      "bottom": null,
      "display": null,
      "flex": null,
      "flex_flow": null,
      "grid_area": null,
      "grid_auto_columns": null,
      "grid_auto_flow": null,
      "grid_auto_rows": null,
      "grid_column": null,
      "grid_gap": null,
      "grid_row": null,
      "grid_template_areas": null,
      "grid_template_columns": null,
      "grid_template_rows": null,
      "height": null,
      "justify_content": null,
      "justify_items": null,
      "left": null,
      "margin": null,
      "max_height": null,
      "max_width": null,
      "min_height": null,
      "min_width": null,
      "object_fit": null,
      "object_position": null,
      "order": null,
      "overflow": null,
      "overflow_x": null,
      "overflow_y": null,
      "padding": null,
      "right": null,
      "top": null,
      "visibility": null,
      "width": null
     }
    },
    "bccebf1fb3a64c0680e8a65606c1ff4a": {
     "model_module": "@jupyter-widgets/controls",
     "model_module_version": "1.5.0",
     "model_name": "HTMLModel",
     "state": {
      "_dom_classes": [],
      "_model_module": "@jupyter-widgets/controls",
      "_model_module_version": "1.5.0",
      "_model_name": "HTMLModel",
      "_view_count": null,
      "_view_module": "@jupyter-widgets/controls",
      "_view_module_version": "1.5.0",
      "_view_name": "HTMLView",
      "description": "",
      "description_tooltip": null,
      "layout": "IPY_MODEL_686ece067d6543d6a2535ddeee03d09c",
      "placeholder": "​",
      "style": "IPY_MODEL_3d72bae23732430791291aaa43c2317a",
      "value": "Best trial: 26. Best value: 0.165729: 100%"
     }
    },
    "c1c4c686ace84de486ee57a0816fcb5c": {
     "model_module": "@jupyter-widgets/controls",
     "model_module_version": "1.5.0",
     "model_name": "HTMLModel",
     "state": {
      "_dom_classes": [],
      "_model_module": "@jupyter-widgets/controls",
      "_model_module_version": "1.5.0",
      "_model_name": "HTMLModel",
      "_view_count": null,
      "_view_module": "@jupyter-widgets/controls",
      "_view_module_version": "1.5.0",
      "_view_name": "HTMLView",
      "description": "",
      "description_tooltip": null,
      "layout": "IPY_MODEL_ef2ca59ad60e45cd816872d32f514bea",
      "placeholder": "​",
      "style": "IPY_MODEL_d749ed6af359482a8b8ba4fbec29eab6",
      "value": " 10/10 [40:42&lt;00:00, 189.41s/it]"
     }
    },
    "d4b587a380c54ec69566d59c50b5773a": {
     "model_module": "@jupyter-widgets/controls",
     "model_module_version": "1.5.0",
     "model_name": "HBoxModel",
     "state": {
      "_dom_classes": [],
      "_model_module": "@jupyter-widgets/controls",
      "_model_module_version": "1.5.0",
      "_model_name": "HBoxModel",
      "_view_count": null,
      "_view_module": "@jupyter-widgets/controls",
      "_view_module_version": "1.5.0",
      "_view_name": "HBoxView",
      "box_style": "",
      "children": [
       "IPY_MODEL_5815063f1af946cd89782f4cd7a60591",
       "IPY_MODEL_94d3607838784983af4d6a425991c1cd",
       "IPY_MODEL_c1c4c686ace84de486ee57a0816fcb5c"
      ],
      "layout": "IPY_MODEL_a7cc7bb5e30f48e3928d05e309860f0b"
     }
    },
    "d749ed6af359482a8b8ba4fbec29eab6": {
     "model_module": "@jupyter-widgets/controls",
     "model_module_version": "1.5.0",
     "model_name": "DescriptionStyleModel",
     "state": {
      "_model_module": "@jupyter-widgets/controls",
      "_model_module_version": "1.5.0",
      "_model_name": "DescriptionStyleModel",
      "_view_count": null,
      "_view_module": "@jupyter-widgets/base",
      "_view_module_version": "1.2.0",
      "_view_name": "StyleView",
      "description_width": ""
     }
    },
    "d9bc869e75374f119c2c4dcc86988595": {
     "model_module": "@jupyter-widgets/controls",
     "model_module_version": "1.5.0",
     "model_name": "DescriptionStyleModel",
     "state": {
      "_model_module": "@jupyter-widgets/controls",
      "_model_module_version": "1.5.0",
      "_model_name": "DescriptionStyleModel",
      "_view_count": null,
      "_view_module": "@jupyter-widgets/base",
      "_view_module_version": "1.2.0",
      "_view_name": "StyleView",
      "description_width": ""
     }
    },
    "ef2ca59ad60e45cd816872d32f514bea": {
     "model_module": "@jupyter-widgets/base",
     "model_module_version": "1.2.0",
     "model_name": "LayoutModel",
     "state": {
      "_model_module": "@jupyter-widgets/base",
      "_model_module_version": "1.2.0",
      "_model_name": "LayoutModel",
      "_view_count": null,
      "_view_module": "@jupyter-widgets/base",
      "_view_module_version": "1.2.0",
      "_view_name": "LayoutView",
      "align_content": null,
      "align_items": null,
      "align_self": null,
      "border": null,
      "bottom": null,
      "display": null,
      "flex": null,
      "flex_flow": null,
      "grid_area": null,
      "grid_auto_columns": null,
      "grid_auto_flow": null,
      "grid_auto_rows": null,
      "grid_column": null,
      "grid_gap": null,
      "grid_row": null,
      "grid_template_areas": null,
      "grid_template_columns": null,
      "grid_template_rows": null,
      "height": null,
      "justify_content": null,
      "justify_items": null,
      "left": null,
      "margin": null,
      "max_height": null,
      "max_width": null,
      "min_height": null,
      "min_width": null,
      "object_fit": null,
      "object_position": null,
      "order": null,
      "overflow": null,
      "overflow_x": null,
      "overflow_y": null,
      "padding": null,
      "right": null,
      "top": null,
      "visibility": null,
      "width": null
     }
    },
    "f4fead9847294bf8b80c311dbc0f7186": {
     "model_module": "@jupyter-widgets/controls",
     "model_module_version": "1.5.0",
     "model_name": "ProgressStyleModel",
     "state": {
      "_model_module": "@jupyter-widgets/controls",
      "_model_module_version": "1.5.0",
      "_model_name": "ProgressStyleModel",
      "_view_count": null,
      "_view_module": "@jupyter-widgets/base",
      "_view_module_version": "1.2.0",
      "_view_name": "StyleView",
      "bar_color": null,
      "description_width": ""
     }
    },
    "fb1977c4bba54f22bdd983a8e669598d": {
     "model_module": "@jupyter-widgets/controls",
     "model_module_version": "1.5.0",
     "model_name": "FloatProgressModel",
     "state": {
      "_dom_classes": [],
      "_model_module": "@jupyter-widgets/controls",
      "_model_module_version": "1.5.0",
      "_model_name": "FloatProgressModel",
      "_view_count": null,
      "_view_module": "@jupyter-widgets/controls",
      "_view_module_version": "1.5.0",
      "_view_name": "ProgressView",
      "bar_style": "success",
      "description": "",
      "description_tooltip": null,
      "layout": "IPY_MODEL_1993661fb87e49b3944ffb85717020a2",
      "max": 50,
      "min": 0,
      "orientation": "horizontal",
      "style": "IPY_MODEL_4e6e9177620446c1be584305ed9d43c6",
      "value": 50
     }
    }
   }
  }
 },
 "nbformat": 4,
 "nbformat_minor": 5
}
